{
 "cells": [
  {
   "cell_type": "markdown",
   "id": "dd1bf58b-665b-4322-97e0-cd49c3f7c635",
   "metadata": {},
   "source": [
    "NumpyAssignme nt Solution"
   ]
  },
  {
   "cell_type": "markdown",
   "id": "f6957b31-23dd-4f67-882d-d25ad579784d",
   "metadata": {},
   "source": [
    "1. What is a Python library? Why do we use Python libraries?"
   ]
  },
  {
   "cell_type": "code",
   "execution_count": 1,
   "id": "5f1df000-0aaa-4ce7-a599-ebe084201d27",
   "metadata": {},
   "outputs": [
    {
     "name": "stdout",
     "output_type": "stream",
     "text": [
      "A Python library is a collection of pre-written and reusable code that can be imported and used in Python programs. These libraries consist of modules, which are sets of functions and classes that perform specific tasks. Libraries help simplify the development process by providing pre-built functionality, allowing developers to leverage existing code rather than starting from scratch.\n"
     ]
    }
   ],
   "source": [
    "print(\"A Python library is a collection of pre-written and reusable code that can be imported and used in Python programs. These libraries consist of modules, which are sets of functions and classes that perform specific tasks. Libraries help simplify the development process by providing pre-built functionality, allowing developers to leverage existing code rather than starting from scratch.\")"
   ]
  },
  {
   "cell_type": "markdown",
   "id": "e09fb72b-ec9a-47e8-9b81-4d22153cd788",
   "metadata": {},
   "source": [
    "2. What is the difference between Numpy array and List?"
   ]
  },
  {
   "cell_type": "code",
   "execution_count": 2,
   "id": "c9e88dcd-67fd-4975-afec-1408d460fe83",
   "metadata": {},
   "outputs": [
    {
     "name": "stdout",
     "output_type": "stream",
     "text": [
      "Data Type:\n",
      "\n",
      "In a NumPy array, all elements must have the same data type.\n",
      "Lists can contain elements of different data types.\n",
      "      \n",
      "Memory Efficiency:\n",
      "\n",
      "NumPy arrays are more memory efficient compared to lists, especially for large datasets, because they store data in a contiguous block of memory.\n",
      "Lists, being more flexible, may result in higher memory usage due to the overhead of storing type information for each element.\n"
     ]
    }
   ],
   "source": [
    "print('''Data Type:\n",
    "\n",
    "In a NumPy array, all elements must have the same data type.\n",
    "Lists can contain elements of different data types.\n",
    "      \n",
    "Memory Efficiency:\n",
    "\n",
    "NumPy arrays are more memory efficient compared to lists, especially for large datasets, because they store data in a contiguous block of memory.\n",
    "Lists, being more flexible, may result in higher memory usage due to the overhead of storing type information for each element.''')"
   ]
  },
  {
   "cell_type": "markdown",
   "id": "c6392f89-1b04-4742-800f-d9769a3f03fa",
   "metadata": {},
   "source": [
    "3. Find the shape, size and dimension of the following array?\n",
    "[[1, 2, 3, 4]\n",
    "[5, 6, 7, 8],\n",
    "[9, 10, 11, 12]]"
   ]
  },
  {
   "cell_type": "code",
   "execution_count": 3,
   "id": "50f0af12-c85e-45ca-a981-02c16f6d1f3e",
   "metadata": {},
   "outputs": [
    {
     "name": "stdout",
     "output_type": "stream",
     "text": [
      "The shape of the matrix is  (3, 4)\n",
      "The size of the matrix is  12\n",
      "The dimensions of the matrix is  2\n"
     ]
    }
   ],
   "source": [
    "import numpy as np\n",
    "m=np.array([[1,2,3,4],[5,6,7,8],[9,10,11,12]])\n",
    "print(\"The shape of the matrix is \",np.shape(m))\n",
    "print(\"The size of the matrix is \",np.size(m))\n",
    "print(\"The dimensions of the matrix is \",np.ndim(m))"
   ]
  },
  {
   "cell_type": "markdown",
   "id": "898ebbba-ef57-4e48-a101-28ac61b2ef04",
   "metadata": {},
   "source": [
    "4. Write python code to access the first row of the following array?\n",
    "[[1, 2, 3, 4]\n",
    "[5, 6, 7, 8],\n",
    "[9, 10, 11, 12]]"
   ]
  },
  {
   "cell_type": "code",
   "execution_count": 4,
   "id": "86931d2b-c288-43a2-ad71-da11e3591fe7",
   "metadata": {},
   "outputs": [
    {
     "name": "stdout",
     "output_type": "stream",
     "text": [
      "[1 2 3 4]\n"
     ]
    }
   ],
   "source": [
    "m=np.array([[1,2,3,4],[5,6,7,8],[9,10,11,12]])\n",
    "print(m[0, :])"
   ]
  },
  {
   "cell_type": "markdown",
   "id": "0abd6108-858b-4e21-856f-d570b31db366",
   "metadata": {},
   "source": [
    "5. How do you access the element at the thir^ row and fourth column from the given numpy array?\n",
    "[[1, 2, 3, 4]\n",
    "[5, 6, 7, 8],\n",
    "[9, 10, 11, 12]]"
   ]
  },
  {
   "cell_type": "code",
   "execution_count": 5,
   "id": "c4e811e1-b477-4e45-bdd3-06fd229d12a9",
   "metadata": {},
   "outputs": [
    {
     "name": "stdout",
     "output_type": "stream",
     "text": [
      "12\n"
     ]
    }
   ],
   "source": [
    "m=np.array([[1,2,3,4],[5,6,7,8],[9,10,11,12]])\n",
    "print(m[2, 3])"
   ]
  },
  {
   "cell_type": "markdown",
   "id": "9cff8a28-c05c-4282-a9ca-79cb95444ee1",
   "metadata": {},
   "source": [
    "6. Write code to extract all odd-indexed elements from the given numpy array?\n",
    "[[1, 2, 3, 4]\n",
    "[5, 6, 7, 8],\n",
    "[9, 10, 11, 12]]"
   ]
  },
  {
   "cell_type": "code",
   "execution_count": 6,
   "id": "11862e7b-d679-44af-aa34-9c57a1522950",
   "metadata": {},
   "outputs": [
    {
     "name": "stdout",
     "output_type": "stream",
     "text": [
      "[[ 2  4]\n",
      " [ 6  8]\n",
      " [10 12]]\n"
     ]
    }
   ],
   "source": [
    "m=np.array([[1,2,3,4],[5,6,7,8],[9,10,11,12]])\n",
    "print(m[:, 1::2])"
   ]
  },
  {
   "cell_type": "markdown",
   "id": "fe1485c2-0e83-422f-a0b5-b3e2a0d52704",
   "metadata": {},
   "source": [
    "7. How can you generate a random 3x3 matrix with values between 0 and 1?"
   ]
  },
  {
   "cell_type": "code",
   "execution_count": 7,
   "id": "7c817319-2d32-424f-b0de-5591781d856d",
   "metadata": {},
   "outputs": [
    {
     "name": "stdout",
     "output_type": "stream",
     "text": [
      "[[0.34788055 0.98600033 0.19643389]\n",
      " [0.81770098 0.45278506 0.9521104 ]\n",
      " [0.15875085 0.9464954  0.97151493]]\n"
     ]
    }
   ],
   "source": [
    "n=np.random.rand(3,3)\n",
    "print(n)"
   ]
  },
  {
   "cell_type": "markdown",
   "id": "9671274c-539a-425c-97cf-237c673afe97",
   "metadata": {},
   "source": [
    "8. Describe the difference between np.random.rand and np.random.randn?"
   ]
  },
  {
   "cell_type": "code",
   "execution_count": 8,
   "id": "b04ea222-1e96-4807-b664-19ec85cf73f1",
   "metadata": {},
   "outputs": [
    {
     "name": "stdout",
     "output_type": "stream",
     "text": [
      "np.random.rand generates random values from a uniform distribution between 0 and 1, while np.random.randn generates random values from a standard normal distribution with a mean of 0 and a standard deviation of 1.\n"
     ]
    }
   ],
   "source": [
    "print(\"np.random.rand generates random values from a uniform distribution between 0 and 1, while np.random.randn generates random values from a standard normal distribution with a mean of 0 and a standard deviation of 1.\")"
   ]
  },
  {
   "cell_type": "markdown",
   "id": "ac1e8575-d10e-4a8e-a83c-94b701667599",
   "metadata": {},
   "source": [
    "9. Write code to increase the dimension of the following array?\n",
    "[[1, 2, 3, 4]\n",
    "[5, 6, 7, 8],\n",
    "[9, 10, 11, 12]]"
   ]
  },
  {
   "cell_type": "code",
   "execution_count": 9,
   "id": "f361e83c-d095-4052-8eb0-6d34e8f8a1f3",
   "metadata": {},
   "outputs": [
    {
     "name": "stdout",
     "output_type": "stream",
     "text": [
      "[[[ 1]\n",
      "  [ 2]\n",
      "  [ 3]\n",
      "  [ 4]]\n",
      "\n",
      " [[ 5]\n",
      "  [ 6]\n",
      "  [ 7]\n",
      "  [ 8]]\n",
      "\n",
      " [[ 9]\n",
      "  [10]\n",
      "  [11]\n",
      "  [12]]]\n"
     ]
    }
   ],
   "source": [
    "import numpy as np\n",
    "arr = np.array([[1, 2, 3, 4],\n",
    "                          [5, 6, 7, 8],\n",
    "                          [9, 10, 11, 12]])\n",
    "increased_dimension = arr[:, :, np.newaxis]\n",
    "print(increased_dimension)"
   ]
  },
  {
   "cell_type": "markdown",
   "id": "9d970a84-8bbb-48c0-9b96-0fb53fecb449",
   "metadata": {},
   "source": [
    "10. How to transpose the following array in NumPy?\n",
    "[[1, 2, 3, 4]\n",
    "[5, 6, 7, 8],\n",
    "[9, 10, 11, 12]]"
   ]
  },
  {
   "cell_type": "code",
   "execution_count": 10,
   "id": "4bf45e9e-b84d-473f-b452-b6fd66c4b516",
   "metadata": {},
   "outputs": [
    {
     "name": "stdout",
     "output_type": "stream",
     "text": [
      "[[ 1  5  9]\n",
      " [ 2  6 10]\n",
      " [ 3  7 11]\n",
      " [ 4  8 12]]\n"
     ]
    }
   ],
   "source": [
    "arr = np.array([[1,2,3,4],[5,6,7,8],[9,10,11,12]])\n",
    "tra = np.transpose(arr)\n",
    "print(tra)"
   ]
  },
  {
   "cell_type": "markdown",
   "id": "86ea2a23-6ac0-482b-8cb8-817a314954a3",
   "metadata": {},
   "source": [
    "11. Consider the following matrix:\n",
    "Matrix A2 [[1, 2, 3, 4] [5, 6, 7, 8],[9, 10, 11, 12]]\n",
    "Matrix B2 [[1, 2, 3, 4] [5, 6, 7, 8],[9, 10, 11, 12]]\n",
    "Perform the following operation using Python1\n",
    "1) Index wise multiplication\n",
    "2) Matix multiplication\n",
    "3) Add both the matics\n",
    "4) Subtact matix B from A\n",
    "5) Diide Matix B by A"
   ]
  },
  {
   "cell_type": "code",
   "execution_count": 11,
   "id": "1b25b475-54c5-4b03-bbb1-77b99f7d4405",
   "metadata": {},
   "outputs": [
    {
     "name": "stdout",
     "output_type": "stream",
     "text": [
      "[[1, 4, 9, 16], [25, 36, 49, 64], [81, 100, 121, 144]]\n",
      "[[ 30  70 110]\n",
      " [ 70 174 278]\n",
      " [110 278 446]]\n",
      "[[2, 4, 6, 8], [10, 12, 14, 16], [18, 20, 22, 24]]\n",
      "[[0, 0, 0, 0], [0, 0, 0, 0], [0, 0, 0, 0]]\n",
      "[[1.0, 1.0, 1.0, 1.0], [1.0, 1.0, 1.0, 1.0], [1.0, 1.0, 1.0, 1.0]]\n"
     ]
    }
   ],
   "source": [
    "A = [[1,2,3,4],[5,6,7,8],[9,10,11,12]]\n",
    "B = [[1,2,3,4],[5,6,7,8],[9,10,11,12]]\n",
    "# index wise multiplication.\n",
    "mul = [[i*j for i,j in zip(a,b)] for a,b in zip(A,B)]\n",
    "print(mul)\n",
    "# multiplication matrix\n",
    "mul1 = np.dot(A, np.transpose(B))\n",
    "print(mul1)\n",
    "# Add the both matrix\n",
    "add = [[i+j for i,j in zip(a,b)] for a,b in zip(A,B)]\n",
    "print(add)\n",
    "# Subtract the both matrix\n",
    "sub = [[i-j for i,j in zip(a,b)] for a,b in zip(A,B)]\n",
    "print(sub)\n",
    "# Divide the A from B\n",
    "div = [[b / a if a != 0 else 0 for a, b in zip(row_a, row_b)] for row_a, row_b in zip(A, B)]\n",
    "print(div)"
   ]
  },
  {
   "cell_type": "markdown",
   "id": "117f5e32-88b0-4890-9cdc-4d705b3e1b60",
   "metadata": {},
   "source": [
    "12. Which function in Numpy can be used to swap the byte order of an array?"
   ]
  },
  {
   "cell_type": "code",
   "execution_count": 12,
   "id": "750baaa7-e495-4969-9fd5-ffd520e319db",
   "metadata": {},
   "outputs": [
    {
     "name": "stdout",
     "output_type": "stream",
     "text": [
      "Swapped Array: [16777216 33554432 50331648 67108864]\n"
     ]
    }
   ],
   "source": [
    "import numpy as np\n",
    "arr = np.array([1, 2, 3, 4], dtype=np.int32)\n",
    "swap_arr = arr.byteswap()\n",
    "print(\"Swapped Array:\", swap_arr)"
   ]
  },
  {
   "cell_type": "markdown",
   "id": "13a198d0-b79f-4fb1-a1d0-85700ebc39a7",
   "metadata": {},
   "source": [
    "13. What is the significance of the np.linalg.inv function?"
   ]
  },
  {
   "cell_type": "code",
   "execution_count": 13,
   "id": "6b45e198-0791-4c29-a32f-a3017adc8b2a",
   "metadata": {},
   "outputs": [
    {
     "name": "stdout",
     "output_type": "stream",
     "text": [
      "The np.linalg.inv function in Python, provided by the NumPy library, is used to compute the (multiplicative) inverse of a matrix. In linear algebra, the inverse of a matrix is a matrix that, when multiplied with the original matrix, results in the identity matrix.\n"
     ]
    }
   ],
   "source": [
    "print(\"The np.linalg.inv function in Python, provided by the NumPy library, is used to compute the (multiplicative) inverse of a matrix. In linear algebra, the inverse of a matrix is a matrix that, when multiplied with the original matrix, results in the identity matrix.\")"
   ]
  },
  {
   "cell_type": "markdown",
   "id": "3c5d3d49-471e-47fe-9cb2-cd5237d0d313",
   "metadata": {},
   "source": [
    "14. What does the np.reshape function do, and how is it used?"
   ]
  },
  {
   "cell_type": "code",
   "execution_count": 14,
   "id": "6036886b-b37d-4ce9-b076-4577f79b3ae5",
   "metadata": {},
   "outputs": [
    {
     "name": "stdout",
     "output_type": "stream",
     "text": [
      "The np.reshape function in NumPy is used to change the shape of an array. It allows you to rearrange the elements of an array into a new shape without changing their values.\n"
     ]
    }
   ],
   "source": [
    "print(\"The np.reshape function in NumPy is used to change the shape of an array. It allows you to rearrange the elements of an array into a new shape without changing their values.\")"
   ]
  },
  {
   "cell_type": "markdown",
   "id": "96308aa7-036c-410f-b5ff-b8f6f4cd111d",
   "metadata": {},
   "source": [
    "15. What is broadcasting in Numpy?"
   ]
  },
  {
   "cell_type": "code",
   "execution_count": 15,
   "id": "646aaad7-ed7f-4528-b4bf-7c92a9e8ca92",
   "metadata": {},
   "outputs": [
    {
     "name": "stdout",
     "output_type": "stream",
     "text": [
      "NumPy broadcasting refers to the ability of arrays with different shapes to be combined or operated upon element-wise. NumPy automatically broadcasts arrays when performing operations, allowing you to perform calculations on arrays of different shapes and sizes without explicitly reshaping them.\n"
     ]
    }
   ],
   "source": [
    "print(\"NumPy broadcasting refers to the ability of arrays with different shapes to be combined or operated upon element-wise. NumPy automatically broadcasts arrays when performing operations, allowing you to perform calculations on arrays of different shapes and sizes without explicitly reshaping them.\")"
   ]
  },
  {
   "cell_type": "code",
   "execution_count": null,
   "id": "12c120bb-745a-4ce5-8b95-648ab140ae0a",
   "metadata": {},
   "outputs": [],
   "source": []
  }
 ],
 "metadata": {
  "kernelspec": {
   "display_name": "Python 3 (ipykernel)",
   "language": "python",
   "name": "python3"
  },
  "language_info": {
   "codemirror_mode": {
    "name": "ipython",
    "version": 3
   },
   "file_extension": ".py",
   "mimetype": "text/x-python",
   "name": "python",
   "nbconvert_exporter": "python",
   "pygments_lexer": "ipython3",
   "version": "3.10.8"
  }
 },
 "nbformat": 4,
 "nbformat_minor": 5
}
