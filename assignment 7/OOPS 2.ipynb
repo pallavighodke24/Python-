{
 "cells": [
  {
   "cell_type": "markdown",
   "id": "12a39b11-a660-4fc5-92d8-7a3efd3a73ef",
   "metadata": {},
   "source": [
    "OOPS 2"
   ]
  },
  {
   "cell_type": "markdown",
   "id": "f86a35ca-ce87-4664-9318-3b75b3681d58",
   "metadata": {},
   "source": [
    "CONSTRUCTOR"
   ]
  },
  {
   "cell_type": "markdown",
   "id": "097eb730-155b-4c51-adab-6f3afe747a45",
   "metadata": {},
   "source": [
    "1.What is a constructor in Python? Explain its purpose and usage."
   ]
  },
  {
   "cell_type": "code",
   "execution_count": 1,
   "id": "c1aabf4f-84ba-4db5-b9a4-b94dce431420",
   "metadata": {},
   "outputs": [
    {
     "name": "stdout",
     "output_type": "stream",
     "text": [
      "The constuctor is used to assign or initialize values to the class arguments and it cannot return values.\n"
     ]
    }
   ],
   "source": [
    "print(\"The constuctor is used to assign or initialize values to the class arguments and it cannot return values.\")"
   ]
  },
  {
   "cell_type": "markdown",
   "id": "3f044abb-ff9b-43d4-9b08-d69cf6019462",
   "metadata": {},
   "source": [
    "2.Differentiate between a parameterless constructor and a parameterized constructor in Python."
   ]
  },
  {
   "cell_type": "code",
   "execution_count": 1,
   "id": "8529e3e7-98e1-48d6-8897-9a4ecd46239d",
   "metadata": {},
   "outputs": [
    {
     "name": "stdout",
     "output_type": "stream",
     "text": [
      "The parameterless constructor does not take any arguments.\n",
      "Example:\n",
      "\n",
      "class name():\n",
      "   def __init__(self):\n",
      "      print('My name is Gnanesh')\n",
      "\n",
      "  The parameterized constructor does take arguments.\n",
      "Example:\n",
      "\n",
      "class name():\n",
      "   def __init__(self,name):\n",
      "      print('My name is ',name)\n"
     ]
    }
   ],
   "source": [
    "print(\"The parameterless constructor does not take any arguments.\")\n",
    "print(\"Example:\\n\\nclass name():\\n   def __init__(self):\\n      print('My name is Gnanesh')\")\n",
    "print(\"\\n  The parameterized constructor does take arguments.\")\n",
    "print(\"Example:\\n\\nclass name():\\n   def __init__(self,name):\\n      print('My name is ',name)\")"
   ]
  },
  {
   "cell_type": "markdown",
   "id": "bfeda7d8-570d-437c-9d4f-3332aa1c1fd1",
   "metadata": {},
   "source": [
    "3.How do you define a constructor in a Python class? Provide an example."
   ]
  },
  {
   "cell_type": "code",
   "execution_count": 3,
   "id": "cee46ec8-3f11-4da2-a48f-f4732ba0452b",
   "metadata": {},
   "outputs": [
    {
     "name": "stdout",
     "output_type": "stream",
     "text": [
      "The constructor is used to initialize instance members of the class. The name of the constructor is __init__.\n",
      "\n",
      "Example:\n",
      "\n",
      "class add():\n",
      "  def __init__(self,a,b):\n",
      "    return a+b\n"
     ]
    }
   ],
   "source": [
    "print(\"The constructor is used to initialize instance members of the class. The name of the constructor is __init__.\")\n",
    "print('\\nExample:\\n\\nclass add():\\n  def __init__(self,a,b):\\n    return a+b')"
   ]
  },
  {
   "cell_type": "markdown",
   "id": "e1107cca-42a9-4942-8a0b-c6940e4c0327",
   "metadata": {},
   "source": [
    "4.Explain the `__init__` method in Python and its role in constructors."
   ]
  },
  {
   "cell_type": "code",
   "execution_count": 4,
   "id": "61c152ed-3d26-46a1-ae4b-d2334c3ad8e6",
   "metadata": {},
   "outputs": [
    {
     "name": "stdout",
     "output_type": "stream",
     "text": [
      "Everytime the __init__ function is created with the class.\n",
      "This __init__ method initialize variables of object. It is used only within classes.\n"
     ]
    }
   ],
   "source": [
    "print('Everytime the __init__ function is created with the class.\\nThis __init__ method initialize variables of object. It is used only within classes.')"
   ]
  },
  {
   "cell_type": "markdown",
   "id": "8e9f2d9e-1009-4f76-87ba-85ccec7c598a",
   "metadata": {},
   "source": [
    "5.In a class named `Person`, create a constructor that initializes the `name` and `age` attributes. Provide an\n",
    "example of creating an object of this class."
   ]
  },
  {
   "cell_type": "code",
   "execution_count": 6,
   "id": "5f2409bf-c7ef-4f4f-9e20-534fb83ce5a8",
   "metadata": {},
   "outputs": [
    {
     "name": "stdout",
     "output_type": "stream",
     "text": [
      "The person name is PALLAVI and age is 26.\n"
     ]
    }
   ],
   "source": [
    "class Person:\n",
    "    def __init__(self,name,age):\n",
    "        print(f\"The person name is {name} and age is {age}.\")\n",
    "p=Person('PALLAVI',26)"
   ]
  },
  {
   "cell_type": "markdown",
   "id": "bf67ac9e-c492-4b52-b2fe-99bd39b15706",
   "metadata": {},
   "source": [
    "6.How can you call a constructor explicitly in Python? Give an example."
   ]
  },
  {
   "cell_type": "code",
   "execution_count": 7,
   "id": "513ff284-4b90-46b6-aa33-5a171a6c3602",
   "metadata": {},
   "outputs": [
    {
     "name": "stdout",
     "output_type": "stream",
     "text": [
      "By using super() keyword we can call constructor explicitly.\n",
      "\n",
      "Example\n",
      "\n",
      "class vehical:\n",
      "  def __init__(self,name):\n",
      "  self.name=name\n",
      "class car(vehicle):\n",
      "  def __init__(self,name,wheels):\n",
      "  super().__init__(name)\n",
      "  self.wheels=wheels\n",
      "v=car('BMW',4)\n"
     ]
    }
   ],
   "source": [
    "print(\"By using super() keyword we can call constructor explicitly.\\n\\nExample\\n\")\n",
    "print(\"class vehical:\\n  def __init__(self,name):\\n  self.name=name\\nclass car(vehicle):\\n  def __init__(self,name,wheels):\\n  super().__init__(name)\\n  self.wheels=wheels\\nv=car('BMW',4)\")"
   ]
  },
  {
   "cell_type": "markdown",
   "id": "0fc6d8a1-2ca4-429c-b8e4-f0275a5e4904",
   "metadata": {},
   "source": [
    "7.What is the significance of the `self` parameter in Python constructors? Explain with an example."
   ]
  },
  {
   "cell_type": "code",
   "execution_count": 8,
   "id": "861bb174-aa17-4395-babf-83814d538317",
   "metadata": {},
   "outputs": [
    {
     "name": "stdout",
     "output_type": "stream",
     "text": [
      "By using self we can access attributes and methods of class.\n",
      "The self represents the instance of the class\n"
     ]
    }
   ],
   "source": [
    "print(\"By using self we can access attributes and methods of class.\\nThe self represents the instance of the class\")"
   ]
  },
  {
   "cell_type": "markdown",
   "id": "f53814b7-e2b8-4fa9-8eab-6dc9f2eb0f87",
   "metadata": {},
   "source": [
    "8.Discuss the concept of default constructors in Python. When are they used?"
   ]
  },
  {
   "cell_type": "code",
   "execution_count": 9,
   "id": "fc2feb8d-e8ac-433b-a2d0-592f35452d8d",
   "metadata": {},
   "outputs": [
    {
     "name": "stdout",
     "output_type": "stream",
     "text": [
      "A default constructor is constructor which takes no arguments.\n",
      "It is used create object with default values for it's attributes.\n",
      "When there is no user defined constructor exists for a class then compiler implicity declares a default constructor.\n"
     ]
    }
   ],
   "source": [
    "print(\"A default constructor is constructor which takes no arguments.\\nIt is used create object with default values for it's attributes.\")\n",
    "print(\"When there is no user defined constructor exists for a class then compiler implicity declares a default constructor.\")"
   ]
  },
  {
   "cell_type": "markdown",
   "id": "80201f10-0020-413b-83d5-efa41a246940",
   "metadata": {},
   "source": [
    "9.Create a Python class called `Rectangle` with a constructor that initializes the `width` and `height`\n",
    "attributes. Provide a method to calculate the area of the rectangle."
   ]
  },
  {
   "cell_type": "code",
   "execution_count": 10,
   "id": "3b6f5ab3-ac49-454f-98c8-dc6899747cc1",
   "metadata": {},
   "outputs": [
    {
     "name": "stdout",
     "output_type": "stream",
     "text": [
      "The area of rectangle is 24\n"
     ]
    }
   ],
   "source": [
    "class rectangle:\n",
    "    def __init__(self,width,height):\n",
    "        a=width*height\n",
    "        print(f\"The area of rectangle is {a}\")\n",
    "r=rectangle(4,6)"
   ]
  },
  {
   "cell_type": "markdown",
   "id": "a5dd7318-c313-4dd2-a1cc-e49d44e54b20",
   "metadata": {},
   "source": [
    "10.How can you have multiple constructors in a Python class? Explain with an example."
   ]
  },
  {
   "cell_type": "code",
   "execution_count": 11,
   "id": "15c8e790-2549-4d8f-9724-28f8c604e960",
   "metadata": {},
   "outputs": [
    {
     "name": "stdout",
     "output_type": "stream",
     "text": [
      "We can use multiple constructors with different arguments in a class.\n",
      "It will allow us to call class constructor in different ways and get different each time.\n",
      "\n",
      "Example\n",
      "\n",
      "class person:\n",
      "  def __init__(self,name,age):\n",
      "     self.name=name\n",
      "     self.age=age\n",
      "  def __init__(self,name):\n",
      "     self.name=name\n",
      "     self.age=age\n",
      "  def details(self):\n",
      "     print(f\"My name is {self.name} and age is {self.age}.\")\n",
      "p1=person('Pallavi',26)\n",
      "p1.details()\n"
     ]
    }
   ],
   "source": [
    "print(\"We can use multiple constructors with different arguments in a class.\\nIt will allow us to call class constructor in different ways and get different each time.\")\n",
    "print('''\\nExample\\n\\nclass person:\n",
    "  def __init__(self,name,age):\n",
    "     self.name=name\n",
    "     self.age=age\n",
    "  def __init__(self,name):\n",
    "     self.name=name\n",
    "     self.age=age\n",
    "  def details(self):\n",
    "     print(f\"My name is {self.name} and age is {self.age}.\")\n",
    "p1=person('Pallavi',26)\n",
    "p1.details()''')"
   ]
  },
  {
   "cell_type": "markdown",
   "id": "03b9827e-8d6c-452f-b28c-51809a6ce6ce",
   "metadata": {},
   "source": [
    "11.What is method overloading, and how is it related to constructors in Python?"
   ]
  },
  {
   "cell_type": "code",
   "execution_count": 12,
   "id": "b7fdbb03-186c-46de-9f9c-23576b672c18",
   "metadata": {},
   "outputs": [
    {
     "name": "stdout",
     "output_type": "stream",
     "text": [
      "When class contains more than one methods with same name and different parameters is called method overloading.\n",
      "The multiple constuctors having same name is comes under method overloading.\n"
     ]
    }
   ],
   "source": [
    "print(\"When class contains more than one methods with same name and different parameters is called method overloading.\")\n",
    "print(\"The multiple constuctors having same name is comes under method overloading.\")"
   ]
  },
  {
   "cell_type": "markdown",
   "id": "aa9b28ac-6ff5-409b-98ca-3d7bc9197e5c",
   "metadata": {},
   "source": [
    "12.Explain the use of the `super()` function in Python constructors. Provide an example."
   ]
  },
  {
   "cell_type": "code",
   "execution_count": 13,
   "id": "add01d2c-10b5-420f-b91a-f1a8a0b02c5b",
   "metadata": {},
   "outputs": [
    {
     "name": "stdout",
     "output_type": "stream",
     "text": [
      "The super() function refers the parent class. It allows us to call methods from parent class to child class.\n",
      "\n",
      "Example\n",
      "\n",
      "class vehical:\n",
      "  def __init__(self,name):\n",
      "  self.name=name\n",
      "class car(vehicle):\n",
      "  def __init__(self,name,wheels):\n",
      "  super().__init__(name)\n",
      "  self.wheels=wheels\n",
      "v=car('BMW',4)\n"
     ]
    }
   ],
   "source": [
    "print(\"The super() function refers the parent class. It allows us to call methods from parent class to child class.\\n\\nExample\\n\")\n",
    "print(\"class vehical:\\n  def __init__(self,name):\\n  self.name=name\\nclass car(vehicle):\\n  def __init__(self,name,wheels):\\n  super().__init__(name)\\n  self.wheels=wheels\\nv=car('BMW',4)\")"
   ]
  },
  {
   "cell_type": "markdown",
   "id": "0c2ffda9-db38-457e-8fe4-9eed5ad341b9",
   "metadata": {},
   "source": [
    "13.Create a class called `Book` with a constructor that initializes the `title`, `author`, and `published_year`\n",
    "attributes. Provide a method to display book details."
   ]
  },
  {
   "cell_type": "code",
   "execution_count": 14,
   "id": "3247d72a-b52e-4c42-af3e-01cbea4880c3",
   "metadata": {},
   "outputs": [],
   "source": [
    "class Book:\n",
    "    def __init__(self,title,author,published_year):\n",
    "        self.title=title\n",
    "        self.author=author\n",
    "        self.published_year=published_year\n",
    "    def book_details(self):\n",
    "        print(f\"The title of the book is {self.title}.\")\n",
    "        print(f\"The author of the book is {self.author}.\")\n",
    "        print(f\"The book published in {self.published_year}.\")"
   ]
  },
  {
   "cell_type": "code",
   "execution_count": 15,
   "id": "24a0a8d4-5e2e-4408-b5b7-a01595d56528",
   "metadata": {},
   "outputs": [
    {
     "name": "stdout",
     "output_type": "stream",
     "text": [
      "The title of the book is Harry Potter.\n",
      "The author of the book is J K Rowling.\n",
      "The book published in 2016.\n"
     ]
    }
   ],
   "source": [
    "b=Book('Harry Potter','J K Rowling',2016)\n",
    "b.book_details()"
   ]
  },
  {
   "cell_type": "markdown",
   "id": "bb7eb41c-d3a6-464d-8ec2-d38f8fa9e8c4",
   "metadata": {},
   "source": [
    "14.Discuss the differences between constructors and regular methods in Python classes."
   ]
  },
  {
   "cell_type": "code",
   "execution_count": 16,
   "id": "725d05fd-ca71-4518-ab6b-518050e7e40c",
   "metadata": {},
   "outputs": [
    {
     "name": "stdout",
     "output_type": "stream",
     "text": [
      "A constructor is used to initialize the newly created object and initialize values to the parameters.\n",
      "A method having a group of statements which return values upon it's execution.\n"
     ]
    }
   ],
   "source": [
    "print(\"A constructor is used to initialize the newly created object and initialize values to the parameters.\")\n",
    "print(\"A method having a group of statements which return values upon it's execution.\")"
   ]
  },
  {
   "cell_type": "markdown",
   "id": "4290419f-c629-4d2a-b861-7bfa90eaff25",
   "metadata": {},
   "source": [
    "15.Explain the role of the `self` parameter in instance variable initialization within a constructor."
   ]
  },
  {
   "cell_type": "code",
   "execution_count": 17,
   "id": "15f209ee-812b-4b1d-9095-39a2e9066d99",
   "metadata": {},
   "outputs": [
    {
     "name": "stdout",
     "output_type": "stream",
     "text": [
      "In constructor self is used to initialize instance variables with values passed as arguments.\n",
      "In method self is used to access and print the values of variables.\n"
     ]
    }
   ],
   "source": [
    "print(\"In constructor self is used to initialize instance variables with values passed as arguments.\")\n",
    "print(\"In method self is used to access and print the values of variables.\")"
   ]
  },
  {
   "cell_type": "markdown",
   "id": "858bca65-281f-4572-834f-54dd4bdeae2f",
   "metadata": {},
   "source": [
    "16.How do you prevent a class from having multiple instances by using constructors in Python? Provide an\n",
    "example."
   ]
  },
  {
   "cell_type": "code",
   "execution_count": 27,
   "id": "f0f92d86-cd15-406c-993d-3fd4e77c7c50",
   "metadata": {},
   "outputs": [
    {
     "name": "stdout",
     "output_type": "stream",
     "text": [
      "In Python, we can prevent a class from having multiple instances by using a metaclass with a __call__ method that checks if an instance of the class has already been created. \n",
      "Example\n",
      "True\n",
      "10 10\n"
     ]
    }
   ],
   "source": [
    "print(\"In Python, we can prevent a class from having multiple instances by using a metaclass with a __call__ method that checks if an instance of the class has already been created. \")\n",
    "print('Example')\n",
    "class SingletonMeta(type):\n",
    "    _instances = {}\n",
    "\n",
    "    def __call__(cls, *args, **kwargs):\n",
    "        if cls not in cls._instances:\n",
    "            cls._instances[cls] = super(SingletonMeta, cls).__call__(*args, **kwargs)\n",
    "        return cls._instances[cls]\n",
    "\n",
    "class MySingletonClass(metaclass=SingletonMeta):\n",
    "    def __init__(self, value):\n",
    "        self.value = value\n",
    "\n",
    "# Example usage\n",
    "s1 = MySingletonClass(10)\n",
    "s2 = MySingletonClass(20)\n",
    "\n",
    "print(id(s1) == id(s2))  # prints True\n",
    "print(s1.value, s2.value)\n"
   ]
  },
  {
   "cell_type": "markdown",
   "id": "a42b917b-c61b-4491-a2dc-b2e33bc660c5",
   "metadata": {},
   "source": [
    "17.Create a Python class called `Student` with a constructor that takes a list of subjects as a parameter and\n",
    "initializes the `subjects` attribute."
   ]
  },
  {
   "cell_type": "code",
   "execution_count": 18,
   "id": "2a7b9cc6-fc12-41fe-ae26-372eb2b0e206",
   "metadata": {},
   "outputs": [
    {
     "name": "stdout",
     "output_type": "stream",
     "text": [
      "['Marathi', 'English', 'Maths']\n"
     ]
    }
   ],
   "source": [
    "class Student:\n",
    "    def __init__(self,subjects):\n",
    "        self.subjects=subjects\n",
    "        \n",
    "s=Student(['Marathi','English','Maths'])\n",
    "print(s.subjects)"
   ]
  },
  {
   "cell_type": "markdown",
   "id": "f85b666d-ed6d-42a3-ba57-d04ad9224182",
   "metadata": {},
   "source": [
    "18.What is the purpose of the `__del__` method in Python classes, and how does it relate to constructors?"
   ]
  },
  {
   "cell_type": "code",
   "execution_count": 19,
   "id": "741f243d-77f2-40b8-8e72-0c637307e203",
   "metadata": {},
   "outputs": [
    {
     "name": "stdout",
     "output_type": "stream",
     "text": [
      "The __del__ method in Python classes is called when an object is about to be deleted.\n",
      "The __del__() method is referred to as a destructor method.\n",
      "\n",
      "Example:-\n",
      "   class MyClass:\n",
      "    def __init__(self):\n",
      "        print(\"MyClass object created\")\n",
      "        self.file = open(\"my_file.txt\", \"w\")\n",
      "\n",
      "    def __del__(self):\n",
      "        print(\"MyClass object deleted\")\n",
      "        self.file.close()\n"
     ]
    }
   ],
   "source": [
    "print(\"The __del__ method in Python classes is called when an object is about to be deleted.\\nThe __del__() method is referred to as a destructor method.\")\n",
    "print('''\\nExample:-\n",
    "   class MyClass:\n",
    "    def __init__(self):\n",
    "        print(\"MyClass object created\")\n",
    "        self.file = open(\"my_file.txt\", \"w\")\n",
    "\n",
    "    def __del__(self):\n",
    "        print(\"MyClass object deleted\")\n",
    "        self.file.close()''')"
   ]
  },
  {
   "cell_type": "markdown",
   "id": "e3b9646b-c096-4283-b1f1-c563687dbecc",
   "metadata": {},
   "source": [
    "19.Explain the use of constructor chaining in Python. Provide a practical example."
   ]
  },
  {
   "cell_type": "code",
   "execution_count": 20,
   "id": "e7b666c0-0350-4b55-87aa-6fadabede5e3",
   "metadata": {},
   "outputs": [
    {
     "name": "stdout",
     "output_type": "stream",
     "text": [
      "The constructor is to assign value to data members when an object of the class is created.\n",
      "Constructor chaining is the process of calling one constructor from another constructor.\n",
      "\n",
      "Example:-\n",
      "class Animal:\n",
      "    def __init__(self, name):\n",
      "        self.name = name\n",
      "    def make_sound(self):\n",
      "        raise NotImplementedError\n",
      "\n",
      "class Dog(Animal):\n",
      "    def __init__(self, name, breed):\n",
      "        super().__init__(name)\n",
      "        self.breed = breed\n",
      "    def make_sound(self):\n",
      "        return \"Woof!\"\n",
      "\n",
      "class Cat(Animal):\n",
      "    def __init__(self, name, breed):\n",
      "        super().__init__(name)\n",
      "        self.breed = breed\n",
      "    def make_sound(self):\n",
      "        return \"Meow!\"\n",
      "dog = Dog(\"Fido\", \"Golden Retriever\")\n",
      "cat = Cat(\"Garfield\", \"Persian\")\n"
     ]
    }
   ],
   "source": [
    "print(\"The constructor is to assign value to data members when an object of the class is created.\\nConstructor chaining is the process of calling one constructor from another constructor.\")\n",
    "print('''\\nExample:-\n",
    "class Animal:\n",
    "    def __init__(self, name):\n",
    "        self.name = name\n",
    "    def make_sound(self):\n",
    "        raise NotImplementedError\n",
    "\n",
    "class Dog(Animal):\n",
    "    def __init__(self, name, breed):\n",
    "        super().__init__(name)\n",
    "        self.breed = breed\n",
    "    def make_sound(self):\n",
    "        return \"Woof!\"\n",
    "\n",
    "class Cat(Animal):\n",
    "    def __init__(self, name, breed):\n",
    "        super().__init__(name)\n",
    "        self.breed = breed\n",
    "    def make_sound(self):\n",
    "        return \"Meow!\"\n",
    "dog = Dog(\"Fido\", \"Golden Retriever\")\n",
    "cat = Cat(\"Garfield\", \"Persian\")''')"
   ]
  },
  {
   "cell_type": "markdown",
   "id": "893b40e9-c717-4e2b-beff-a96465eb7115",
   "metadata": {},
   "source": [
    "20.Create a Python class called `Car` with a default constructor that initializes the `make` and `model`\n",
    "attributes. Provide a method to display car information."
   ]
  },
  {
   "cell_type": "code",
   "execution_count": 21,
   "id": "b0a935dc-2d86-4336-a66d-56bdaaaea02a",
   "metadata": {},
   "outputs": [
    {
     "name": "stdout",
     "output_type": "stream",
     "text": [
      "The car make is BMW.\n",
      "The car model is BMW X5.\n"
     ]
    }
   ],
   "source": [
    "class Car:\n",
    "    def __init__(self,make,model):\n",
    "        self.make=make\n",
    "        self.model=model\n",
    "    def car_details(self):\n",
    "        print(f\"The car make is {self.make}.\")\n",
    "        print(f\"The car model is {self.model}.\")\n",
    "        \n",
    "c=Car('BMW','BMW X5')\n",
    "c.car_details()"
   ]
  },
  {
   "cell_type": "markdown",
   "id": "1d9f633a-9e62-4dd2-b0a6-733885c3cbd2",
   "metadata": {},
   "source": [
    "INHERITANCE"
   ]
  },
  {
   "cell_type": "markdown",
   "id": "c205b337-24a6-46f8-8f0d-992d3bc743a4",
   "metadata": {},
   "source": [
    "1.What is inheritance in Python? Explain its significance in object-oriented programming."
   ]
  },
  {
   "cell_type": "code",
   "execution_count": 1,
   "id": "666acb66-a1ea-4bd3-a904-6d6f855e7901",
   "metadata": {},
   "outputs": [
    {
     "name": "stdout",
     "output_type": "stream",
     "text": [
      "The Inheritance allows a class to inherit the properties and methods of another class.\n",
      "It allows for code reuse and helps to create organized code.\n"
     ]
    }
   ],
   "source": [
    "print(\"The Inheritance allows a class to inherit the properties and methods of another class.\\nIt allows for code reuse and helps to create organized code.\")"
   ]
  },
  {
   "cell_type": "markdown",
   "id": "c581f8a6-3f0e-4f7d-a1ba-4da5ef04a142",
   "metadata": {},
   "source": [
    "2.Differentiate between single inheritance and multiple inheritance in Python. Provide examples for each."
   ]
  },
  {
   "cell_type": "code",
   "execution_count": 2,
   "id": "f3e033ab-f2b0-4f6b-a3b2-cd5897a1183e",
   "metadata": {},
   "outputs": [
    {
     "name": "stdout",
     "output_type": "stream",
     "text": [
      "In single inheritance, a class can only inherit to one parent class, while in multiple inheritance, a class can inherit to multiple parent classes.\n",
      "\n",
      "_______Single Inheritance Example:-\n",
      "class Animal:\n",
      "    def speak(self):\n",
      "        print(\"Animal Speaking\")\n",
      "class Dog(Animal):\n",
      "    def bark(self):\n",
      "        print(\"dog barking\")\n",
      "dog = Dog()\n",
      "dog.speak()\n",
      "\n",
      "_______Multiple Inheritance Example:-\n",
      "class Animal:\n",
      "    def speak(self):\n",
      "        print(\"Animal Speaking\")\n",
      "class Dog(Animal):\n",
      "    def bark(self):\n",
      "        print(\"dog barking\")\n",
      "class Cat(Animal):\n",
      "    def meow(self):\n",
      "        print(\"cat meowing\")\n",
      "cat = Cat()\n",
      "cat.speak() \n"
     ]
    }
   ],
   "source": [
    "print(\"In single inheritance, a class can only inherit to one parent class, while in multiple inheritance, a class can inherit to multiple parent classes.\")\n",
    "print('''\\n_______Single Inheritance Example:-\n",
    "class Animal:\n",
    "    def speak(self):\n",
    "        print(\"Animal Speaking\")\n",
    "class Dog(Animal):\n",
    "    def bark(self):\n",
    "        print(\"dog barking\")\n",
    "dog = Dog()\n",
    "dog.speak()''')\n",
    "print('''\\n_______Multiple Inheritance Example:-\n",
    "class Animal:\n",
    "    def speak(self):\n",
    "        print(\"Animal Speaking\")\n",
    "class Dog(Animal):\n",
    "    def bark(self):\n",
    "        print(\"dog barking\")\n",
    "class Cat(Animal):\n",
    "    def meow(self):\n",
    "        print(\"cat meowing\")\n",
    "cat = Cat()\n",
    "cat.speak() ''')"
   ]
  },
  {
   "cell_type": "markdown",
   "id": "a66e9b30-192c-4c8e-ba56-a43d5b6af05b",
   "metadata": {},
   "source": [
    "3.Create a Python class called `Vehicle` with attributes `color` and `speed`. Then, create a child class called `Car` that inherits from `Vehicle` and adds a `brand` attribute. Provide an example of creating a `Car` object."
   ]
  },
  {
   "cell_type": "code",
   "execution_count": 3,
   "id": "b9f9335e-f527-4727-a278-cfbfbb60c529",
   "metadata": {},
   "outputs": [
    {
     "name": "stdout",
     "output_type": "stream",
     "text": [
      "Red\n",
      "220\n",
      "Benz\n"
     ]
    }
   ],
   "source": [
    "\n",
    "class Vehicle:\n",
    "    def __init__(self,color,speed):\n",
    "        self.color=color\n",
    "        self.speed=speed\n",
    "class Car(Vehicle):\n",
    "    def __init__(self,color,speed,brand):\n",
    "        super().__init__(color,speed)\n",
    "        self.brand=brand\n",
    "        \n",
    "c=Car('Red','220','Benz')\n",
    "print(c.color)\n",
    "print(c.speed)\n",
    "print(c.brand)"
   ]
  },
  {
   "cell_type": "markdown",
   "id": "8751450b-5628-401c-962d-32540b3a93cc",
   "metadata": {},
   "source": [
    "4.Explain the concept of method overriding in inheritance. Provide a practical example."
   ]
  },
  {
   "cell_type": "code",
   "execution_count": 4,
   "id": "71f75dbd-f3bb-4119-9807-8be58a10ca3c",
   "metadata": {},
   "outputs": [
    {
     "name": "stdout",
     "output_type": "stream",
     "text": [
      "The method overriding means in the child class having a method with the same name of a method in the parent class.\n",
      "When we call method from each class the ouput will be different.\n",
      "\n",
      "Example:-\n",
      "class Animal:\n",
      "    def speak(self):\n",
      "        print(\"Animals can make sounds.\")\n",
      "class Dog(Animal):\n",
      "    def speak(self):\n",
      "        print(\"Dog barks.\")\n",
      "class Cat(Animal):\n",
      "    def speak(self):\n",
      "        print(\"Cat meows.\")\n",
      "animal = Animal()\n",
      "dog = Dog()\n",
      "cat = Cat()\n",
      "animal.speak()  \n",
      "dog.speak()    \n",
      "cat.speak()\n"
     ]
    }
   ],
   "source": [
    "print(\"The method overriding means in the child class having a method with the same name of a method in the parent class.\\nWhen we call method from each class the ouput will be different.\")\n",
    "print('''\\nExample:-\n",
    "class Animal:\n",
    "    def speak(self):\n",
    "        print(\"Animals can make sounds.\")\n",
    "class Dog(Animal):\n",
    "    def speak(self):\n",
    "        print(\"Dog barks.\")\n",
    "class Cat(Animal):\n",
    "    def speak(self):\n",
    "        print(\"Cat meows.\")\n",
    "animal = Animal()\n",
    "dog = Dog()\n",
    "cat = Cat()\n",
    "animal.speak()  \n",
    "dog.speak()    \n",
    "cat.speak()''')"
   ]
  },
  {
   "cell_type": "markdown",
   "id": "ddfd0fea-ccfb-47d0-bc80-55376ef878da",
   "metadata": {},
   "source": [
    "5.How can you access the methods and attributes of a parent class from a child class in Python? Give an\n",
    "example."
   ]
  },
  {
   "cell_type": "code",
   "execution_count": 5,
   "id": "b4f03038-bbdb-4b57-bdae-e68ecbf5c024",
   "metadata": {},
   "outputs": [
    {
     "name": "stdout",
     "output_type": "stream",
     "text": [
      "By using super() function we can return a temporary object of the superclass, which allows us to call its methods.\n",
      "\n",
      "Example:-\n",
      "class Parent:\n",
      "    def __init__(self):\n",
      "        print(\"India is my country.\")\n",
      "class Child(Parent):\n",
      "    def __init__(self):\n",
      "        super().__init__()\n",
      "        print(\"They are total 29 states in India.\")\n",
      "child = Child()\n"
     ]
    }
   ],
   "source": [
    "print(\"By using super() function we can return a temporary object of the superclass, which allows us to call its methods.\")\n",
    "print('''\\nExample:-\n",
    "class Parent:\n",
    "    def __init__(self):\n",
    "        print(\"India is my country.\")\n",
    "class Child(Parent):\n",
    "    def __init__(self):\n",
    "        super().__init__()\n",
    "        print(\"They are total 29 states in India.\")\n",
    "child = Child()''')"
   ]
  },
  {
   "cell_type": "markdown",
   "id": "79c06f16-f697-4bbb-8aae-8102c52447cf",
   "metadata": {},
   "source": [
    "6.Discuss the use of the `super()` function in Python inheritance. When and why is it used? Provide an\n",
    "example."
   ]
  },
  {
   "cell_type": "code",
   "execution_count": 6,
   "id": "5fb41f48-42a2-435a-95b6-77db222dd43d",
   "metadata": {},
   "outputs": [
    {
     "name": "stdout",
     "output_type": "stream",
     "text": [
      "The super() function used when we have to inherits attributes of parent class to child class.\n",
      "\n",
      "Example:-\n",
      "class Animal:\n",
      "    def __init__(self, name):\n",
      "        self.name = name\n",
      "    def speak(self):\n",
      "        pass\n",
      "class Lion(Animal):\n",
      "    def __init__(self, name, roar_sound):\n",
      "        super().__init__(name)\n",
      "        self.roar_sound = roar_sound\n",
      "    def speak(self):\n",
      "        return f\"{self.name} roars like {self.roar_sound}!\"\n",
      "lion = Lion(\"Simba\", \"a mighty lion\")\n",
      "print(lion.speak())\n"
     ]
    }
   ],
   "source": [
    "print(\"The super() function used when we have to inherits attributes of parent class to child class.\")\n",
    "print('''\\nExample:-\n",
    "class Animal:\n",
    "    def __init__(self, name):\n",
    "        self.name = name\n",
    "    def speak(self):\n",
    "        pass\n",
    "class Lion(Animal):\n",
    "    def __init__(self, name, roar_sound):\n",
    "        super().__init__(name)\n",
    "        self.roar_sound = roar_sound\n",
    "    def speak(self):\n",
    "        return f\"{self.name} roars like {self.roar_sound}!\"\n",
    "lion = Lion(\"Simba\", \"a mighty lion\")\n",
    "print(lion.speak())''')"
   ]
  },
  {
   "cell_type": "markdown",
   "id": "0b0a5019-84fa-4da0-8a52-e3755dc9d3fb",
   "metadata": {},
   "source": [
    "7.Create a Python class called `Animal` with a method `speak()`. Then, create child classes `Dog` and `Cat` that inherit from `Animal` and override the `speak()` method. Provide an example of using these classes."
   ]
  },
  {
   "cell_type": "code",
   "execution_count": 7,
   "id": "4c8ba98b-173a-47ac-9ef5-7b22723e41eb",
   "metadata": {},
   "outputs": [
    {
     "name": "stdout",
     "output_type": "stream",
     "text": [
      "Bow Bow\n",
      "Mew Mew\n"
     ]
    }
   ],
   "source": [
    "class Animal:\n",
    "    def speak():\n",
    "        pass\n",
    "class Dog(Animal):\n",
    "    def speak(self,speak):\n",
    "        self.speak=speak\n",
    "class Cat(Animal):\n",
    "    def speak(self,speak):\n",
    "        self.speak=speak\n",
    "\n",
    "d=Dog()\n",
    "d.speak('Bow Bow')\n",
    "c=Cat()\n",
    "c.speak('Mew Mew')\n",
    "print(d.speak)\n",
    "print(c.speak)"
   ]
  },
  {
   "cell_type": "markdown",
   "id": "8fee5e4b-6411-42ad-bd70-4e005f046d90",
   "metadata": {},
   "source": [
    "8.Explain the role of the `isinstance()` function in Python and how it relates to inheritance."
   ]
  },
  {
   "cell_type": "code",
   "execution_count": 8,
   "id": "1667bcd5-a27e-4536-954a-daba3e9b1001",
   "metadata": {},
   "outputs": [
    {
     "name": "stdout",
     "output_type": "stream",
     "text": [
      "The isinstance() function  is used to check if an object is an instance of a particular class or a subclass of that class.\n",
      "The isinstance() function can be used to check if a specified class is the parent class of an object or not.\n"
     ]
    }
   ],
   "source": [
    "print(\"The isinstance() function  is used to check if an object is an instance of a particular class or a subclass of that class.\")\n",
    "print(\"The isinstance() function can be used to check if a specified class is the parent class of an object or not.\")"
   ]
  },
  {
   "cell_type": "markdown",
   "id": "11b9bcf7-6384-4b00-b17f-84a30821ab60",
   "metadata": {},
   "source": [
    "9.What is the purpose of the `issubclass()` function in Python? Provide an example."
   ]
  },
  {
   "cell_type": "code",
   "execution_count": 9,
   "id": "fab1b4ee-88b2-409d-958b-df740468258b",
   "metadata": {},
   "outputs": [
    {
     "name": "stdout",
     "output_type": "stream",
     "text": [
      "This issubclass() function returns True if the given child class is the subclass of given parent class else it returns False.\n",
      "\n",
      "Example:-\n",
      "class Animal:\n",
      "    pass\n",
      "class Mammal(Animal):\n",
      "    pass\n",
      "class Bird(Animal):\n",
      "    pass\n",
      "class Dog(Mammal):\n",
      "    pass\n",
      "result = issubclass(Dog, Mammal)\n",
      "print(result) \n",
      "result = issubclass(Bird, Mammal)\n",
      "print(result)\n"
     ]
    }
   ],
   "source": [
    "print(\"This issubclass() function returns True if the given child class is the subclass of given parent class else it returns False.\")\n",
    "print('''\\nExample:-\n",
    "class Animal:\n",
    "    pass\n",
    "class Mammal(Animal):\n",
    "    pass\n",
    "class Bird(Animal):\n",
    "    pass\n",
    "class Dog(Mammal):\n",
    "    pass\n",
    "result = issubclass(Dog, Mammal)\n",
    "print(result) \n",
    "result = issubclass(Bird, Mammal)\n",
    "print(result)''')"
   ]
  },
  {
   "cell_type": "markdown",
   "id": "b12a8d60-4d8d-4b38-b953-f45b2c92e3dc",
   "metadata": {},
   "source": [
    "10.Discuss the concept of constructor inheritance in Python. How are constructors inherited in child classes?"
   ]
  },
  {
   "cell_type": "code",
   "execution_count": 10,
   "id": "c38be8ff-e038-4bf4-b686-7b73ccf5e015",
   "metadata": {},
   "outputs": [
    {
     "name": "stdout",
     "output_type": "stream",
     "text": [
      "When a child class is created, the constructor of the parent class is automatically called, followed by the constructor of the child class.\n",
      "\n",
      "Example:-\n",
      "class Parent:\n",
      "   def __init__(self, name):\n",
      "   self.name = name\n",
      "class Child(Parent):\n",
      "   def __init__(self, name, age):\n",
      "   super().__init__(name)\n",
      "   self.age = age\n"
     ]
    }
   ],
   "source": [
    "print(\"When a child class is created, the constructor of the parent class is automatically called, followed by the constructor of the child class.\")\n",
    "print('''\\nExample:-\n",
    "class Parent:\n",
    "   def __init__(self, name):\n",
    "   self.name = name\n",
    "class Child(Parent):\n",
    "   def __init__(self, name, age):\n",
    "   super().__init__(name)\n",
    "   self.age = age''')"
   ]
  },
  {
   "cell_type": "markdown",
   "id": "1cca41f8-beb3-41c6-9e94-3f4729ed7c5b",
   "metadata": {},
   "source": [
    "11.Create a Python class called `Shape` with a method `area()` that calculates the area of a shape. Then, create child classes `Circle` and `Rectangle` that inherit from `Shape` and implement the `area()` method accordingly. Provide an example."
   ]
  },
  {
   "cell_type": "code",
   "execution_count": 11,
   "id": "e3846364-72a5-4180-aca0-1ec44253dfcd",
   "metadata": {},
   "outputs": [
    {
     "name": "stdout",
     "output_type": "stream",
     "text": [
      "Area of circle is 50.24.\n",
      "Area of rectangle is 24.\n"
     ]
    }
   ],
   "source": [
    "class Shape:\n",
    "    def area(self):\n",
    "        pass\n",
    "class Circle(Shape):\n",
    "    def area(self,radius):\n",
    "        r=3.14*radius**2\n",
    "        return f\"Area of circle is {r}.\"\n",
    "class Rectangle(Shape):\n",
    "     def area(self,length,width):\n",
    "            r=length*width\n",
    "            return f\"Area of rectangle is {r}.\"\n",
    "    \n",
    "c=Circle()\n",
    "r=Rectangle()\n",
    "print(c.area(4))\n",
    "print(r.area(4,6))"
   ]
  },
  {
   "cell_type": "markdown",
   "id": "92578385-f580-4677-8339-4b7eec0d5b65",
   "metadata": {},
   "source": [
    "12.Explain the use of abstract base classes (ABCs) in Python and how they relate to inheritance. Provide an example using the `abc` module."
   ]
  },
  {
   "cell_type": "code",
   "execution_count": 12,
   "id": "29c13342-315c-462c-ab34-d3f0a2391b16",
   "metadata": {},
   "outputs": [
    {
     "name": "stdout",
     "output_type": "stream",
     "text": [
      "The abc module provides a number of classes that can be used to define ABCs.\n",
      "\n",
      "Example:-\n",
      "from abc import ABC, abstractmethod\n",
      "class Shape(ABC):\n",
      "    @abstractmethod\n",
      "    def area(self):\n",
      "        pass\n",
      "class Circle(Shape):\n",
      "    def __init__(self, radius):\n",
      "        self.radius = radius\n",
      "    def area(self):\n",
      "        return 3.14 * self.radius * self.radius\n",
      "class Square(Shape):\n",
      "    def __init__(self, side):\n",
      "        self.side = side\n",
      "    def area(self):\n",
      "        return self.side * self.side\n",
      "print(Circle(5).area())\n",
      "print(Square(4).area())\n"
     ]
    }
   ],
   "source": [
    "print(\"The abc module provides a number of classes that can be used to define ABCs.\")\n",
    "print('''\\nExample:-\n",
    "from abc import ABC, abstractmethod\n",
    "class Shape(ABC):\n",
    "    @abstractmethod\n",
    "    def area(self):\n",
    "        pass\n",
    "class Circle(Shape):\n",
    "    def __init__(self, radius):\n",
    "        self.radius = radius\n",
    "    def area(self):\n",
    "        return 3.14 * self.radius * self.radius\n",
    "class Square(Shape):\n",
    "    def __init__(self, side):\n",
    "        self.side = side\n",
    "    def area(self):\n",
    "        return self.side * self.side\n",
    "print(Circle(5).area())\n",
    "print(Square(4).area())''')"
   ]
  },
  {
   "cell_type": "markdown",
   "id": "7b0819b6-3041-4835-a0fc-09dbb8a0a487",
   "metadata": {},
   "source": [
    "13.How can you prevent a child class from modifying certain attributes or methods inherited from a parent class in Python?"
   ]
  },
  {
   "cell_type": "code",
   "execution_count": 13,
   "id": "71f6d4b1-fa7f-4326-b17a-868e4cab59cf",
   "metadata": {},
   "outputs": [
    {
     "name": "stdout",
     "output_type": "stream",
     "text": [
      "By using private attributes we can protect modifying.\n",
      "For that we have to use single and double underscores infront of attribute name.\n"
     ]
    }
   ],
   "source": [
    "print(\"By using private attributes we can protect modifying.\")\n",
    "print(\"For that we have to use single and double underscores infront of attribute name.\")"
   ]
  },
  {
   "cell_type": "markdown",
   "id": "96a662a9-87c4-40f4-a6d3-afc4aacc9a7a",
   "metadata": {},
   "source": [
    "14.Create a Python class called `Employee` with attributes `name` and `salary`. Then, create a child class `Manager` that inherits from `Employee` and adds an attribute `department`. Provide an example."
   ]
  },
  {
   "cell_type": "code",
   "execution_count": 15,
   "id": "49609ca8-19e3-4497-a8ba-117d001b2cc7",
   "metadata": {},
   "outputs": [
    {
     "name": "stdout",
     "output_type": "stream",
     "text": [
      "Pallavi\n",
      "1000000\n",
      "Data Scientist\n"
     ]
    }
   ],
   "source": [
    "class Employee:\n",
    "    def __init__(self,name,salary):\n",
    "        self.name=name\n",
    "        self.salary=salary\n",
    "class Manager(Employee):\n",
    "    def __init__(self,name,salary,department):\n",
    "        super().__init__(name,salary)\n",
    "        self.department=department\n",
    "\n",
    "m=Manager('Pallavi',1000000,'Data Scientist')\n",
    "print(m.name)\n",
    "print(m.salary)\n",
    "print(m.department)"
   ]
  },
  {
   "cell_type": "markdown",
   "id": "62c2fa6c-ccdb-461e-af2d-cf4337ea6884",
   "metadata": {},
   "source": [
    "15.Discuss the concept of method overloading in Python inheritance. How does it differ from method overriding?"
   ]
  },
  {
   "cell_type": "code",
   "execution_count": 18,
   "id": "e2fa9abb-8804-4d28-9217-02a63d1fa351",
   "metadata": {},
   "outputs": [
    {
     "name": "stdout",
     "output_type": "stream",
     "text": [
      "Method overloading means inheritance is the ability to define multiple methods with the same name but different parameters\n",
      "method overloading can be used to define methods with different parameters, while method overriding can only be used to redefine methods with the same parameters.\n"
     ]
    }
   ],
   "source": [
    "print(\"Method overloading means inheritance is the ability to define multiple methods with the same name but different parameters\")\n",
    "print(\"method overloading can be used to define methods with different parameters, while method overriding can only be used to redefine methods with the same parameters.\")"
   ]
  },
  {
   "cell_type": "markdown",
   "id": "395737d4-b49e-4f3d-8d7b-63527a32d533",
   "metadata": {},
   "source": [
    "16.Explain the purpose of the `__init__()` method in Python inheritance and how it is utilized in child classes."
   ]
  },
  {
   "cell_type": "code",
   "execution_count": 17,
   "id": "d003bca9-8a1a-490e-9ba0-a069c1ab73b8",
   "metadata": {},
   "outputs": [
    {
     "name": "stdout",
     "output_type": "stream",
     "text": [
      "the __init__() method of the parent class can be utilized in child classes to initialize the attributes of the child class. This is done by using the super() function to call the __init__() method of the parent class.\n"
     ]
    }
   ],
   "source": [
    "print(\"the __init__() method of the parent class can be utilized in child classes to initialize the attributes of the child class. This is done by using the super() function to call the __init__() method of the parent class.\")"
   ]
  },
  {
   "cell_type": "markdown",
   "id": "960eb835-b50d-4b93-8281-04b10d0f27bc",
   "metadata": {},
   "source": [
    "17.Create a Python class called `Bird` with a method `fly()`. Then, create child classes `Eagle` and `Sparrow` that inherit from `Bird` and implement the `fly()` method differently. Provide an example of using these classes."
   ]
  },
  {
   "cell_type": "code",
   "execution_count": 19,
   "id": "267e17be-f014-4570-b697-4d8cab7ba6b1",
   "metadata": {},
   "outputs": [
    {
     "name": "stdout",
     "output_type": "stream",
     "text": [
      "The flying height of Eagle is 20000feet.\n",
      "The flying height of Sparrow is 150feet.\n"
     ]
    }
   ],
   "source": [
    "class Bird:\n",
    "    def fly(self):\n",
    "        pass\n",
    "class Eagle(Bird):\n",
    "    def fly(self,height):\n",
    "        return f\"The flying height of Eagle is {height}.\"\n",
    "\n",
    "class Sparrow(Bird):\n",
    "    def fly(self,height):\n",
    "        return f\"The flying height of Sparrow is {height}.\"\n",
    "    \n",
    "e=Eagle()\n",
    "s=Sparrow()\n",
    "print(e.fly('20000feet'))\n",
    "print(s.fly('150feet'))"
   ]
  },
  {
   "cell_type": "markdown",
   "id": "2fb88bfa-4d14-4fa2-ba2c-1d1c9d3c6622",
   "metadata": {},
   "source": [
    "18.What is the \"diamond problem\" in multiple inheritance, and how does Python address it?"
   ]
  },
  {
   "cell_type": "code",
   "execution_count": 20,
   "id": "7b6f8c64-6971-4304-aafb-959b41ade98e",
   "metadata": {},
   "outputs": [
    {
     "name": "stdout",
     "output_type": "stream",
     "text": [
      "The diamond problem is an ambiguity that arises when two classes have a common parent class, and another class has both those classes as base classes.\n",
      "By using super() we can address the diamond problem and also this function allows us to access methods and attributes from a parent class without explicitly specifying the class\n"
     ]
    }
   ],
   "source": [
    "print(\"The diamond problem is an ambiguity that arises when two classes have a common parent class, and another class has both those classes as base classes.\")\n",
    "print(\"By using super() we can address the diamond problem and also this function allows us to access methods and attributes from a parent class without explicitly specifying the class\")"
   ]
  },
  {
   "cell_type": "markdown",
   "id": "a8ac7b39-43b3-4000-bc03-7629613fc059",
   "metadata": {},
   "source": [
    "19.Discuss the concept of \"is-a\" and \"has-a\" relationships in inheritance, and provide examples of each."
   ]
  },
  {
   "cell_type": "code",
   "execution_count": 21,
   "id": "032c429f-ca73-4665-8233-bd798ed9b45e",
   "metadata": {},
   "outputs": [
    {
     "name": "stdout",
     "output_type": "stream",
     "text": [
      "An 'is-a' relationship refers to a relationship between a class and its subclass, where the subclass inherits all of the attributes and methods of the class.\n",
      "\n",
      "Example:-\n",
      "class Animal:\n",
      "    def __init__(self, name):\n",
      "        self.name = name\n",
      "    def speak(self):\n",
      "        pass\n",
      "class Dog(Animal):  \n",
      "    def speak(self):\n",
      "        return \"Woof!\"\n",
      "A 'has-a' relationship refers to a relationship between a class and another class, where the class contains an instance of the other class as an attribute.\n",
      "\n",
      "Example:-\n",
      "class Engine:\n",
      "    def start(self):\n",
      "        return \"Engine started\"\n",
      "class Car:\n",
      "    def __init__(self):\n",
      "        self.engine = Engine()  \n",
      "    def start_car(self):\n",
      "        return self.engine.start()\n",
      "my_car = Car()\n",
      "print(my_car.start_car())\n"
     ]
    }
   ],
   "source": [
    "print(\"An 'is-a' relationship refers to a relationship between a class and its subclass, where the subclass inherits all of the attributes and methods of the class.\")\n",
    "print('''\\nExample:-\n",
    "class Animal:\n",
    "    def __init__(self, name):\n",
    "        self.name = name\n",
    "    def speak(self):\n",
    "        pass\n",
    "class Dog(Animal):  \n",
    "    def speak(self):\n",
    "        return \"Woof!\"''')\n",
    "print(\"A 'has-a' relationship refers to a relationship between a class and another class, where the class contains an instance of the other class as an attribute.\")\n",
    "print('''\\nExample:-\n",
    "class Engine:\n",
    "    def start(self):\n",
    "        return \"Engine started\"\n",
    "class Car:\n",
    "    def __init__(self):\n",
    "        self.engine = Engine()  \n",
    "    def start_car(self):\n",
    "        return self.engine.start()\n",
    "my_car = Car()\n",
    "print(my_car.start_car())''')"
   ]
  },
  {
   "cell_type": "markdown",
   "id": "db45497a-b755-4022-aa4a-a3d2fe2dff2c",
   "metadata": {},
   "source": [
    "20.Create a Python class hierarchy for a university system. Start with a base class `Person` and create child classes `Student` and `Professor`, each with their own attributes and methods. Provide an example of using these classes in a university context."
   ]
  },
  {
   "cell_type": "code",
   "execution_count": 22,
   "id": "528aa662-7d07-4d11-b668-4d29c66e0d95",
   "metadata": {},
   "outputs": [
    {
     "name": "stdout",
     "output_type": "stream",
     "text": [
      "Student name is James.\n",
      "Student Roll.no is 987652023.\n",
      "Student studying at Oxford university.\n",
      "\n",
      "Professor name is Albert.\n",
      "Professor salary is $30000.\n",
      "Professor teaching at Oxford university.\n"
     ]
    }
   ],
   "source": [
    "class Person:\n",
    "    def __init__(self,university_name):\n",
    "        self.university_name=university_name\n",
    "        \n",
    "class Student(Person):\n",
    "    def __init__(self,university_name,s_name,roll_no):\n",
    "        super().__init__(university_name)\n",
    "        self.s_name=s_name\n",
    "        self.roll_no=roll_no\n",
    "    def student_details(self):\n",
    "        print(f\"Student name is {self.s_name}.\")\n",
    "        print(f\"Student Roll.no is {self.roll_no}.\")\n",
    "        print(f\"Student studying at {self.university_name} university.\")\n",
    "    \n",
    "class Professor(Person):\n",
    "    def __init__(self,university_name,p_name,salary):\n",
    "        super().__init__(university_name)\n",
    "        self.p_name=p_name\n",
    "        self.salary=salary\n",
    "    def professor_details(self):\n",
    "        print()\n",
    "        print(f\"Professor name is {self.p_name}.\")\n",
    "        print(f\"Professor salary is {self.salary}.\")\n",
    "        print(f\"Professor teaching at {self.university_name} university.\")\n",
    "        \n",
    "s=Student('Oxford','James',987652023)\n",
    "p=Professor('Oxford','Albert','$30000')\n",
    "s.student_details()\n",
    "p.professor_details()"
   ]
  },
  {
   "cell_type": "markdown",
   "id": "9e1fb845-b643-4c55-be73-c33f801b0a32",
   "metadata": {},
   "source": [
    "ENCAPSULATION"
   ]
  },
  {
   "cell_type": "markdown",
   "id": "0d7e9329-c066-4fcb-9190-c7274660a622",
   "metadata": {},
   "source": [
    "1.Explain the concept of encapsulation in Python. What is its role in object-oriented programming?"
   ]
  },
  {
   "cell_type": "code",
   "execution_count": 23,
   "id": "611378b4-554d-49cd-a235-413d4a8495b2",
   "metadata": {},
   "outputs": [
    {
     "name": "stdout",
     "output_type": "stream",
     "text": [
      "Encapsulation is used to restrict access to methods and variables. In encapsulation, code and data are wrapped together within a single unit.\n"
     ]
    }
   ],
   "source": [
    "print(\"Encapsulation is used to restrict access to methods and variables. In encapsulation, code and data are wrapped together within a single unit.\")"
   ]
  },
  {
   "cell_type": "markdown",
   "id": "2c7cb9cb-6fe8-496e-968f-161323d32c01",
   "metadata": {},
   "source": [
    "2.Describe the key principles of encapsulation, including access control and data hiding."
   ]
  },
  {
   "cell_type": "code",
   "execution_count": 24,
   "id": "4b62d5cd-189e-4e78-a0cd-eb49a17741ee",
   "metadata": {},
   "outputs": [
    {
     "name": "stdout",
     "output_type": "stream",
     "text": [
      "Data encapsulation targets how the data is accessed and how different objects behave.\n",
      "Data hiding focuses on object member accessibility within a class.\n",
      "Information hiding is the main usage of encapsulation in oops.\n"
     ]
    }
   ],
   "source": [
    "print(\"Data encapsulation targets how the data is accessed and how different objects behave.\\nData hiding focuses on object member accessibility within a class.\\nInformation hiding is the main usage of encapsulation in oops.\")"
   ]
  },
  {
   "cell_type": "markdown",
   "id": "ba1c303c-927b-4a46-ab85-b637b948598e",
   "metadata": {},
   "source": [
    "3.How can you achieve encapsulation in Python classes? Provide an example."
   ]
  },
  {
   "cell_type": "code",
   "execution_count": 25,
   "id": "9688069e-b78b-439b-849a-8724c4aed976",
   "metadata": {},
   "outputs": [
    {
     "name": "stdout",
     "output_type": "stream",
     "text": [
      "Encapsulation can be achieved by declaring a class's data members and methods as either private or protected.\n",
      "\n",
      "Example:-\n",
      "class Employee:\n",
      "    def __init__(self, name, salary):\n",
      "        self._name = name\n",
      "        self._salary = salary\n",
      "class Manager(Employee):\n",
      "    def __init__(self, name, salary, bonus):\n",
      "        super().__init__(name, salary)\n",
      "        self._bonus = bonus\n",
      "    def get_bonus(self):\n",
      "        return self._bonus\n",
      "    def set_bonus(self, bonus):\n",
      "        self._bonus = bonus\n"
     ]
    }
   ],
   "source": [
    "print(\"Encapsulation can be achieved by declaring a class's data members and methods as either private or protected.\")\n",
    "print('''\\nExample:-\n",
    "class Employee:\n",
    "    def __init__(self, name, salary):\n",
    "        self._name = name\n",
    "        self._salary = salary\n",
    "class Manager(Employee):\n",
    "    def __init__(self, name, salary, bonus):\n",
    "        super().__init__(name, salary)\n",
    "        self._bonus = bonus\n",
    "    def get_bonus(self):\n",
    "        return self._bonus\n",
    "    def set_bonus(self, bonus):\n",
    "        self._bonus = bonus''')"
   ]
  },
  {
   "cell_type": "markdown",
   "id": "21741899-41ba-4d48-bbda-bff52e413d4f",
   "metadata": {},
   "source": [
    "4.Discuss the difference between public, private, and protected access modifiers in Python."
   ]
  },
  {
   "cell_type": "code",
   "execution_count": 26,
   "id": "69c0ad59-0302-4590-ac9f-213deda765ef",
   "metadata": {},
   "outputs": [
    {
     "name": "stdout",
     "output_type": "stream",
     "text": [
      "Public members are accessible from anywhere, including outside the class. This means that they can be accessed by other classes also.\n",
      "Private members are only accessible from within the class in which they are defined. This means that they cannot be accessed by other classes.\n",
      "Protected members are accessible from within the class in which they are defined, and from any subclass of that class. This means that they cannot be accessed by other classes.\n"
     ]
    }
   ],
   "source": [
    "print(\"Public members are accessible from anywhere, including outside the class. This means that they can be accessed by other classes also.\")\n",
    "print(\"Private members are only accessible from within the class in which they are defined. This means that they cannot be accessed by other classes.\")\n",
    "print(\"Protected members are accessible from within the class in which they are defined, and from any subclass of that class. This means that they cannot be accessed by other classes.\")"
   ]
  },
  {
   "cell_type": "markdown",
   "id": "aeae9034-bfa9-4928-9669-ee7a99a7caf1",
   "metadata": {},
   "source": [
    "5.Create a Python class called `Person` with a private attribute `__name`. Provide methods to get and set the name attribute."
   ]
  },
  {
   "cell_type": "code",
   "execution_count": 27,
   "id": "976dec0d-207f-49e5-a8a9-ef13df42a704",
   "metadata": {},
   "outputs": [
    {
     "data": {
      "text/plain": [
       "'Pallavi'"
      ]
     },
     "execution_count": 27,
     "metadata": {},
     "output_type": "execute_result"
    }
   ],
   "source": [
    "class Person:\n",
    "    def __init__(self,name):\n",
    "        self.__name=name\n",
    "    def set_name(self,name):\n",
    "        self.__name=name\n",
    "    def get_name(self):\n",
    "        return self.__name\n",
    "    \n",
    "p=Person('Pallavi')\n",
    "p.get_name()"
   ]
  },
  {
   "cell_type": "markdown",
   "id": "1c1d81eb-c7ca-46c3-963d-837b6e7bb258",
   "metadata": {},
   "source": [
    "6.Explain the purpose of getter and setter methods in encapsulation. Provide examples."
   ]
  },
  {
   "cell_type": "code",
   "execution_count": 28,
   "id": "d20b71f4-04be-492c-9731-82d627ae35c3",
   "metadata": {},
   "outputs": [
    {
     "name": "stdout",
     "output_type": "stream",
     "text": [
      "A getter method, also known as an accessor method, is used to retrieve the value of a private or protected instance variable or attribute of an object.\n",
      "\n",
      "Example:-\n",
      "class Person:\n",
      "    def __init__(self, name):\n",
      "        self.__name = name\n",
      "    def get_name(self):\n",
      "        return self.__name\n",
      "person = Person(\"Alice\")\n",
      "print(person.get_name())\n",
      "A setter method is used to modify the value of a private or protected instance variable or attribute of an object.\n",
      "\n",
      "Example:-\n",
      "class BankAccount:\n",
      "    def __init__(self, account_number, balance):\n",
      "        self.__account_number = account_number\n",
      "        self.__balance = balance\n",
      "    def set_balance(self, new_balance):\n",
      "        if new_balance >= 0:\n",
      "            self.__balance = new_balance\n",
      "        else:\n",
      "            print(\"Balance cannot be negative.\")\n",
      "account = BankAccount(\"12345\", 1000)\n",
      "account.set_balance(1500) \n"
     ]
    }
   ],
   "source": [
    "print(\"A getter method, also known as an accessor method, is used to retrieve the value of a private or protected instance variable or attribute of an object.\")\n",
    "print('''\\nExample:-\n",
    "class Person:\n",
    "    def __init__(self, name):\n",
    "        self.__name = name\n",
    "    def get_name(self):\n",
    "        return self.__name\n",
    "person = Person(\"Alice\")\n",
    "print(person.get_name())''')\n",
    "print(\"A setter method is used to modify the value of a private or protected instance variable or attribute of an object.\")\n",
    "print('''\\nExample:-\n",
    "class BankAccount:\n",
    "    def __init__(self, account_number, balance):\n",
    "        self.__account_number = account_number\n",
    "        self.__balance = balance\n",
    "    def set_balance(self, new_balance):\n",
    "        if new_balance >= 0:\n",
    "            self.__balance = new_balance\n",
    "        else:\n",
    "            print(\"Balance cannot be negative.\")\n",
    "account = BankAccount(\"12345\", 1000)\n",
    "account.set_balance(1500) ''')"
   ]
  },
  {
   "cell_type": "markdown",
   "id": "060a91e7-e280-4981-9c95-199b748b39c5",
   "metadata": {},
   "source": [
    "7.What is name mangling in Python, and how does it affect encapsulation?"
   ]
  },
  {
   "cell_type": "code",
   "execution_count": 54,
   "id": "abdd5c7b-e220-4a29-8e96-0507757b1db0",
   "metadata": {},
   "outputs": [
    {
     "name": "stdout",
     "output_type": "stream",
     "text": [
      "The name mangling is a feature of the language that helps to enforce encapsulation by making it difficult for other classes or modules to accidentally modify the instance variables of a class. Name mangling is the process of modifying the name of instance variables in a class to make them unique and only accessible from within the class itself.\n"
     ]
    }
   ],
   "source": [
    "print(\"The name mangling is a feature of the language that helps to enforce encapsulation by making it difficult for other classes or modules to accidentally modify the instance variables of a class. Name mangling is the process of modifying the name of instance variables in a class to make them unique and only accessible from within the class itself.\")"
   ]
  },
  {
   "cell_type": "markdown",
   "id": "b3c1bac9-e9d8-44ab-8988-cf674342c01d",
   "metadata": {},
   "source": [
    "8.Create a Python class called `BankAccount` with private attributes for the account balance (`__balance`) and account number (`__account_number`). Provide methods for depositing and withdrawing money."
   ]
  },
  {
   "cell_type": "code",
   "execution_count": 29,
   "id": "0343d269-bbf2-4a16-a3dd-6b94f3b221f5",
   "metadata": {},
   "outputs": [],
   "source": [
    "class BankAccount():\n",
    "    def __init__(self,account_number,balance):\n",
    "        self.__account_number=account_number\n",
    "        self.__balance=balance\n",
    "    def deposit(self,account_num,amount):\n",
    "        if self.__account_number == account_num:\n",
    "            self.__balance=self.__balance+amount\n",
    "            return f\"Your cash is successfully added to your bank account. Thank you for visiting!\"\n",
    "        else:\n",
    "            return f\"Sorry, You entered account number is incorrect. Please try again later\"\n",
    "    def withdraw(self,acc_number,amount):\n",
    "        if self.__account_number == acc_number:\n",
    "            if self.__balance > amount:\n",
    "                return f\"Your transaction is successful please collect your cash.\"\n",
    "            else:\n",
    "                return f\"Sorry, You don't have enough balance to withdraw.\"\n",
    "        else:\n",
    "            return f\"Sorry, You entered account number is incorrect. Please try again later\"\n",
    "        \n",
    "b=BankAccount(998877665544,20000)"
   ]
  },
  {
   "cell_type": "code",
   "execution_count": 30,
   "id": "45ec8036-f852-4d31-955a-b3f5299a88c2",
   "metadata": {},
   "outputs": [
    {
     "data": {
      "text/plain": [
       "'Sorry, You entered account number is incorrect. Please try again later'"
      ]
     },
     "execution_count": 30,
     "metadata": {},
     "output_type": "execute_result"
    }
   ],
   "source": [
    "b.deposit(998877665533,10000)"
   ]
  },
  {
   "cell_type": "code",
   "execution_count": 31,
   "id": "edb399f6-7038-4118-be96-7624d7bffcf7",
   "metadata": {},
   "outputs": [
    {
     "data": {
      "text/plain": [
       "'Your cash is successfully added to your bank account. Thank you for visiting!'"
      ]
     },
     "execution_count": 31,
     "metadata": {},
     "output_type": "execute_result"
    }
   ],
   "source": [
    "b.deposit(998877665544,10000)"
   ]
  },
  {
   "cell_type": "code",
   "execution_count": 32,
   "id": "863403ba-9688-47a3-8d56-ad2e5694b61f",
   "metadata": {},
   "outputs": [
    {
     "data": {
      "text/plain": [
       "\"Sorry, You don't have enough balance to withdraw.\""
      ]
     },
     "execution_count": 32,
     "metadata": {},
     "output_type": "execute_result"
    }
   ],
   "source": [
    "b.withdraw(998877665544,40000)"
   ]
  },
  {
   "cell_type": "code",
   "execution_count": 33,
   "id": "0fd66f88-5262-48e9-9a62-93260efe2c57",
   "metadata": {},
   "outputs": [
    {
     "data": {
      "text/plain": [
       "'Your transaction is successful please collect your cash.'"
      ]
     },
     "execution_count": 33,
     "metadata": {},
     "output_type": "execute_result"
    }
   ],
   "source": [
    "b.withdraw(998877665544,20000)"
   ]
  },
  {
   "cell_type": "markdown",
   "id": "002c80a8-7b85-4287-80e4-6c45ef1a76bf",
   "metadata": {},
   "source": [
    "9.Discuss the advantages of encapsulation in terms of code maintainability and security."
   ]
  },
  {
   "cell_type": "code",
   "execution_count": 34,
   "id": "7cde8156-8763-4c73-b4e5-f9b1dc0daee5",
   "metadata": {},
   "outputs": [
    {
     "name": "stdout",
     "output_type": "stream",
     "text": [
      "Encapsulation helps to improve code maintainability by bundling data and methods within a single unit, called a class. This makes it easier to understand, maintain, and extend the code, as changes to the implementation can be made without affecting other parts of the system.\n"
     ]
    }
   ],
   "source": [
    "print(\"Encapsulation helps to improve code maintainability by bundling data and methods within a single unit, called a class. This makes it easier to understand, maintain, and extend the code, as changes to the implementation can be made without affecting other parts of the system.\")"
   ]
  },
  {
   "cell_type": "markdown",
   "id": "f6283222-22bd-467e-87e7-eb4be6eb9cdc",
   "metadata": {},
   "source": [
    "10.How can you access private attributes in Python? Provide an example demonstrating the use of name mangling."
   ]
  },
  {
   "cell_type": "code",
   "execution_count": 35,
   "id": "7ee41287-264b-4124-8250-863446ec9283",
   "metadata": {},
   "outputs": [
    {
     "name": "stdout",
     "output_type": "stream",
     "text": [
      "It is getting values by prefixing the attribute name with a double underscore (__) and by adding (_classname) we can achieve mangling.\n",
      "\n",
      "Example:-\n",
      "class MyClass:\n",
      "    def __init__(self):\n",
      "        self.__private_var = 42\n",
      "\n",
      "    def access_private(self):\n",
      "        return self.__private_var\n",
      "obj = MyClass()\n",
      "print(obj._MyClass__private_var) \n"
     ]
    }
   ],
   "source": [
    "print(\"It is getting values by prefixing the attribute name with a double underscore (__) and by adding (_classname) we can achieve mangling.\")\n",
    "print('''\\nExample:-\n",
    "class MyClass:\n",
    "    def __init__(self):\n",
    "        self.__private_var = 42\n",
    "\n",
    "    def access_private(self):\n",
    "        return self.__private_var\n",
    "obj = MyClass()\n",
    "print(obj._MyClass__private_var) ''')"
   ]
  },
  {
   "cell_type": "markdown",
   "id": "7262882c-7ca7-41be-82ce-90de5ae644be",
   "metadata": {},
   "source": [
    "11.Create a Python class hierarchy for a school system, including classes for students, teachers, and courses, and implement encapsulation principles to protect sensitive information."
   ]
  },
  {
   "cell_type": "code",
   "execution_count": 36,
   "id": "c9bd7991-d84a-4842-9776-51a8de1d08a8",
   "metadata": {},
   "outputs": [
    {
     "name": "stdout",
     "output_type": "stream",
     "text": [
      "Total number of students are 800.\n",
      "Total number of classes in Champion are 16\n",
      "All students from Champion school.\n",
      "\n",
      "Total number of teachers are 20.\n",
      "The average salary for teachers in Champion is 30000\n",
      "All teachers teaching in Champion school.\n",
      "\n",
      "Total number of courses is 10.\n",
      "The premium course in Champion is Coding-A\n",
      "All courses available in Champion school.\n"
     ]
    }
   ],
   "source": [
    "class School:\n",
    "    def __init__(self,school_name):\n",
    "        self.school_name=school_name\n",
    "        \n",
    "class Students(School):\n",
    "    def __init__(self,school_name,total_students,total_classes):\n",
    "        super().__init__(school_name)\n",
    "        self._total_students=total_students\n",
    "        self.total_classes=total_classes\n",
    "    def student_details(self):\n",
    "        print(f\"Total number of students are {self._total_students}.\")\n",
    "        print(f\"Total number of classes in {self.school_name} are {self.total_classes}\")\n",
    "        print(f\"All students from {self.school_name} school.\")\n",
    "        \n",
    "class Teachers(School):\n",
    "    def __init__(self,school_name,total_teachers,avg_salary):\n",
    "        super().__init__(school_name)\n",
    "        self.total_teachers=total_teachers\n",
    "        self._avg_salary=avg_salary\n",
    "    def teacher_details(self):\n",
    "        print()\n",
    "        print(f\"Total number of teachers are {self.total_teachers}.\")\n",
    "        print(f\"The average salary for teachers in {self.school_name} is {self._avg_salary}\")\n",
    "        print(f\"All teachers teaching in {self.school_name} school.\")\n",
    "\n",
    "class Courses(School):\n",
    "    def __init__(self,school_name,total_courses,premium_course):\n",
    "        super().__init__(school_name)\n",
    "        self.total_courses=total_courses\n",
    "        self._premium_course=premium_course\n",
    "    def course_details(self):\n",
    "        print()\n",
    "        print(f\"Total number of courses is {self.total_courses}.\")\n",
    "        print(f\"The premium course in {self.school_name} is {self._premium_course}\")\n",
    "        print(f\"All courses available in {self.school_name} school.\")\n",
    "        \n",
    "s=School('Champion')\n",
    "s1=Students('Champion',800,16)\n",
    "t=Teachers('Champion',20,30000)\n",
    "c=Courses('Champion',10,'Coding-A')\n",
    "s1.student_details()\n",
    "t.teacher_details()\n",
    "c.course_details()"
   ]
  },
  {
   "cell_type": "markdown",
   "id": "8bd3a2ef-6b68-47c5-9a94-9231e1281f47",
   "metadata": {},
   "source": [
    "12.Explain the concept of property decorators in Python and how they relate to encapsulation."
   ]
  },
  {
   "cell_type": "code",
   "execution_count": 37,
   "id": "50c013a1-54dc-413e-8298-81dee764e3e2",
   "metadata": {},
   "outputs": [
    {
     "name": "stdout",
     "output_type": "stream",
     "text": [
      "Property decorators are a way to define getters and setters for properties. A property is a special type of attribute that can be used to control access to data. Property decorators allow you to define how data is accessed and modified, and they can be used to implement encapsulation.\n"
     ]
    }
   ],
   "source": [
    "print(\"Property decorators are a way to define getters and setters for properties. A property is a special type of attribute that can be used to control access to data. Property decorators allow you to define how data is accessed and modified, and they can be used to implement encapsulation.\")"
   ]
  },
  {
   "cell_type": "markdown",
   "id": "a5f4649a-175d-4d3d-b705-ad690340ad54",
   "metadata": {},
   "source": [
    "13.What is data hiding, and why is it important in encapsulation? Provide examples."
   ]
  },
  {
   "cell_type": "code",
   "execution_count": 38,
   "id": "3f0ec380-2844-4dff-8405-f9a18c4e89d0",
   "metadata": {},
   "outputs": [
    {
     "name": "stdout",
     "output_type": "stream",
     "text": [
      "Data hiding is important in encapsulation because it helps to protect the integrity of the object. By keeping the implementation details private, other objects cannot accidentally modify the data in a way that could break the object.\n",
      "\n",
      "Example:-\n",
      "class MyClass:\n",
      "    def __init__(self):\n",
      "        self._private_variable = 10\n",
      "    def get_private_variable(self):\n",
      "        return self._private_variable\n",
      "    def set_private_variable(self, value):\n",
      "        self._private_variable = value\n"
     ]
    }
   ],
   "source": [
    "print(\"Data hiding is important in encapsulation because it helps to protect the integrity of the object. By keeping the implementation details private, other objects cannot accidentally modify the data in a way that could break the object.\")\n",
    "print('''\\nExample:-\n",
    "class MyClass:\n",
    "    def __init__(self):\n",
    "        self._private_variable = 10\n",
    "    def get_private_variable(self):\n",
    "        return self._private_variable\n",
    "    def set_private_variable(self, value):\n",
    "        self._private_variable = value''')"
   ]
  },
  {
   "cell_type": "markdown",
   "id": "01b83d65-9849-480d-a402-93c9ca96d2d5",
   "metadata": {},
   "source": [
    "14.Create a Python class called `Employee` with private attributes for salary (`__salary`) and employee ID (`__employee_id`). Provide a method to calculate yearly bonuses."
   ]
  },
  {
   "cell_type": "code",
   "execution_count": 39,
   "id": "e3aa7f0d-9002-419e-a485-96ae237bef62",
   "metadata": {},
   "outputs": [
    {
     "data": {
      "text/plain": [
       "'The employee yearly bonus is 6000.0.'"
      ]
     },
     "execution_count": 39,
     "metadata": {},
     "output_type": "execute_result"
    }
   ],
   "source": [
    "class Employee:\n",
    "    def __init__(self,employee_id,salary):\n",
    "        self.__employee_id=employee_id\n",
    "        self.__salary=salary\n",
    "    def bonus(self):\n",
    "        if 0<self.__salary<20000:\n",
    "            b=(self.__salary*5)/100\n",
    "            return f\"The employee yearly bonus is {b}.\"\n",
    "        elif 20000<self.__salary<100000:\n",
    "            b=(self.__salary*10)/100\n",
    "            return f\"The employee yearly bonus is {b}.\"\n",
    "        elif 100000<self.__salary<200000:\n",
    "            b=(self.__salary*15)/100\n",
    "            return f\"The employee yearly bonus is {b}.\"\n",
    "        else:\n",
    "            b=(self.__salary*20)/100\n",
    "            return f\"The employee yearly bonus is {b}.\"\n",
    "\n",
    "e=Employee('GNAN9876',60000)\n",
    "e.bonus()"
   ]
  },
  {
   "cell_type": "markdown",
   "id": "3ecc2841-5b35-428a-9560-0fb5edd61ac7",
   "metadata": {},
   "source": [
    "15.Discuss the use of accessors and mutators in encapsulation. How do they help maintain control over attribute access?"
   ]
  },
  {
   "cell_type": "code",
   "execution_count": 40,
   "id": "2620cf18-cc0f-4980-ad88-73de44f07023",
   "metadata": {},
   "outputs": [
    {
     "name": "stdout",
     "output_type": "stream",
     "text": [
      "Accessors and mutators are methods used to access and modify the state of an object. Accessors are methods that get the value of an attribute, while mutators are methods that set the value of an attribute.\n"
     ]
    }
   ],
   "source": [
    "print(\"Accessors and mutators are methods used to access and modify the state of an object. Accessors are methods that get the value of an attribute, while mutators are methods that set the value of an attribute.\")"
   ]
  },
  {
   "cell_type": "markdown",
   "id": "ab939dce-eb8b-41b7-ba63-4801eaa3b4ef",
   "metadata": {},
   "source": [
    "16.What are the potential drawbacks or disadvantages of using encapsulation in Python?"
   ]
  },
  {
   "cell_type": "code",
   "execution_count": 56,
   "id": "8e80684d-4acb-4fa9-87c9-90a48046389c",
   "metadata": {},
   "outputs": [
    {
     "name": "stdout",
     "output_type": "stream",
     "text": [
      "The potential drawbacks or disadvantages to using encapsulation in Python. These include increased complexity, reduced flexibility, performance overhead, overuse of encapsulation, and fragility.\n"
     ]
    }
   ],
   "source": [
    "print(\"The potential drawbacks or disadvantages to using encapsulation in Python. These include increased complexity, reduced flexibility, performance overhead, overuse of encapsulation, and fragility.\")"
   ]
  },
  {
   "cell_type": "markdown",
   "id": "7ad608b3-7329-4d8e-bc20-907a992bb45b",
   "metadata": {},
   "source": [
    "17.Create a Python class for a library system that encapsulates book information, including titles, authors, and availability status."
   ]
  },
  {
   "cell_type": "code",
   "execution_count": 41,
   "id": "d5676c0d-c87c-4908-9157-e431b6fae0e7",
   "metadata": {},
   "outputs": [],
   "source": [
    "class Library:\n",
    "    def __init__(self,titles,authors,availability_status):\n",
    "        self.titles=titles\n",
    "        self.__authors=authors\n",
    "        self.availability_status=availability_status\n",
    "    def available_books(self):\n",
    "        print(f\"The titles of the books is {self.titles}.\")\n",
    "        print(f\"The authors of the books is {self.__authors}.\")\n",
    "        print(f\"Availability status of books are {self.availability_status}\")\n",
    "    def borrow(self,title):\n",
    "        if title in self.titles:\n",
    "            self.titles.remove(title)\n",
    "            return f\"Your book is available. Please take from register desk.\"\n",
    "        else:\n",
    "            return f\"Sorry, The book is not available. Available books are {self.titles}.\"\n",
    "    def return_book(self,title):\n",
    "        self.titles.append(title)\n",
    "        return f\"Thank you borrowing the book. Visit again.\"\n",
    "    \n",
    "l=Library(['Harry Potter','A passage of India','Time Machine'],['Rook','Forster','H.G.Wells'],'Available')"
   ]
  },
  {
   "cell_type": "code",
   "execution_count": 42,
   "id": "8bd30a32-d9a9-4c65-9279-0ec3a028077d",
   "metadata": {},
   "outputs": [
    {
     "name": "stdout",
     "output_type": "stream",
     "text": [
      "The titles of the books is ['Harry Potter', 'A passage of India', 'Time Machine'].\n",
      "The authors of the books is ['Rook', 'Forster', 'H.G.Wells'].\n",
      "Availability status of books are Available\n"
     ]
    }
   ],
   "source": [
    "l.available_books()"
   ]
  },
  {
   "cell_type": "code",
   "execution_count": 43,
   "id": "059fe241-d1f5-4a8d-8e49-e0e281f8238d",
   "metadata": {},
   "outputs": [
    {
     "data": {
      "text/plain": [
       "'Your book is available. Please take from register desk.'"
      ]
     },
     "execution_count": 43,
     "metadata": {},
     "output_type": "execute_result"
    }
   ],
   "source": [
    "l.borrow('Time Machine')"
   ]
  },
  {
   "cell_type": "code",
   "execution_count": 44,
   "id": "29bbd503-65d2-49b0-ba03-7001a13fca33",
   "metadata": {},
   "outputs": [
    {
     "data": {
      "text/plain": [
       "\"Sorry, The book is not available. Available books are ['Harry Potter', 'A passage of India'].\""
      ]
     },
     "execution_count": 44,
     "metadata": {},
     "output_type": "execute_result"
    }
   ],
   "source": [
    "l.borrow('Time Machine')"
   ]
  },
  {
   "cell_type": "code",
   "execution_count": 45,
   "id": "b006ba77-343d-48d7-907d-23b817ef37b9",
   "metadata": {},
   "outputs": [
    {
     "data": {
      "text/plain": [
       "'Thank you borrowing the book. Visit again.'"
      ]
     },
     "execution_count": 45,
     "metadata": {},
     "output_type": "execute_result"
    }
   ],
   "source": [
    "l.return_book('Time Machine')"
   ]
  },
  {
   "cell_type": "markdown",
   "id": "3f9bbe57-45ae-4412-b86a-ca71244dd191",
   "metadata": {},
   "source": [
    "18.Explain how encapsulation enhances code reusability and modularity in Python programs."
   ]
  },
  {
   "cell_type": "code",
   "execution_count": 46,
   "id": "ecf196ef-59a8-46b7-a112-f1d50e49f5ab",
   "metadata": {},
   "outputs": [
    {
     "name": "stdout",
     "output_type": "stream",
     "text": [
      "Encapsulation promotes code reusability and modularity in Python programs by allowing developers to group related code and data together, and then reuse this code in other programs or modules.\n"
     ]
    }
   ],
   "source": [
    "print(\"Encapsulation promotes code reusability and modularity in Python programs by allowing developers to group related code and data together, and then reuse this code in other programs or modules.\")"
   ]
  },
  {
   "cell_type": "markdown",
   "id": "fe860d02-2be1-4311-be29-55d91e75aabd",
   "metadata": {},
   "source": [
    "19.Describe the concept of information hiding in encapsulation. Why is it essential in software development?"
   ]
  },
  {
   "cell_type": "code",
   "execution_count": 47,
   "id": "10414509-26ea-41e4-b5f5-88dd29f42bfd",
   "metadata": {},
   "outputs": [
    {
     "name": "stdout",
     "output_type": "stream",
     "text": [
      "Data hiding helps to protect the integrity of the object or class.\n",
      "Information hiding can help to improve the modularity of software. By encapsulating data and methods within a single unit.\n",
      "Information hiding can help to improve the security of software.\n"
     ]
    }
   ],
   "source": [
    "print(\"Data hiding helps to protect the integrity of the object or class.\")\n",
    "print(\"Information hiding can help to improve the modularity of software. By encapsulating data and methods within a single unit.\")\n",
    "print(\"Information hiding can help to improve the security of software.\")"
   ]
  },
  {
   "cell_type": "markdown",
   "id": "39d66210-54b4-403e-93e7-3f0e6a49b38f",
   "metadata": {},
   "source": [
    "20.Create a Python class called `Customer` with private attributes for customer details like name, address, and contact information. Implement encapsulation to ensure data integrity and security."
   ]
  },
  {
   "cell_type": "code",
   "execution_count": 51,
   "id": "35c7b789-c78b-445d-b87c-a019885dafe2",
   "metadata": {},
   "outputs": [],
   "source": [
    "class Customer:\n",
    "    def __init__(self,name,address,contact):\n",
    "        self.__name=name\n",
    "        self.__address=address\n",
    "        self.__contact=contact\n",
    "    def customer_details(self):\n",
    "        print(f\"Customer name is {self.__name}.\")\n",
    "        print(f\"Customer address is {self.__address}.\")\n",
    "        print(f\"Customer contact is {self.__contact}.\")\n",
    "    @property\n",
    "    def name(self):\n",
    "        return self.__name\n",
    "    @name.setter\n",
    "    def name(self,name):\n",
    "        self.__name=name\n",
    "    @property\n",
    "    def address(self):\n",
    "        return self.__address\n",
    "    @address.setter\n",
    "    def address(self,address):\n",
    "        self.__address=address\n",
    "    @property\n",
    "    def contact(self):\n",
    "        return self.__contact\n",
    "    @contact.setter\n",
    "    def contact(self,contact):\n",
    "        self.__contact=contact\n",
    "        \n",
    "c=Customer('pallavi','Ram Nagar',7981352626)"
   ]
  },
  {
   "cell_type": "code",
   "execution_count": 52,
   "id": "3df68268-a1d5-40ec-ae1b-921db0d4d8ef",
   "metadata": {},
   "outputs": [
    {
     "name": "stdout",
     "output_type": "stream",
     "text": [
      "Customer name is pallavi.\n",
      "Customer address is Ram Nagar.\n",
      "Customer contact is 7981352626.\n"
     ]
    }
   ],
   "source": [
    "c.customer_details()"
   ]
  },
  {
   "cell_type": "code",
   "execution_count": 53,
   "id": "a9d91659-7270-4632-aa7a-331c4fe53f94",
   "metadata": {},
   "outputs": [
    {
     "name": "stdout",
     "output_type": "stream",
     "text": [
      "Customer name is Gopal.\n",
      "Customer address is Ram Nagar.\n",
      "Customer contact is 7981352626.\n"
     ]
    }
   ],
   "source": [
    "c.name='Gopal'\n",
    "c.customer_details()"
   ]
  },
  {
   "cell_type": "markdown",
   "id": "31805cfd-3639-4044-8e9a-576de1aed752",
   "metadata": {},
   "source": [
    "POLYMORPHISM"
   ]
  },
  {
   "cell_type": "markdown",
   "id": "782c38d1-5cb5-4e50-9213-181384feb836",
   "metadata": {},
   "source": [
    "1.What is polymorphism in Python? Explain how it is related to object-oriented programming."
   ]
  },
  {
   "cell_type": "code",
   "execution_count": 1,
   "id": "caa07564-3097-45c4-9d48-5e8cacd4e6fb",
   "metadata": {},
   "outputs": [
    {
     "name": "stdout",
     "output_type": "stream",
     "text": [
      "Polymorphism is the ability of an object to take many forms. Polymorphism allows us to perform the same action in many different ways.\n"
     ]
    }
   ],
   "source": [
    "print(\"Polymorphism is the ability of an object to take many forms. Polymorphism allows us to perform the same action in many different ways.\")"
   ]
  },
  {
   "cell_type": "markdown",
   "id": "9cdb9ff3-6063-4213-9efc-e4b5c9a55228",
   "metadata": {},
   "source": [
    "2.Describe the difference between compile-time polymorphism and runtime polymorphism in Python."
   ]
  },
  {
   "cell_type": "code",
   "execution_count": 2,
   "id": "6e4f401a-67dc-4229-8308-8906d604da03",
   "metadata": {},
   "outputs": [
    {
     "name": "stdout",
     "output_type": "stream",
     "text": [
      "The compile-time polymorphism is determined by the compiler, while runtime polymorphism is determined by the interpreter.\n"
     ]
    }
   ],
   "source": [
    "print(\"The compile-time polymorphism is determined by the compiler, while runtime polymorphism is determined by the interpreter.\")"
   ]
  },
  {
   "cell_type": "markdown",
   "id": "916cb181-10a5-484c-8237-51de187a671a",
   "metadata": {},
   "source": [
    "3.Create a Python class hierarchy for shapes (e.g., circle, square, triangle) and demonstrate polymorphism through a common method, such as `calculate_area()`."
   ]
  },
  {
   "cell_type": "code",
   "execution_count": 3,
   "id": "8aa3a230-ad64-4c22-9092-cab15d9070b3",
   "metadata": {},
   "outputs": [],
   "source": [
    "class Shapes:\n",
    "    def __init__(self):\n",
    "        pass\n",
    "    def area(self):\n",
    "        pass\n",
    "\n",
    "class Circle(Shapes):\n",
    "    def __init__(self,radius):\n",
    "        self.radius=radius\n",
    "    def area(self):\n",
    "        a=3.14*self.radius**2\n",
    "        return f\"Area of circle is {a}.\"\n",
    "\n",
    "class Square(Shapes):\n",
    "    def __init__(self,length):\n",
    "        self.length=length\n",
    "    def area(self):\n",
    "        a=self.length**2\n",
    "        return f\"Area of Square is {a}.\"\n",
    "\n",
    "class Triangle(Shapes):\n",
    "    def __init__(self,base,height):\n",
    "        self.base=base\n",
    "        self.height=height\n",
    "    def area(self):\n",
    "        a=0.5*self.base*self.height\n",
    "        return f\"Area of Triangle is {a}.\"\n",
    "    \n",
    "c=Circle(6)\n",
    "s=Square(5)\n",
    "t=Triangle(10,20)"
   ]
  },
  {
   "cell_type": "code",
   "execution_count": 4,
   "id": "70cac1a0-8492-48b0-94f8-de9fa2877885",
   "metadata": {},
   "outputs": [
    {
     "name": "stdout",
     "output_type": "stream",
     "text": [
      "Area of circle is 113.04.\n",
      "Area of Square is 25.\n",
      "Area of Triangle is 100.0.\n"
     ]
    }
   ],
   "source": [
    "print(c.area())\n",
    "print(s.area())\n",
    "print(t.area())"
   ]
  },
  {
   "cell_type": "markdown",
   "id": "7bf35ded-b1c8-4406-bdf6-ee495df18620",
   "metadata": {},
   "source": [
    "4.Explain the concept of method overriding in polymorphism. Provide an example."
   ]
  },
  {
   "cell_type": "code",
   "execution_count": 5,
   "id": "344b96dc-1d69-4c07-a6fc-367133a72521",
   "metadata": {},
   "outputs": [
    {
     "name": "stdout",
     "output_type": "stream",
     "text": [
      "Method overriding allows a subclass to change the implementation of a method that is defined in its superclass.\n",
      "\n",
      "Example:-\n",
      "class Animal:\n",
      "    def speak(self):\n",
      "        print(\"The animal makes a sound\")\n",
      "class Dog(Animal):\n",
      "    def speak(self):\n",
      "        print(\"The dog barks\")\n"
     ]
    }
   ],
   "source": [
    "print(\"Method overriding allows a subclass to change the implementation of a method that is defined in its superclass.\")\n",
    "print('''\\nExample:-\n",
    "class Animal:\n",
    "    def speak(self):\n",
    "        print(\"The animal makes a sound\")\n",
    "class Dog(Animal):\n",
    "    def speak(self):\n",
    "        print(\"The dog barks\")''')"
   ]
  },
  {
   "cell_type": "markdown",
   "id": "cbf5b419-ced9-4657-ba3c-f3e72498c72d",
   "metadata": {},
   "source": [
    "5.How is polymorphism different from method overloading in Python? Provide examples for both."
   ]
  },
  {
   "cell_type": "code",
   "execution_count": 7,
   "id": "76294c99-ee60-4430-941a-aa76faa8bcb1",
   "metadata": {},
   "outputs": [
    {
     "name": "stdout",
     "output_type": "stream",
     "text": [
      "Polymorphism is the ability to have a single interface that can be used with different data types or classes, or with a different number of inputs.\n",
      "Method overloading is a type of polymorphism that allows you to define multiple methods with the same name but with different arguments.\n",
      "\n",
      "Polymorphism Example:-\n",
      "class Animal:\n",
      "    def make_sound(self):\n",
      "        pass\n",
      "class Dog(Animal):\n",
      "    def make_sound(self):\n",
      "        print(\"Woof!\")\n",
      "d = Dog()\n",
      "d.make_sound()\n",
      "\n",
      "Method overloading Example:-\n",
      "class Animal:\n",
      "    def make_sound(self):\n",
      "        pass\n",
      "class Dog(Animal):\n",
      "    def make_sound(self, volume):\n",
      "        print(\"Woof!\" * volume)\n",
      "d = Dog()\n",
      "d.make_sound(5)\n"
     ]
    }
   ],
   "source": [
    "print(\"Polymorphism is the ability to have a single interface that can be used with different data types or classes, or with a different number of inputs.\\nMethod overloading is a type of polymorphism that allows you to define multiple methods with the same name but with different arguments.\")\n",
    "print('''\\nPolymorphism Example:-\n",
    "class Animal:\n",
    "    def make_sound(self):\n",
    "        pass\n",
    "class Dog(Animal):\n",
    "    def make_sound(self):\n",
    "        print(\"Woof!\")\n",
    "d = Dog()\n",
    "d.make_sound()''')\n",
    "print('''\\nMethod overloading Example:-\n",
    "class Animal:\n",
    "    def make_sound(self):\n",
    "        pass\n",
    "class Dog(Animal):\n",
    "    def make_sound(self, volume):\n",
    "        print(\"Woof!\" * volume)\n",
    "d = Dog()\n",
    "d.make_sound(5)''')"
   ]
  },
  {
   "cell_type": "markdown",
   "id": "060220a6-87f4-42f1-b735-7bd11db50d85",
   "metadata": {},
   "source": [
    "6.Create a Python class called `Animal` with a method `speak()`. Then, create child classes like `Dog`, `Cat`, and `Bird`, each with their own `speak()` method. Demonstrate polymorphism by calling the `speak()` method on objects of different subclasses."
   ]
  },
  {
   "cell_type": "code",
   "execution_count": 8,
   "id": "9c12988c-a5c1-4176-9f61-c8b17fe41706",
   "metadata": {},
   "outputs": [],
   "source": [
    "class Animal:\n",
    "    def speak(self):\n",
    "        pass\n",
    "    \n",
    "class Dog(Animal):\n",
    "    def __init__(self,sound):\n",
    "        self.sound=sound\n",
    "    def speak(self):\n",
    "        return f\"Dog make sound {self.sound}.\"\n",
    "    \n",
    "class Cat(Animal):\n",
    "    def __init__(self,sound):\n",
    "        self.sound=sound\n",
    "    def speak(self):\n",
    "        return f\"Cat make sound {self.sound}.\"\n",
    "    \n",
    "class Bird(Animal):\n",
    "    def __init__(self,sound):\n",
    "        self.sound=sound\n",
    "    def speak(self):\n",
    "        return f\"Bird make sound {self.sound}.\"\n",
    "    \n",
    "d=Dog('Bow Bow')\n",
    "c=Cat('Mew Mew')\n",
    "b=Bird('Koo Koo')"
   ]
  },
  {
   "cell_type": "code",
   "execution_count": 9,
   "id": "4f074682-8e60-4aec-be95-4e7d12feb78f",
   "metadata": {},
   "outputs": [
    {
     "name": "stdout",
     "output_type": "stream",
     "text": [
      "Dog make sound Bow Bow.\n",
      "Cat make sound Mew Mew.\n",
      "Bird make sound Koo Koo.\n"
     ]
    }
   ],
   "source": [
    "print(d.speak())\n",
    "print(c.speak())\n",
    "print(b.speak())"
   ]
  },
  {
   "cell_type": "markdown",
   "id": "3519bcb1-850c-44a8-8f7a-148443685d78",
   "metadata": {},
   "source": [
    "7.Discuss the use of abstract methods and classes in achieving polymorphism in Python. Provide an example using the `abc` module."
   ]
  },
  {
   "cell_type": "code",
   "execution_count": 10,
   "id": "5d05f95e-740c-47ee-9460-014ba847677c",
   "metadata": {},
   "outputs": [
    {
     "name": "stdout",
     "output_type": "stream",
     "text": [
      "The abc module provides a base class for defining abstract base classes (ABCs)\n",
      "\n",
      "Example:-\n",
      "from abc import ABC, abstractmethod\n",
      "class Animal(ABC):\n",
      "  @abstractmethod\n",
      "  def make_sound(self):\n",
      "    pass\n",
      "class Dog(Animal):\n",
      "  def make_sound(self):\n",
      "    return 'Woof!'\n",
      "dog = Dog()\n",
      "print(dog.make_sound())\n"
     ]
    }
   ],
   "source": [
    "print(\"The abc module provides a base class for defining abstract base classes (ABCs)\")\n",
    "print('''\\nExample:-\n",
    "from abc import ABC, abstractmethod\n",
    "class Animal(ABC):\n",
    "  @abstractmethod\n",
    "  def make_sound(self):\n",
    "    pass\n",
    "class Dog(Animal):\n",
    "  def make_sound(self):\n",
    "    return 'Woof!'\n",
    "dog = Dog()\n",
    "print(dog.make_sound())''')"
   ]
  },
  {
   "cell_type": "markdown",
   "id": "1a07eb72-c7ba-4d20-b6d6-5384c24d50dd",
   "metadata": {},
   "source": [
    "8.Create a Python class hierarchy for a vehicle system (e.g., car, bicycle, boat) and implement"
   ]
  },
  {
   "cell_type": "code",
   "execution_count": 11,
   "id": "104df856-2365-4cbd-a467-dfed09706dab",
   "metadata": {},
   "outputs": [],
   "source": [
    "class Vehicle:\n",
    "    def start(self):\n",
    "        pass\n",
    "\n",
    "class Car(Vehicle):\n",
    "    def __init__(self,key):\n",
    "        self.key=key\n",
    "    def start(self):\n",
    "        return f\"Car start with {self.key}.\"\n",
    "\n",
    "class Bicycle(Vehicle):\n",
    "    def __init__(self,key):\n",
    "        self.key=key\n",
    "    def start(self):\n",
    "        return f\"Bicycle start with {self.key}.\"\n",
    "\n",
    "class Boat(Vehicle):\n",
    "    def __init__(self,key):\n",
    "        self.key=key\n",
    "    def start(self):\n",
    "        return f\"Boat start with {self.key}.\"\n",
    "    \n",
    "c=Car('Engine')\n",
    "b=Bicycle('Pedals')\n",
    "b1=Boat('Engine')"
   ]
  },
  {
   "cell_type": "code",
   "execution_count": 12,
   "id": "8469fe42-d89d-4ab2-aa11-7d0060ddc9c2",
   "metadata": {},
   "outputs": [
    {
     "name": "stdout",
     "output_type": "stream",
     "text": [
      "Car start with Engine.\n",
      "Bicycle start with Pedals.\n",
      "Boat start with Engine.\n"
     ]
    }
   ],
   "source": [
    "print(c.start())\n",
    "print(b.start())\n",
    "print(b1.start())"
   ]
  },
  {
   "cell_type": "markdown",
   "id": "b65d106a-f996-458c-95da-4e31af051f40",
   "metadata": {},
   "source": [
    "9.Explain the significance of the `isinstance()` and `issubclass()` functions in Python polymorphism."
   ]
  },
  {
   "cell_type": "code",
   "execution_count": 13,
   "id": "6eca834d-c9c9-453d-8d77-fc09479dc382",
   "metadata": {},
   "outputs": [
    {
     "name": "stdout",
     "output_type": "stream",
     "text": [
      "The isinstance() function  is used to check if an object is an instance of a particular class or a subclass of that class.\n",
      "The isinstance() function can be used to check if a specified class is the parent class of an object or not.\n",
      "\n",
      "Example:-\n",
      "class Animal:\n",
      "    def make_sound(self):\n",
      "        pass\n",
      "class Dog(Animal):\n",
      "    def make_sound(self):\n",
      "        print(\"Woof!\")\n",
      "def make_sound(animal):\n",
      "    if isinstance(animal, Dog):\n",
      "        animal.make_sound()\n",
      "    else:\n",
      "        print(\"I don't know how to make a sound like that.\")\n",
      "dog = Dog()\n",
      "make_sound(dog)\n",
      "This issubclass() function returns True if the given child class is the subclass of given parent class else it returns False.\n",
      "\n",
      "Example:-\n",
      "class Animal:\n",
      "    pass\n",
      "class Mammal(Animal):\n",
      "    pass\n",
      "class Bird(Animal):\n",
      "    pass\n",
      "class Dog(Mammal):\n",
      "    pass\n",
      "result = issubclass(Dog, Mammal)\n",
      "print(result) \n",
      "result = issubclass(Bird, Mammal)\n",
      "print(result)\n"
     ]
    }
   ],
   "source": [
    "print(\"The isinstance() function  is used to check if an object is an instance of a particular class or a subclass of that class.\\nThe isinstance() function can be used to check if a specified class is the parent class of an object or not.\")\n",
    "print('''\\nExample:-\n",
    "class Animal:\n",
    "    def make_sound(self):\n",
    "        pass\n",
    "class Dog(Animal):\n",
    "    def make_sound(self):\n",
    "        print(\"Woof!\")\n",
    "def make_sound(animal):\n",
    "    if isinstance(animal, Dog):\n",
    "        animal.make_sound()\n",
    "    else:\n",
    "        print(\"I don't know how to make a sound like that.\")\n",
    "dog = Dog()\n",
    "make_sound(dog)''')\n",
    "print(\"This issubclass() function returns True if the given child class is the subclass of given parent class else it returns False.\")\n",
    "print('''\\nExample:-\n",
    "class Animal:\n",
    "    pass\n",
    "class Mammal(Animal):\n",
    "    pass\n",
    "class Bird(Animal):\n",
    "    pass\n",
    "class Dog(Mammal):\n",
    "    pass\n",
    "result = issubclass(Dog, Mammal)\n",
    "print(result) \n",
    "result = issubclass(Bird, Mammal)\n",
    "print(result)''')"
   ]
  },
  {
   "cell_type": "markdown",
   "id": "48f72d62-9f9b-421c-9d5a-aa9a3e7d8f67",
   "metadata": {},
   "source": [
    "10.What is the role of the `@abstractmethod` decorator in achieving polymorphism in Python? Provide an example."
   ]
  },
  {
   "cell_type": "code",
   "execution_count": 14,
   "id": "9babd479-216f-47d7-baa3-b3b49b1dd501",
   "metadata": {},
   "outputs": [
    {
     "name": "stdout",
     "output_type": "stream",
     "text": [
      "Abstract methods are methods that must be implemented by any subclass of a class that declares them.\n",
      "\n",
      "Example:-\n",
      "from abc import ABC, abstractmethod\n",
      "class Animal(ABC):\n",
      "    @abstractmethod\n",
      "    def make_sound(self):\n",
      "        pass\n",
      "class Dog(Animal):\n",
      "    def make_sound(self):\n",
      "        return \"Woof!\"\n"
     ]
    }
   ],
   "source": [
    "print(\"Abstract methods are methods that must be implemented by any subclass of a class that declares them.\")\n",
    "print('''\\nExample:-\n",
    "from abc import ABC, abstractmethod\n",
    "class Animal(ABC):\n",
    "    @abstractmethod\n",
    "    def make_sound(self):\n",
    "        pass\n",
    "class Dog(Animal):\n",
    "    def make_sound(self):\n",
    "        return \"Woof!\"''')"
   ]
  },
  {
   "cell_type": "markdown",
   "id": "8ae727fd-8440-4676-a705-2a3c49fa4aad",
   "metadata": {},
   "source": [
    "11.Create a Python class called `Shape` with a polymorphic method `area()` that calculates the area of different shapes (e.g., circle, rectangle, triangle)."
   ]
  },
  {
   "cell_type": "code",
   "execution_count": 15,
   "id": "472e156b-5529-47bb-9590-c71291f3abb5",
   "metadata": {},
   "outputs": [],
   "source": [
    "class Shapes:\n",
    "    def __init__(self):\n",
    "        pass\n",
    "    def area(self):\n",
    "        pass\n",
    "\n",
    "class Circle(Shapes):\n",
    "    def __init__(self,radius):\n",
    "        self.radius=radius\n",
    "    def area(self):\n",
    "        a=3.14*self.radius**2\n",
    "        return f\"Area of circle is {a}.\"\n",
    "\n",
    "class Rectangle(Shapes):\n",
    "    def __init__(self,length,width):\n",
    "        self.length=length\n",
    "        self.width=width\n",
    "    def area(self):\n",
    "        a=self.length*self.width\n",
    "        return f\"Area of Rectangle is {a}.\"\n",
    "\n",
    "class Triangle(Shapes):\n",
    "    def __init__(self,base,height):\n",
    "        self.base=base\n",
    "        self.height=height\n",
    "    def area(self):\n",
    "        a=0.5*self.base*self.height\n",
    "        return f\"Area of Triangle is {a}.\"\n",
    "    \n",
    "c=Circle(6)\n",
    "r=Rectangle(5,8)\n",
    "t=Triangle(10,20)"
   ]
  },
  {
   "cell_type": "code",
   "execution_count": 16,
   "id": "1d3e470f-7796-44d2-abdf-40b544e62372",
   "metadata": {},
   "outputs": [
    {
     "name": "stdout",
     "output_type": "stream",
     "text": [
      "Area of circle is 113.04.\n",
      "Area of Rectangle is 40.\n",
      "Area of Triangle is 100.0.\n"
     ]
    }
   ],
   "source": [
    "print(c.area())\n",
    "print(r.area())\n",
    "print(t.area())"
   ]
  },
  {
   "cell_type": "markdown",
   "id": "adb56b4e-a85c-488f-b4bf-b72767d5f159",
   "metadata": {},
   "source": [
    "12.Discuss the benefits of polymorphism in terms of code reusability and flexibility in Python programs."
   ]
  },
  {
   "cell_type": "code",
   "execution_count": 17,
   "id": "b211fa71-6e19-4903-a560-864aa1324ddf",
   "metadata": {},
   "outputs": [
    {
     "name": "stdout",
     "output_type": "stream",
     "text": [
      "Code Reusability in Polymorphism allows you to reuse the code written for the base class, reducing redundancy and promoting cleaner, more concise code.\n",
      "Flexibility and Extensibility With polymorphism, you can add new derived classes without modifying existing code.\n"
     ]
    }
   ],
   "source": [
    "print(\"Code Reusability in Polymorphism allows you to reuse the code written for the base class, reducing redundancy and promoting cleaner, more concise code.\")\n",
    "print(\"Flexibility and Extensibility With polymorphism, you can add new derived classes without modifying existing code.\")"
   ]
  },
  {
   "cell_type": "markdown",
   "id": "beed31bd-ae68-48c6-b52b-bc5e66719e1e",
   "metadata": {},
   "source": [
    "13.Explain the use of the `super()` function in Python polymorphism. How does it help call methods of parent classes?"
   ]
  },
  {
   "cell_type": "code",
   "execution_count": 18,
   "id": "e38dbaaa-3895-412d-8d97-c861f7f878c3",
   "metadata": {},
   "outputs": [
    {
     "name": "stdout",
     "output_type": "stream",
     "text": [
      "The super() function in Python is used to call methods of a parent class from a child class. This allows you to extend and customize the functionality inherited from the parent class.\n"
     ]
    }
   ],
   "source": [
    "print(\"The super() function in Python is used to call methods of a parent class from a child class. This allows you to extend and customize the functionality inherited from the parent class.\")"
   ]
  },
  {
   "cell_type": "markdown",
   "id": "9e9b0313-8d06-4255-a7da-d75aaa37d434",
   "metadata": {},
   "source": [
    "14.Create a Python class hierarchy for a banking system with various account types (e.g., savings, checking, credit card) and demonstrate polymorphism by implementing a common `withdraw()` method."
   ]
  },
  {
   "cell_type": "code",
   "execution_count": 19,
   "id": "eaaeea56-3eab-492d-a5c1-bed183fc09e1",
   "metadata": {},
   "outputs": [],
   "source": [
    "class Bank:\n",
    "    def withdraw(self):\n",
    "        pass\n",
    "\n",
    "class Savings(Bank):\n",
    "    def __init__(self,account_number,amount):\n",
    "        self.account_number=account_number\n",
    "        self.amount=amount\n",
    "    def withdraw(self,acc_number,amount1):\n",
    "        if self.account_number == acc_number:\n",
    "            if self.amount > amount1:\n",
    "                self.amount=self.amount-amount1\n",
    "                return f\"Your transaction is successful. Please collect your cash.\"\n",
    "            else:\n",
    "                return f\"Sorry, You don't have enough balance to withdraw money.\"\n",
    "        else:\n",
    "            return f\"Sorry, You entered wrong account number.\"\n",
    "        \n",
    "class Checking(Bank):\n",
    "    def __init__(self,account_number,amount):\n",
    "        self.account_number=account_number\n",
    "        self.amount=amount\n",
    "    def withdraw(self,acc_number,amount1):\n",
    "        if self.account_number == acc_number:\n",
    "            if self.amount > amount1:\n",
    "                self.amount=self.amount-amount1\n",
    "                return f\"Your transaction is successful. Please collect your cash.\"\n",
    "            else:\n",
    "                return f\"Sorry, You don't have enough balance to withdraw money.\"\n",
    "        else:\n",
    "            return f\"Sorry, You entered wrong account number.\"\n",
    "        \n",
    "class Creditcard(Bank):\n",
    "    def __init__(self,account_number,amount):\n",
    "        self.account_number=account_number\n",
    "        self.amount=amount\n",
    "    def withdraw(self,acc_number,amount1):\n",
    "        if self.account_number == acc_number:\n",
    "            if self.amount > amount1:\n",
    "                self.amount=self.amount-amount1\n",
    "                return f\"Your transaction is successful. Please collect your cash.\"\n",
    "            else:\n",
    "                return f\"Sorry, You don't have enough balance to withdraw money.\"\n",
    "        else:\n",
    "            return f\"Sorry, You entered wrong account number.\"\n",
    "        \n",
    "s=Savings(998877665544,40000)\n",
    "c=Checking(998877665533,20000)\n",
    "c1=Creditcard(998877665522,70000)"
   ]
  },
  {
   "cell_type": "code",
   "execution_count": 21,
   "id": "bd1bb361-24b4-4bec-aba0-39ef3b2ace83",
   "metadata": {},
   "outputs": [
    {
     "data": {
      "text/plain": [
       "\"Sorry, You don't have enough balance to withdraw money.\""
      ]
     },
     "execution_count": 21,
     "metadata": {},
     "output_type": "execute_result"
    }
   ],
   "source": [
    "s.withdraw(998877665544,50000)"
   ]
  },
  {
   "cell_type": "code",
   "execution_count": 22,
   "id": "284ccb6d-dbda-4220-9183-5cb547654b15",
   "metadata": {},
   "outputs": [
    {
     "data": {
      "text/plain": [
       "'Your transaction is successful. Please collect your cash.'"
      ]
     },
     "execution_count": 22,
     "metadata": {},
     "output_type": "execute_result"
    }
   ],
   "source": [
    "s.withdraw(998877665544,20000)"
   ]
  },
  {
   "cell_type": "code",
   "execution_count": 23,
   "id": "04912dca-4a46-440c-ae29-fde665980a30",
   "metadata": {},
   "outputs": [
    {
     "data": {
      "text/plain": [
       "'Sorry, You entered wrong account number.'"
      ]
     },
     "execution_count": 23,
     "metadata": {},
     "output_type": "execute_result"
    }
   ],
   "source": [
    "c1.withdraw(998877665521,30000)"
   ]
  },
  {
   "cell_type": "markdown",
   "id": "b92caab4-04c8-4841-8bf3-a9fbe4d587ba",
   "metadata": {},
   "source": [
    "15.Describe the concept of operator overloading in Python and how it relates to polymorphism. Provide examples using operators like `+` and `*`."
   ]
  },
  {
   "cell_type": "code",
   "execution_count": 2,
   "id": "d37483b5-4003-43ee-ac1f-5585255ad31c",
   "metadata": {},
   "outputs": [
    {
     "name": "stdout",
     "output_type": "stream",
     "text": [
      "You can define the behavior of the + operator for objects of your own classes by implementing the __add__ method.\n",
      "\n",
      "Example:-\n",
      "class Point:\n",
      "    def __init__(self, x, y):\n",
      "        self.x = x\n",
      "        self.y = y\n",
      "    def __add__(self, other):\n",
      "        if isinstance(other, int):\n",
      "            return Point(self.x + other, self.y + other)\n",
      "        else:\n",
      "            raise ValueError(\"Unsupported operand type\")\n",
      "p1 = Point(2, 3)\n",
      "p2 = Point(1, 4)\n",
      "result = p1 + p2  \n",
      "print(result.x, result.y) \n",
      "Similarly, you can define the behavior of the * operator for objects of your own classes by implementing the __mul__ method.\n",
      "\n",
      "Example:-\n",
      "class Vector:\n",
      "    def __init__(self, x, y):\n",
      "        self.x = x\n",
      "        self.y = y\n",
      "    def __mul__(self, scalar):\n",
      "        if isinstance(scalar, int) or isinstance(scalar, float):\n",
      "            return Vector(self.x * scalar, self.y * scalar)\n",
      "        else:\n",
      "            raise ValueError(\"Unsupported operand type\")\n",
      "v1 = Vector(2, 3)\n",
      "print(result.x, result.y) \n"
     ]
    }
   ],
   "source": [
    "print(\"You can define the behavior of the + operator for objects of your own classes by implementing the __add__ method.\")\n",
    "print('''\\nExample:-\n",
    "class Point:\n",
    "    def __init__(self, x, y):\n",
    "        self.x = x\n",
    "        self.y = y\n",
    "    def __add__(self, other):\n",
    "        if isinstance(other, int):\n",
    "            return Point(self.x + other, self.y + other)\n",
    "        else:\n",
    "            raise ValueError(\"Unsupported operand type\")\n",
    "p1 = Point(2, 3)\n",
    "p2 = Point(1, 4)\n",
    "result = p1 + p2  \n",
    "print(result.x, result.y) ''')\n",
    "print(\"Similarly, you can define the behavior of the * operator for objects of your own classes by implementing the __mul__ method.\")\n",
    "print('''\\nExample:-\n",
    "class Vector:\n",
    "    def __init__(self, x, y):\n",
    "        self.x = x\n",
    "        self.y = y\n",
    "    def __mul__(self, scalar):\n",
    "        if isinstance(scalar, int) or isinstance(scalar, float):\n",
    "            return Vector(self.x * scalar, self.y * scalar)\n",
    "        else:\n",
    "            raise ValueError(\"Unsupported operand type\")\n",
    "v1 = Vector(2, 3)\n",
    "print(result.x, result.y) ''')"
   ]
  },
  {
   "cell_type": "markdown",
   "id": "0e589c18-79d5-448a-922d-9845c8f66231",
   "metadata": {},
   "source": [
    "16.What is dynamic polymorphism, and how is it achieved in Python?"
   ]
  },
  {
   "cell_type": "code",
   "execution_count": 3,
   "id": "35586929-a03a-4d64-a292-697776e89f53",
   "metadata": {},
   "outputs": [
    {
     "name": "stdout",
     "output_type": "stream",
     "text": [
      "Dynamic polymorphism allows for a single function name to be used for different types of objects. This is achieved through the use of method overriding, which allows a subclass to override a method from its parent class.\n"
     ]
    }
   ],
   "source": [
    "print(\"Dynamic polymorphism allows for a single function name to be used for different types of objects. This is achieved through the use of method overriding, which allows a subclass to override a method from its parent class.\")"
   ]
  },
  {
   "cell_type": "markdown",
   "id": "cd90cb17-0428-40ca-841a-4fd90123cb1a",
   "metadata": {},
   "source": [
    "17.Create a Python class hierarchy for employees in a company (e.g., manager, developer, designer) and implement polymorphism through a common `calculate_salary()` method."
   ]
  },
  {
   "cell_type": "code",
   "execution_count": 4,
   "id": "0f3e57bc-b984-4ce9-b9f2-f088eddcb587",
   "metadata": {},
   "outputs": [],
   "source": [
    "class Employees:\n",
    "    def calculate_salary(self):\n",
    "        pass\n",
    "    \n",
    "class Manager(Employees):\n",
    "    def __init__(self,position_id):\n",
    "        self.position_id=position_id\n",
    "    def calculate_salary(self):\n",
    "        if 0 < self.position_id < 3:\n",
    "            return f\"The Manager salary is 100000.\"\n",
    "        else:\n",
    "            return f\"Please enter valid position_id\"\n",
    "        \n",
    "class Developer(Employees):\n",
    "    def __init__(self,position_id):\n",
    "        self.position_id=position_id\n",
    "    def calculate_salary(self):\n",
    "        if 3 < self.position_id < 8:\n",
    "            return f\"The Developer salary is 60000.\"\n",
    "        else:\n",
    "            return f\"Please enter valid position_id\"\n",
    "        \n",
    "class Designer(Employees):\n",
    "    def __init__(self,position_id):\n",
    "        self.position_id=position_id\n",
    "    def calculate_salary(self):\n",
    "        if 8 < self.position_id < 12:\n",
    "            return f\"The Designer salary is 50000.\"\n",
    "        else:\n",
    "            return f\"Please enter valid position_id\"\n",
    "        \n",
    "m=Manager(2)\n",
    "d=Developer(6)\n",
    "d1=Designer(9)"
   ]
  },
  {
   "cell_type": "code",
   "execution_count": 5,
   "id": "e63d704b-7ce9-4027-8911-6361ace39ef6",
   "metadata": {},
   "outputs": [
    {
     "name": "stdout",
     "output_type": "stream",
     "text": [
      "The Manager salary is 100000.\n",
      "The Developer salary is 60000.\n",
      "The Designer salary is 50000.\n"
     ]
    }
   ],
   "source": [
    "print(m.calculate_salary())\n",
    "print(d.calculate_salary())\n",
    "print(d1.calculate_salary())"
   ]
  },
  {
   "cell_type": "markdown",
   "id": "990e832e-d792-4009-aed3-36a79fcf32db",
   "metadata": {},
   "source": [
    "18.Discuss the concept of function pointers and how they can be used to achieve polymorphism in Python."
   ]
  },
  {
   "cell_type": "code",
   "execution_count": 6,
   "id": "7567915b-131b-4fcc-806a-45e582d7ecaa",
   "metadata": {},
   "outputs": [
    {
     "name": "stdout",
     "output_type": "stream",
     "text": [
      "A function pointer is a variable that contains the address of a function. Function pointers can be used to achieve polymorphism, which is the ability to use a single name to refer to multiple different functions.\n"
     ]
    }
   ],
   "source": [
    "print(\"A function pointer is a variable that contains the address of a function. Function pointers can be used to achieve polymorphism, which is the ability to use a single name to refer to multiple different functions.\")"
   ]
  },
  {
   "cell_type": "markdown",
   "id": "814bf394-a47a-4178-989e-a9063e6d4808",
   "metadata": {},
   "source": [
    "19.Explain the role of interfaces and abstract classes in polymorphism, drawing comparisons between them."
   ]
  },
  {
   "cell_type": "code",
   "execution_count": 12,
   "id": "e1399486-7227-4978-891e-ba19ada6d4d1",
   "metadata": {},
   "outputs": [
    {
     "name": "stdout",
     "output_type": "stream",
     "text": [
      "Interfaces only define the methods that a class must implement, without providing any implementation details. Abstract classes, on the other hand, can define both abstract methods (methods without implementation) and concrete methods (methods with implementation). A class can implement multiple interfaces, but can only inherit from one abstract class. This is because interfaces define a contract that a class must adhere to, whereas abstract classes provide a base implementation that can be extended. Interfaces are purely abstract and do not provide any implementation details. Abstract classes, on the other hand, can provide a default implementation for some methods, which can be extended or overridden by subclasses.\n"
     ]
    }
   ],
   "source": [
    "print(\"Interfaces only define the methods that a class must implement, without providing any implementation details. Abstract classes, on the other hand, can define both abstract methods (methods without implementation) and concrete methods (methods with implementation). A class can implement multiple interfaces, but can only inherit from one abstract class. This is because interfaces define a contract that a class must adhere to, whereas abstract classes provide a base implementation that can be extended. Interfaces are purely abstract and do not provide any implementation details. Abstract classes, on the other hand, can provide a default implementation for some methods, which can be extended or overridden by subclasses.\")"
   ]
  },
  {
   "cell_type": "markdown",
   "id": "3180b8b0-c3e3-4dd3-9587-96c566406f67",
   "metadata": {},
   "source": [
    "20.Create a Python class for a zoo simulation, demonstrating polymorphism with different animal types (e.g., mammals, birds, reptiles) and their behavior (e.g., eating, sleeping, making sounds)."
   ]
  },
  {
   "cell_type": "code",
   "execution_count": 7,
   "id": "3b7d2d37-f2df-4c3e-83f5-a114097a6773",
   "metadata": {},
   "outputs": [],
   "source": [
    "class Zoo:\n",
    "    def __init__(self,eating,sleeping):\n",
    "        self.eating=eating\n",
    "        self.sleeping=sleeping\n",
    "\n",
    "class Mammals(Zoo):\n",
    "    def __init__(self,eating,sleeping,sound):\n",
    "        super().__init__(eating,sleeping)\n",
    "        self.sound=sound\n",
    "    def mammals_behavior(self):\n",
    "        print(f\"Mammals are eating {self.eating}.\")\n",
    "        print(f\"Mammals are {self.sleeping}.\")\n",
    "        print(f\"Mammals make sound {self.sound}.\")\n",
    "    \n",
    "class Birds(Zoo):\n",
    "    def __init__(self,eating,sleeping,sound):\n",
    "        super().__init__(eating,sleeping)\n",
    "        self.sound=sound\n",
    "    def birds_behavior(self):\n",
    "        print()\n",
    "        print(f\"Birds are eating {self.eating}.\")\n",
    "        print(f\"Birds are {self.sleeping}.\")\n",
    "        print(f\"Birds make sound {self.sound}.\")\n",
    "    \n",
    "class Reptiles(Zoo):\n",
    "    def __init__(self,eating,sleeping,sound):\n",
    "        super().__init__(eating,sleeping)\n",
    "        self.sound=sound\n",
    "    def reptiles_behavior(self):\n",
    "        print()\n",
    "        print(f\"Reptiles are eating {self.eating}.\")\n",
    "        print(f\"Reptiles are {self.sleeping}.\")\n",
    "        print(f\"Reptiles make sound {self.sound}.\")\n",
    "    \n",
    "m=Mammals('plants','sleeping','squeaky')\n",
    "b=Birds('insects','sleeping','chirping')\n",
    "r=Reptiles('small animals','sleeping','hissing')"
   ]
  },
  {
   "cell_type": "code",
   "execution_count": 8,
   "id": "a8aaecf6-d3b8-47bd-8077-2f52bf725e38",
   "metadata": {},
   "outputs": [
    {
     "name": "stdout",
     "output_type": "stream",
     "text": [
      "Mammals are eating plants.\n",
      "Mammals are sleeping.\n",
      "Mammals make sound squeaky.\n",
      "\n",
      "Birds are eating insects.\n",
      "Birds are sleeping.\n",
      "Birds make sound chirping.\n",
      "\n",
      "Reptiles are eating small animals.\n",
      "Reptiles are sleeping.\n",
      "Reptiles make sound hissing.\n"
     ]
    }
   ],
   "source": [
    "m.mammals_behavior()\n",
    "b.birds_behavior()\n",
    "r.reptiles_behavior()"
   ]
  },
  {
   "cell_type": "markdown",
   "id": "ebe1eb36-957d-430d-b8fe-8750471119b7",
   "metadata": {},
   "source": [
    "Abstraction"
   ]
  },
  {
   "cell_type": "markdown",
   "id": "3bc1d70f-0b40-4786-ae65-a8b6a4346bbd",
   "metadata": {},
   "source": [
    "1.What is abstraction in Python, and how does it relate to object-oriented programming?"
   ]
  },
  {
   "cell_type": "code",
   "execution_count": 13,
   "id": "eebf6de1-8526-42a2-bda3-9e1317f0ad4f",
   "metadata": {},
   "outputs": [
    {
     "name": "stdout",
     "output_type": "stream",
     "text": [
      "Abstraction is a process of hiding unnecessary information from the user.\n",
      "Abstraction is used to hide the implementation details of a class and only expose the necessary features of the class to the user.\n"
     ]
    }
   ],
   "source": [
    "print(\"Abstraction is a process of hiding unnecessary information from the user.\")\n",
    "print(\"Abstraction is used to hide the implementation details of a class and only expose the necessary features of the class to the user.\")"
   ]
  },
  {
   "cell_type": "markdown",
   "id": "406e56b2-e2ab-458e-bccc-bdee8d9868e6",
   "metadata": {},
   "source": [
    "2.Describe the benefits of abstraction in terms of code organization and complexity reduction."
   ]
  },
  {
   "cell_type": "code",
   "execution_count": 14,
   "id": "f02efb6e-5e79-4e14-b602-30e6f848192f",
   "metadata": {},
   "outputs": [
    {
     "name": "stdout",
     "output_type": "stream",
     "text": [
      "By hiding unnecessary details, abstraction can make your code easier to understand and maintain. Additionally, abstraction can help you to reuse code more easily, which can save you time and effort.\n"
     ]
    }
   ],
   "source": [
    "print(\"By hiding unnecessary details, abstraction can make your code easier to understand and maintain. Additionally, abstraction can help you to reuse code more easily, which can save you time and effort.\")"
   ]
  },
  {
   "cell_type": "markdown",
   "id": "b0d369bf-6d11-45f8-a40b-9ea03c9dc017",
   "metadata": {},
   "source": [
    "3.Create a Python class called `Shape` with an abstract method `calculate_area()`. Then, create child classes (e.g., `Circle`, `Rectangle`) that implement the `calculate_area()` method. Provide an example of using these classes."
   ]
  },
  {
   "cell_type": "code",
   "execution_count": 15,
   "id": "fa204c30-b346-4278-a511-d53903baa655",
   "metadata": {},
   "outputs": [],
   "source": [
    "from abc import ABC, abstractmethod\n",
    "class Shape:\n",
    "    @abstractmethod\n",
    "    def calculate_area(self):\n",
    "        pass\n",
    "    \n",
    "class Circle(Shape):\n",
    "    def __init__(self,radius):\n",
    "        self.radius=radius\n",
    "    def calculate_area(self):\n",
    "        a=3.14*self.radius**2\n",
    "        return f\"Area of circle is {a}.\"\n",
    "    \n",
    "class Rectangle(Shape):\n",
    "    def __init__(self,length,width):\n",
    "        self.length=length\n",
    "        self.width=width\n",
    "    def calculate_area(self):\n",
    "        a=self.length*self.width\n",
    "        return f\"Area of Rectangle is {a}.\"\n",
    "    \n",
    "c=Circle(8)\n",
    "r=Rectangle(3,7)"
   ]
  },
  {
   "cell_type": "code",
   "execution_count": 16,
   "id": "6d8b5448-bd3a-46d1-ac40-1e999c68e41d",
   "metadata": {},
   "outputs": [
    {
     "name": "stdout",
     "output_type": "stream",
     "text": [
      "Area of circle is 200.96.\n",
      "Area of Rectangle is 21.\n"
     ]
    }
   ],
   "source": [
    "print(c.calculate_area())\n",
    "print(r.calculate_area())"
   ]
  },
  {
   "cell_type": "markdown",
   "id": "1cb14172-cf7b-447a-9425-120e6033ba45",
   "metadata": {},
   "source": [
    "4.Explain the concept of abstract classes in Python and how they are defined using the `abc` module. Provide an example."
   ]
  },
  {
   "cell_type": "code",
   "execution_count": 17,
   "id": "90da67b2-0dd5-4d94-bfdf-f8ae14ea9681",
   "metadata": {},
   "outputs": [
    {
     "name": "stdout",
     "output_type": "stream",
     "text": [
      "Abstract classes are allow us to define a set of methods that must be implemented by any class that inherits from it.\n",
      "To define an abstract class in Python, we have to use abc module. This module provides a number of decorators that can be used to mark methods as abstract.\n",
      "\n",
      "Example:-\n",
      "from abc import ABC, abstractmethod\n",
      "class Polygon(ABC):\n",
      "    @abstractmethod\n",
      "    def noofsides(self):\n",
      "        pass\n",
      "class Triangle(Polygon):\n",
      "    def noofsides(self):\n",
      "        return 3\n"
     ]
    }
   ],
   "source": [
    "print(\"Abstract classes are allow us to define a set of methods that must be implemented by any class that inherits from it.\")\n",
    "print(\"To define an abstract class in Python, we have to use abc module. This module provides a number of decorators that can be used to mark methods as abstract.\")\n",
    "print('''\\nExample:-\n",
    "from abc import ABC, abstractmethod\n",
    "class Polygon(ABC):\n",
    "    @abstractmethod\n",
    "    def noofsides(self):\n",
    "        pass\n",
    "class Triangle(Polygon):\n",
    "    def noofsides(self):\n",
    "        return 3''')"
   ]
  },
  {
   "cell_type": "markdown",
   "id": "434be9f9-76c5-4e3c-8c30-10c4d9c55066",
   "metadata": {},
   "source": [
    "5.How do abstract classes differ from regular classes in Python? Discuss their use cases."
   ]
  },
  {
   "cell_type": "code",
   "execution_count": 18,
   "id": "c2990b27-c878-436e-9786-d1435c422472",
   "metadata": {},
   "outputs": [
    {
     "name": "stdout",
     "output_type": "stream",
     "text": [
      "The main difference between an abstract class and a regular class is that we cannot create an instance of an abstract class. Instead, you can only inherit from it.\n",
      "Abstract classes are used to define a set of methods that must be created within any child classes built from the abstract class. This helps to ensure that all child classes have the same functionality.\n"
     ]
    }
   ],
   "source": [
    "print(\"The main difference between an abstract class and a regular class is that we cannot create an instance of an abstract class. Instead, you can only inherit from it.\")\n",
    "print(\"Abstract classes are used to define a set of methods that must be created within any child classes built from the abstract class. This helps to ensure that all child classes have the same functionality.\")"
   ]
  },
  {
   "cell_type": "markdown",
   "id": "1c698139-9492-4895-b4dc-4737bb106400",
   "metadata": {},
   "source": [
    "6.Create a Python class for a bank account and demonstrate abstraction by hiding the account balance and providing methods to deposit and withdraw funds."
   ]
  },
  {
   "cell_type": "code",
   "execution_count": 19,
   "id": "420f869c-219a-4103-92ee-278b9fe81c8c",
   "metadata": {},
   "outputs": [],
   "source": [
    "class Bank_account:\n",
    "    def __init__(self,account_number,balance):\n",
    "        self.account_number=account_number\n",
    "        self._balance=balance\n",
    "    def deposit(self,acc_number,amount):\n",
    "        if self.account_number == acc_number:\n",
    "            self._balance=self._balance+amount\n",
    "            return f\"Your amount is successfully deposited in your bank account.\"\n",
    "        else:\n",
    "            return f\"Sorry, you entered wrong account number. Enter again--\"\n",
    "    def withdraw(self,account_num,amount):\n",
    "        if self.account_number == account_num:\n",
    "            if self._balance > amount:\n",
    "                return f\"Your transaction is successful. Please collect your cash.\"\n",
    "            else:\n",
    "                return f\"Sorry, You don't have enough balance.\"\n",
    "        else:\n",
    "            return f\"Sorry, you entered wrong account number. Enter again--\"\n",
    "        \n",
    "b=Bank_account(9977553311,22387)"
   ]
  },
  {
   "cell_type": "code",
   "execution_count": 20,
   "id": "fd985c74-8468-4bdb-b64a-2986a08d928c",
   "metadata": {},
   "outputs": [
    {
     "data": {
      "text/plain": [
       "'Your amount is successfully deposited in your bank account.'"
      ]
     },
     "execution_count": 20,
     "metadata": {},
     "output_type": "execute_result"
    }
   ],
   "source": [
    "b.deposit(9977553311,5000)"
   ]
  },
  {
   "cell_type": "code",
   "execution_count": 21,
   "id": "be14b689-f6b8-434d-bb64-f09ec464829e",
   "metadata": {},
   "outputs": [
    {
     "data": {
      "text/plain": [
       "'Sorry, you entered wrong account number. Enter again--'"
      ]
     },
     "execution_count": 21,
     "metadata": {},
     "output_type": "execute_result"
    }
   ],
   "source": [
    "b.withdraw(9977553312,20000)"
   ]
  },
  {
   "cell_type": "code",
   "execution_count": 22,
   "id": "8a08a256-e533-4633-9cf3-927582eca3d1",
   "metadata": {},
   "outputs": [
    {
     "data": {
      "text/plain": [
       "'Your transaction is successful. Please collect your cash.'"
      ]
     },
     "execution_count": 22,
     "metadata": {},
     "output_type": "execute_result"
    }
   ],
   "source": [
    "b.withdraw(9977553311,20000)"
   ]
  },
  {
   "cell_type": "markdown",
   "id": "3a99069f-6456-4a31-8d05-e920974fafe6",
   "metadata": {},
   "source": [
    "7.Discuss the concept of interface classes in Python and their role in achieving abstraction."
   ]
  },
  {
   "cell_type": "code",
   "execution_count": 23,
   "id": "3e79c6d2-f130-4570-9b51-ccd758b0264f",
   "metadata": {},
   "outputs": [
    {
     "name": "stdout",
     "output_type": "stream",
     "text": [
      "Interface is a set of method signatures that a class must implement in order to be compatible with another class. Interfaces are used to define the functionality that a class must provide, while classes are used to implement that functionality.\n"
     ]
    }
   ],
   "source": [
    "print(\"Interface is a set of method signatures that a class must implement in order to be compatible with another class. Interfaces are used to define the functionality that a class must provide, while classes are used to implement that functionality.\")"
   ]
  },
  {
   "cell_type": "markdown",
   "id": "9796e929-722a-4c32-86d2-6e4bc9f3baf5",
   "metadata": {},
   "source": [
    "8.Create a Python class hierarchy for animals and implement abstraction by defining common methods (e.g., `eat()`, `sleep()`) in an abstract base class."
   ]
  },
  {
   "cell_type": "code",
   "execution_count": 24,
   "id": "853fba11-4101-4cea-ac4f-1d39d9b8482e",
   "metadata": {},
   "outputs": [
    {
     "name": "stdout",
     "output_type": "stream",
     "text": [
      "Mammals eating meat.\n",
      "I'm sleeping in a warm bed.\n",
      "\n",
      "Birds eating seeds.\n",
      "I'm sleeping in a tree.\n",
      "\n",
      "Fishes eating plankton.\n",
      "I'm sleeping in the water.\n"
     ]
    }
   ],
   "source": [
    "from abc import ABC, abstractmethod\n",
    "class Animal(ABC):\n",
    "    @abstractmethod\n",
    "    def eat(self):\n",
    "        pass\n",
    "    @abstractmethod\n",
    "    def sleep(self):\n",
    "        pass\n",
    "\n",
    "class Mammal(Animal):\n",
    "    def eat(self):\n",
    "        print(\"Mammals eating meat.\")\n",
    "    def sleep(self):\n",
    "        print(\"I'm sleeping in a warm bed.\")\n",
    "\n",
    "class Bird(Animal):\n",
    "    def eat(self):\n",
    "        print()\n",
    "        print(\"Birds eating seeds.\")\n",
    "    def sleep(self):\n",
    "        print(\"I'm sleeping in a tree.\")\n",
    "\n",
    "class Fish(Animal):\n",
    "    def eat(self):\n",
    "        print()\n",
    "        print(\"Fishes eating plankton.\")\n",
    "    def sleep(self):\n",
    "        print(\"I'm sleeping in the water.\")\n",
    "\n",
    "\n",
    "animals = [Mammal(), Bird(), Fish()]\n",
    "for animal in animals:\n",
    "    animal.eat()\n",
    "    animal.sleep()"
   ]
  },
  {
   "cell_type": "markdown",
   "id": "2fbc8179-dae7-418d-adf3-06c5c469c4e6",
   "metadata": {},
   "source": [
    "9.Explain the significance of encapsulation in achieving abstraction. Provide examples."
   ]
  },
  {
   "cell_type": "code",
   "execution_count": 25,
   "id": "52c9b2a6-4429-47ff-94c4-1cbec0627564",
   "metadata": {},
   "outputs": [
    {
     "name": "stdout",
     "output_type": "stream",
     "text": [
      "Encapsulation is significant in achieving abstraction in Python because it allows us to hide the implementation details of a class from its users.\n",
      "This can make code more readable and maintainable, as well as more secure, since users cannot accidentally modify the data or functionality of a class.\n",
      "\n",
      "Example:-\n",
      "class Employee:\n",
      "    def __init__(self, name, salary):\n",
      "        self.name = name\n",
      "        self.salary = salary\n",
      "    def show(self):\n",
      "        print(\"My name is {} and my salary is {}\".format(self.name, self.salary))\n",
      "employee = Employee(\"Gnanesh\", 100000)\n",
      "employee.show()\n"
     ]
    }
   ],
   "source": [
    "print(\"Encapsulation is significant in achieving abstraction in Python because it allows us to hide the implementation details of a class from its users.\")\n",
    "print(\"This can make code more readable and maintainable, as well as more secure, since users cannot accidentally modify the data or functionality of a class.\")\n",
    "print('''\\nExample:-\n",
    "class Employee:\n",
    "    def __init__(self, name, salary):\n",
    "        self.name = name\n",
    "        self.salary = salary\n",
    "    def show(self):\n",
    "        print(\"My name is {} and my salary is {}\".format(self.name, self.salary))\n",
    "employee = Employee(\"Gnanesh\", 100000)\n",
    "employee.show()''')\n"
   ]
  },
  {
   "cell_type": "markdown",
   "id": "6cafdfa9-badb-4d0a-b4b9-1cf510ff5c78",
   "metadata": {},
   "source": [
    "10.what is the purpose of abstract methods, and how do they enforce abstraction in Python classes?"
   ]
  },
  {
   "cell_type": "code",
   "execution_count": 26,
   "id": "991fa1c9-fbfc-4a5e-82b9-8bccfb553207",
   "metadata": {},
   "outputs": [
    {
     "name": "stdout",
     "output_type": "stream",
     "text": [
      "Abstract methods can be used to enforce abstraction in Python classes by preventing the creation of objects of the abstract class itself. Any class that inherits from an abstract class must implement the abstract methods in order to be instantiated.\n"
     ]
    }
   ],
   "source": [
    "print(\"Abstract methods can be used to enforce abstraction in Python classes by preventing the creation of objects of the abstract class itself. Any class that inherits from an abstract class must implement the abstract methods in order to be instantiated.\")"
   ]
  },
  {
   "cell_type": "markdown",
   "id": "f39a9c94-8bfa-40e4-bd06-6e3176acd34e",
   "metadata": {},
   "source": [
    "11.Create a Python class for a vehicle system and demonstrate abstraction by defining common methods (e.g., `start()`, `stop()`) in an abstract base class."
   ]
  },
  {
   "cell_type": "code",
   "execution_count": 27,
   "id": "5905c2d6-f97e-47d7-84d1-151ac02b911b",
   "metadata": {},
   "outputs": [],
   "source": [
    "from abc import ABC, abstractmethod\n",
    "class Vehicle(ABC):\n",
    "    @abstractmethod\n",
    "    def start(self):\n",
    "        pass\n",
    "    @abstractmethod\n",
    "    def stop(self):\n",
    "        pass\n",
    "\n",
    "class Car(Vehicle):\n",
    "    def start(self):\n",
    "        print(\"Starting the car with start/stop botton.\")\n",
    "    def stop(self):\n",
    "        print(\"Stopping the car with break.\")\n",
    "\n",
    "class Truck(Vehicle):\n",
    "    def start(self):\n",
    "        print()\n",
    "        print(\"Starting the truck with key.\")\n",
    "    def stop(self):\n",
    "        print(\"Stopping the truck with air break.\")\n",
    "\n",
    "c = Car()\n",
    "t = Truck()"
   ]
  },
  {
   "cell_type": "code",
   "execution_count": 28,
   "id": "de66023e-1ab2-4bdb-867d-de5921ef69f4",
   "metadata": {},
   "outputs": [
    {
     "name": "stdout",
     "output_type": "stream",
     "text": [
      "Starting the car with start/stop botton.\n",
      "Stopping the car with break.\n",
      "\n",
      "Starting the truck with key.\n",
      "Stopping the truck with air break.\n"
     ]
    }
   ],
   "source": [
    "c.start()\n",
    "c.stop()\n",
    "t.start()\n",
    "t.stop()"
   ]
  },
  {
   "cell_type": "markdown",
   "id": "3afd98ea-0484-4ad2-990a-c86855a8dfef",
   "metadata": {},
   "source": [
    "12.Describe the use of abstract properties in Python and how they can be employed in abstract classes."
   ]
  },
  {
   "cell_type": "code",
   "execution_count": 29,
   "id": "af855db5-08c5-41c0-bfca-8934160a2028",
   "metadata": {},
   "outputs": [
    {
     "name": "stdout",
     "output_type": "stream",
     "text": [
      " Abstract properties are used in conjunction with abstract classes to provide a way of enforcing that certain methods or properties must be implemented by subclasses.\n"
     ]
    }
   ],
   "source": [
    "print(\" Abstract properties are used in conjunction with abstract classes to provide a way of enforcing that certain methods or properties must be implemented by subclasses.\")"
   ]
  },
  {
   "cell_type": "markdown",
   "id": "41285028-d294-480b-b673-412245e7cbc9",
   "metadata": {},
   "source": [
    "13.Create a Python class hierarchy for employees in a company (e.g., manager, developer, designer) and implement abstraction by defining a common `get_salary()` method."
   ]
  },
  {
   "cell_type": "code",
   "execution_count": 30,
   "id": "c5456fe2-bd4e-487f-a6de-65f65062c752",
   "metadata": {},
   "outputs": [],
   "source": [
    "from abc import ABC, abstractmethod\n",
    "class Employees(ABC):\n",
    "    @abstractmethod\n",
    "    def calculate_salary(self):\n",
    "        pass\n",
    "    \n",
    "class Manager(Employees):\n",
    "    def __init__(self,position_id):\n",
    "        self.position_id=position_id\n",
    "    def calculate_salary(self):\n",
    "        if 0 < self.position_id < 3:\n",
    "            return f\"The Manager salary is 100000.\"\n",
    "        else:\n",
    "            return f\"Please enter valid position_id\"\n",
    "        \n",
    "class Developer(Employees):\n",
    "    def __init__(self,position_id):\n",
    "        self.position_id=position_id\n",
    "    def calculate_salary(self):\n",
    "        if 3 < self.position_id < 8:\n",
    "            return f\"The Developer salary is 60000.\"\n",
    "        else:\n",
    "            return f\"Please enter valid position_id\"\n",
    "        \n",
    "class Designer(Employees):\n",
    "    def __init__(self,position_id):\n",
    "        self.position_id=position_id\n",
    "    def calculate_salary(self):\n",
    "        if 8 < self.position_id < 12:\n",
    "            return f\"The Designer salary is 50000.\"\n",
    "        else:\n",
    "            return f\"Please enter valid position_id\"\n",
    "        \n",
    "m=Manager(2)\n",
    "d=Developer(6)\n",
    "d1=Designer(9)"
   ]
  },
  {
   "cell_type": "code",
   "execution_count": 32,
   "id": "0e99b386-9360-4c68-9cd4-6fd58b485783",
   "metadata": {},
   "outputs": [
    {
     "name": "stdout",
     "output_type": "stream",
     "text": [
      "The Manager salary is 100000.\n",
      "The Developer salary is 60000.\n",
      "The Designer salary is 50000.\n"
     ]
    }
   ],
   "source": [
    "print(m.calculate_salary())\n",
    "print(d.calculate_salary())\n",
    "print(d1.calculate_salary())"
   ]
  },
  {
   "cell_type": "markdown",
   "id": "dd6ed022-7d65-4004-90b3-72f990fc2be9",
   "metadata": {},
   "source": [
    "14.Discuss the differences between abstract classes and concrete classes in Python, including their instantiation."
   ]
  },
  {
   "cell_type": "code",
   "execution_count": 33,
   "id": "3924003f-1d96-49c1-9aac-ca15117b2a38",
   "metadata": {},
   "outputs": [
    {
     "name": "stdout",
     "output_type": "stream",
     "text": [
      "Abstract classes are classes that cannot be instantiated. They are used to define a blueprint for other classes to follow. Concrete classes are classes that can be instantiated and used on their own.\n"
     ]
    }
   ],
   "source": [
    "print(\"Abstract classes are classes that cannot be instantiated. They are used to define a blueprint for other classes to follow. Concrete classes are classes that can be instantiated and used on their own.\")"
   ]
  },
  {
   "cell_type": "markdown",
   "id": "6e23b3f4-c602-4434-8dc5-2779b1a101e0",
   "metadata": {},
   "source": [
    "15.Explain the concept of abstract data types (ADTs) and their role in achieving abstraction in Python."
   ]
  },
  {
   "cell_type": "code",
   "execution_count": 42,
   "id": "28c5f0d4-8404-48f8-b654-0a24965159b4",
   "metadata": {},
   "outputs": [
    {
     "name": "stdout",
     "output_type": "stream",
     "text": [
      "An Abstract Data Type (ADT) is a high-level type definition that describes a collection of values and the operations that can be performed on those values. ADTs are a way to achieve abstraction in programming, allowing programmers to focus on the behavior of data structures without worrying about their underlying implementation.By using classes to define ADTs, Python allows programmers to achieve abstraction in their code. This allows programmers to focus on the behavior of their data structures without worrying about the underlying implementation details. It also allows for code reuse, as ADTs can be implemented once and used in multiple places throughout a programBy using classes to define ADTs, Python allows programmers to achieve abstraction in their code. This allows programmers to focus on the behavior of their data structures without worrying about the underlying implementation details. It also allows for code reuse, as ADTs can be implemented once and used in multiple places throughout a program.\n"
     ]
    }
   ],
   "source": [
    "print(\"An Abstract Data Type (ADT) is a high-level type definition that describes a collection of values and the operations that can be performed on those values. ADTs are a way to achieve abstraction in programming, allowing programmers to focus on the behavior of data structures without worrying about their underlying implementation.By using classes to define ADTs, Python allows programmers to achieve abstraction in their code. This allows programmers to focus on the behavior of their data structures without worrying about the underlying implementation details. It also allows for code reuse, as ADTs can be implemented once and used in multiple places throughout a programBy using classes to define ADTs, Python allows programmers to achieve abstraction in their code. This allows programmers to focus on the behavior of their data structures without worrying about the underlying implementation details. It also allows for code reuse, as ADTs can be implemented once and used in multiple places throughout a program.\")"
   ]
  },
  {
   "cell_type": "markdown",
   "id": "828bad8f-c6e0-4add-82ea-b02ef09d7981",
   "metadata": {},
   "source": [
    "16.Create a Python class for a computer system, demonstrating abstraction by defining common methods (e.g., `power_on()`, `shutdown()`) in an abstract base class."
   ]
  },
  {
   "cell_type": "code",
   "execution_count": 34,
   "id": "fa3e9c28-e1eb-4b41-a1ff-cef183225255",
   "metadata": {},
   "outputs": [],
   "source": [
    "from abc import ABC, abstractmethod\n",
    "class ComputerSystem(ABC):\n",
    "    @abstractmethod\n",
    "    def power_on(self):\n",
    "        pass\n",
    "    @abstractmethod\n",
    "    def shutdown(self):\n",
    "        pass\n",
    "\n",
    "class Laptop(ComputerSystem):\n",
    "    def power_on(self):\n",
    "        print(\"Turning on the laptop with button.\")\n",
    "    def shutdown(self):\n",
    "        print(\"Turning off the laptop with Alt+F4.\")\n",
    "\n",
    "class Desktop(ComputerSystem):\n",
    "    def power_on(self):\n",
    "        print()\n",
    "        print(\"Turning on the desktop with switch.\")\n",
    "    def shutdown(self):\n",
    "        print(\"Turning off the desktop with shutdown option in power menu.\")\n",
    "\n",
    "laptop = Laptop()\n",
    "desktop = Desktop()"
   ]
  },
  {
   "cell_type": "code",
   "execution_count": 35,
   "id": "ee79616e-5157-4923-afa7-ad949091176b",
   "metadata": {},
   "outputs": [
    {
     "name": "stdout",
     "output_type": "stream",
     "text": [
      "Turning on the laptop with button.\n",
      "Turning off the laptop with Alt+F4.\n",
      "\n",
      "Turning on the desktop with switch.\n",
      "Turning off the desktop with shutdown option in power menu.\n"
     ]
    }
   ],
   "source": [
    "laptop.power_on()\n",
    "laptop.shutdown()\n",
    "desktop.power_on()\n",
    "desktop.shutdown()"
   ]
  },
  {
   "cell_type": "markdown",
   "id": "ba5ee56d-e162-47bb-a67f-a8e3cd03dddc",
   "metadata": {},
   "source": [
    "17.Discuss the benefits of using abstraction in large-scale software development projects."
   ]
  },
  {
   "cell_type": "code",
   "execution_count": 36,
   "id": "d866e6ec-1706-46a8-b5e3-1374685588f9",
   "metadata": {},
   "outputs": [
    {
     "name": "stdout",
     "output_type": "stream",
     "text": [
      "Abstraction can help to reduce code complexity by hiding unnecessary details from the user.\n",
      "Abstraction can help to increase the scalability of software by allowing developers to focus on the high-level design of the system.\n",
      "Abstraction can help to improve the flexibility of software by allowing developers to easily change or extend the functionality of the system without having to make changes to the underlying code.\n",
      "Abstraction can help to increase the productivity of developers by allowing them to reuse code and focus on more creative and strategic tasks.\n"
     ]
    }
   ],
   "source": [
    "print(\"Abstraction can help to reduce code complexity by hiding unnecessary details from the user.\\nAbstraction can help to increase the scalability of software by allowing developers to focus on the high-level design of the system.\\nAbstraction can help to improve the flexibility of software by allowing developers to easily change or extend the functionality of the system without having to make changes to the underlying code.\\nAbstraction can help to increase the productivity of developers by allowing them to reuse code and focus on more creative and strategic tasks.\")"
   ]
  },
  {
   "cell_type": "markdown",
   "id": "77932dcd-3212-4fe0-8e79-f3c6cadf8bfc",
   "metadata": {},
   "source": [
    "18.Explain how abstraction enhances code reusability and modularity in Python programs."
   ]
  },
  {
   "cell_type": "code",
   "execution_count": 37,
   "id": "d06a0f11-c855-42ae-aad1-11ed8460618b",
   "metadata": {},
   "outputs": [
    {
     "name": "stdout",
     "output_type": "stream",
     "text": [
      "Abstraction allows developers to focus on the essential characteristics of a problem while ignoring the details.\n",
      "Functions are blocks of code that can be reused throughout a program. \n"
     ]
    }
   ],
   "source": [
    "print(\"Abstraction allows developers to focus on the essential characteristics of a problem while ignoring the details.\\nFunctions are blocks of code that can be reused throughout a program. \")"
   ]
  },
  {
   "cell_type": "markdown",
   "id": "3280a345-a6eb-4a63-9eb8-6b04881c0ed8",
   "metadata": {},
   "source": [
    "19.Create a Python class for a library system, implementing abstraction by defining common methods (e.g., `add_book()`, `borrow_book()`) in an abstract base class."
   ]
  },
  {
   "cell_type": "code",
   "execution_count": 38,
   "id": "45464570-63ef-4db4-b9f8-5eb47cb57319",
   "metadata": {},
   "outputs": [],
   "source": [
    "from abc import ABC, abstractmethod\n",
    "class Library(ABC):\n",
    "    @abstractmethod\n",
    "    def add_book(self, book):\n",
    "        self.book=book\n",
    "    @abstractmethod\n",
    "    def borrow_book(self, book):\n",
    "        self.book1=book\n",
    "\n",
    "class Virtual_Library(Library):\n",
    "    def __init__(self,book):\n",
    "        self.book=book\n",
    "    def add_book(self, book):\n",
    "        self.book.append(book)\n",
    "        return f\"Your book is successfully added to the library.\"\n",
    "    def borrow_book(self, book):\n",
    "        if book in self.book :\n",
    "            self.book.remove(book)\n",
    "            return f\"Your book is available. Please collect it from register desk.\"\n",
    "        else:\n",
    "            return f\"Sorry, book is not available\"\n",
    "\n",
    "v=Virtual_Library(['Harry Potter','A passage of India','Time Machine'])"
   ]
  },
  {
   "cell_type": "code",
   "execution_count": 39,
   "id": "ddaa1737-828d-4995-945f-ecdba3f6bfd3",
   "metadata": {},
   "outputs": [
    {
     "data": {
      "text/plain": [
       "'Your book is available. Please collect it from register desk.'"
      ]
     },
     "execution_count": 39,
     "metadata": {},
     "output_type": "execute_result"
    }
   ],
   "source": [
    "v.borrow_book('Harry Potter')"
   ]
  },
  {
   "cell_type": "code",
   "execution_count": 40,
   "id": "cafd7a05-c1b0-4d61-9d2c-a53d3d5cf95b",
   "metadata": {},
   "outputs": [
    {
     "data": {
      "text/plain": [
       "'Your book is successfully added to the library.'"
      ]
     },
     "execution_count": 40,
     "metadata": {},
     "output_type": "execute_result"
    }
   ],
   "source": [
    "v.add_book('Harry Potter')"
   ]
  },
  {
   "cell_type": "markdown",
   "id": "e87bfde1-33aa-4747-ac35-80937e3a1a3e",
   "metadata": {},
   "source": [
    "20.Describe the concept of method abstraction in Python and how it relates to polymorphism."
   ]
  },
  {
   "cell_type": "code",
   "execution_count": 41,
   "id": "06ebeb35-89ad-4ba1-ad8e-3397a057e8ca",
   "metadata": {},
   "outputs": [
    {
     "name": "stdout",
     "output_type": "stream",
     "text": [
      "Method abstraction is a concept that allows us to hide the implementation details of a method from the user. This can be done by using the abstract decorator.\n"
     ]
    }
   ],
   "source": [
    "print(\"Method abstraction is a concept that allows us to hide the implementation details of a method from the user. This can be done by using the abstract decorator.\")"
   ]
  },
  {
   "cell_type": "markdown",
   "id": "f7627fb2-178e-4804-8803-0a3d17c24866",
   "metadata": {},
   "source": [
    "Composition"
   ]
  },
  {
   "cell_type": "markdown",
   "id": "b902a1a0-8280-4f7d-84b4-61298cb0a2fc",
   "metadata": {},
   "source": [
    "1.Explain the concept of composition in Python and how it is used to build complex objects from simpler ones."
   ]
  },
  {
   "cell_type": "code",
   "execution_count": 43,
   "id": "6b0b5fc0-2441-4113-abc2-46bc3e2c283e",
   "metadata": {},
   "outputs": [
    {
     "name": "stdout",
     "output_type": "stream",
     "text": [
      "Composition is allows us to create complex objects from simpler ones. This is done by creating a class that references one or more objects of other classes.\n"
     ]
    }
   ],
   "source": [
    "print(\"Composition is allows us to create complex objects from simpler ones. This is done by creating a class that references one or more objects of other classes.\")"
   ]
  },
  {
   "cell_type": "markdown",
   "id": "68cb49bf-d71d-4bb1-b572-dacd4b4c63f4",
   "metadata": {},
   "source": [
    "2.Describe the difference between composition and inheritance in object-oriented programming."
   ]
  },
  {
   "cell_type": "code",
   "execution_count": 44,
   "id": "eb91c232-a8df-48c4-b2eb-cdc719ac0725",
   "metadata": {},
   "outputs": [
    {
     "name": "stdout",
     "output_type": "stream",
     "text": [
      "Composition is a relationship where one class, called the composite, contains another class, called the component. The composite class uses the component class to provide its functionality.\n",
      "Inheritance is a relationship where one class, called the child, inherits from another class, called the parent. The child class inherits all of the parent class's attributes and methods, and can also have its own attributes and methods.\n"
     ]
    }
   ],
   "source": [
    "print(\"Composition is a relationship where one class, called the composite, contains another class, called the component. The composite class uses the component class to provide its functionality.\")\n",
    "print(\"Inheritance is a relationship where one class, called the child, inherits from another class, called the parent. The child class inherits all of the parent class's attributes and methods, and can also have its own attributes and methods.\")"
   ]
  },
  {
   "cell_type": "markdown",
   "id": "b89cf19e-8aa2-4367-a81e-3677d0788816",
   "metadata": {},
   "source": [
    "3.Create a Python class called `Author` with attributes for name and birthdate. Then, create a `Book` class that contains an instance of `Author` as a composition. Provide an example of creating a `Book` object."
   ]
  },
  {
   "cell_type": "code",
   "execution_count": 45,
   "id": "997bedfd-59f2-4f3f-8634-f42e9b3fce05",
   "metadata": {},
   "outputs": [],
   "source": [
    "class Author:\n",
    "    def __init__(self, name, birthdate):\n",
    "        self.name = name\n",
    "        self.birthdate = birthdate\n",
    "\n",
    "class Book:\n",
    "    def __init__(self, title, author):\n",
    "        self.title = title\n",
    "        self.author = author\n",
    "\n",
    "author = Author(\"John Doe\", \"1970-01-01\")\n",
    "book = Book(\"The Hitchhiker's Guide to the Galaxy\", author)"
   ]
  },
  {
   "cell_type": "code",
   "execution_count": 46,
   "id": "af904290-a745-4e6d-95a7-da470adb7094",
   "metadata": {},
   "outputs": [
    {
     "name": "stdout",
     "output_type": "stream",
     "text": [
      "John Doe 1970-01-01\n",
      "The Hitchhiker's Guide to the Galaxy John Doe\n"
     ]
    }
   ],
   "source": [
    "print(author.name, author.birthdate)\n",
    "print(book.title, book.author.name)"
   ]
  },
  {
   "cell_type": "markdown",
   "id": "e243e44c-378b-497c-a53c-5a5b4198de95",
   "metadata": {},
   "source": [
    "4.Discuss the benefits of using composition over inheritance in Python, especially in terms of code flexibility and reusability."
   ]
  },
  {
   "cell_type": "code",
   "execution_count": 47,
   "id": "197c4e98-d43c-4c1c-891a-fdb5c37bb0d6",
   "metadata": {},
   "outputs": [
    {
     "name": "stdout",
     "output_type": "stream",
     "text": [
      "Composition is more flexible than inheritance, you are limited to the functionality that is provided by the base class with composition, you can combine objects from different classes to create new objects with the functionality that you need.\n",
      "composition is more reusable. When we inherit from a class, you are essentially copying the functionality of that class into your own class. \n"
     ]
    }
   ],
   "source": [
    "print(\"Composition is more flexible than inheritance, you are limited to the functionality that is provided by the base class with composition, you can combine objects from different classes to create new objects with the functionality that you need.\")\n",
    "print(\"composition is more reusable. When we inherit from a class, you are essentially copying the functionality of that class into your own class. \")"
   ]
  },
  {
   "cell_type": "markdown",
   "id": "0682741b-9e67-40cc-a82d-8c6b33da4785",
   "metadata": {},
   "source": [
    "5.How can you implement composition in Python classes? Provide examples of using composition to create complex objects."
   ]
  },
  {
   "cell_type": "code",
   "execution_count": 48,
   "id": "2ddf95b9-daae-4c89-9ed8-2385b9bfb1c3",
   "metadata": {},
   "outputs": [
    {
     "name": "stdout",
     "output_type": "stream",
     "text": [
      "In composition we creating objects of other classes and using those instances within the class.\n",
      "\n",
      "Example:-\n",
      "class Car:\n",
      "    def __init__(self):\n",
      "        self.engine = Engine()\n",
      "    def drive(self):\n",
      "        self.engine.start()\n",
      "        self.engine.accelerate()\n"
     ]
    }
   ],
   "source": [
    "print(\"In composition we creating objects of other classes and using those instances within the class.\")\n",
    "print('''\\nExample:-\n",
    "class Car:\n",
    "    def __init__(self):\n",
    "        self.engine = Engine()\n",
    "    def drive(self):\n",
    "        self.engine.start()\n",
    "        self.engine.accelerate()''')"
   ]
  },
  {
   "cell_type": "markdown",
   "id": "490eefd1-6871-4302-b2fe-6af2c489788b",
   "metadata": {},
   "source": [
    "6.Create a Python class hierarchy for a music player system, using composition to represent playlists and songs."
   ]
  },
  {
   "cell_type": "code",
   "execution_count": 49,
   "id": "3534551e-0fdb-4010-873d-d000c96a7587",
   "metadata": {},
   "outputs": [],
   "source": [
    "class MusicPlayer:\n",
    "    def __init__(self):\n",
    "        self.playlists = []\n",
    "    def add_playlist(self, playlist):\n",
    "        self.playlists.append(playlist)\n",
    "    def remove_playlist(self, playlist):\n",
    "        self.playlists.remove(playlist)\n",
    "    def play_playlist(self, playlist):\n",
    "        playlist.play()\n",
    "    def stop_playlist(self, playlist):\n",
    "        playlist.stop()\n",
    "\n",
    "class Playlist:\n",
    "    def __init__(self):\n",
    "        self.songs = []\n",
    "    def add_song(self, song):\n",
    "        self.songs.append(song)\n",
    "    def remove_song(self, song):\n",
    "        self.songs.remove(song)\n",
    "    def play(self):\n",
    "        for song in self.songs:\n",
    "            song.play()\n",
    "    def stop(self):\n",
    "        for song in self.songs:\n",
    "            song.stop()\n",
    "\n",
    "class Song:\n",
    "    def __init__(self, title, artist):\n",
    "        self.title = title\n",
    "        self.artist = artist\n",
    "    def play(self):\n",
    "        print(\"Playing {} by {}\".format(self.title, self.artist))\n",
    "    def stop(self):\n",
    "        print(\"Stopping {} by {}\".format(self.title, self.artist))\n",
    "\n",
    "m=MusicPlayer()\n",
    "p=Playlist()\n",
    "s=Song('Leo','Anirudh')"
   ]
  },
  {
   "cell_type": "code",
   "execution_count": 50,
   "id": "89c563eb-e66e-4cb4-8347-345c8150e7cc",
   "metadata": {},
   "outputs": [],
   "source": [
    "m.add_playlist(['Telugu songs','English songs'])"
   ]
  },
  {
   "cell_type": "code",
   "execution_count": 51,
   "id": "c7f665d4-ccc7-4870-9af8-fc8814adc3dc",
   "metadata": {},
   "outputs": [
    {
     "name": "stdout",
     "output_type": "stream",
     "text": [
      "Playing Leo by Anirudh\n"
     ]
    }
   ],
   "source": [
    "s.play()"
   ]
  },
  {
   "cell_type": "code",
   "execution_count": 52,
   "id": "682f6cff-2ac1-4d61-972e-4a157e84468c",
   "metadata": {},
   "outputs": [
    {
     "name": "stdout",
     "output_type": "stream",
     "text": [
      "Stopping Leo by Anirudh\n"
     ]
    }
   ],
   "source": [
    "s.stop()"
   ]
  },
  {
   "cell_type": "markdown",
   "id": "15dc85ae-db49-447c-9700-fb8db3816e81",
   "metadata": {},
   "source": [
    "7.Explain the concept of \"has-a\" relationships in composition and how it helps design software systems."
   ]
  },
  {
   "cell_type": "code",
   "execution_count": 53,
   "id": "b107bd85-c177-44d2-8d4b-58f6b8c84279",
   "metadata": {},
   "outputs": [
    {
     "name": "stdout",
     "output_type": "stream",
     "text": [
      "The 'has-a' relationship in composition is a way of creating complex objects by combining objects of other types.This relationship is known as 'has-a' because it indicates that one object has another object as part of itself.\n"
     ]
    }
   ],
   "source": [
    "print(\"The 'has-a' relationship in composition is a way of creating complex objects by combining objects of other types.This relationship is known as 'has-a' because it indicates that one object has another object as part of itself.\")"
   ]
  },
  {
   "cell_type": "markdown",
   "id": "2fc23e0e-1112-4d40-8cd3-87291e68f798",
   "metadata": {},
   "source": [
    "8.Create a Python class for a computer system, using composition to represent components like CPU, RAM, and storage devices."
   ]
  },
  {
   "cell_type": "code",
   "execution_count": 54,
   "id": "8ef4c6b8-efb8-4a26-88c2-f91031467417",
   "metadata": {},
   "outputs": [
    {
     "name": "stdout",
     "output_type": "stream",
     "text": [
      "CPU: Intel Core i7 with 8 cores\n",
      "RAM: 16GB DDR4\n",
      "Storage: 1TB SSD\n"
     ]
    }
   ],
   "source": [
    "class Computer:\n",
    "    def __init__(self, cpu, ram, storage):\n",
    "        self.cpu = cpu\n",
    "        self.ram = ram\n",
    "        self.storage = storage\n",
    "    def get_cpu_info(self):\n",
    "        return self.cpu.get_info()\n",
    "    def get_ram_info(self):\n",
    "        return self.ram.get_info()\n",
    "    def get_storage_info(self):\n",
    "        return self.storage.get_info()\n",
    "\n",
    "class CPU:\n",
    "    def __init__(self, name, model, number_of_cores):\n",
    "        self.name = name\n",
    "        self.model = model\n",
    "        self.number_of_cores = number_of_cores\n",
    "    def get_info(self):\n",
    "        return f\"CPU: {self.name} {self.model} with {self.number_of_cores} cores\"\n",
    "\n",
    "class RAM:\n",
    "    def __init__(self, size, type):\n",
    "        self.size = size\n",
    "        self.type = type\n",
    "    def get_info(self):\n",
    "        return f\"RAM: {self.size} {self.type}\"\n",
    "\n",
    "class Storage:\n",
    "    def __init__(self, size, type):\n",
    "        self.size = size\n",
    "        self.type = type\n",
    "    def get_info(self):\n",
    "        return f\"Storage: {self.size} {self.type}\"\n",
    "\n",
    "c = Computer(CPU(\"Intel\", \"Core i7\", 8), RAM(\"16GB\", \"DDR4\"), Storage(\"1TB\", \"SSD\"))\n",
    "print(c.get_cpu_info())\n",
    "print(c.get_ram_info())\n",
    "print(c.get_storage_info())"
   ]
  },
  {
   "cell_type": "markdown",
   "id": "8f124aa8-ec27-47d8-a1fa-8370524ac87d",
   "metadata": {},
   "source": [
    "9.Describe the concept of \"delegation\" in composition and how it simplifies the design of complex systems."
   ]
  },
  {
   "cell_type": "code",
   "execution_count": 55,
   "id": "1947d06d-c077-4566-9c7d-a23c93843919",
   "metadata": {},
   "outputs": [
    {
     "name": "stdout",
     "output_type": "stream",
     "text": [
      "Delegation is a design pattern that allows an object to pass on a request to another object. This can be used to simplify the design of complex systems by allowing objects to focus on their own responsibilities.\n"
     ]
    }
   ],
   "source": [
    "print(\"Delegation is a design pattern that allows an object to pass on a request to another object. This can be used to simplify the design of complex systems by allowing objects to focus on their own responsibilities.\")"
   ]
  },
  {
   "cell_type": "markdown",
   "id": "2acd0218-7e50-4eee-8210-e8094b075826",
   "metadata": {},
   "source": [
    "10.Create a Python class for a car, using composition to represent components like the engine, wheels, and transmission."
   ]
  },
  {
   "cell_type": "code",
   "execution_count": 56,
   "id": "0ac9b9c0-b80f-48aa-a060-0b386b39eeb7",
   "metadata": {},
   "outputs": [
    {
     "name": "stdout",
     "output_type": "stream",
     "text": [
      "The engine is starting.\n",
      "The wheels are turning.\n",
      "The transmission is shifting.\n",
      "The engine is stopping.\n",
      "The wheels are stopping.\n",
      "The transmission is in neutral.\n"
     ]
    }
   ],
   "source": [
    "class Car:\n",
    "    def __init__(self, engine, wheels, transmission):\n",
    "        self.engine = engine\n",
    "        self.wheels = wheels\n",
    "        self.transmission = transmission\n",
    "    def drive(self):\n",
    "        self.engine.start()\n",
    "        self.wheels.turn()\n",
    "        self.transmission.shift()\n",
    "    def stop(self):\n",
    "        self.engine.stop()\n",
    "        self.wheels.stop()\n",
    "        self.transmission.neutral()\n",
    "\n",
    "class Engine:\n",
    "    def __init__(self):\n",
    "        pass\n",
    "    def start(self):\n",
    "        print(\"The engine is starting.\")\n",
    "    def stop(self):\n",
    "        print(\"The engine is stopping.\")\n",
    "\n",
    "class Wheels:\n",
    "    def __init__(self):\n",
    "        pass\n",
    "    def turn(self):\n",
    "        print(\"The wheels are turning.\")\n",
    "    def stop(self):\n",
    "        print(\"The wheels are stopping.\")\n",
    "\n",
    "class Transmission:\n",
    "    def __init__(self):\n",
    "        pass\n",
    "    def shift(self):\n",
    "        print(\"The transmission is shifting.\")\n",
    "    def neutral(self):\n",
    "        print(\"The transmission is in neutral.\")\n",
    "\n",
    "car = Car(Engine(), Wheels(), Transmission())\n",
    "car.drive()\n",
    "car.stop()"
   ]
  },
  {
   "cell_type": "markdown",
   "id": "44e134ed-614d-49bf-b6c2-a5ad43b37c99",
   "metadata": {},
   "source": [
    "11.How can you encapsulate and hide the details of composed objects in Python classes to maintain abstraction?"
   ]
  },
  {
   "cell_type": "code",
   "execution_count": 57,
   "id": "72ba4093-12eb-4c24-95b8-5e1495a4fb6a",
   "metadata": {},
   "outputs": [
    {
     "name": "stdout",
     "output_type": "stream",
     "text": [
      "Encapsulation in Python can be achieved by using access modifiers, private and protected variables, and getter and setter methods. Access modifiers control the accessibility of variables or methods within a class. Private variables are only accessible within the class, while protected variables are accessible within the class and its subclasses. Getter and setter methods are used to access and modify the values of private variables.\n"
     ]
    }
   ],
   "source": [
    "print(\"Encapsulation in Python can be achieved by using access modifiers, private and protected variables, and getter and setter methods. Access modifiers control the accessibility of variables or methods within a class. Private variables are only accessible within the class, while protected variables are accessible within the class and its subclasses. Getter and setter methods are used to access and modify the values of private variables.\")"
   ]
  },
  {
   "cell_type": "markdown",
   "id": "4e4e327f-012b-46f1-8def-b82a1252b250",
   "metadata": {},
   "source": [
    "12.Create a Python class for a university course, using composition to represent students, instructors, and course materials."
   ]
  },
  {
   "cell_type": "code",
   "execution_count": 58,
   "id": "33dfa7a0-2334-4098-a5d8-4af90fc612c9",
   "metadata": {},
   "outputs": [],
   "source": [
    "class Course:\n",
    "    def __init__(self, instructor, students, materials):\n",
    "        self.instructor = instructor\n",
    "        self.students = students\n",
    "        self.materials = materials\n",
    "\n",
    "    def get_students(self):\n",
    "        return self.students\n",
    "\n",
    "    def add_student(self, student):\n",
    "        self.students.append(student)\n",
    "\n",
    "    def remove_student(self, student):\n",
    "        self.students.remove(student)\n",
    "\n",
    "    def get_instructor(self):\n",
    "        return self.instructor\n",
    "\n",
    "    def set_instructor(self, instructor):\n",
    "        self.instructor = instructor\n",
    "\n",
    "    def get_materials(self):\n",
    "        return self.materials\n",
    "\n",
    "    def add_material(self, material):\n",
    "        self.materials.append(material)\n",
    "\n",
    "    def remove_material(self, material):\n",
    "        self.materials.remove(material)\n",
    "\n",
    "    def __str__(self):\n",
    "        return \"Instructor: {} Students: {} Materials: {}\".format(self.instructor, self.students, self.materials)"
   ]
  },
  {
   "cell_type": "code",
   "execution_count": 59,
   "id": "f573ea6e-f205-4421-8b20-398cfeaa4539",
   "metadata": {},
   "outputs": [
    {
     "name": "stdout",
     "output_type": "stream",
     "text": [
      "Instructor: ['Sudhanshu', 'Priya'] Students: ['Gnanesh', 'Rishi', 'Kavya'] Materials: ['Python material', 'Data Analysis']\n"
     ]
    }
   ],
   "source": [
    "c = Course([\"Sudhanshu\",\"Priya\"], [\"Gnanesh\", \"Rishi\", \"Kavya\"],[\"Python material\",\"Data Analysis\"])\n",
    "print(c)"
   ]
  },
  {
   "cell_type": "markdown",
   "id": "a48c28d3-f058-459b-9894-307509ade4f5",
   "metadata": {},
   "source": [
    "13.Discuss the challenges and drawbacks of composition, such as increased complexity and potential for tight coupling between objects."
   ]
  },
  {
   "cell_type": "code",
   "execution_count": 86,
   "id": "e7aed3eb-f725-4895-bf92-1e437c217af1",
   "metadata": {},
   "outputs": [
    {
     "name": "stdout",
     "output_type": "stream",
     "text": [
      "the challenges and drawbacks of composition, such as increased complexity and potential for tight coupling between objectsare as follows:\n",
      "1. Increased complexity: Composition can lead to increased complexity in code, as objects become more interconnected. This can make it more difficult to understand how objects interact with each other, and can also make the code harder to maintain.\n",
      "2. Tight coupling: Composition can lead to tight coupling between objects, where changes to one object can have unintended consequences on other objects. This can make it more difficult to modify the code without breaking existing functionality.\n",
      "3.Increased memory usage: Composition can lead to increased memory usage, as objects are created to represent other objects. This can be a concern in memory-constrained environments.\n",
      "4.Reduced encapsulation: Composition can lead to reduced encapsulation, as objects may need to expose more of their internal state and behavior in order to be composed with other objects. This can make it more difficult to ensure the integrity of the object's state.\n",
      "5.Difficulty with debugging: Composition can make it more difficult to debug code, as the behavior of objects can depend on the behavior of other objects. This can make it more difficult to trace the source of a problem.\n"
     ]
    }
   ],
   "source": [
    "print(\"the challenges and drawbacks of composition, such as increased complexity and potential for tight coupling between objectsare as follows:\")\n",
    "print(\"1. Increased complexity: Composition can lead to increased complexity in code, as objects become more interconnected. This can make it more difficult to understand how objects interact with each other, and can also make the code harder to maintain.\")\n",
    "print(\"2. Tight coupling: Composition can lead to tight coupling between objects, where changes to one object can have unintended consequences on other objects. This can make it more difficult to modify the code without breaking existing functionality.\")\n",
    "print(\"3.Increased memory usage: Composition can lead to increased memory usage, as objects are created to represent other objects. This can be a concern in memory-constrained environments.\")\n",
    "print(\"4.Reduced encapsulation: Composition can lead to reduced encapsulation, as objects may need to expose more of their internal state and behavior in order to be composed with other objects. This can make it more difficult to ensure the integrity of the object's state.\")\n",
    "print(\"5.Difficulty with debugging: Composition can make it more difficult to debug code, as the behavior of objects can depend on the behavior of other objects. This can make it more difficult to trace the source of a problem.\")"
   ]
  },
  {
   "cell_type": "markdown",
   "id": "45a05884-5f86-46d5-acc1-003a773d81eb",
   "metadata": {},
   "source": [
    "14.Create a Python class hierarchy for a restaurant system, using composition to represent menus, dishes, and ingredients."
   ]
  },
  {
   "cell_type": "code",
   "execution_count": 61,
   "id": "7729b4a5-6124-45f7-bf0e-d90ab728f236",
   "metadata": {},
   "outputs": [
    {
     "name": "stdout",
     "output_type": "stream",
     "text": [
      "_____The Main Menu____\n",
      "**Chicken Alfredo**\n",
      "['chicken', 'pasta', ' Alfredo sauce']\n",
      "**Steak**\n",
      "['steak', 'potatoes', 'vegetables']\n"
     ]
    }
   ],
   "source": [
    "class Menu:\n",
    "    def __init__(self, name):\n",
    "        self.name = name\n",
    "        self.dishes = []\n",
    "    def add_dish(self, dish):\n",
    "        self.dishes.append(dish)\n",
    "    def print_menu(self):\n",
    "        print(\"_____\" + self.name + \"____\")\n",
    "        for dish in self.dishes:\n",
    "            dish.print_dish()\n",
    "\n",
    "class Dish:\n",
    "    def __init__(self, name, ingredients):\n",
    "        self.name = name\n",
    "        self.ingredients = ingredients\n",
    "    def print_dish(self):\n",
    "        print(\"**\" + self.name + \"**\")\n",
    "        print(self.ingredients)\n",
    "\n",
    "menu = Menu(\"The Main Menu\")\n",
    "dish1 = Dish(\"Chicken Alfredo\", [\"chicken\", \"pasta\", \" Alfredo sauce\"])\n",
    "dish2 = Dish(\"Steak\", [\"steak\", \"potatoes\", \"vegetables\"])\n",
    "menu.add_dish(dish1)\n",
    "menu.add_dish(dish2)\n",
    "menu.print_menu()"
   ]
  },
  {
   "cell_type": "markdown",
   "id": "9768e147-b944-4afb-a6c4-faec0aecc0c1",
   "metadata": {},
   "source": [
    "15.Explain how composition enhances code maintainability and modularity in Python programs."
   ]
  },
  {
   "cell_type": "code",
   "execution_count": 62,
   "id": "484bd970-4a01-4ec5-a2d9-f7d795628bdf",
   "metadata": {},
   "outputs": [
    {
     "name": "stdout",
     "output_type": "stream",
     "text": [
      "Composition can help to reduce code duplication.\n",
      "Composition can help to make your code more modular.\n",
      "composition can help to improve the readability of your code.\n"
     ]
    }
   ],
   "source": [
    "print(\"Composition can help to reduce code duplication.\\nComposition can help to make your code more modular.\\ncomposition can help to improve the readability of your code.\")"
   ]
  },
  {
   "cell_type": "markdown",
   "id": "3a73ec0b-8dd9-45fd-93de-2bb934b4d326",
   "metadata": {},
   "source": [
    "16.Create a Python class for a computer game character, using composition to represent attributes like weapons, armor, and inventory."
   ]
  },
  {
   "cell_type": "code",
   "execution_count": 63,
   "id": "f319ed56-0dcc-4b02-8760-25a06f423967",
   "metadata": {},
   "outputs": [],
   "source": [
    "class Character:\n",
    "    def __init__(self, name, level, health,weapon,armor,inventory):\n",
    "        self.name = name\n",
    "        self.level = level\n",
    "        self.health = health\n",
    "        self.weapons = []\n",
    "        self.armor = []\n",
    "        self.inventory = []\n",
    "\n",
    "    def add_weapon(self, weapon):\n",
    "        self.weapons.append(weapon)\n",
    "\n",
    "    def remove_weapon(self, weapon):\n",
    "        self.weapons.remove(weapon)\n",
    "\n",
    "    def add_armor(self, armor):\n",
    "        self.armor.append(armor)\n",
    "\n",
    "    def remove_armor(self, armor):\n",
    "        self.armor.remove(armor)\n",
    "\n",
    "    def add_inventory(self, item):\n",
    "        self.inventory.append(item)\n",
    "\n",
    "    def remove_inventory(self, item):\n",
    "        self.inventory.remove(item)\n",
    "\n",
    "    def attack(self, enemy):\n",
    "        self.health=self.health+10\n",
    "        return f\"You are attacking {enemy}!\"\n",
    "        \n",
    "    def defend(self, enemy):\n",
    "        self.health=self.health-27\n",
    "        return f\"You are defending {enemy}!\"\n",
    "      \n",
    "    def get_health(self):\n",
    "        return self.health\n",
    "        \n",
    "c=Character('Gnanesh',14,100,['AK47','Scarl'],['Silver shield','Golden shield'],['store items','use items'])"
   ]
  },
  {
   "cell_type": "code",
   "execution_count": 64,
   "id": "e23c92e0-c3db-445e-8d8e-2d2b36703115",
   "metadata": {},
   "outputs": [
    {
     "data": {
      "text/plain": [
       "'You are attacking John!'"
      ]
     },
     "execution_count": 64,
     "metadata": {},
     "output_type": "execute_result"
    }
   ],
   "source": [
    "c.attack('John')"
   ]
  },
  {
   "cell_type": "code",
   "execution_count": 65,
   "id": "c6cf49ba-60ab-426a-bb7d-5d027825f6ad",
   "metadata": {},
   "outputs": [
    {
     "data": {
      "text/plain": [
       "'You are defending Mark!'"
      ]
     },
     "execution_count": 65,
     "metadata": {},
     "output_type": "execute_result"
    }
   ],
   "source": [
    "c.defend('Mark')"
   ]
  },
  {
   "cell_type": "code",
   "execution_count": 66,
   "id": "474f0c04-14ae-4a13-9400-a16294d7f151",
   "metadata": {},
   "outputs": [
    {
     "data": {
      "text/plain": [
       "83"
      ]
     },
     "execution_count": 66,
     "metadata": {},
     "output_type": "execute_result"
    }
   ],
   "source": [
    "c.get_health()"
   ]
  },
  {
   "cell_type": "markdown",
   "id": "ac7ac36f-9e90-44a3-8225-1ed4b03ece9f",
   "metadata": {},
   "source": [
    "17.Describe the concept of \"aggregation\" in composition and how it differs from simple composition."
   ]
  },
  {
   "cell_type": "code",
   "execution_count": 69,
   "id": "3608ffc9-51f8-46a9-bca9-4e231478dc8d",
   "metadata": {},
   "outputs": [
    {
     "name": "stdout",
     "output_type": "stream",
     "text": [
      "Aggregation is a relationship between two objects where one object, the aggregator,has a collection of objects, the aggregants.\n"
     ]
    }
   ],
   "source": [
    "print(\"Aggregation is a relationship between two objects where one object, the aggregator,has a collection of objects, the aggregants.\")"
   ]
  },
  {
   "cell_type": "markdown",
   "id": "46dc7995-7f0d-4455-a255-0ccb53efd1da",
   "metadata": {},
   "source": [
    "18.Create a Python class for a house, using composition to represent rooms, furniture, and appliances."
   ]
  },
  {
   "cell_type": "code",
   "execution_count": 70,
   "id": "d8b539c9-6bfc-409e-abfb-b2f82e290bb7",
   "metadata": {},
   "outputs": [],
   "source": [
    "class House:\n",
    "    def __init__(self, room,furniture,appliances):\n",
    "        self.rooms = room\n",
    "        self.furniture = furniture\n",
    "        self.appliances = appliances\n",
    "\n",
    "    def add_room(self, room):\n",
    "        self.rooms.append(room)\n",
    "\n",
    "    def add_furniture(self, furniture):\n",
    "        self.furniture.append(furniture)\n",
    "\n",
    "    def add_appliance(self, appliance):\n",
    "        self.appliances.append(appliance)\n",
    "\n",
    "    def get_rooms(self):\n",
    "        return self.rooms\n",
    "\n",
    "    def get_furniture(self):\n",
    "        return self.furniture\n",
    "\n",
    "    def get_appliances(self):\n",
    "        return self.appliances\n",
    "\n",
    "    def house_details(self):\n",
    "        return f\"House has {len(self.rooms)} rooms, {len(self.furniture)} pieces of furniture, and {len(self.appliances)} appliances.\"\n",
    "    \n",
    "h=House(['Bed room','Kitchen','Guest room','Hall'],['Dining','Chairs','Cupboard'],['Fan','AC','TV','Washing Machine'])"
   ]
  },
  {
   "cell_type": "code",
   "execution_count": 71,
   "id": "b0a194e4-11e6-4195-8331-ca4d70206791",
   "metadata": {},
   "outputs": [
    {
     "name": "stdout",
     "output_type": "stream",
     "text": [
      "['Bed room', 'Kitchen', 'Guest room', 'Hall']\n",
      "['Dining', 'Chairs', 'Cupboard']\n",
      "['Fan', 'AC', 'TV', 'Washing Machine']\n",
      "House has 4 rooms, 3 pieces of furniture, and 4 appliances.\n"
     ]
    }
   ],
   "source": [
    "print(h.get_rooms())\n",
    "print(h.get_furniture())\n",
    "print(h.get_appliances())\n",
    "print(h.house_details())"
   ]
  },
  {
   "cell_type": "markdown",
   "id": "0868b184-d0e5-4dab-9ddf-c5d65c55a99c",
   "metadata": {},
   "source": [
    "19.How can you achieve flexibility in composed objects by allowing them to be replaced or modified dynamically at runtime?"
   ]
  },
  {
   "cell_type": "code",
   "execution_count": 72,
   "id": "1e16e74c-e25c-4d89-9ac0-1c4755f7801d",
   "metadata": {},
   "outputs": [
    {
     "name": "stdout",
     "output_type": "stream",
     "text": [
      "The type() function to create a new class that inherits from the existing class.\n",
      "The dynamic_setattr() function allows you to set an attribute on an object dynamically.\n"
     ]
    }
   ],
   "source": [
    "print(\"The type() function to create a new class that inherits from the existing class.\\nThe dynamic_setattr() function allows you to set an attribute on an object dynamically.\")"
   ]
  },
  {
   "cell_type": "markdown",
   "id": "590a5965-762a-4f48-9014-0b203d91368f",
   "metadata": {},
   "source": [
    "20.Create a Python class for a social media application, using composition to represent users, posts, and comments."
   ]
  },
  {
   "cell_type": "code",
   "execution_count": 74,
   "id": "dcebd63b-2229-449c-b98d-9831b992f04b",
   "metadata": {},
   "outputs": [],
   "source": [
    "class User:\n",
    "    def __init__(self, name, password):\n",
    "        self.name = name\n",
    "        self.password = password\n",
    "        self.posts = []\n",
    "        self.comments = []\n",
    "\n",
    "    def add_post(self, post):\n",
    "        self.posts.append(post)\n",
    "\n",
    "    def get_posts(self):\n",
    "        return self.posts\n",
    "\n",
    "    def add_comment(self, comment):\n",
    "        self.comments.append(comment)\n",
    "\n",
    "    def get_comments(self):\n",
    "        return self.comments\n",
    "\n",
    "u = User('pallavi', 'pall123')"
   ]
  },
  {
   "cell_type": "code",
   "execution_count": 75,
   "id": "d2f4a8c0-01c5-4354-bd77-f6be2eed74ca",
   "metadata": {},
   "outputs": [],
   "source": [
    "u.add_post('Harry Potter')\n",
    "u.add_post('Spider Man')\n",
    "u.add_post('Bunny')"
   ]
  },
  {
   "cell_type": "code",
   "execution_count": 76,
   "id": "9c5f4b6b-16f0-43a5-befd-f32664b7dc74",
   "metadata": {},
   "outputs": [],
   "source": [
    "u.add_comment('Nice pic')\n",
    "u.add_comment('Looking good')"
   ]
  },
  {
   "cell_type": "code",
   "execution_count": 77,
   "id": "fd8bb523-acf4-4fa8-a3a3-9b05db406b0a",
   "metadata": {},
   "outputs": [
    {
     "name": "stdout",
     "output_type": "stream",
     "text": [
      "['Harry Potter', 'Spider Man', 'Bunny']\n",
      "['Nice pic', 'Looking good']\n"
     ]
    }
   ],
   "source": [
    "print(u.get_posts())\n",
    "print(u.get_comments())"
   ]
  },
  {
   "cell_type": "code",
   "execution_count": null,
   "id": "94d9bf08-6e33-4a74-af76-ffcc245e90a2",
   "metadata": {},
   "outputs": [],
   "source": []
  }
 ],
 "metadata": {
  "kernelspec": {
   "display_name": "Python 3 (ipykernel)",
   "language": "python",
   "name": "python3"
  },
  "language_info": {
   "codemirror_mode": {
    "name": "ipython",
    "version": 3
   },
   "file_extension": ".py",
   "mimetype": "text/x-python",
   "name": "python",
   "nbconvert_exporter": "python",
   "pygments_lexer": "ipython3",
   "version": "3.10.8"
  }
 },
 "nbformat": 4,
 "nbformat_minor": 5
}
