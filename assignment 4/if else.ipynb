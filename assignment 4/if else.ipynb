{
 "cells": [
  {
   "cell_type": "code",
   "execution_count": null,
   "id": "a312f193-1ef2-486b-ab02-323e4eec04e1",
   "metadata": {},
   "outputs": [],
   "source": [
    "BASIC IF-ELSE STATEMENT SOLUTIONS"
   ]
  },
  {
   "cell_type": "markdown",
   "id": "d9188eb9-dfc6-4403-8383-e530447cec0e",
   "metadata": {},
   "source": [
    "1.Write a Python program to check if a given number is positive or negative."
   ]
  },
  {
   "cell_type": "code",
   "execution_count": 1,
   "id": "5501faf2-f65b-4173-98af-4dc814e26c77",
   "metadata": {},
   "outputs": [
    {
     "name": "stdin",
     "output_type": "stream",
     "text": [
      "Enter number:  150\n"
     ]
    },
    {
     "name": "stdout",
     "output_type": "stream",
     "text": [
      "['Positive']\n"
     ]
    }
   ],
   "source": [
    "num=int(input(\"Enter number: \"))\n",
    "n=['Positive' if num>=0 else 'Negative']\n",
    "print(n)"
   ]
  },
  {
   "cell_type": "markdown",
   "id": "b488a9f9-f43c-46d6-ba90-dd7e8233266e",
   "metadata": {},
   "source": [
    "2.Create a program that determines if a person is eligible to vote based on their age."
   ]
  },
  {
   "cell_type": "code",
   "execution_count": 2,
   "id": "2e131497-ca64-4dbf-9643-29ae4a47576f",
   "metadata": {},
   "outputs": [
    {
     "name": "stdin",
     "output_type": "stream",
     "text": [
      "Enter your age:  26\n"
     ]
    },
    {
     "name": "stdout",
     "output_type": "stream",
     "text": [
      "['You are eligible for vote']\n"
     ]
    }
   ],
   "source": [
    "age=int(input(\"Enter your age: \"))\n",
    "v=['You are eligible for vote' if age>17 else 'You are not eligible for vote']\n",
    "print(v)"
   ]
  },
  {
   "cell_type": "markdown",
   "id": "da6d40bb-779f-4b06-96a9-d2f404b37329",
   "metadata": {},
   "source": [
    "3.Develop a program to find the maximum of two numbers using if-else statements."
   ]
  },
  {
   "cell_type": "code",
   "execution_count": 3,
   "id": "c9fa5ac9-e441-4e03-8adf-9fd862bdb0c2",
   "metadata": {},
   "outputs": [
    {
     "name": "stdin",
     "output_type": "stream",
     "text": [
      "Enter first number:  200\n",
      "Enter second number:  352\n"
     ]
    },
    {
     "name": "stdout",
     "output_type": "stream",
     "text": [
      "[(352, 'is maximum number')]\n"
     ]
    }
   ],
   "source": [
    "a=int(input(\"Enter first number: \"))\n",
    "b=int(input(\"Enter second number: \"))\n",
    "m=[(a,'is maximum number.') if a>b else (b,'is maximum number')]\n",
    "print(m)"
   ]
  },
  {
   "cell_type": "markdown",
   "id": "c83e93e5-ab41-485a-a369-686d9dbc5071",
   "metadata": {},
   "source": [
    "4.Write a Python script to classify a given year as a leap year or not."
   ]
  },
  {
   "cell_type": "code",
   "execution_count": 4,
   "id": "5f9e606e-03c5-4d50-9495-2396be33891e",
   "metadata": {},
   "outputs": [
    {
     "name": "stdin",
     "output_type": "stream",
     "text": [
      "Enter year:  2024\n"
     ]
    },
    {
     "name": "stdout",
     "output_type": "stream",
     "text": [
      "[(2024, 'is leap year.')]\n"
     ]
    }
   ],
   "source": [
    "Year=int(input(\"Enter year: \"))\n",
    "l=[(Year,'is leap year.') if Year%4==0 else (Year,'is not leap year')]\n",
    "print(l)"
   ]
  },
  {
   "cell_type": "markdown",
   "id": "963d0697-6db9-44ad-98d1-3e90c0e5015a",
   "metadata": {},
   "source": [
    "5.Create a program that checks whether a character is a vowel or a consonant."
   ]
  },
  {
   "cell_type": "code",
   "execution_count": 5,
   "id": "65fc21c0-6e47-47d1-a095-a9b847b492c8",
   "metadata": {},
   "outputs": [
    {
     "name": "stdin",
     "output_type": "stream",
     "text": [
      "Enter any character:  bghjkoiuesaaa\n"
     ]
    },
    {
     "name": "stdout",
     "output_type": "stream",
     "text": [
      "['It is not vowel']\n"
     ]
    }
   ],
   "source": [
    "char=input(\"Enter any character: \")\n",
    "V='aeiouAEIOU'\n",
    "v=['It is vowel' if char in V else 'It is not vowel']\n",
    "print(v)"
   ]
  },
  {
   "cell_type": "markdown",
   "id": "84ab4cd2-6bfa-494e-bed2-a89fc12f28c6",
   "metadata": {},
   "source": [
    "6.Implement a program to determine whether a given number is even or odd."
   ]
  },
  {
   "cell_type": "code",
   "execution_count": 6,
   "id": "1d62f2a6-449f-48fc-a641-5a7065f8a1cf",
   "metadata": {},
   "outputs": [
    {
     "name": "stdin",
     "output_type": "stream",
     "text": [
      "Enter number:  23\n"
     ]
    },
    {
     "name": "stdout",
     "output_type": "stream",
     "text": [
      "['It is odd number.']\n"
     ]
    }
   ],
   "source": [
    "n=int(input(\"Enter number: \"))\n",
    "e=['It is even number.' if n%2==0 else 'It is odd number.']\n",
    "print(e)"
   ]
  },
  {
   "cell_type": "markdown",
   "id": "4159b53a-7c81-48a0-91ae-843a05afa159",
   "metadata": {},
   "source": [
    "7.Write a Python function to calculate the absolute value of a number without using the `abs()` function."
   ]
  },
  {
   "cell_type": "code",
   "execution_count": 7,
   "id": "b96bb0ba-206c-4c2d-a3d0-13dc17506308",
   "metadata": {},
   "outputs": [
    {
     "name": "stdin",
     "output_type": "stream",
     "text": [
      "Enter number:  950\n"
     ]
    },
    {
     "name": "stdout",
     "output_type": "stream",
     "text": [
      "[950]\n"
     ]
    }
   ],
   "source": [
    "num=int(input(\"Enter number: \"))\n",
    "a=[(-1*num) if num<0 else num]\n",
    "print(a)"
   ]
  },
  {
   "cell_type": "markdown",
   "id": "df29ab1b-2b38-4de4-a6cb-6cdfed609862",
   "metadata": {},
   "source": [
    "8.Develop a program that determines the largest of three given numbers using if-else statements."
   ]
  },
  {
   "cell_type": "code",
   "execution_count": 8,
   "id": "a0fe89c6-9bee-41c3-a6b9-bfca329cecdf",
   "metadata": {},
   "outputs": [
    {
     "name": "stdin",
     "output_type": "stream",
     "text": [
      "Enter number:  1\n",
      "Enter number:  20\n",
      "Enter number:  365\n"
     ]
    },
    {
     "name": "stdout",
     "output_type": "stream",
     "text": [
      "365\n"
     ]
    }
   ],
   "source": [
    "n1=int(input(\"Enter number: \"))\n",
    "n2=int(input(\"Enter number: \"))\n",
    "n3=int(input(\"Enter number: \"))\n",
    "if n1>n2 and n1>n3:\n",
    "    print(n1)\n",
    "elif n2>n1 and n2>n3:\n",
    "    print(n2)\n",
    "else:\n",
    "    print(n3)"
   ]
  },
  {
   "cell_type": "markdown",
   "id": "620755d4-df02-4092-ad4b-023281f63ab7",
   "metadata": {},
   "source": [
    "9.Create a program that checks if a given string is a palindrome."
   ]
  },
  {
   "cell_type": "code",
   "execution_count": 9,
   "id": "d7953d17-aa6a-465b-96a8-bee49c3c0189",
   "metadata": {},
   "outputs": [
    {
     "name": "stdin",
     "output_type": "stream",
     "text": [
      "Enter any string:  my name is pallavi\n"
     ]
    },
    {
     "name": "stdout",
     "output_type": "stream",
     "text": [
      "['The string is not palindrome']\n"
     ]
    }
   ],
   "source": [
    "s=input(\"Enter any string: \")\n",
    "p=['The string is palindrome' if s==s[::-1] else 'The string is not palindrome']\n",
    "print(p)"
   ]
  },
  {
   "cell_type": "markdown",
   "id": "afa0fdfc-fe89-4df7-a5fc-cc471fd46e89",
   "metadata": {},
   "source": [
    "10.Write a Python program to calculate the grade based on a student's score."
   ]
  },
  {
   "cell_type": "code",
   "execution_count": 10,
   "id": "42e1a9dd-3e2e-4aef-876c-93eedf49ccc2",
   "metadata": {},
   "outputs": [
    {
     "name": "stdin",
     "output_type": "stream",
     "text": [
      "Enter student score:  85\n"
     ]
    },
    {
     "name": "stdout",
     "output_type": "stream",
     "text": [
      "['B']\n"
     ]
    }
   ],
   "source": [
    "score=int(input(\"Enter student score: \"))\n",
    "g=['A' if score>90 else 'B' if 80<score<91 else 'C' if 70<score<81 else 'D' if 60<score<71 else 'E' if 50<score<61 else 'Fail']\n",
    "print(g)"
   ]
  },
  {
   "cell_type": "markdown",
   "id": "a4fa41d4-ac09-49ec-96e4-c53ccd7525a1",
   "metadata": {},
   "source": [
    "NESTED IF-ELSE STATEMENT SOLUTIONS"
   ]
  },
  {
   "cell_type": "markdown",
   "id": "01474072-fe5d-4886-9b5a-f05aa6a6999b",
   "metadata": {},
   "source": [
    "11.Write a program to find the largest among three numbers using nested if-else statements."
   ]
  },
  {
   "cell_type": "code",
   "execution_count": 11,
   "id": "9b01baed-53d0-4b5c-98fc-f29ef3e95cab",
   "metadata": {},
   "outputs": [
    {
     "name": "stdin",
     "output_type": "stream",
     "text": [
      "Enter number:  20\n",
      "Enter number:  365\n",
      "Enter number:  2654\n"
     ]
    },
    {
     "name": "stdout",
     "output_type": "stream",
     "text": [
      "2654\n"
     ]
    }
   ],
   "source": [
    "n1=int(input(\"Enter number: \"))\n",
    "n2=int(input(\"Enter number: \"))\n",
    "n3=int(input(\"Enter number: \"))\n",
    "if n1>n2 and n1>n3:\n",
    "    print(n1)\n",
    "elif n2>n1 and n2>n3:\n",
    "    print(n2)\n",
    "else:\n",
    "    print(n3)"
   ]
  },
  {
   "cell_type": "markdown",
   "id": "f77ef1c6-30f2-4bd9-b454-d6dab22a3d73",
   "metadata": {},
   "source": [
    "12.Implement a program to determine if a triangle is equilateral, isosceles, or scalene."
   ]
  },
  {
   "cell_type": "code",
   "execution_count": 12,
   "id": "6071365a-5ef0-424b-8bbc-4879bd98cd24",
   "metadata": {},
   "outputs": [
    {
     "name": "stdin",
     "output_type": "stream",
     "text": [
      "Enter length1:  20\n",
      "Enter length2:  22\n",
      "Enter length3:  20\n"
     ]
    },
    {
     "name": "stdout",
     "output_type": "stream",
     "text": [
      "['It is isosceles triangle']\n"
     ]
    }
   ],
   "source": [
    "l1=int(input(\"Enter length1: \"))\n",
    "l2=int(input(\"Enter length2: \"))\n",
    "l3=int(input(\"Enter length3: \"))\n",
    "t=['It is equilateral triangle' if l1==l2==l3 else 'It is isosceles triangle' if l1==l2 or l2==l3 or l3==l1 else 'It is scalene triangle' if l1!=l2!=l3 and l1+l2+l3==180 else 'Enter correct numbers.']\n",
    "print(t)"
   ]
  },
  {
   "cell_type": "markdown",
   "id": "1a2cdca0-9cf5-420b-9ca6-bc3c31a52fa6",
   "metadata": {},
   "source": [
    "13.Develop a program that checks if a year is a leap year and also if it is a century year."
   ]
  },
  {
   "cell_type": "code",
   "execution_count": 15,
   "id": "f49192a9-b88e-4d08-92f5-cabc7f534c3d",
   "metadata": {},
   "outputs": [
    {
     "name": "stdin",
     "output_type": "stream",
     "text": [
      "Enter any year:  2024\n"
     ]
    },
    {
     "name": "stdout",
     "output_type": "stream",
     "text": [
      "['It is leap year but not a century year']\n"
     ]
    }
   ],
   "source": [
    "year=int(input(\"Enter any year: \"))\n",
    "lc=['It is leap year and century year' if year%4==0 and year%100==0 else 'It is leap year but not a century year' if year%4==0 and year%100!=0 else 'It is century year but not a leap year' if year%4!=0 and year%100==0 else 'Enter valid year:']\n",
    "print(lc)"
   ]
  },
  {
   "cell_type": "markdown",
   "id": "508f0eee-bfc6-4410-bc48-9ee3564b67f5",
   "metadata": {},
   "source": [
    "14.Write a Python script to determine if a number is positive, negative, or zero."
   ]
  },
  {
   "cell_type": "code",
   "execution_count": 16,
   "id": "9529e9e8-1b91-4554-8d36-790fad4cd3e3",
   "metadata": {},
   "outputs": [
    {
     "name": "stdin",
     "output_type": "stream",
     "text": [
      "Enter any number:  -202\n"
     ]
    },
    {
     "name": "stdout",
     "output_type": "stream",
     "text": [
      "['Negative number']\n"
     ]
    }
   ],
   "source": [
    "n=int(input(\"Enter any number: \"))\n",
    "pnz=['Positive number' if n>0 else 'Negative number' if n<0 else 'n is zero']\n",
    "print(pnz)"
   ]
  },
  {
   "cell_type": "markdown",
   "id": "5391b80b-4da5-443b-bee4-140515c3c701",
   "metadata": {},
   "source": [
    "15.Create a program to check if a person is a teenager (between 13 and 19 years old)."
   ]
  },
  {
   "cell_type": "code",
   "execution_count": 19,
   "id": "8b62d798-4136-482a-be34-b6bc26999bc4",
   "metadata": {},
   "outputs": [
    {
     "name": "stdin",
     "output_type": "stream",
     "text": [
      "Enter age:  26\n"
     ]
    },
    {
     "name": "stdout",
     "output_type": "stream",
     "text": [
      "['she is not a teenager']\n"
     ]
    }
   ],
   "source": [
    "age=int(input(\"Enter age: \"))\n",
    "t=['she is teenager' if 12<age<20 else 'she is not a teenager']\n",
    "print(t)"
   ]
  },
  {
   "cell_type": "markdown",
   "id": "b43296ba-258c-4c17-b253-36d9e215dc3e",
   "metadata": {},
   "source": [
    "16.Develop a program that determines the type of angle based on its measure (acute, obtuse, or right)."
   ]
  },
  {
   "cell_type": "code",
   "execution_count": 21,
   "id": "e4a32040-f5a1-468e-b95c-19458fbe792d",
   "metadata": {},
   "outputs": [
    {
     "name": "stdin",
     "output_type": "stream",
     "text": [
      "Enter angle:  50\n"
     ]
    },
    {
     "name": "stdout",
     "output_type": "stream",
     "text": [
      "['It is acute angle']\n"
     ]
    }
   ],
   "source": [
    "ang=int(input(\"Enter angle: \"))\n",
    "A=['It is acute angle' if ang<90 else 'It is right angle' if ang==90 else 'It is obtuse angle']\n",
    "print(A)"
   ]
  },
  {
   "cell_type": "markdown",
   "id": "31919b6b-b106-43e2-91fb-eded64e985d5",
   "metadata": {},
   "source": [
    "17.Write a Python program to calculate the roots of a quadratic equation."
   ]
  },
  {
   "cell_type": "code",
   "execution_count": 22,
   "id": "938186c9-60ac-43e2-b4e2-6b9011b4be7a",
   "metadata": {},
   "outputs": [
    {
     "name": "stdin",
     "output_type": "stream",
     "text": [
      "Enter a:  5\n",
      "Enter b:  20\n",
      "Enter c:  25\n"
     ]
    },
    {
     "name": "stdout",
     "output_type": "stream",
     "text": [
      "(-50+25j)\n",
      "(-50-25j)\n"
     ]
    }
   ],
   "source": [
    "a=int(input(\"Enter a: \"))\n",
    "b=int(input(\"Enter b: \"))\n",
    "c=int(input(\"Enter c: \"))\n",
    "print((-b + (b**2-4*a*c)**0.5)/2*a)\n",
    "print((-b - (b**2-4*a*c)**0.5)/2*a)"
   ]
  },
  {
   "cell_type": "markdown",
   "id": "0109fd95-e075-4ce3-99ae-b5309dae8b3a",
   "metadata": {},
   "source": [
    "18.Implement a program to determine the day of the week based on a user-provided number (1 for Monday, 2 for Tuesday, etc.)."
   ]
  },
  {
   "cell_type": "code",
   "execution_count": 23,
   "id": "c5b3054e-4ff6-4ee0-97aa-63394297cf26",
   "metadata": {},
   "outputs": [
    {
     "name": "stdin",
     "output_type": "stream",
     "text": [
      "Enter number:  3\n"
     ]
    },
    {
     "name": "stdout",
     "output_type": "stream",
     "text": [
      "['Wednesday']\n"
     ]
    }
   ],
   "source": [
    "n=int(input(\"Enter number: \"))\n",
    "w=['Monday' if n==1 else 'Tuesday' if n==2 else 'Wednesday' if n==3 else 'Thursday' if n==4 else 'Friday' if n==5 else 'Saturday' if n==6 else 'Sunday']\n",
    "print(w)"
   ]
  },
  {
   "cell_type": "markdown",
   "id": "39bb3375-5d08-4cdd-aa86-3f813a19b3a6",
   "metadata": {},
   "source": [
    "19.Create a program that determines if a year is a leap year and also if it is evenly divisible by 400."
   ]
  },
  {
   "cell_type": "code",
   "execution_count": 24,
   "id": "fe0e9b9f-85c5-45a5-a294-21d2f6437ad4",
   "metadata": {},
   "outputs": [
    {
     "name": "stdin",
     "output_type": "stream",
     "text": [
      "Enter any year:  2024\n"
     ]
    },
    {
     "name": "stdout",
     "output_type": "stream",
     "text": [
      "['It is leap year but not divisible by 400']\n"
     ]
    }
   ],
   "source": [
    "year=int(input(\"Enter any year: \"))\n",
    "lc=['It is leap year and divisible by 400' if year%4==0 and year%400==0 else 'It is leap year but not divisible by 400']\n",
    "print(lc)"
   ]
  },
  {
   "cell_type": "markdown",
   "id": "1af61820-e45c-4838-b7f5-9c551c1b6a6b",
   "metadata": {},
   "source": [
    "20.Develop a program that checks if a given number is prime or not using nested if-else statements."
   ]
  },
  {
   "cell_type": "code",
   "execution_count": 25,
   "id": "f5e8a867-2e4f-4afe-ac7b-e1d2de4e3a75",
   "metadata": {},
   "outputs": [
    {
     "name": "stdin",
     "output_type": "stream",
     "text": [
      "Enter number:  25\n"
     ]
    },
    {
     "name": "stdout",
     "output_type": "stream",
     "text": [
      "It is not prime\n"
     ]
    }
   ],
   "source": [
    "num=int(input(\"Enter number: \"))\n",
    "count=0\n",
    "for i in range(1,num+1):\n",
    "    if num%i==0:\n",
    "        count+=1\n",
    "if count<3:\n",
    "    print(\"It is prime\")\n",
    "else:\n",
    "    print(\"It is not prime\")"
   ]
  },
  {
   "cell_type": "markdown",
   "id": "31ece70a-d52f-4a39-88ed-5615715ca8ee",
   "metadata": {},
   "source": [
    "ELIF STATEMENT SOLUTIONS"
   ]
  },
  {
   "cell_type": "markdown",
   "id": "6e4c41c4-fed3-4c71-8677-140eec45a2fd",
   "metadata": {},
   "source": [
    "21.Write a Python program to assign grades based on different ranges of scores using elif statements."
   ]
  },
  {
   "cell_type": "code",
   "execution_count": 26,
   "id": "b545df53-2ef8-4ac8-b668-e33a124297a4",
   "metadata": {},
   "outputs": [
    {
     "name": "stdin",
     "output_type": "stream",
     "text": [
      "Enter marks:  85\n"
     ]
    },
    {
     "name": "stdout",
     "output_type": "stream",
     "text": [
      "B Grade\n"
     ]
    }
   ],
   "source": [
    "mark=int(input(\"Enter marks: \"))\n",
    "if mark>90:\n",
    "    print('A Grade')\n",
    "elif 80<mark<91:\n",
    "    print('B Grade')\n",
    "elif 70<mark<81:\n",
    "    print('C Grade')\n",
    "elif 60<mark<71:\n",
    "    print('D Grade')\n",
    "elif 50<mark<61:\n",
    "    print('E Grade')\n",
    "elif 40<mark<51:\n",
    "    print('F Grade')\n",
    "else:\n",
    "    print('Fail')"
   ]
  },
  {
   "cell_type": "markdown",
   "id": "27b0314b-25f0-4bc5-a894-c6ab1062f905",
   "metadata": {},
   "source": [
    "22.Implement a program to determine the type of a triangle based on its angles."
   ]
  },
  {
   "cell_type": "code",
   "execution_count": 27,
   "id": "854705fb-9311-487a-ae5d-9e4db109febb",
   "metadata": {},
   "outputs": [
    {
     "name": "stdin",
     "output_type": "stream",
     "text": [
      "Enter angle1:  63\n",
      "Enter angle2:  36\n",
      "Enter angle3:  45\n"
     ]
    },
    {
     "name": "stdout",
     "output_type": "stream",
     "text": [
      "Acute triangle\n"
     ]
    }
   ],
   "source": [
    "ang1=int(input(\"Enter angle1: \"))\n",
    "ang2=int(input(\"Enter angle2: \"))\n",
    "ang3=int(input(\"Enter angle3: \"))\n",
    "if (ang1==90 and ang2<90 and ang3<90) or (ang1<90 and ang2==90 and ang3<90) or (ang1<90 and ang2<90 and ang3==90):\n",
    "    print('Right angle triangle')\n",
    "elif ang1<90 and ang2<90 and ang3<90:\n",
    "    print('Acute triangle')\n",
    "else:\n",
    "    print('Obtuse triangle')"
   ]
  },
  {
   "cell_type": "markdown",
   "id": "42ebb492-267a-4bd8-9ca6-8dd7020ba6cc",
   "metadata": {},
   "source": [
    "23.Develop a program to categorize a given person's BMI into underweight, normal, overweight, or obese using elif statements."
   ]
  },
  {
   "cell_type": "code",
   "execution_count": 28,
   "id": "ad858be2-a95f-4d7e-b956-bd293d9a66e6",
   "metadata": {},
   "outputs": [
    {
     "name": "stdin",
     "output_type": "stream",
     "text": [
      "Enter BMI:  26\n"
     ]
    },
    {
     "name": "stdout",
     "output_type": "stream",
     "text": [
      "Overweight\n"
     ]
    }
   ],
   "source": [
    "bmi=float(input(\"Enter BMI: \"))\n",
    "if bmi<18.5:\n",
    "    print('Underweight')\n",
    "elif 18.5<bmi<24.9:\n",
    "    print('Normal BMI')\n",
    "elif 25.0<bmi<29.9:\n",
    "    print('Overweight')\n",
    "else:\n",
    "    print('Obese')"
   ]
  },
  {
   "cell_type": "markdown",
   "id": "984128ab-5fb2-4d8a-a0fb-9a3db103fb89",
   "metadata": {},
   "source": [
    "24.Create a program that determines whether a given number is positive, negative, or zero using elif statements."
   ]
  },
  {
   "cell_type": "code",
   "execution_count": 30,
   "id": "a2059591-6ce5-407c-90cd-befd8679f13b",
   "metadata": {},
   "outputs": [
    {
     "name": "stdin",
     "output_type": "stream",
     "text": [
      "Enter a number:  0\n"
     ]
    },
    {
     "name": "stdout",
     "output_type": "stream",
     "text": [
      "Number is zero\n"
     ]
    }
   ],
   "source": [
    "num=int(input(\"Enter a number: \"))\n",
    "if num>0:\n",
    "    print(\"Positive number\")\n",
    "elif num<0:\n",
    "    print(\"Negative number\")\n",
    "else:\n",
    "    print(\"Number is zero\")"
   ]
  },
  {
   "cell_type": "markdown",
   "id": "d8ed296b-8fd1-4db3-b9ae-f0eb99e46bfd",
   "metadata": {},
   "source": [
    "25.Write a Python script to determine the type of a character (uppercase, lowercase, or special) using elif statements."
   ]
  },
  {
   "cell_type": "code",
   "execution_count": 31,
   "id": "8ae1daf4-16c0-4bd6-9753-6c461fe13d02",
   "metadata": {},
   "outputs": [
    {
     "name": "stdin",
     "output_type": "stream",
     "text": [
      "Enter any character:  Anhfj&jg-)\n"
     ]
    },
    {
     "name": "stdout",
     "output_type": "stream",
     "text": [
      "char is special character\n"
     ]
    }
   ],
   "source": [
    "char=input(\"Enter any character: \")\n",
    "if char.isupper():\n",
    "    print(\"char in uppercase\")\n",
    "elif char.islower():\n",
    "    print(\"char in lowercase\")\n",
    "else:\n",
    "    print(\"char is special character\")"
   ]
  },
  {
   "cell_type": "markdown",
   "id": "60858cf1-cb07-47cd-9398-ec41c97f40a0",
   "metadata": {},
   "source": [
    "26.Implement a program to calculate the discounted price based on different purchase amounts using elif statements."
   ]
  },
  {
   "cell_type": "code",
   "execution_count": 34,
   "id": "fedb4e00-a51f-4943-84c0-94a286feeb35",
   "metadata": {},
   "outputs": [
    {
     "name": "stdin",
     "output_type": "stream",
     "text": [
      "Enter purchased amount:  16258\n"
     ]
    },
    {
     "name": "stdout",
     "output_type": "stream",
     "text": [
      "you got 15% discount and discounted amount is  13819.3\n"
     ]
    }
   ],
   "source": [
    "pp=int(input(\"Enter purchased amount: \"))\n",
    "if pp>14999:\n",
    "    print(\"you got 15% discount and discounted amount is \", pp-(pp*15)/100)\n",
    "elif 14999<pp<30000:\n",
    "    print(\"you got 20% discount and discounted amount is \", pp-(pp*20)/100)\n",
    "elif pp>30000:\n",
    "    print(\"you got 25% discount and discounted amount is \", pp-(pp*25)/100)\n",
    "else:\n",
    "    print(\"you are not eligible for discount\")"
   ]
  },
  {
   "cell_type": "markdown",
   "id": "574a77d1-7d14-42f7-8485-0298e9f3ba4f",
   "metadata": {},
   "source": [
    "27.Develop a program to calculate the electricity bill based on different consumption slabs using elif statements."
   ]
  },
  {
   "cell_type": "code",
   "execution_count": 35,
   "id": "191463e4-63eb-4d24-a4df-2f6ea27829e4",
   "metadata": {},
   "outputs": [
    {
     "name": "stdin",
     "output_type": "stream",
     "text": [
      "Enter units of current:  22\n"
     ]
    },
    {
     "name": "stdout",
     "output_type": "stream",
     "text": [
      "you current bill is  220\n"
     ]
    }
   ],
   "source": [
    "c=int(input(\"Enter units of current: \"))\n",
    "if 0<c<14:\n",
    "    print(\"your current bill is \", c*3)\n",
    "if 13<c<20:\n",
    "    print(\"you current bill is \", c*4)\n",
    "elif 19<pp<25:\n",
    "    print(\"you current bill is \", c*5)\n",
    "elif 24<pp<30:\n",
    "    print(\"you current bill is \", c*6)\n",
    "else:\n",
    "    print(\"you current bill is \", c*10)"
   ]
  },
  {
   "cell_type": "markdown",
   "id": "d24acd3f-5130-4a05-850c-37e13b597b6d",
   "metadata": {},
   "source": [
    "28.Create a program to determine the type of quadrilateral based on its angles and sides using elif statements."
   ]
  },
  {
   "cell_type": "code",
   "execution_count": 36,
   "id": "be6457f6-c0c6-48de-8484-4117a1897c08",
   "metadata": {},
   "outputs": [
    {
     "name": "stdin",
     "output_type": "stream",
     "text": [
      "Enter angle 1: 20\n",
      "Enter angle 2: 36\n",
      "Enter angle 3: 55\n",
      "Enter angle 4 96\n"
     ]
    },
    {
     "name": "stdout",
     "output_type": "stream",
     "text": [
      "It is not quadrilateral\n"
     ]
    }
   ],
   "source": [
    "a=int(input(\"Enter angle 1:\"))\n",
    "b=int(input(\"Enter angle 2:\"))\n",
    "c=int(input(\"Enter angle 3:\"))\n",
    "d=int(input(\"Enter angle 4\"))\n",
    "if (a+b+c+d==360):\n",
    "    print(\"It is quadrilateral\")\n",
    "else:\n",
    "    print(\"It is not quadrilateral\")"
   ]
  },
  {
   "cell_type": "markdown",
   "id": "402b731d-4782-499e-974e-4f85b0f566c5",
   "metadata": {},
   "source": [
    "29.Write a Python script to determine the season based on a user-provided month using elif statements."
   ]
  },
  {
   "cell_type": "code",
   "execution_count": 37,
   "id": "97a48a9a-064c-4229-95b4-befaa393debe",
   "metadata": {},
   "outputs": [
    {
     "name": "stdin",
     "output_type": "stream",
     "text": [
      "Enter month number:  6\n"
     ]
    },
    {
     "name": "stdout",
     "output_type": "stream",
     "text": [
      "Spring season\n"
     ]
    }
   ],
   "source": [
    "m=int(input(\"Enter month number: \"))\n",
    "if 0<m<4:\n",
    "    print(\"Winter season\")\n",
    "elif 3<m<7:\n",
    "    print(\"Spring season\")\n",
    "elif 6<m<10:\n",
    "    print(\"Summer season\")\n",
    "else:\n",
    "    print(\"Autumn season\")"
   ]
  },
  {
   "cell_type": "markdown",
   "id": "d6cba35d-7b2b-4708-9155-38ad3ce50b07",
   "metadata": {},
   "source": [
    "30.Implement a program to determine the type of a year (leap or common) and month (30 or 31 days) using elif statements."
   ]
  },
  {
   "cell_type": "code",
   "execution_count": 43,
   "id": "c22d40b5-a51b-4088-8150-6925f4159936",
   "metadata": {},
   "outputs": [
    {
     "name": "stdin",
     "output_type": "stream",
     "text": [
      "Enter year:  2024\n",
      "Enter month:  feb\n"
     ]
    },
    {
     "name": "stdout",
     "output_type": "stream",
     "text": [
      "2024 is leap year and feb has 29 days\n"
     ]
    }
   ],
   "source": [
    "y=int(input(\"Enter year: \"))\n",
    "m=input(\"Enter month: \")\n",
    "months=['jan','mar','may','july','aug','oct','dec']\n",
    "months2=['april','june','sep','nov']\n",
    "months3=['feb']\n",
    "\n",
    "if y%4==0 and m in months:\n",
    "    print(y,'is leap year and' ,m, 'has 31 days')\n",
    "elif y%4!=0 and m in months2:\n",
    "    print(y,'is not leap year and' ,m, 'has 30 days')\n",
    "elif y%4==0 and m in months2:\n",
    "    print(y,'is leap year and' ,m, 'has 30 days')\n",
    "elif  y%4!=0 and m in months:\n",
    "    print(y,'is not leap year and' ,m, 'has 31 days')\n",
    " \n",
    "elif y%4==0 and m in months3:\n",
    "    print(y,'is leap year and' ,m, 'has 29 days')\n",
    "elif  y%4!=0 and m in months:\n",
    "    print(y,'is not leap year and' ,m, 'has 29 days')\n",
    "else:\n",
    "    print(\"Enter valid values: \")"
   ]
  },
  {
   "cell_type": "markdown",
   "id": "62d16e12-523a-43b5-9a65-f35b798e9d42",
   "metadata": {},
   "source": [
    "BASIC LEVEL SOLUTIONS"
   ]
  },
  {
   "cell_type": "markdown",
   "id": "b6c4c676-b8e3-4f99-a7bf-21b815041cf3",
   "metadata": {},
   "source": [
    "1.Write a Python program that checks if a given number is positive, negative, or zero."
   ]
  },
  {
   "cell_type": "code",
   "execution_count": 44,
   "id": "82b59914-a0a5-4fe3-ab99-8f8ae85d9af0",
   "metadata": {},
   "outputs": [
    {
     "name": "stdin",
     "output_type": "stream",
     "text": [
      "Enter any number:  20\n"
     ]
    },
    {
     "name": "stdout",
     "output_type": "stream",
     "text": [
      "['Positive number']\n"
     ]
    }
   ],
   "source": [
    "n=int(input(\"Enter any number: \"))\n",
    "pnz=['Positive number' if n>0 else 'Negative number' if n<0 else 'n is zero']\n",
    "print(pnz)"
   ]
  },
  {
   "cell_type": "markdown",
   "id": "90276114-1aee-4b78-b54c-324343a0a51c",
   "metadata": {},
   "source": [
    "2.Create a program to determine if a person is eligible to vote based on their age."
   ]
  },
  {
   "cell_type": "code",
   "execution_count": 45,
   "id": "cb92a00d-4458-4b5a-91a0-cc2b05867e14",
   "metadata": {},
   "outputs": [
    {
     "name": "stdin",
     "output_type": "stream",
     "text": [
      "Enter your age:  26\n"
     ]
    },
    {
     "name": "stdout",
     "output_type": "stream",
     "text": [
      "['You are eligible for vote']\n"
     ]
    }
   ],
   "source": [
    "age=int(input(\"Enter your age: \"))\n",
    "v=['You are eligible for vote' if age>17 else 'You are not eligible for vote']\n",
    "print(v)"
   ]
  },
  {
   "cell_type": "markdown",
   "id": "65d9d9d9-be2b-4528-9fd2-238df0757776",
   "metadata": {},
   "source": [
    "3.Write a program to find the maximum of two given numbers using conditional statements."
   ]
  },
  {
   "cell_type": "code",
   "execution_count": 46,
   "id": "dc3c4c91-30c3-4011-9aca-cf6b820ac5af",
   "metadata": {},
   "outputs": [
    {
     "name": "stdin",
     "output_type": "stream",
     "text": [
      "Enter first number:  202\n",
      "Enter second number:  36\n"
     ]
    },
    {
     "name": "stdout",
     "output_type": "stream",
     "text": [
      "[(202, 'is maximum number.')]\n"
     ]
    }
   ],
   "source": [
    "a=int(input(\"Enter first number: \"))\n",
    "b=int(input(\"Enter second number: \"))\n",
    "m=[(a,'is maximum number.') if a>b else (b,'is maximum number')]\n",
    "print(m)"
   ]
  },
  {
   "cell_type": "markdown",
   "id": "d2ac9145-bab2-4ca6-bf27-b9d313e4e25c",
   "metadata": {},
   "source": [
    "4.Develop a program that calculates the grade of a student based on their exam score."
   ]
  },
  {
   "cell_type": "code",
   "execution_count": 47,
   "id": "995aa5e7-7328-443f-8803-c9b40126e848",
   "metadata": {},
   "outputs": [
    {
     "name": "stdin",
     "output_type": "stream",
     "text": [
      "Enter marks:  45\n"
     ]
    },
    {
     "name": "stdout",
     "output_type": "stream",
     "text": [
      "F Grade\n"
     ]
    }
   ],
   "source": [
    "mark=int(input(\"Enter marks: \"))\n",
    "if mark>90:\n",
    "    print('A Grade')\n",
    "elif 80<mark<91:\n",
    "    print('B Grade')\n",
    "elif 70<mark<81:\n",
    "    print('C Grade')\n",
    "elif 60<mark<71:\n",
    "    print('D Grade')\n",
    "elif 50<mark<61:\n",
    "    print('E Grade')\n",
    "elif 40<mark<51:\n",
    "    print('F Grade')\n",
    "else:\n",
    "    print('Fail')"
   ]
  },
  {
   "cell_type": "markdown",
   "id": "b9a42889-70d3-4254-951f-69485a5f10c9",
   "metadata": {},
   "source": [
    "5.Create a program that checks if a year is a leap year or not."
   ]
  },
  {
   "cell_type": "code",
   "execution_count": 48,
   "id": "32ff0137-17a2-4501-b80e-2036242b2bba",
   "metadata": {},
   "outputs": [
    {
     "name": "stdin",
     "output_type": "stream",
     "text": [
      "Enter year:  2023\n"
     ]
    },
    {
     "name": "stdout",
     "output_type": "stream",
     "text": [
      "[(2023, 'is not leap year')]\n"
     ]
    }
   ],
   "source": [
    "Year=int(input(\"Enter year: \"))\n",
    "l=[(Year,'is leap year.') if Year%4==0 else (Year,'is not leap year')]\n",
    "print(l)"
   ]
  },
  {
   "cell_type": "markdown",
   "id": "61aa68f6-9579-43e2-bc80-5bb5263e6398",
   "metadata": {},
   "source": [
    "6.Write a program to classify a triangle based on its sides' lengths."
   ]
  },
  {
   "cell_type": "code",
   "execution_count": 50,
   "id": "c2fe1ea2-69e2-40fb-a8b2-0eb1b341ab64",
   "metadata": {},
   "outputs": [
    {
     "name": "stdin",
     "output_type": "stream",
     "text": [
      "Enter length1:  25\n",
      "Enter length2:  26\n",
      "Enter length3:  25\n"
     ]
    },
    {
     "name": "stdout",
     "output_type": "stream",
     "text": [
      "['It is isosceles triangle']\n"
     ]
    }
   ],
   "source": [
    "l1=int(input(\"Enter length1: \"))\n",
    "l2=int(input(\"Enter length2: \"))\n",
    "l3=int(input(\"Enter length3: \"))\n",
    "t=['It is equilateral triangle' if l1==l2==l3 else 'It is isosceles triangle' if l1==l2 or l2==l3 or l3==l1 else 'It is scalene triangle' if l1!=l2!=l3 and l1+l2+l3==180 else 'Enter correct numbers.']\n",
    "print(t)"
   ]
  },
  {
   "cell_type": "markdown",
   "id": "3d561d46-ec66-4888-85bb-5ea192506635",
   "metadata": {},
   "source": [
    "7.Build a program that determines the largest of three given numbers."
   ]
  },
  {
   "cell_type": "code",
   "execution_count": 51,
   "id": "c8cdb9b5-a63a-4599-86b2-f9d34436825c",
   "metadata": {},
   "outputs": [
    {
     "name": "stdin",
     "output_type": "stream",
     "text": [
      "Enter number:  222\n",
      "Enter number:  333\n",
      "Enter number:  454\n"
     ]
    },
    {
     "name": "stdout",
     "output_type": "stream",
     "text": [
      "454\n"
     ]
    }
   ],
   "source": [
    "n1=int(input(\"Enter number: \"))\n",
    "n2=int(input(\"Enter number: \"))\n",
    "n3=int(input(\"Enter number: \"))\n",
    "if n1>n2 and n1>n3:\n",
    "    print(n1)\n",
    "elif n2>n1 and n2>n3:\n",
    "    print(n2)\n",
    "else:\n",
    "    print(n3)"
   ]
  },
  {
   "cell_type": "markdown",
   "id": "3d0c2531-5d22-4675-b676-7066278e13bf",
   "metadata": {},
   "source": [
    "8.Develop a program that checks whether a character is a vowel or a consonant."
   ]
  },
  {
   "cell_type": "code",
   "execution_count": 52,
   "id": "bfd44eba-7b75-43d1-9d97-4c03eb9175f6",
   "metadata": {},
   "outputs": [
    {
     "name": "stdin",
     "output_type": "stream",
     "text": [
      "Enter any char:  vfdsaaaai\n"
     ]
    },
    {
     "name": "stdout",
     "output_type": "stream",
     "text": [
      "char is consonant\n"
     ]
    }
   ],
   "source": [
    "char=input(\"Enter any char: \")\n",
    "v=\"aeiouAEIOU\"\n",
    "if char in v:\n",
    "    print(\"char is vowel\")\n",
    "else:\n",
    "    print(\"char is consonant\")"
   ]
  },
  {
   "cell_type": "markdown",
   "id": "bd50a229-35ca-4984-afa1-e2f12cbabe16",
   "metadata": {},
   "source": [
    "9.Create a program to calculate the total cost of a shopping cart based on discounts."
   ]
  },
  {
   "cell_type": "code",
   "execution_count": 53,
   "id": "55963aa6-b961-49fd-8bb6-02f1e2c321bc",
   "metadata": {},
   "outputs": [
    {
     "name": "stdin",
     "output_type": "stream",
     "text": [
      "Enter all prices with spaces:  250 300 520\n"
     ]
    },
    {
     "name": "stdout",
     "output_type": "stream",
     "text": [
      "1016.5\n"
     ]
    }
   ],
   "source": [
    "total_cost=[]\n",
    "c=input(\"Enter all prices with spaces: \")\n",
    "l=c.split(\" \")\n",
    "for i in l:\n",
    "    n=int(i)\n",
    "    if n>100:\n",
    "        total_cost.append(n-(n*5)/100)\n",
    "    elif 99<n<500:\n",
    "        total_cost.append(n-(n*7)/100)\n",
    "    elif 499<n<1001:\n",
    "        total_cost.append(n-(n*9)/100)\n",
    "    elif n>1000:\n",
    "        total_cost.append(n-(n*12)/100)\n",
    "    else:\n",
    "        total_cost.append(n)\n",
    "t=sum(i for i in total_cost)\n",
    "print(t)"
   ]
  },
  {
   "cell_type": "markdown",
   "id": "707252d6-9a4f-4205-9d8d-07dc91f51ef5",
   "metadata": {},
   "source": [
    "10.Write a program that checks if a given number is even or odd."
   ]
  },
  {
   "cell_type": "code",
   "execution_count": 54,
   "id": "c61b674f-8de4-4166-98ed-30baf147c0ff",
   "metadata": {},
   "outputs": [
    {
     "name": "stdin",
     "output_type": "stream",
     "text": [
      "Enter number:  11\n"
     ]
    },
    {
     "name": "stdout",
     "output_type": "stream",
     "text": [
      "['It is odd number.']\n"
     ]
    }
   ],
   "source": [
    "n=int(input(\"Enter number: \"))\n",
    "e=['It is even number.' if n%2==0 else 'It is odd number.']\n",
    "print(e)"
   ]
  },
  {
   "cell_type": "markdown",
   "id": "ab539329-cd65-47ad-9266-c52c8c427ae2",
   "metadata": {},
   "source": [
    "INTERMEDIATE LEVEL SOLUTIONS"
   ]
  },
  {
   "cell_type": "markdown",
   "id": "6236c45a-e7fe-4d1f-8c9a-867591129f7b",
   "metadata": {},
   "source": [
    "11.Write a program that calculates the roots of a quadratic equation ."
   ]
  },
  {
   "cell_type": "code",
   "execution_count": 57,
   "id": "51015b71-ec77-4d06-a560-db213ff0fc65",
   "metadata": {},
   "outputs": [
    {
     "name": "stdin",
     "output_type": "stream",
     "text": [
      "Enter a:  25\n",
      "Enter b:  50\n",
      "Enter c:  100\n"
     ]
    },
    {
     "name": "stdout",
     "output_type": "stream",
     "text": [
      "(-624.9999999999999+1082.5317547305483j)\n",
      "(-625.0000000000001-1082.5317547305483j)\n"
     ]
    }
   ],
   "source": [
    "a=int(input(\"Enter a: \"))\n",
    "b=int(input(\"Enter b: \"))\n",
    "c=int(input(\"Enter c: \"))\n",
    "print((-b + (b**2-4*a*c)**0.5)/2*a)\n",
    "print((-b - (b**2-4*a*c)**0.5)/2*a)"
   ]
  },
  {
   "cell_type": "markdown",
   "id": "822d030a-0073-4bf4-82a5-5a69be3acc59",
   "metadata": {},
   "source": [
    "12.Create a program that determines the day of the week based on the day number (1-7)."
   ]
  },
  {
   "cell_type": "code",
   "execution_count": 58,
   "id": "c65f4b61-78cd-4636-a360-b10f998578b6",
   "metadata": {},
   "outputs": [
    {
     "name": "stdin",
     "output_type": "stream",
     "text": [
      "Enter number:  5\n"
     ]
    },
    {
     "name": "stdout",
     "output_type": "stream",
     "text": [
      "['Friday']\n"
     ]
    }
   ],
   "source": [
    "n=int(input(\"Enter number: \"))\n",
    "w=['Monday' if n==1 else 'Tuesday' if n==2 else 'Wednesday' if n==3 else 'Thursday' if n==4 else 'Friday' if n==5 else 'Saturday' if n==6 else 'Sunday']\n",
    "print(w)"
   ]
  },
  {
   "cell_type": "markdown",
   "id": "8b0c1d0a-f4d8-48a5-a450-a4d92aeb31e2",
   "metadata": {},
   "source": [
    "13.Develop a program that calculates the factorial of a given number using recursion."
   ]
  },
  {
   "cell_type": "code",
   "execution_count": 59,
   "id": "844db203-4b13-4c0e-afd7-d6dee56aedd7",
   "metadata": {},
   "outputs": [
    {
     "name": "stdout",
     "output_type": "stream",
     "text": [
      "The factorial of 7 is 5040\n"
     ]
    }
   ],
   "source": [
    "def f(n):\n",
    "    if n==1:\n",
    "        return n\n",
    "    else:\n",
    "        return n*f(n-1)\n",
    "num=7\n",
    "if num<0:\n",
    "    print(\"sorry, factorial does not for negative numbers\")\n",
    "elif num==0:\n",
    "    print(\"factorial 0 is 1\")\n",
    "else:\n",
    "    print(\"The factorial of\", num, \"is\", f(num))"
   ]
  },
  {
   "cell_type": "markdown",
   "id": "e741f327-95b4-4d63-81a0-0ea0d34b5f08",
   "metadata": {},
   "source": [
    "14.Write a program to find the largest among three numbers without using the `max()` function."
   ]
  },
  {
   "cell_type": "code",
   "execution_count": 60,
   "id": "0455230e-5865-4584-b677-d182df24d046",
   "metadata": {},
   "outputs": [
    {
     "name": "stdin",
     "output_type": "stream",
     "text": [
      "Enter number:  20\n",
      "Enter number:  11\n",
      "Enter number:  23\n"
     ]
    },
    {
     "name": "stdout",
     "output_type": "stream",
     "text": [
      "23\n"
     ]
    }
   ],
   "source": [
    "n1=int(input(\"Enter number: \"))\n",
    "n2=int(input(\"Enter number: \"))\n",
    "n3=int(input(\"Enter number: \"))\n",
    "if n1>n2 and n1>n3:\n",
    "    print(n1)\n",
    "elif n2>n1 and n2>n3:\n",
    "    print(n2)\n",
    "else:\n",
    "    print(n3)"
   ]
  },
  {
   "cell_type": "markdown",
   "id": "4cf811c6-c52f-40da-bfed-28943c7ef61d",
   "metadata": {},
   "source": [
    "15.Create a program that simulates a basic ATM transaction menu."
   ]
  },
  {
   "cell_type": "code",
   "execution_count": 62,
   "id": "a3f39b9e-ccd0-4098-b4ea-cef172c0d06d",
   "metadata": {},
   "outputs": [
    {
     "name": "stdin",
     "output_type": "stream",
     "text": [
      "Enter how much amount do you have in your account:  20058\n",
      "Enter your card number:  123456\n",
      "Enter pin code:  2356\n",
      "Enter amount:  1000\n"
     ]
    },
    {
     "name": "stdout",
     "output_type": "stream",
     "text": [
      "\n",
      "***Welcome to Bank***\n",
      "##Your transaction is successful##\n",
      "       Transaction Receipt   \n",
      "Date: 27-02-2024 \n",
      "Time: 12:45PM\n",
      "Transaction number: 3749273897\n",
      "Debited amount:  1000\n",
      "Available Balance:  19058\n",
      "______Thanks for visiting______\n"
     ]
    }
   ],
   "source": [
    "tm=int(input(\"Enter how much amount do you have in your account: \"))\n",
    "c=input(\"Enter your card number: \")\n",
    "if c.isnumeric():\n",
    "    p=int(input(\"Enter pin code: \"))\n",
    "    a=int(input(\"Enter amount: \"))\n",
    "    if a<tm:\n",
    "        print()\n",
    "        print(\"***Welcome to Bank***\")\n",
    "        print(\"##Your transaction is successful##\")\n",
    "        print(\"       Transaction Receipt   \")\n",
    "        print(\"Date: 27-02-2024 \")\n",
    "        print(\"Time: 12:45PM\")\n",
    "        print(\"Transaction number: 3749273897\")\n",
    "        print(\"Debited amount: \",a)\n",
    "        print(\"Available Balance: \",tm-a)\n",
    "        print(\"______Thanks for visiting______\")\n",
    "    else:\n",
    "        print(\"You have insuffient balance\")\n",
    "else:\n",
    "    print(\"Print card number in numbers\")"
   ]
  },
  {
   "cell_type": "markdown",
   "id": "3fa05d3b-4319-42f9-84d2-63b0184be907",
   "metadata": {},
   "source": [
    "16.Build a program that checks if a given string is a palindrome or not."
   ]
  },
  {
   "cell_type": "code",
   "execution_count": 63,
   "id": "d90e4904-2be8-49f4-971c-ffb75bfb2760",
   "metadata": {},
   "outputs": [
    {
     "name": "stdin",
     "output_type": "stream",
     "text": [
      "Enter any string:  my name is pallavi\n"
     ]
    },
    {
     "name": "stdout",
     "output_type": "stream",
     "text": [
      "['The string is not palindrome']\n"
     ]
    }
   ],
   "source": [
    "s=input(\"Enter any string: \")\n",
    "p=['The string is palindrome' if s==s[::-1] else 'The string is not palindrome']\n",
    "print(p)"
   ]
  },
  {
   "cell_type": "markdown",
   "id": "897f0606-2cf5-4017-97c1-b8307f47d032",
   "metadata": {},
   "source": [
    "17.Write a program that calculates the average of a list of numbers, excluding the smallest and largest values."
   ]
  },
  {
   "cell_type": "code",
   "execution_count": 64,
   "id": "5e89d9f7-5dee-49c6-a23d-d244daba9880",
   "metadata": {},
   "outputs": [
    {
     "name": "stdout",
     "output_type": "stream",
     "text": [
      "5.5\n"
     ]
    }
   ],
   "source": [
    "l=[4,5,6,7,1,2,10,3,9,8]\n",
    "l.sort()\n",
    "sum=0\n",
    "for i in range(1,len(l)-1):\n",
    "    sum=sum+l[i]\n",
    "print(sum/(len(l)-2))"
   ]
  },
  {
   "cell_type": "markdown",
   "id": "2e062b12-6fe9-4be9-9fb4-8f912a5a121a",
   "metadata": {},
   "source": [
    "18.Develop a program that converts a given temperature from Celsius to Fahrenheit."
   ]
  },
  {
   "cell_type": "code",
   "execution_count": 65,
   "id": "fbe913c4-882d-4d6e-b7b7-65cc204323bb",
   "metadata": {},
   "outputs": [
    {
     "name": "stdin",
     "output_type": "stream",
     "text": [
      "Enter temperature:  36\n"
     ]
    },
    {
     "name": "stdout",
     "output_type": "stream",
     "text": [
      "Temperature in farenheit:  96.8\n"
     ]
    }
   ],
   "source": [
    "t=int(input(\"Enter temperature: \"))\n",
    "print(\"Temperature in farenheit: \",(t*9/5)+32)"
   ]
  },
  {
   "cell_type": "markdown",
   "id": "0f68b4f1-ea4e-43bc-a72f-23399c97b876",
   "metadata": {},
   "source": [
    "19.Create a program that simulates a basic calculator for addition, subtraction, multiplication, and division."
   ]
  },
  {
   "cell_type": "code",
   "execution_count": 66,
   "id": "6c3672c9-933a-48f8-8f01-dc1a2c81937b",
   "metadata": {},
   "outputs": [
    {
     "name": "stdin",
     "output_type": "stream",
     "text": [
      "Enter number1:  22\n",
      "Enter number2:  23\n",
      "Enter what operation do you want in shortcut and lowercase:  sub\n"
     ]
    },
    {
     "name": "stdout",
     "output_type": "stream",
     "text": [
      "-1\n"
     ]
    }
   ],
   "source": [
    "a=int(input(\"Enter number1: \"))\n",
    "b=int(input(\"Enter number2: \"))\n",
    "x=input(\"Enter what operation do you want in shortcut and lowercase: \")\n",
    "if x=='add':\n",
    "    print(a+b)\n",
    "elif x=='sub':\n",
    "    print(a-b)\n",
    "elif x=='mul':\n",
    "    print(a*b)\n",
    "else:\n",
    "    print(a/b)"
   ]
  },
  {
   "cell_type": "markdown",
   "id": "a3d34a35-5b87-4303-98dd-1ac200289667",
   "metadata": {},
   "source": [
    "20.Write a program that determines the roots of a cubic equation using the Cardano formula."
   ]
  },
  {
   "cell_type": "code",
   "execution_count": null,
   "id": "0c9495b0-b524-462f-9467-f5f28bc5e460",
   "metadata": {},
   "outputs": [],
   "source": []
  },
  {
   "cell_type": "markdown",
   "id": "06c0d131-5344-40c9-b197-3a1cad0db231",
   "metadata": {},
   "source": [
    "ADVANCED LEVEL SOLUTIONS"
   ]
  },
  {
   "cell_type": "markdown",
   "id": "ba16fce2-02e3-42bc-8a92-059e0f1a23dc",
   "metadata": {},
   "source": [
    "21.Create a program that calculates the income tax based on the user's income and tax brackets."
   ]
  },
  {
   "cell_type": "code",
   "execution_count": 69,
   "id": "fbf15759-3ca5-40d4-9911-1df4c12d9196",
   "metadata": {},
   "outputs": [
    {
     "name": "stdin",
     "output_type": "stream",
     "text": [
      "Enter salary per annum:  320000\n"
     ]
    },
    {
     "name": "stdout",
     "output_type": "stream",
     "text": [
      "The tax you have to pay is:  16000.0\n"
     ]
    }
   ],
   "source": [
    "s=int(input(\"Enter salary per annum: \"))\n",
    "if 0<s<250000:\n",
    "    print(\"The tax you have to pay is: \",0)\n",
    "elif 249000<s<500000:\n",
    "    print(\"The tax you have to pay is: \",(s*5)/100)\n",
    "elif 499999<s<1000000:\n",
    "    print(\"The tax you have to pay is: \",(s*20)/100)\n",
    "else:\n",
    "    print(\"The tax you have to pay is: \",(s*30)/100)"
   ]
  },
  {
   "cell_type": "markdown",
   "id": "143956e5-1409-463f-8cf0-1fc476860d1b",
   "metadata": {},
   "source": [
    "22.Write a program that simulates a rock-paper-scissors game against the computer."
   ]
  },
  {
   "cell_type": "code",
   "execution_count": 70,
   "id": "1e6cd7f6-c5b6-4e57-b742-c95d3cc3ffa8",
   "metadata": {},
   "outputs": [
    {
     "name": "stdin",
     "output_type": "stream",
     "text": [
      "Enter a choice(1-rock,2-paper,3-scissor):  3\n"
     ]
    },
    {
     "name": "stdout",
     "output_type": "stream",
     "text": [
      "computer choice:  2\n",
      "You won the game\n"
     ]
    }
   ],
   "source": [
    "import random\n",
    "c=int(input(\"Enter a choice(1-rock,2-paper,3-scissor): \"))\n",
    "cc=random.randint(1,3)\n",
    "print(\"computer choice: \",cc)\n",
    "if c==1:\n",
    "    name='rock'\n",
    "elif c==2:\n",
    "    name='paper'\n",
    "else:\n",
    "    name='scissor'\n",
    "if c==cc:\n",
    "    print(\"It's a draw!\")\n",
    "elif ((c==1 and cc==2) or (c==2 and cc==3) or (c==3 and cc==1)):\n",
    "    print(\"You lost the game\")\n",
    "else:\n",
    "    print(\"You won the game\")"
   ]
  },
  {
   "cell_type": "markdown",
   "id": "33c2582b-e518-4920-8108-b2319af13cd0",
   "metadata": {},
   "source": [
    "23.Develop a program that generates a random password based on user preferences (length, complexity)."
   ]
  },
  {
   "cell_type": "code",
   "execution_count": 73,
   "id": "bec19f71-afbe-48ac-bd3a-5a97c2713dd5",
   "metadata": {},
   "outputs": [
    {
     "name": "stdin",
     "output_type": "stream",
     "text": [
      "Enter password length:  5\n"
     ]
    },
    {
     "name": "stdout",
     "output_type": "stream",
     "text": [
      "Choose character set for password from these :\n",
      "\t\t1. Letters\n",
      "\t\t2. Digits\n",
      "\t\t3. Special characters\n",
      "\t\t4. Exit\n"
     ]
    },
    {
     "name": "stdin",
     "output_type": "stream",
     "text": [
      "Pick a number  1\n",
      "Pick a number  2\n",
      "Pick a number  3\n",
      "Pick a number  4\n"
     ]
    },
    {
     "name": "stdout",
     "output_type": "stream",
     "text": [
      "The random password is j`fyO\n"
     ]
    }
   ],
   "source": [
    "import string\n",
    "import random\n",
    "length = int(input(\"Enter password length: \"))\n",
    "print('''Choose character set for password from these :\n",
    "\t\t1. Letters\n",
    "\t\t2. Digits\n",
    "\t\t3. Special characters\n",
    "\t\t4. Exit''')\n",
    "characterList = \"\"\n",
    "\n",
    "while(True):\n",
    "\tchoice = int(input(\"Pick a number \"))\n",
    "\tif(choice == 1):\n",
    "\t\tcharacterList += string.ascii_letters\n",
    "\telif(choice == 2):\n",
    "\t\tcharacterList += string.digits\n",
    "\telif(choice == 3):\n",
    "\t\tcharacterList += string.punctuation\n",
    "\telif(choice == 4):\n",
    "\t\tbreak\n",
    "\telse:\n",
    "\t\tprint(\"Please pick a valid option!\")\n",
    "password = []\n",
    "for i in range(length):\n",
    "\trandomchar = random.choice(characterList)\n",
    "\tpassword.append(randomchar)\n",
    "print(\"The random password is \" + \"\".join(password))"
   ]
  },
  {
   "cell_type": "markdown",
   "id": "06e553dc-3045-42a0-9bc7-fe5280719bf0",
   "metadata": {},
   "source": [
    "24.Create a program that implements a simple text-based adventure game with branching scenarios."
   ]
  },
  {
   "cell_type": "code",
   "execution_count": 75,
   "id": "eadf5275-d0b0-4273-b8ad-cdf040c1c3b5",
   "metadata": {},
   "outputs": [
    {
     "name": "stdout",
     "output_type": "stream",
     "text": [
      "WELCOME TO THE ADVENTURE GAME!\n",
      "        Let's start the action! ☆-🎬-☆\n",
      " \n",
      "        Lily wakes up in her bedroom in the middle of the night. She heard a loud BAN outside the house.\n",
      "        Now she has two choices she can either stay in the room or check what the sound might be about.\n",
      " \n",
      "        Type your choice: Stay or Evaluate?\n",
      "    \n"
     ]
    },
    {
     "name": "stdin",
     "output_type": "stream",
     "text": [
      " Evaluate\n"
     ]
    },
    {
     "name": "stdout",
     "output_type": "stream",
     "text": [
      "Lily exits the room silently and reaches the main hall.\n",
      "\n",
      "            In the main hall, she finds a strange but cute teddy bear on the floor. \n",
      "            She wanted to pick the teddy up. \n",
      "            But should she? It doesn't belong to her. (•˳̂•̆)\n",
      " \n",
      "            Type your choice: Pick or Ignore?\n",
      " \n",
      "            \n"
     ]
    },
    {
     "name": "stdin",
     "output_type": "stream",
     "text": [
      " Pick\n"
     ]
    },
    {
     "name": "stdout",
     "output_type": "stream",
     "text": [
      "\n",
      "The moment Lily picked up the the teddy bear. The Teddy bear starts TALKING!The bear tells Lily that she is in grave danger as there is a monster in the house.And the monster has captured her PARENTS as well!But he hugged her and told her not to get scared as he knows how to beat the moster!\n",
      "\n",
      "The bear handed lily a magical potion which can weaken the moster and make him run away!He handed her the potion and then DISAPPEARED!Lily moved forward.\n",
      "\n",
      "\n",
      "After walking for a while, Lily saw the MONSTOR in front of her!\n",
      "    It had red eyes and evil looks. She got very scared! \n",
      "But then she remembered! She had the magic portion and she threw it on the moster!\n",
      "              Well she had nothing to lose!\n",
      "\n",
      " The monster SCREAMED in pain but he managed to make a portal and pushed Lily to a new world!\n",
      "\n",
      "\n",
      "\n",
      "=================================END OF CHAPTER 1=================================\n"
     ]
    }
   ],
   "source": [
    "def scene1():\n",
    "    import time\n",
    "    print(\"\"\"WELCOME TO THE ADVENTURE GAME!\n",
    "        Let's start the action! ☆-🎬-☆\n",
    " \n",
    "        Lily wakes up in her bedroom in the middle of the night. She heard a loud BAN outside the house.\n",
    "        Now she has two choices she can either stay in the room or check what the sound might be about.\n",
    " \n",
    "        Type your choice: Stay or Evaluate?\n",
    "    \"\"\")\n",
    " \n",
    "    c1 = input()\n",
    "    time.sleep(2)\n",
    "    ans = 'incorrect'\n",
    "    while(ans=='incorrect'):\n",
    "        if(c1.upper()==\"STAY\"):\n",
    "            print(\"\\nLily decides to stay in the room and ends up staying inside forever as noone seems to come to help her.\")\n",
    "            ans = 'correct'\n",
    "        elif(c1.upper()==\"EVALUATE\"):\n",
    "            print(\"Lily exits the room silently and reaches the main hall.\")\n",
    "            ans='correct'\n",
    "            scene2()\n",
    "        else:\n",
    "            print(\"ENTER THE CORRECT CHOICE! Stay or Evaluate?\")\n",
    "            c1 = input()\n",
    "def scene2():\n",
    "    import time\n",
    "    print(\"\"\"\n",
    "            In the main hall, she finds a strange but cute teddy bear on the floor. \n",
    "            She wanted to pick the teddy up. \n",
    "            But should she? It doesn't belong to her. (•˳̂•̆)\n",
    " \n",
    "            Type your choice: Pick or Ignore?\n",
    " \n",
    "            \"\"\")\n",
    "    time.sleep(2)\n",
    "    c1 = input()\n",
    "    ans = 'incorrect'\n",
    "    while(ans=='incorrect'):\n",
    "        if(c1.upper()==\"PICK\"):\n",
    "            print(\"\"\"\\nThe moment Lily picked up the the teddy bear. The Teddy bear starts TALKING!The bear tells Lily that she is in grave danger as there is a monster in the house.And the monster has captured her PARENTS as well!But he hugged her and told her not to get scared as he knows how to beat the moster!\"\"\")\n",
    "            time.sleep(2)\n",
    "            print(\"\"\"\\nThe bear handed lily a magical potion which can weaken the moster and make him run away!He handed her the potion and then DISAPPEARED!Lily moved forward.\"\"\")\n",
    "            ans = 'correct'\n",
    "            pick=\"True\"\n",
    "        elif(c1.upper()=='IGNORE'):\n",
    "            print(\"\"\"\\nLily decided not to pick up the bear and walked forward.\"\"\")\n",
    "            ans='correct'\n",
    "            pick=\"False\"\n",
    "        else:\n",
    "            print(\"Wrong Input! Enter pick or ignore?\")\n",
    "            c1=input()\n",
    "    time.sleep(2)\n",
    "    scene3(pick)\n",
    "def scene3(pick_value):\n",
    "    import time\n",
    "    print(\"\"\"\\n\\nAfter walking for a while, Lily saw the MONSTOR in front of her!\n",
    "    It had red eyes and evil looks. She got very scared! \"\"\")\n",
    "    time.sleep(2)\n",
    "    if(pick_value==\"True\"):\n",
    "        time.sleep(2)\n",
    "        print(\"\"\"But then she remembered! She had the magic portion and she threw it on the moster!\n",
    "              Well she had nothing to lose!\"\"\")\n",
    "        time.sleep(2)\n",
    "        print(\"\\n The monster SCREAMED in pain but he managed to make a portal and pushed Lily to a new world!\")\n",
    "    elif(pick_value==\"False\"):\n",
    "        print(\"The monster attacked Lily and hurt her! She was then thrown to the new world by the monster!\")\n",
    "scene1()\n",
    "print(\"\\n\\n\")\n",
    "print(\"=================================END OF CHAPTER 1=================================\")"
   ]
  },
  {
   "cell_type": "markdown",
   "id": "9533708e-c4c6-418f-9850-56bbd246d9b9",
   "metadata": {},
   "source": [
    "25.Build a program that solves a linear equation for x, considering different cases."
   ]
  },
  {
   "cell_type": "code",
   "execution_count": 93,
   "id": "ade75b2b-d61c-40ea-b846-7364f36380b2",
   "metadata": {},
   "outputs": [
    {
     "name": "stdout",
     "output_type": "stream",
     "text": [
      "The solution is x = 1.6666666666666667.\n",
      "The equation is satisfied for all values of x.\n",
      "No solution (division by zero).\n"
     ]
    }
   ],
   "source": [
    "def solve_linear_equation(a, b):\n",
    "    if a == 0:\n",
    "        if b == 0:\n",
    "            return \"The equation is satisfied for all values of x.\"\n",
    "        else:\n",
    "            return \"No solution (division by zero).\"\n",
    "    else:\n",
    "        x = (b - 0) / a\n",
    "        return f\"The solution is x = {x}.\"\n",
    "\n",
    "# Example usage\n",
    "a = 3\n",
    "b = 5\n",
    "print(solve_linear_equation(a, b))  # Output: The solution is x = -1.6666666666666667.\n",
    "\n",
    "a = 0\n",
    "b = 0\n",
    "print(solve_linear_equation(a, b))  # Output: The equation is satisfied for all values of x.\n",
    "\n",
    "a = 0\n",
    "b = 5\n",
    "print(solve_linear_equation(a, b)) "
   ]
  },
  {
   "cell_type": "markdown",
   "id": "acaf158c-5aa1-4f40-9ea7-5f955899caba",
   "metadata": {},
   "source": [
    "26.Write a program that simulates a basic quiz game with multiple-choice questions and scoring."
   ]
  },
  {
   "cell_type": "code",
   "execution_count": 97,
   "id": "8cc55228-bdb9-4d84-8617-d6ac851d8ff5",
   "metadata": {},
   "outputs": [
    {
     "name": "stdout",
     "output_type": "stream",
     "text": [
      "Welcome to the quiz game!\n",
      "What is the capital of France?\n",
      "1. Paris\n",
      "2. London\n",
      "3. Rome\n",
      "4. Berlin\n"
     ]
    },
    {
     "name": "stdin",
     "output_type": "stream",
     "text": [
      "Enter your answer (1-4):  1\n"
     ]
    },
    {
     "name": "stdout",
     "output_type": "stream",
     "text": [
      "Who wrote 'To Kill a Mockingbird'?\n",
      "1. Harper Lee\n",
      "2. Mark Twain\n",
      "3. Ernest Hemingway\n",
      "4. F. Scott Fitzgerald\n"
     ]
    },
    {
     "name": "stdin",
     "output_type": "stream",
     "text": [
      "Enter your answer (1-4):  4\n"
     ]
    },
    {
     "name": "stdout",
     "output_type": "stream",
     "text": [
      "What is the largest planet in our solar system?\n",
      "1. Jupiter\n",
      "2. Saturn\n",
      "3. Mars\n",
      "4. Earth\n"
     ]
    },
    {
     "name": "stdin",
     "output_type": "stream",
     "text": [
      "Enter your answer (1-4):  1\n"
     ]
    },
    {
     "name": "stdout",
     "output_type": "stream",
     "text": [
      "Your final score is 2/3\n"
     ]
    }
   ],
   "source": [
    "questions = [\n",
    "    {\n",
    "        \"question\": \"What is the capital of France?\",\n",
    "        \"answers\": [\"Paris\", \"London\", \"Rome\", \"Berlin\"],\n",
    "        \"correct_answer\": 0\n",
    "    },\n",
    "    {\n",
    "        \"question\": \"Who wrote 'To Kill a Mockingbird'?\",\n",
    "        \"answers\": [\"Harper Lee\", \"Mark Twain\", \"Ernest Hemingway\", \"F. Scott Fitzgerald\"],\n",
    "        \"correct_answer\": 0\n",
    "    },\n",
    "    {\n",
    "        \"question\": \"What is the largest planet in our solar system?\",\n",
    "        \"answers\": [\"Jupiter\", \"Saturn\", \"Mars\", \"Earth\"],\n",
    "        \"correct_answer\": 0\n",
    "    }\n",
    "]\n",
    "\n",
    "# Define a function to display the quiz questions and record the user's answers\n",
    "def take_quiz(questions):\n",
    "    score = 0\n",
    "    for question in questions:\n",
    "        print(question[\"question\"])\n",
    "        for i, answer in enumerate(question[\"answers\"]):\n",
    "            print(f\"{i+1}. {answer}\")\n",
    "        user_answer = int(input(\"Enter your answer (1-4): \")) - 1\n",
    "        if user_answer == question[\"correct_answer\"]:\n",
    "            score += 1\n",
    "    return score\n",
    "\n",
    "# Display the quiz and print the user's score\n",
    "print(\"Welcome to the quiz game!\")\n",
    "score = take_quiz(questions)\n",
    "print(f\"Your final score is {score}/{len(questions)}\")"
   ]
  },
  {
   "cell_type": "markdown",
   "id": "1519bded-b6b1-4120-a02b-75dfd463593c",
   "metadata": {},
   "source": [
    "27.Develop a program that determines whether a given year is a prime number or not."
   ]
  },
  {
   "cell_type": "code",
   "execution_count": 76,
   "id": "03ffef39-649a-444f-8ff8-9c086a887d65",
   "metadata": {},
   "outputs": [
    {
     "name": "stdin",
     "output_type": "stream",
     "text": [
      "Enter year:  2023\n"
     ]
    },
    {
     "name": "stdout",
     "output_type": "stream",
     "text": [
      "year is not a prime number\n"
     ]
    }
   ],
   "source": [
    "y=int(input(\"Enter year: \"))\n",
    "count=0\n",
    "for i in range(1,y+1):\n",
    "    if y%i==0:\n",
    "        count+=1\n",
    "if count<3:\n",
    "    print(\"year is prime number\")\n",
    "else:\n",
    "    print(\"year is not a prime number\")"
   ]
  },
  {
   "cell_type": "markdown",
   "id": "dd19d14d-9081-4f20-b5f8-ac38688aa035",
   "metadata": {},
   "source": [
    "28.Create a program that sorts three numbers in ascending order using conditional statements."
   ]
  },
  {
   "cell_type": "code",
   "execution_count": 77,
   "id": "b462fa15-459e-4d8a-9506-3bed709c4f06",
   "metadata": {},
   "outputs": [
    {
     "name": "stdout",
     "output_type": "stream",
     "text": [
      "[2, 5, 6]\n"
     ]
    }
   ],
   "source": [
    "l=[5,6,2]\n",
    "max=0\n",
    "l1=[]\n",
    "for i in l:\n",
    "    if max<i:\n",
    "        l1.append(i)\n",
    "        max=i\n",
    "    elif max>i:\n",
    "        l1.insert(0,i)\n",
    "print(l1)"
   ]
  },
  {
   "cell_type": "markdown",
   "id": "6e079c99-ae91-4997-90bc-22bad46d3384",
   "metadata": {},
   "source": [
    "29.Build a program that determines the roots of a quartic equation using numerical methods."
   ]
  },
  {
   "cell_type": "code",
   "execution_count": 78,
   "id": "9b8d770c-9d9a-4686-bffe-d471a530e876",
   "metadata": {},
   "outputs": [
    {
     "name": "stdin",
     "output_type": "stream",
     "text": [
      "Enter a:  10\n",
      "Enter b:  12\n",
      "Enter c:  13\n"
     ]
    },
    {
     "name": "stdout",
     "output_type": "stream",
     "text": [
      "(-59.99999999999999+96.9535971483266j)\n",
      "(-60.00000000000001-96.9535971483266j)\n"
     ]
    }
   ],
   "source": [
    "a=int(input(\"Enter a: \"))\n",
    "b=int(input(\"Enter b: \"))\n",
    "c=int(input(\"Enter c: \"))\n",
    "print((-b + (b**2-4*a*c)**0.5)/2*a)\n",
    "print((-b - (b**2-4*a*c)**0.5)/2*a)"
   ]
  },
  {
   "cell_type": "markdown",
   "id": "d118a2b2-da38-4420-b231-a0b72a00386c",
   "metadata": {},
   "source": [
    "30.Write a program that calculates the BMI (Body Mass Index) and provides health recommendations based on the user's input."
   ]
  },
  {
   "cell_type": "code",
   "execution_count": 79,
   "id": "8c3aab81-926e-4ff9-a7ca-a0d5ef92920a",
   "metadata": {},
   "outputs": [
    {
     "name": "stdin",
     "output_type": "stream",
     "text": [
      "Enter BMI:  22\n"
     ]
    },
    {
     "name": "stdout",
     "output_type": "stream",
     "text": [
      "Normal BMI, You perfectly all right\n"
     ]
    }
   ],
   "source": [
    "bmi=float(input(\"Enter BMI: \"))\n",
    "if bmi<18.5:\n",
    "    print('Underweight, You have to eat healthy food')\n",
    "elif 18.5<bmi<24.9:\n",
    "    print('Normal BMI, You perfectly all right')\n",
    "elif 25.0<bmi<29.9:\n",
    "    print('Overweight, You have to follow diet')\n",
    "else:\n",
    "    print('Obese, You have to eat healthy')"
   ]
  },
  {
   "cell_type": "markdown",
   "id": "eaa51f19-1aab-4263-b93b-959fe994efda",
   "metadata": {},
   "source": [
    "CHALLENGE LEVEL SOLUTIONS"
   ]
  },
  {
   "cell_type": "markdown",
   "id": "ca9a0aba-61fa-401c-b41a-2ee9e367a8fb",
   "metadata": {},
   "source": [
    "31.Create a program that validates a password based on complexity rules (length, characters, etc.)."
   ]
  },
  {
   "cell_type": "code",
   "execution_count": 81,
   "id": "209f2069-0063-407a-9c4c-8f06031a68f7",
   "metadata": {},
   "outputs": [
    {
     "name": "stdin",
     "output_type": "stream",
     "text": [
      "Enter password length:  5\n"
     ]
    },
    {
     "name": "stdout",
     "output_type": "stream",
     "text": [
      "Choose character set for password from these :\n",
      "\t\t1. Letters\n",
      "\t\t2. Digits\n",
      "\t\t3. Special characters\n",
      "\t\t4. Exit\n"
     ]
    },
    {
     "name": "stdin",
     "output_type": "stream",
     "text": [
      "Pick a number  1\n",
      "Pick a number  2\n",
      "Pick a number  3\n",
      "Pick a number  4\n"
     ]
    },
    {
     "name": "stdout",
     "output_type": "stream",
     "text": [
      "The random password is 7bw#X\n"
     ]
    }
   ],
   "source": [
    "import string\n",
    "import random\n",
    "length = int(input(\"Enter password length: \"))\n",
    "print('''Choose character set for password from these :\n",
    "\t\t1. Letters\n",
    "\t\t2. Digits\n",
    "\t\t3. Special characters\n",
    "\t\t4. Exit''')\n",
    "characterList = \"\"\n",
    "\n",
    "while(True):\n",
    "\tchoice = int(input(\"Pick a number \"))\n",
    "\tif(choice == 1):\n",
    "\t\tcharacterList += string.ascii_letters\n",
    "\telif(choice == 2):\n",
    "\t\tcharacterList += string.digits\n",
    "\telif(choice == 3):\n",
    "\t\tcharacterList += string.punctuation\n",
    "\telif(choice == 4):\n",
    "\t\tbreak\n",
    "\telse:\n",
    "\t\tprint(\"Please pick a valid option!\")\n",
    "password = []\n",
    "for i in range(length):\n",
    "\trandomchar = random.choice(characterList)\n",
    "\tpassword.append(randomchar)\n",
    "print(\"The random password is \" + \"\".join(password))"
   ]
  },
  {
   "cell_type": "markdown",
   "id": "a0af91ff-20dd-4291-80b7-ad94603c118d",
   "metadata": {},
   "source": [
    "32.Develop a program that performs matrix addition and subtraction based on user input."
   ]
  },
  {
   "cell_type": "code",
   "execution_count": 82,
   "id": "385cd4f5-36c6-4a45-94d8-50ef9f4dd839",
   "metadata": {},
   "outputs": [
    {
     "name": "stdin",
     "output_type": "stream",
     "text": [
      "Enter row number:  2\n",
      "Enter col number:  2\n"
     ]
    },
    {
     "name": "stdout",
     "output_type": "stream",
     "text": [
      "Enter elements for matrix1: \n"
     ]
    },
    {
     "name": "stdin",
     "output_type": "stream",
     "text": [
      " 10 \n",
      " 20\n",
      " 30\n",
      " 40\n"
     ]
    },
    {
     "name": "stdout",
     "output_type": "stream",
     "text": [
      "matrix1: \n",
      "10 20 \n",
      "30 40 \n",
      "Enter elements for matrix2: \n"
     ]
    },
    {
     "name": "stdin",
     "output_type": "stream",
     "text": [
      " 20\n",
      " 30\n",
      " 10\n",
      " 40\n"
     ]
    },
    {
     "name": "stdout",
     "output_type": "stream",
     "text": [
      "matrix2: \n",
      "20 30 \n",
      "10 40 \n",
      "Final result for addition is: \n",
      "30 50 \n",
      "40 80 \n",
      "Final result for subtraction is: \n",
      "-10-10\n",
      "20 0  \n"
     ]
    }
   ],
   "source": [
    "row=int(input(\"Enter row number: \"))\n",
    "col=int(input(\"Enter col number: \"))\n",
    "print(\"Enter elements for matrix1: \")\n",
    "m1=[[int(input()) for i in range(col)] for j in range(row)]\n",
    "print(\"matrix1: \")\n",
    "for i in range(row):\n",
    "    for j in range(col):\n",
    "        print(format(m1[i][j],\"<3\"), end=\"\")\n",
    "    print()\n",
    "print(\"Enter elements for matrix2: \")\n",
    "m2=[[int(input()) for i in range(col)] for j in range(row)]\n",
    "print(\"matrix2: \")\n",
    "for i in range(row):\n",
    "    for j in range(col):\n",
    "        print(format(m2[i][j],\"<3\"), end=\"\")\n",
    "    print()\n",
    "result1=[[0 for i in range(col)] for j in range(row)]\n",
    "for i in range(row):\n",
    "    for j in range(col):\n",
    "        result1[i][j]=m1[i][j]+m2[i][j]\n",
    "print(\"Final result for addition is: \")\n",
    "for i in range(row):\n",
    "    for j in range(col):\n",
    "        print(format(result1[i][j],\"<3\"), end=\"\")\n",
    "    print()\n",
    "result2=[[0 for i in range(col)] for j in range(row)]\n",
    "for i in range(row):\n",
    "    for j in range(col):\n",
    "        result2[i][j]=m1[i][j]-m2[i][j]\n",
    "print(\"Final result for subtraction is: \")\n",
    "for i in range(row):\n",
    "    for j in range(col):\n",
    "        print(format(result2[i][j],\"<3\"), end=\"\")\n",
    "    print()"
   ]
  },
  {
   "cell_type": "markdown",
   "id": "e9b99e66-dc8a-4547-ab2f-8786c4fa2ab2",
   "metadata": {},
   "source": [
    "33.Write a program that calculates the greatest common divisor (GCD) of two numbers using the Euclidean algorithm."
   ]
  },
  {
   "cell_type": "code",
   "execution_count": 83,
   "id": "7a3055cf-1182-482c-895c-a8e56b906080",
   "metadata": {},
   "outputs": [
    {
     "name": "stdin",
     "output_type": "stream",
     "text": [
      "Enter first number:  120\n",
      "Enter second number:  230\n"
     ]
    },
    {
     "data": {
      "text/plain": [
       "10"
      ]
     },
     "execution_count": 83,
     "metadata": {},
     "output_type": "execute_result"
    }
   ],
   "source": [
    "def gcd(a,b):\n",
    "    if b==0:\n",
    "        return a\n",
    "    return gcd(b,a%b)\n",
    "n1=int(input(\"Enter first number: \"))\n",
    "n2=int(input(\"Enter second number: \"))\n",
    "gcd(n1,n2)"
   ]
  },
  {
   "cell_type": "markdown",
   "id": "d566ec1b-6eaa-440c-a117-9b2b1b440843",
   "metadata": {},
   "source": [
    "34.Build a program that performs matrix multiplication using nested loops and conditional statements."
   ]
  },
  {
   "cell_type": "code",
   "execution_count": 85,
   "id": "aa27e6ff-4d83-4677-bd52-ce51f6fc7138",
   "metadata": {},
   "outputs": [
    {
     "name": "stdin",
     "output_type": "stream",
     "text": [
      "Enter row number for m1:  2\n",
      "Enter col number for m2:  2\n",
      "Enter col number for m1 / row number for m2:  4\n"
     ]
    },
    {
     "name": "stdout",
     "output_type": "stream",
     "text": [
      "Enter elements for matrix1: \n"
     ]
    },
    {
     "name": "stdin",
     "output_type": "stream",
     "text": [
      " 10\n",
      " 23\n",
      " 253\n",
      " 23\n",
      " 20\n",
      " 230\n",
      " 235\n",
      " 20\n"
     ]
    },
    {
     "name": "stdout",
     "output_type": "stream",
     "text": [
      "matrix1: \n",
      "10   23   253  23   \n",
      "20   230  235  20   \n",
      "Enter elements for matrix2: \n"
     ]
    },
    {
     "name": "stdin",
     "output_type": "stream",
     "text": [
      " 2\n",
      " 236\n",
      " 235\n",
      " 215\n",
      " 235\n",
      " 258\n",
      " 456\n",
      " 124\n"
     ]
    },
    {
     "name": "stdout",
     "output_type": "stream",
     "text": [
      "matrix2: \n",
      "2    236  \n",
      "235  215  \n",
      "235  258  \n",
      "456  124  \n",
      "Final result for multiplication is: \n",
      "7536875431\n",
      "118435117280\n"
     ]
    }
   ],
   "source": [
    "p=int(input(\"Enter row number for m1: \"))\n",
    "q=int(input(\"Enter col number for m2: \"))\n",
    "n=int(input(\"Enter col number for m1 / row number for m2: \"))\n",
    "print(\"Enter elements for matrix1: \")\n",
    "m1=[[int(input()) for i in range(n)] for j in range(p)]\n",
    "print(\"matrix1: \")\n",
    "for i in range(p):\n",
    "    for j in range(n):\n",
    "        print(format(m1[i][j],\"<5\"), end=\"\")\n",
    "    print()\n",
    "print(\"Enter elements for matrix2: \")\n",
    "m2=[[int(input()) for i in range(q)] for j in range(n)]\n",
    "print(\"matrix2: \")\n",
    "for i in range(n):\n",
    "    for j in range(q):\n",
    "        print(format(m2[i][j],\"<5\"), end=\"\")\n",
    "    print()\n",
    "result=[[0 for i in range(q)] for j in range(p)]\n",
    "for i in range(p):\n",
    "    for j in range(q):\n",
    "        for k in range(n):\n",
    "            result[i][j]=result[i][j]+m1[i][k]*m2[k][j]\n",
    "print(\"Final result for multiplication is: \")\n",
    "for i in range(p):\n",
    "    for j in range(q):\n",
    "        print(format(result[i][j],\"<5\"), end=\"\")\n",
    "    print()"
   ]
  },
  {
   "cell_type": "markdown",
   "id": "400e0073-0710-4c68-bce7-23cd67100fcb",
   "metadata": {},
   "source": [
    "35.Create a program that simulates a basic text-based tic-tac-toe game against the computer."
   ]
  },
  {
   "cell_type": "code",
   "execution_count": 86,
   "id": "07335b05-7ba8-441a-a6be-af841e935a23",
   "metadata": {},
   "outputs": [
    {
     "name": "stdin",
     "output_type": "stream",
     "text": [
      "Enter a choice(1-tic,2-tac,3-toe):  3\n"
     ]
    },
    {
     "name": "stdout",
     "output_type": "stream",
     "text": [
      "computer choice:  1\n",
      "You lost the game\n"
     ]
    }
   ],
   "source": [
    "import random\n",
    "c=int(input(\"Enter a choice(1-tic,2-tac,3-toe): \"))\n",
    "cc=random.randint(1,3)\n",
    "print(\"computer choice: \",cc)\n",
    "if c==1:\n",
    "    name='tic'\n",
    "elif c==2:\n",
    "    name='tac'\n",
    "else:\n",
    "    name='toe'\n",
    "if c==cc:\n",
    "    print(\"It's a draw!\")\n",
    "elif ((c==1 and cc==2) or (c==2 and cc==3) or (c==3 and cc==1)):\n",
    "    print(\"You lost the game\")\n",
    "else:\n",
    "    print(\"You won the game\")"
   ]
  },
  {
   "cell_type": "markdown",
   "id": "007ea949-3108-421a-afcf-3307e91c4300",
   "metadata": {},
   "source": [
    "36.Write a program that generates Fibonacci numbers up to a specified term using iterative methods."
   ]
  },
  {
   "cell_type": "code",
   "execution_count": 88,
   "id": "3ac62d8a-1196-4ce2-8d81-b15306450260",
   "metadata": {},
   "outputs": [
    {
     "name": "stdin",
     "output_type": "stream",
     "text": [
      "Enter upto where you want series:  20\n"
     ]
    },
    {
     "name": "stdout",
     "output_type": "stream",
     "text": [
      "0 1 1 2 3 5 8 13 21 34 55 89 144 233 377 610 987 1597 2584 4181 "
     ]
    }
   ],
   "source": [
    "n=int(input(\"Enter upto where you want series: \"))\n",
    "f=0\n",
    "s=1\n",
    "for i in range(n):\n",
    "    print(f, end=\" \")\n",
    "    temp=f\n",
    "    f=s\n",
    "    s=temp+s"
   ]
  },
  {
   "cell_type": "markdown",
   "id": "73f9f5fd-ca2f-4867-a6e4-3e5c5717d61b",
   "metadata": {},
   "source": [
    "37.Develop a program that calculates the nth term of the Fibonacci sequence using memoization."
   ]
  },
  {
   "cell_type": "code",
   "execution_count": 90,
   "id": "70204270-6ace-4e65-a539-11a95b433fa0",
   "metadata": {},
   "outputs": [
    {
     "name": "stdin",
     "output_type": "stream",
     "text": [
      "Enter place of digit you want:  20\n"
     ]
    },
    {
     "name": "stdout",
     "output_type": "stream",
     "text": [
      "4181\n"
     ]
    }
   ],
   "source": [
    "n=int(input(\"Enter place of digit you want: \"))\n",
    "l=[]\n",
    "f=0\n",
    "s=1\n",
    "for i in range(n+1):\n",
    "    l.append(f)\n",
    "    temp=f\n",
    "    f=s\n",
    "    s=temp+s\n",
    "print(l[n-1])"
   ]
  },
  {
   "cell_type": "markdown",
   "id": "0f9e551e-deb6-47c4-8c54-2bda878f3d4d",
   "metadata": {},
   "source": [
    "38.Create a program that generates a calendar for a given month and year using conditional statements."
   ]
  },
  {
   "cell_type": "code",
   "execution_count": 91,
   "id": "39eefdbb-0638-4e92-ab46-ccfdb2887a70",
   "metadata": {},
   "outputs": [
    {
     "name": "stdin",
     "output_type": "stream",
     "text": [
      "Enter month:  jan\n",
      "Enter year:  2024\n"
     ]
    },
    {
     "name": "stdout",
     "output_type": "stream",
     "text": [
      "1 2 3 4 5 6 7 8 9 10 11 12 13 14 15 16 17 18 19 20 21 22 23 24 25 26 27 28 29 30 31 "
     ]
    }
   ],
   "source": [
    "month=input(\"Enter month: \")\n",
    "year=int(input(\"Enter year: \"))\n",
    "m=['april','june','sep','nov']\n",
    "if year%4==0:\n",
    "    if month=='feb':\n",
    "        for i in range(1,30):\n",
    "            print(i,end=\" \")\n",
    "    elif month in m:\n",
    "        for i in range(1,31):\n",
    "            print(i,end=\" \")\n",
    "    else:\n",
    "        for i in range(1,32):\n",
    "            print(i,end=\" \")\n",
    "else:\n",
    "    if month=='feb':\n",
    "        for i in range(1,29):\n",
    "            print(i,end=\" \")\n",
    "    elif month in m:\n",
    "        for i in range(1,31):\n",
    "            print(i,end=\" \")\n",
    "    else:\n",
    "        for i in range(1,32):\n",
    "            print(i,end=\" \")"
   ]
  },
  {
   "cell_type": "markdown",
   "id": "78665386-9d39-4feb-923c-e9cfd3896b0b",
   "metadata": {},
   "source": [
    "39.Build a program that simulates a basic text-based blackjack game against the computer."
   ]
  },
  {
   "cell_type": "code",
   "execution_count": 98,
   "id": "d786644f-1ac1-4f65-b5d0-1d0e0468d2f8",
   "metadata": {},
   "outputs": [
    {
     "name": "stdout",
     "output_type": "stream",
     "text": [
      "Player hand: [8, 7] Score: 15\n",
      "Computer hand: 11 ???\n"
     ]
    },
    {
     "name": "stdin",
     "output_type": "stream",
     "text": [
      "Enter 'h' to hit or 's' to stand:  h\n"
     ]
    },
    {
     "name": "stdout",
     "output_type": "stream",
     "text": [
      "Player hand: [8, 7, 12] Score: 25\n",
      "Bust! You lose.\n"
     ]
    }
   ],
   "source": [
    "import random\n",
    "\n",
    "# Define a function to deal a card\n",
    "def deal_card():\n",
    "    cards = [2, 3, 4, 5, 6, 7, 8, 9, 10, 11, 12, 13, 14]\n",
    "    return random.choice(cards)\n",
    "\n",
    "# Define a function to calculate the score of a hand\n",
    "def calculate_score(hand):\n",
    "    score = 0\n",
    "    aces = 0\n",
    "    for card in hand:\n",
    "        if card == 11 or card == 12 or card == 13:\n",
    "            score += 10\n",
    "        elif card == 14:\n",
    "            aces += 1\n",
    "            score += 11\n",
    "        else:\n",
    "            score += card\n",
    "    while score > 21 and aces > 0:\n",
    "        score -= 10\n",
    "        aces -= 1\n",
    "    return score\n",
    "\n",
    "# Define a function to play a game of blackjack\n",
    "def play_blackjack():\n",
    "    # Deal the initial cards\n",
    "    player_hand = [deal_card(), deal_card()]\n",
    "    computer_hand = [deal_card(), deal_card()]\n",
    "\n",
    "    # Display the initial hands\n",
    "    print(\"Player hand:\", player_hand, \"Score:\", calculate_score(player_hand))\n",
    "    print(\"Computer hand:\", computer_hand[0], \"???\")\n",
    "\n",
    "    # Play the game\n",
    "    while True:\n",
    "        # Player turn\n",
    "        while True:\n",
    "            action = input(\"Enter 'h' to hit or 's' to stand: \")\n",
    "            if action == 'h':\n",
    "                player_hand.append(deal_card())\n",
    "                print(\"Player hand:\", player_hand, \"Score:\", calculate_score(player_hand))\n",
    "                if calculate_score(player_hand) > 21:\n",
    "                    print(\"Bust! You lose.\")\n",
    "                    return\n",
    "            elif action == 's':\n",
    "                break\n",
    "\n",
    "        # Computer turn\n",
    "        while calculate_score(computer_hand) < 17:\n",
    "            computer_hand.append(deal_card())\n",
    "        print(\"Computer hand:\", computer_hand, \"Score:\", calculate_score(computer_hand))\n",
    "\n",
    "        # Determine the winner\n",
    "        player_score = calculate_score(player_hand)\n",
    "        computer_score = calculate_score(computer_hand)\n",
    "        if player_score > 21:\n",
    "            print(\"Bust! You lose.\")\n",
    "        elif computer_score > 21:\n",
    "            print(\"Computer busts! You win.\")\n",
    "        elif player_score > computer_score:\n",
    "            print(\"You win!\")\n",
    "        elif player_score < computer_score:\n",
    "            print(\"You lose!\")\n",
    "        else:\n",
    "            print(\"It's a tie!\")\n",
    "\n",
    "# Play a game of blackjack\n",
    "play_blackjack()"
   ]
  },
  {
   "cell_type": "markdown",
   "id": "67f46628-c413-434b-89a5-85677ffe32a3",
   "metadata": {},
   "source": [
    "40.Write a program that generates the prime factors of a given number using trial division."
   ]
  },
  {
   "cell_type": "code",
   "execution_count": 92,
   "id": "062129e3-c9e5-45aa-90b0-4cb7dc5ab2a7",
   "metadata": {},
   "outputs": [
    {
     "name": "stdin",
     "output_type": "stream",
     "text": [
      "Enter number:  22\n"
     ]
    },
    {
     "name": "stdout",
     "output_type": "stream",
     "text": [
      "1 2 11 "
     ]
    }
   ],
   "source": [
    "\n",
    "n=int(input(\"Enter number: \"))\n",
    "for i in range(1,n+1):\n",
    "    if n%i==0:\n",
    "        c=0\n",
    "        for j in range(2,i):\n",
    "            if i%j==0:\n",
    "                c=1\n",
    "                break\n",
    "        if c==0:\n",
    "            print(i, end=\" \")"
   ]
  },
  {
   "cell_type": "code",
   "execution_count": null,
   "id": "8201e54e-9cc8-4a8a-8f6f-acd3ae2cd6a0",
   "metadata": {},
   "outputs": [],
   "source": []
  }
 ],
 "metadata": {
  "kernelspec": {
   "display_name": "Python 3 (ipykernel)",
   "language": "python",
   "name": "python3"
  },
  "language_info": {
   "codemirror_mode": {
    "name": "ipython",
    "version": 3
   },
   "file_extension": ".py",
   "mimetype": "text/x-python",
   "name": "python",
   "nbconvert_exporter": "python",
   "pygments_lexer": "ipython3",
   "version": "3.10.8"
  }
 },
 "nbformat": 4,
 "nbformat_minor": 5
}
