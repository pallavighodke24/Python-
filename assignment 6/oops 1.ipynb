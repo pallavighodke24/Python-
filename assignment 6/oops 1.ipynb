{
 "cells": [
  {
   "cell_type": "markdown",
   "id": "e8ed2c31-7491-4b75-b99a-283650865792",
   "metadata": {},
   "source": [
    "Assignment on OOPS Problem-1"
   ]
  },
  {
   "cell_type": "markdown",
   "id": "5792f60d-e8d3-4f70-94f5-4ad51c0033f7",
   "metadata": {},
   "source": [
    "Problem 1: Bank Account Create a class representing a bank account with attributes like account number, account holder name, and balance. Implement methods to deposit and withdraw money from the account."
   ]
  },
  {
   "cell_type": "code",
   "execution_count": 4,
   "id": "f3ac7932-0a5c-4eae-9460-22bc458eeb19",
   "metadata": {},
   "outputs": [],
   "source": [
    "class bank_account():\n",
    "    def __init__(self,account_number,account_holder_name,balance):\n",
    "        self.account_number=account_number\n",
    "        self.account_holder_name=account_holder_name\n",
    "        self.balance=balance\n",
    "    def deposit(self,deposit_amount):\n",
    "        print(\"Your amount is successfully deposited and your available balance is\",self.balance+deposit_amount)\n",
    "        self.balance=self.balance+deposit_amount\n",
    "    def withdraw(self,withdraw_amount):\n",
    "        if self.balance>withdraw_amount:\n",
    "            print(\"Your transaction is successful and your available balance is\",self.balance-withdraw_amount)\n",
    "            self.balance=self.balance-withdraw_amount\n",
    "        else:\n",
    "            print(\"You don't have sufficient balance to withdraw\")"
   ]
  },
  {
   "cell_type": "code",
   "execution_count": 10,
   "id": "e05444b8-9107-4d25-97cd-ee37d11e6cf8",
   "metadata": {},
   "outputs": [],
   "source": [
    "x=bank_account(123456789,'Pallavi',50000)"
   ]
  },
  {
   "cell_type": "code",
   "execution_count": 11,
   "id": "677035cf-7d9e-4e08-90d0-a860ffca04d0",
   "metadata": {},
   "outputs": [
    {
     "name": "stdout",
     "output_type": "stream",
     "text": [
      "Your amount is successfully deposited and your available balance is 53000\n"
     ]
    }
   ],
   "source": [
    "x.deposit(3000)"
   ]
  },
  {
   "cell_type": "markdown",
   "id": "080011ee-818b-477d-8427-9fa0e15b148b",
   "metadata": {},
   "source": [
    "Problem 2: Employee Management Create a class representing an employee with attributes like employee ID, name, and salary. Implement methods to calculate the yearly bonus and display employee details."
   ]
  },
  {
   "cell_type": "code",
   "execution_count": 7,
   "id": "c6d4777f-c678-4b9b-b7d4-cd074b6077b8",
   "metadata": {},
   "outputs": [],
   "source": [
    "class employee():\n",
    "    def __init__(self,emp_id,emp_name,salary):\n",
    "        self.emp_id=emp_id\n",
    "        self.emp_name=emp_name\n",
    "        self.salary=salary\n",
    "    def bonus(self):\n",
    "        if 0<self.salary<50000:\n",
    "            print('Employee_id:',self.emp_id,'\\nEmployee_name:',self.emp_name,'\\nEmployee_salary:',self.salary,'\\nEmployee_yearly_Bonus',(self.salary*10)/100)\n",
    "        elif 50000<self.salary<100000:\n",
    "            print('Employee_id:',self.emp_id,'\\nEmployee_name:',self.emp_name,'\\nEmployee_salary:',self.salary,'\\nEmployee_yearly_Bonus',(self.salary*15)/100)\n",
    "        else:\n",
    "            print('Employee_id:',self.emp_id,'\\nEmployee_name:',self.emp_name,'\\nEmployee_salary:',self.salary,'\\nEmployee_yearly_Bonus',(self.salary*20)/100)"
   ]
  },
  {
   "cell_type": "code",
   "execution_count": 12,
   "id": "5c7c0a7e-a025-498d-b24e-17df05841a0e",
   "metadata": {},
   "outputs": [],
   "source": [
    "x=employee(3679,'Pallavi',70000)"
   ]
  },
  {
   "cell_type": "code",
   "execution_count": 13,
   "id": "261b3792-3ea8-4ce6-9fe8-049e6301aeb5",
   "metadata": {},
   "outputs": [
    {
     "name": "stdout",
     "output_type": "stream",
     "text": [
      "Employee_id: 3679 \n",
      "Employee_name: Pallavi \n",
      "Employee_salary: 70000 \n",
      "Employee_yearly_Bonus 10500.0\n"
     ]
    }
   ],
   "source": [
    "x.bonus()"
   ]
  },
  {
   "cell_type": "markdown",
   "id": "830a0004-587d-4b31-8f60-583f880aa750",
   "metadata": {},
   "source": [
    "Problem 3: Vehicle Rental Create a class representing a vehicle rental system. Implement methods to rent a vehicle, return a vehicle, and display available vehicles."
   ]
  },
  {
   "cell_type": "code",
   "execution_count": 14,
   "id": "98f4ecae-ff71-4f6c-bddf-56858739dd69",
   "metadata": {},
   "outputs": [],
   "source": [
    "class vehicle_rental:\n",
    "    def __init__(self,cars):\n",
    "        self.cars=cars\n",
    "        print(\"Available cars :\",self.cars )\n",
    "        print(\"Are you here for rent or return the car\")\n",
    "    def rent_vehicle(self,rent):\n",
    "        self.rent=rent\n",
    "        if self.rent in self.cars:\n",
    "            print(\"Your car is available, please take vehicle from our manager\")\n",
    "            self.cars.remove(self.rent)\n",
    "        else:\n",
    "            print(\"Sorry, you selected car is not available\")\n",
    "            print(\"Please choose from available cars\")\n",
    "    def return_vehicle(self,return_car):\n",
    "        self.return_car=return_car\n",
    "        print(\"Thank you for choosing our rental cars\\nCome back again\")\n",
    "        self.cars.append(self.return_car)   "
   ]
  },
  {
   "cell_type": "code",
   "execution_count": 15,
   "id": "ae68a6e7-3d9f-4c9c-a753-de2b4f2ad065",
   "metadata": {},
   "outputs": [
    {
     "name": "stdout",
     "output_type": "stream",
     "text": [
      "Available cars : ['BMW', 'Rangerover', 'Benz', 'Volvo']\n",
      "Are you here for rent or return the car\n"
     ]
    }
   ],
   "source": [
    "x=vehicle_rental(['BMW','Rangerover','Benz','Volvo'])"
   ]
  },
  {
   "cell_type": "code",
   "execution_count": 16,
   "id": "bbf5f593-98e5-4000-ab52-a1bb9d83de34",
   "metadata": {},
   "outputs": [
    {
     "name": "stdout",
     "output_type": "stream",
     "text": [
      "Sorry, you selected car is not available\n",
      "Please choose from available cars\n"
     ]
    }
   ],
   "source": [
    "x.rent_vehicle('Rolls Royal')"
   ]
  },
  {
   "cell_type": "code",
   "execution_count": 17,
   "id": "e3c4f6dd-6c0c-4c41-a18f-e58ed49fd26d",
   "metadata": {},
   "outputs": [
    {
     "name": "stdout",
     "output_type": "stream",
     "text": [
      "Your car is available, please take vehicle from our manager\n"
     ]
    }
   ],
   "source": [
    "x.rent_vehicle('Rangerover')"
   ]
  },
  {
   "cell_type": "code",
   "execution_count": 18,
   "id": "c71d695e-b494-42ab-8787-f8e68b297973",
   "metadata": {},
   "outputs": [
    {
     "name": "stdout",
     "output_type": "stream",
     "text": [
      "Thank you for choosing our rental cars\n",
      "Come back again\n"
     ]
    }
   ],
   "source": [
    "x.return_vehicle('Rangerover')"
   ]
  },
  {
   "cell_type": "markdown",
   "id": "445d2153-7136-450a-b4b7-a709346def62",
   "metadata": {},
   "source": [
    "Problem 4: Library Catalog Create classes representing a library and a book. Implement methods to add books to the library, borrow books, and display available books."
   ]
  },
  {
   "cell_type": "code",
   "execution_count": 19,
   "id": "6cd58280-2009-42a8-b4fb-88c9aaf7ba35",
   "metadata": {},
   "outputs": [],
   "source": [
    "class Library:\n",
    "    def __init__(self,books):\n",
    "        self.books=books\n",
    "        print(\"Available books :\",self.books )\n",
    "        print(\"Are you here for borrow or return the book\")\n",
    "    def borrow_book(self,borrow):\n",
    "        self.borrow=borrow\n",
    "        if self.borrow in self.books:\n",
    "            print(\"Your book is available, please take book from librarian\")\n",
    "            self.books.remove(self.borrow)\n",
    "        else:\n",
    "            print(\"Sorry, you choosen book is not available\")\n",
    "            print(\"Please choose from available books\")\n",
    "    def return_book(self,return_book):\n",
    "        self.return_book=return_book\n",
    "        print(\"Thank you for visiting library\\nCome back again\")\n",
    "        self.books.append(self.return_book) "
   ]
  },
  {
   "cell_type": "code",
   "execution_count": 20,
   "id": "2b306881-37ba-4f61-b945-13ebace1f4a7",
   "metadata": {},
   "outputs": [
    {
     "name": "stdout",
     "output_type": "stream",
     "text": [
      "Available books : ['picture book', 'political thriller', 'romance', 'poetry', 'dictionary']\n",
      "Are you here for borrow or return the book\n"
     ]
    }
   ],
   "source": [
    "x=Library(['picture book','political thriller','romance','poetry','dictionary'])"
   ]
  },
  {
   "cell_type": "code",
   "execution_count": 21,
   "id": "521328e6-5d17-4e56-977d-142cb0373d99",
   "metadata": {},
   "outputs": [
    {
     "name": "stdout",
     "output_type": "stream",
     "text": [
      "Your book is available, please take book from librarian\n"
     ]
    }
   ],
   "source": [
    "x.borrow_book('romance')"
   ]
  },
  {
   "cell_type": "code",
   "execution_count": 22,
   "id": "41fd3fa1-a8aa-4338-8052-aeb0983746df",
   "metadata": {},
   "outputs": [
    {
     "name": "stdout",
     "output_type": "stream",
     "text": [
      "Sorry, you choosen book is not available\n",
      "Please choose from available books\n"
     ]
    }
   ],
   "source": [
    "x.borrow_book('fiction')"
   ]
  },
  {
   "cell_type": "code",
   "execution_count": 23,
   "id": "c27f3577-a895-4e9a-b292-6ddd4803aefa",
   "metadata": {},
   "outputs": [
    {
     "name": "stdout",
     "output_type": "stream",
     "text": [
      "Thank you for visiting library\n",
      "Come back again\n"
     ]
    }
   ],
   "source": [
    "x.return_book('romance')"
   ]
  },
  {
   "cell_type": "markdown",
   "id": "e8ca3dcd-f1a2-403b-89c5-ef6b4e5a678c",
   "metadata": {},
   "source": [
    "Problem 5: Product Inventory Create classes representing a product and an inventory system. Implement methods to add products to the inventory, update product quantity, and display available products."
   ]
  },
  {
   "cell_type": "code",
   "execution_count": 24,
   "id": "4bb7b08c-02ba-4d7f-a59a-c71355081210",
   "metadata": {},
   "outputs": [],
   "source": [
    "class Inventory:\n",
    "    def __init__(self,products):\n",
    "        self.products=products\n",
    "    def add_product(self,product):\n",
    "        self.product=product\n",
    "        self.products.append(self.product)\n",
    "        print(\"You entered products are added\")\n",
    "    def update_quantity(self,quantity,prod):\n",
    "        self.quantity=quantity\n",
    "        self.prod=prod\n",
    "        for i in range(0,self.quantity):\n",
    "            self.products.append(self.prod)\n",
    "        print('You entered product quantity is successfully added')\n",
    "    def display_products(self):\n",
    "        print(\"Available products in inventory are\",self.products)"
   ]
  },
  {
   "cell_type": "code",
   "execution_count": 25,
   "id": "75a19f84-abad-482e-b87a-f8543583b482",
   "metadata": {},
   "outputs": [],
   "source": [
    "x=Inventory(['milk','cheese','honey'])"
   ]
  },
  {
   "cell_type": "code",
   "execution_count": 26,
   "id": "c79af332-878b-4181-b3ff-d1b9b5dc3900",
   "metadata": {},
   "outputs": [
    {
     "name": "stdout",
     "output_type": "stream",
     "text": [
      "You entered products are added\n"
     ]
    }
   ],
   "source": [
    "x.add_product('butter')"
   ]
  },
  {
   "cell_type": "code",
   "execution_count": 27,
   "id": "4b039a3c-5967-4311-a4c3-2b782dae8968",
   "metadata": {},
   "outputs": [
    {
     "name": "stdout",
     "output_type": "stream",
     "text": [
      "You entered product quantity is successfully added\n"
     ]
    }
   ],
   "source": [
    "x.update_quantity(3,'milk')"
   ]
  },
  {
   "cell_type": "code",
   "execution_count": 28,
   "id": "bda9beef-9504-4e51-bb94-cd62ca3ca3b3",
   "metadata": {},
   "outputs": [
    {
     "name": "stdout",
     "output_type": "stream",
     "text": [
      "Available products in inventory are ['milk', 'cheese', 'honey', 'butter', 'milk', 'milk', 'milk']\n"
     ]
    }
   ],
   "source": [
    "x.display_products()"
   ]
  },
  {
   "cell_type": "markdown",
   "id": "6af1defe-d4e6-44ca-9212-d872126d87f3",
   "metadata": {},
   "source": [
    "Problem 6: Shape Calculation Create a class representing a shape with attributes like length, width, and height. Implement methods to calculate the area and perimeter of the shape."
   ]
  },
  {
   "cell_type": "code",
   "execution_count": 29,
   "id": "0936fae3-8b2f-41b4-aa95-fde84cd5ac46",
   "metadata": {},
   "outputs": [],
   "source": [
    "class shape:\n",
    "    def __init__(self,length,width,height):\n",
    "        self.length=length\n",
    "        self.width=width\n",
    "        self.height=height\n",
    "    def area(self):\n",
    "        print(\"Area of the shape is\",2*(self.length*self.width+self.width*self.height+self.height*self.length))\n",
    "    def perimeter(self):\n",
    "        print(\"Perimeter of the shape is\",4*(self.length+self.width+self.height))"
   ]
  },
  {
   "cell_type": "code",
   "execution_count": 30,
   "id": "e16c7dc2-3cf6-487f-b783-e9e0991987e9",
   "metadata": {},
   "outputs": [],
   "source": [
    "x=shape(15,9,3)"
   ]
  },
  {
   "cell_type": "code",
   "execution_count": 31,
   "id": "b9da760b-a008-4c14-b60f-8e18a345f00d",
   "metadata": {},
   "outputs": [
    {
     "name": "stdout",
     "output_type": "stream",
     "text": [
      "Area of the shape is 414\n"
     ]
    }
   ],
   "source": [
    "x.area()"
   ]
  },
  {
   "cell_type": "code",
   "execution_count": 32,
   "id": "68bc4f14-42f5-445b-86f0-f00e2fce7b84",
   "metadata": {},
   "outputs": [
    {
     "name": "stdout",
     "output_type": "stream",
     "text": [
      "Perimeter of the shape is 108\n"
     ]
    }
   ],
   "source": [
    "x.perimeter()"
   ]
  },
  {
   "cell_type": "markdown",
   "id": "a7b329b7-fcd0-4a77-84a2-d16ce236000c",
   "metadata": {},
   "source": [
    "Problem 7: Student Management Create a class representing a student with attributes like student ID, name, and grades. Implement methods to calculate the average grade and display student details"
   ]
  },
  {
   "cell_type": "code",
   "execution_count": 33,
   "id": "da81e487-9e07-40a7-a4af-15ad64bc51a8",
   "metadata": {},
   "outputs": [],
   "source": [
    "class student:\n",
    "    def __init__(self,student_id,name,grades):\n",
    "        self.student_id=student_id\n",
    "        self.name=name\n",
    "        self.grades=grades\n",
    "    def average_grade(self):\n",
    "        Average_grade=sum(self.grades)/len(self.grades)\n",
    "        if 89<Average_grade<100:\n",
    "            print(\"Student grade is 'A'\")\n",
    "        elif 79<Average_grade<90:\n",
    "             print(\"Student grade is 'B'\")\n",
    "        elif 69<Average_grade<80:\n",
    "             print(\"Student grade is 'C'\")\n",
    "        elif 59<Average_grade<70:\n",
    "             print(\"Student grade is 'D'\")\n",
    "        elif 49<Average_grade<60:\n",
    "             print(\"Student grade is 'E'\")\n",
    "        else:\n",
    "             print(\"You failed the test\")"
   ]
  },
  {
   "cell_type": "code",
   "execution_count": 34,
   "id": "0c180eab-db75-4465-9352-09a4ca1f57a6",
   "metadata": {},
   "outputs": [],
   "source": [
    "x=student(367921,'Pallavi',[78,85,92,82,80])"
   ]
  },
  {
   "cell_type": "code",
   "execution_count": 35,
   "id": "cd66b931-4034-4633-9d79-aa8a37af496a",
   "metadata": {},
   "outputs": [
    {
     "name": "stdout",
     "output_type": "stream",
     "text": [
      "Student grade is 'B'\n"
     ]
    }
   ],
   "source": [
    "x.average_grade()"
   ]
  },
  {
   "cell_type": "markdown",
   "id": "2ac2a915-8559-47be-9984-be0463d44c78",
   "metadata": {},
   "source": [
    "Problem 8: Email Management Create a class representing an email with attributes like sender, recipient, and subject. Implement methods to send an email and display email details."
   ]
  },
  {
   "cell_type": "code",
   "execution_count": 36,
   "id": "bf78a81b-957d-4493-8427-4f7527b6f555",
   "metadata": {},
   "outputs": [],
   "source": [
    "class Email:\n",
    "    def __init__(self,sender,recipient,subject):\n",
    "        self.sender=sender\n",
    "        self.recipient=recipient\n",
    "        self.subject=subject\n",
    "    def send(self):\n",
    "        print('The mail send successfully from',self.sender,'to',self.recipient,'on the subject of',self.subject)\n",
    "    def display(self):\n",
    "        print('Mail sender:',self.sender,'\\nMail receiver:',self.recipient,'\\nMail subject:',self.subject)"
   ]
  },
  {
   "cell_type": "code",
   "execution_count": 37,
   "id": "c54f31e2-5f99-493f-b06f-f3a68d54a8e7",
   "metadata": {},
   "outputs": [],
   "source": [
    "x=Email('Pallavi','PW Skills','Assignment')"
   ]
  },
  {
   "cell_type": "code",
   "execution_count": 38,
   "id": "a734e147-b4d6-4bc2-a20e-5bf6865027f0",
   "metadata": {},
   "outputs": [
    {
     "name": "stdout",
     "output_type": "stream",
     "text": [
      "The mail send successfully from Pallavi to PW Skills on the subject of Assignment\n"
     ]
    }
   ],
   "source": [
    "x.send()"
   ]
  },
  {
   "cell_type": "code",
   "execution_count": 39,
   "id": "2c081db5-0779-47fd-a328-29555d3b9bc1",
   "metadata": {},
   "outputs": [
    {
     "name": "stdout",
     "output_type": "stream",
     "text": [
      "Mail sender: Pallavi \n",
      "Mail receiver: PW Skills \n",
      "Mail subject: Assignment\n"
     ]
    }
   ],
   "source": [
    "x.display()"
   ]
  },
  {
   "cell_type": "markdown",
   "id": "d9d60664-f563-4676-b084-4a90078dd30f",
   "metadata": {},
   "source": [
    "Problem 9: Social Media Profile Create a class representing a social media profile with attributes like username and posts. Implement methods to add posts, display posts, and search for posts by keyword."
   ]
  },
  {
   "cell_type": "code",
   "execution_count": 42,
   "id": "60faa9fc-118b-463e-b40d-0185a2a328f9",
   "metadata": {},
   "outputs": [],
   "source": [
    "class social_media:\n",
    "    def __init__(self,username,posts):\n",
    "        self.username=username\n",
    "        self.posts=posts\n",
    "    def add_post(self,post):\n",
    "        self.post=post\n",
    "        self.posts.append(self.post)\n",
    "        print(\"Your post is successfully added to your account\")\n",
    "    def display_details(self):\n",
    "        print(\"Username:\",self.username,\"\\nPosts:\",self.posts)\n",
    "    def search_post(self,search_post):\n",
    "        self.search_post=search_post\n",
    "        if self.search_post in self.posts:\n",
    "            print(self.search_post)\n",
    "        else:\n",
    "            print(\"The post is unavailable\")"
   ]
  },
  {
   "cell_type": "code",
   "execution_count": 43,
   "id": "e1cc2305-9373-4110-8f91-90fd30efadd5",
   "metadata": {},
   "outputs": [],
   "source": [
    "x=social_media('Palla_345',['Forest','Temple','City','Palace'])"
   ]
  },
  {
   "cell_type": "code",
   "execution_count": 44,
   "id": "13434e72-8f50-4234-86f1-41c8880189be",
   "metadata": {},
   "outputs": [
    {
     "name": "stdout",
     "output_type": "stream",
     "text": [
      "Your post is successfully added to your account\n"
     ]
    }
   ],
   "source": [
    "x.add_post('Movie')"
   ]
  },
  {
   "cell_type": "code",
   "execution_count": 45,
   "id": "eaadefe7-90ae-44d2-870a-51138aac709e",
   "metadata": {},
   "outputs": [
    {
     "name": "stdout",
     "output_type": "stream",
     "text": [
      "Username: Palla_345 \n",
      "Posts: ['Forest', 'Temple', 'City', 'Palace', 'Movie']\n"
     ]
    }
   ],
   "source": [
    "x.display_details()"
   ]
  },
  {
   "cell_type": "code",
   "execution_count": 46,
   "id": "9b9055e4-5486-4dde-b2a3-90fbe968a244",
   "metadata": {},
   "outputs": [
    {
     "name": "stdout",
     "output_type": "stream",
     "text": [
      "City\n"
     ]
    }
   ],
   "source": [
    "x.search_post('City')"
   ]
  },
  {
   "cell_type": "markdown",
   "id": "11483f21-1818-4fe2-b1f2-709f8603366c",
   "metadata": {},
   "source": [
    "Problem 10: ToDo List Create a class representing a ToDo list with attributes like tasks and due dates. Implement methods to add tasks, mark tasks as completed, and display pending tasks."
   ]
  },
  {
   "cell_type": "code",
   "execution_count": 47,
   "id": "e95a5890-012c-448d-950b-f4eda93375f5",
   "metadata": {},
   "outputs": [],
   "source": [
    "class ToDo_List:\n",
    "    def __init__(self,tasks,due_dates):\n",
    "        self.tasks=tasks\n",
    "        self.due_dates=due_dates\n",
    "        print('Your tasks:',self.tasks)\n",
    "        print('Your tasks due dates:',self.due_dates)\n",
    "    def add_tasks(self,task):\n",
    "        self.task=task\n",
    "        self.tasks.append(self.task)\n",
    "        print(\"You entered task is added successfully\")\n",
    "    def completed_tasks(self,tas):\n",
    "        self.tas=tas\n",
    "        self.tasks.remove(self.tas)\n",
    "        print(\"Completed task marked completed\")\n",
    "    def pending_tasks(self):\n",
    "        print(\"Pending tasks:\",self.tasks)"
   ]
  },
  {
   "cell_type": "code",
   "execution_count": 49,
   "id": "fc5d2aec-3669-446f-8a3a-308ddfc47f48",
   "metadata": {},
   "outputs": [
    {
     "name": "stdout",
     "output_type": "stream",
     "text": [
      "Your tasks: ['Meeting', 'Project', 'Trip', 'Learning']\n",
      "Your tasks due dates: ['10-02-2024', '15-02-2024', '20-02-2024', '18-02-2024']\n"
     ]
    }
   ],
   "source": [
    "x=ToDo_List(['Meeting','Project','Trip','Learning'],['10-02-2024','15-02-2024','20-02-2024','18-02-2024'])"
   ]
  },
  {
   "cell_type": "code",
   "execution_count": 50,
   "id": "fa077aec-1f4f-4b7b-9109-7c6d35e2b245",
   "metadata": {},
   "outputs": [
    {
     "name": "stdout",
     "output_type": "stream",
     "text": [
      "You entered task is added successfully\n"
     ]
    }
   ],
   "source": [
    "x.add_tasks('Delivery')"
   ]
  },
  {
   "cell_type": "code",
   "execution_count": 51,
   "id": "fa555ecb-9928-4a92-9fd8-71dd8ec9bf69",
   "metadata": {},
   "outputs": [
    {
     "name": "stdout",
     "output_type": "stream",
     "text": [
      "Completed task marked completed\n"
     ]
    }
   ],
   "source": [
    "x.completed_tasks('Meeting')"
   ]
  },
  {
   "cell_type": "code",
   "execution_count": 52,
   "id": "b457beb4-bf13-43f3-a30e-83a58e17c535",
   "metadata": {},
   "outputs": [
    {
     "name": "stdout",
     "output_type": "stream",
     "text": [
      "Pending tasks: ['Project', 'Trip', 'Learning', 'Delivery']\n"
     ]
    }
   ],
   "source": [
    "x.pending_tasks()"
   ]
  },
  {
   "cell_type": "code",
   "execution_count": null,
   "id": "930274c7-503d-4e69-ad99-30fed9356563",
   "metadata": {},
   "outputs": [],
   "source": []
  }
 ],
 "metadata": {
  "kernelspec": {
   "display_name": "Python 3 (ipykernel)",
   "language": "python",
   "name": "python3"
  },
  "language_info": {
   "codemirror_mode": {
    "name": "ipython",
    "version": 3
   },
   "file_extension": ".py",
   "mimetype": "text/x-python",
   "name": "python",
   "nbconvert_exporter": "python",
   "pygments_lexer": "ipython3",
   "version": "3.10.8"
  }
 },
 "nbformat": 4,
 "nbformat_minor": 5
}
