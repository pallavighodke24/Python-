{
 "cells": [
  {
   "cell_type": "markdown",
   "id": "1064c474-46b1-4659-a318-6817f6f1a37d",
   "metadata": {},
   "source": [
    "Python Basics Variable"
   ]
  },
  {
   "cell_type": "markdown",
   "id": "8332a954-7141-47b5-8a81-a584cace45ff",
   "metadata": {},
   "source": [
    "1.Declare two variables,xand y,and assign them integer values.Swap the values of these variables without using any temporary variable"
   ]
  },
  {
   "cell_type": "code",
   "execution_count": 1,
   "id": "054dd66e-1514-48c8-80b2-0825c275f106",
   "metadata": {},
   "outputs": [
    {
     "name": "stdout",
     "output_type": "stream",
     "text": [
      "x = 10\n",
      "y = 5\n"
     ]
    }
   ],
   "source": [
    "x = 5\n",
    "y = 10\n",
    "\n",
    "x, y = y, x\n",
    "\n",
    "print(\"x =\", x)\n",
    "print(\"y =\", y)"
   ]
  },
  {
   "cell_type": "markdown",
   "id": "53bb6a37-87d4-48ab-af34-ecf0c63a3817",
   "metadata": {},
   "source": [
    "2.Create a program that calculates the area of a rectangle. Take the length and width as inputs from the user and store them in variables. Calculate and display the area."
   ]
  },
  {
   "cell_type": "code",
   "execution_count": 2,
   "id": "98daff57-a39b-4032-8ea2-bcd39105d998",
   "metadata": {},
   "outputs": [
    {
     "name": "stdin",
     "output_type": "stream",
     "text": [
      "Enter the length of the rectangle:  15\n",
      "Enter the width of the rectangle:  8\n"
     ]
    },
    {
     "name": "stdout",
     "output_type": "stream",
     "text": [
      "The area of the rectangle is:  120.0\n"
     ]
    }
   ],
   "source": [
    "def calculate_area():\n",
    "    length = float(input(\"Enter the length of the rectangle: \"))\n",
    "    width = float(input(\"Enter the width of the rectangle: \"))\n",
    "    area = length * width\n",
    "    print(\"The area of the rectangle is: \", area)\n",
    "\n",
    "calculate_area()"
   ]
  },
  {
   "cell_type": "markdown",
   "id": "abf6b04b-0e6f-41cc-b206-719e8e0a286b",
   "metadata": {},
   "source": [
    "3.Write a Python program that converts temperatures from Celsius to Fahrenheit. Take the temperature in Celsius as input, store it in a variable,convert it to Fahrenheit, and display the result."
   ]
  },
  {
   "cell_type": "code",
   "execution_count": 17,
   "id": "de66682a-7160-4283-ab3d-634a9f289279",
   "metadata": {},
   "outputs": [
    {
     "name": "stdin",
     "output_type": "stream",
     "text": [
      "Enter the temperature in Celsius:  34\n"
     ]
    },
    {
     "name": "stdout",
     "output_type": "stream",
     "text": [
      "The temperature in Fahrenheit is:  93.2\n"
     ]
    }
   ],
   "source": [
    "def convert_to_fahrenheit():\n",
    "    celsius = float(input(\"Enter the temperature in Celsius: \"))\n",
    "    fahrenheit = (celsius * 9/5) + 32\n",
    "    print(\"The temperature in Fahrenheit is: \", fahrenheit)\n",
    "\n",
    "convert_to_fahrenheit()"
   ]
  },
  {
   "cell_type": "markdown",
   "id": "d5e1f6c9-670f-4f2a-a9f1-ee49c5914301",
   "metadata": {},
   "source": [
    "String Based Questions"
   ]
  },
  {
   "cell_type": "markdown",
   "id": "52c822b1-fe6c-4d8a-9252-fb90036cd7f6",
   "metadata": {},
   "source": [
    "1.Write a Python program that takes a string as input and prints the length of the string.\n"
   ]
  },
  {
   "cell_type": "code",
   "execution_count": 18,
   "id": "a6c212e4-02b8-49b2-bd8b-20d0db33ea11",
   "metadata": {},
   "outputs": [
    {
     "name": "stdin",
     "output_type": "stream",
     "text": [
      "Enter a string:  pallavi\n"
     ]
    },
    {
     "name": "stdout",
     "output_type": "stream",
     "text": [
      "The Length of a String is: 7\n"
     ]
    }
   ],
   "source": [
    "input_string = input(\"Enter a string: \")\n",
    "string_lenght = len(input_string)\n",
    "print(\"The Length of a String is:\", string_lenght)\n"
   ]
  },
  {
   "cell_type": "markdown",
   "id": "c76316a3-eadc-4085-b757-70b2f37600da",
   "metadata": {},
   "source": [
    "2.Create a program that takes a sentence from the user and counts the number of vowels (a, e, i, o, u) in the string."
   ]
  },
  {
   "cell_type": "code",
   "execution_count": 5,
   "id": "ee58203e-d533-4665-adf7-3206f96e86a1",
   "metadata": {},
   "outputs": [
    {
     "name": "stdin",
     "output_type": "stream",
     "text": [
      "Enter a sentence:  My Name Is Pallavi\n"
     ]
    },
    {
     "name": "stdout",
     "output_type": "stream",
     "text": [
      "The number of vowels in the sentence is: 6\n"
     ]
    }
   ],
   "source": [
    "# Function to count vowels\n",
    "def count_vowels(sentence):\n",
    "    vowels = \"aeiouAEIOU\"\n",
    "    count = 0\n",
    "\n",
    "    for char in sentence:\n",
    "        if char in vowels:\n",
    "            count += 1\n",
    "\n",
    "    return count\n",
    "\n",
    "# Get input from user\n",
    "sentence = input(\"Enter a sentence: \")\n",
    "\n",
    "# Call function and print result\n",
    "vowel_count = count_vowels(sentence)\n",
    "print(\"The number of vowels in the sentence is:\", vowel_count)"
   ]
  },
  {
   "cell_type": "markdown",
   "id": "2a929dc9-ef27-4cb7-8127-5db9b7bb0c56",
   "metadata": {},
   "source": [
    "3.Given a string, reverse the order of characters using string slicing and print the reversed string."
   ]
  },
  {
   "cell_type": "code",
   "execution_count": 6,
   "id": "b8556dc1-d980-4554-8ea8-fa13ec459a0e",
   "metadata": {},
   "outputs": [
    {
     "name": "stdin",
     "output_type": "stream",
     "text": [
      "Enter a sentence:  My Name Is Pallavi\n"
     ]
    },
    {
     "name": "stdout",
     "output_type": "stream",
     "text": [
      "The reversed sentence is: ivallaP sI emaN yM\n"
     ]
    }
   ],
   "source": [
    "# Get input from user\n",
    "sentence = input(\"Enter a sentence: \")\n",
    "\n",
    "# Reverse the string using string slicing\n",
    "reversed_sentence = sentence[::-1]\n",
    "\n",
    "# Print the reversed string\n",
    "print(\"The reversed sentence is:\", reversed_sentence)"
   ]
  },
  {
   "cell_type": "markdown",
   "id": "4ef891c9-4a1e-4203-8467-d2c01eadd97e",
   "metadata": {},
   "source": [
    "4.Write a program that takes a string as input and checks if it is a palindrome (reads the same forwards and backwards)."
   ]
  },
  {
   "cell_type": "code",
   "execution_count": 15,
   "id": "8d307dda-d59a-4222-a15e-fb43c676bde5",
   "metadata": {},
   "outputs": [
    {
     "name": "stdin",
     "output_type": "stream",
     "text": [
      "Enter the String:  aaaa\n"
     ]
    },
    {
     "name": "stdout",
     "output_type": "stream",
     "text": [
      "The sentence is a palindrome.\n"
     ]
    }
   ],
   "source": [
    "s = input(\"Enter the String: \")\n",
    "s1=s[::-1]\n",
    "if s== s1:\n",
    "        print(\"The sentence is a palindrome.\")\n",
    "else:\n",
    "    print(\"The sentence is not a palindrome.\")\n",
    "    \n"
   ]
  },
  {
   "cell_type": "markdown",
   "id": "672d0c65-b292-4022-9759-fc2177e873ff",
   "metadata": {},
   "source": [
    "5.Create a program that takes a string as input and removes all the spaces from it. Print the modified string without spaces."
   ]
  },
  {
   "cell_type": "code",
   "execution_count": 16,
   "id": "c5f2ebe1-5412-408e-9a47-10f97739b857",
   "metadata": {},
   "outputs": [
    {
     "name": "stdin",
     "output_type": "stream",
     "text": [
      "Enter a string:  My name is pallavi\n"
     ]
    },
    {
     "name": "stdout",
     "output_type": "stream",
     "text": [
      "Modified string without spaces:  Mynameispallavi\n"
     ]
    }
   ],
   "source": [
    "def remove_spaces(string):\n",
    "    modified_string = string.replace(\" \", \"\")\n",
    "    return modified_string\n",
    "\n",
    "user_input = input(\"Enter a string: \")\n",
    "modified_string = remove_spaces(user_input)\n",
    "print(\"Modified string without spaces: \", modified_string)"
   ]
  }
 ],
 "metadata": {
  "kernelspec": {
   "display_name": "Python 3 (ipykernel)",
   "language": "python",
   "name": "python3"
  },
  "language_info": {
   "codemirror_mode": {
    "name": "ipython",
    "version": 3
   },
   "file_extension": ".py",
   "mimetype": "text/x-python",
   "name": "python",
   "nbconvert_exporter": "python",
   "pygments_lexer": "ipython3",
   "version": "3.10.8"
  }
 },
 "nbformat": 4,
 "nbformat_minor": 5
}
