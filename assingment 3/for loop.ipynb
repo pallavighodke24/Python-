{
 "cells": [
  {
   "cell_type": "markdown",
   "id": "b57796f3-47cc-42b0-aaf8-ee16d6006872",
   "metadata": {},
   "source": [
    "BASIC LAVEL FOR LOOP SOLUTION"
   ]
  },
  {
   "cell_type": "markdown",
   "id": "c583e685-134a-4cf3-828a-766633e61a1b",
   "metadata": {},
   "source": [
    "1.Write a Python program to print the numbers from 1 to 10 using a `for` loop."
   ]
  },
  {
   "cell_type": "code",
   "execution_count": 1,
   "id": "745863e4-edc3-45ac-ba69-cb6f4088f026",
   "metadata": {},
   "outputs": [
    {
     "name": "stdin",
     "output_type": "stream",
     "text": [
      "Enter upto where you have to print:  10\n"
     ]
    },
    {
     "name": "stdout",
     "output_type": "stream",
     "text": [
      "1 2 3 4 5 6 7 8 9 10 "
     ]
    }
   ],
   "source": [
    "x=int(input(\"Enter upto where you have to print: \"))\n",
    "for i in range(1,x+1):\n",
    "    print(i, end=\" \")"
   ]
  },
  {
   "cell_type": "markdown",
   "id": "7e5fdda1-d3c9-4366-b0b0-c14de2ea73b9",
   "metadata": {},
   "source": [
    "2.Create a program that calculates the sum of all numbers in a list using a `for` loop."
   ]
  },
  {
   "cell_type": "code",
   "execution_count": 2,
   "id": "1ef15fa7-d090-43a3-963b-5ee5cd86894f",
   "metadata": {},
   "outputs": [
    {
     "name": "stdout",
     "output_type": "stream",
     "text": [
      "18\n"
     ]
    }
   ],
   "source": [
    "l=[3,7,5,2,1]\n",
    "print(sum(i for i in l))"
   ]
  },
  {
   "cell_type": "markdown",
   "id": "4400a4dd-5c4a-494e-88ae-0851c26c91aa",
   "metadata": {},
   "source": [
    "3.Write a program to print the characters of a string in reverse order using a `for` loop."
   ]
  },
  {
   "cell_type": "code",
   "execution_count": 3,
   "id": "3d85f4a0-16e3-44bd-8556-1b4c54d2ef8d",
   "metadata": {},
   "outputs": [
    {
     "name": "stdout",
     "output_type": "stream",
     "text": [
      "s l l i k s W P "
     ]
    }
   ],
   "source": [
    "s=\"PWskills\"\n",
    "for i in range((len(s)-1),-1,-1):\n",
    "    print(s[i], end=\" \")"
   ]
  },
  {
   "cell_type": "markdown",
   "id": "07c5c75e-0161-4e09-a3b8-91a0b2fe48d2",
   "metadata": {},
   "source": [
    "4.Develop a program that finds the factorial of a given number using a `for` loop."
   ]
  },
  {
   "cell_type": "code",
   "execution_count": 6,
   "id": "6db0fa71-de30-45b2-8854-4eea2fa34d53",
   "metadata": {},
   "outputs": [
    {
     "name": "stdin",
     "output_type": "stream",
     "text": [
      "Enter number to do factorial:  5\n"
     ]
    },
    {
     "name": "stdout",
     "output_type": "stream",
     "text": [
      "120\n"
     ]
    }
   ],
   "source": [
    "num=int(input(\"Enter number to do factorial: \"))\n",
    "f=1\n",
    "for i in range(num,0,-1):\n",
    "    f=f*i\n",
    "print(f)"
   ]
  },
  {
   "cell_type": "markdown",
   "id": "5ca912ad-f9ed-4360-adb8-235ed77afae7",
   "metadata": {},
   "source": [
    "5.Create a program to print the multiplication table of a given number using a `for` loop."
   ]
  },
  {
   "cell_type": "code",
   "execution_count": 7,
   "id": "26b2eac9-0d48-4fe0-a398-43c2af75a76d",
   "metadata": {},
   "outputs": [
    {
     "name": "stdin",
     "output_type": "stream",
     "text": [
      "Enter which table do you want:  15\n"
     ]
    },
    {
     "name": "stdout",
     "output_type": "stream",
     "text": [
      "15 * 1 = 15\n",
      "15 * 2 = 30\n",
      "15 * 3 = 45\n",
      "15 * 4 = 60\n",
      "15 * 5 = 75\n",
      "15 * 6 = 90\n",
      "15 * 7 = 105\n",
      "15 * 8 = 120\n",
      "15 * 9 = 135\n",
      "15 * 10 = 150\n"
     ]
    }
   ],
   "source": [
    "T=int(input(\"Enter which table do you want: \"))\n",
    "for i in range(1,11):\n",
    "    print(f\"{T} * {i} =\",T*i)"
   ]
  },
  {
   "cell_type": "markdown",
   "id": "00f41141-77ec-4ba9-a31f-ff0c57309993",
   "metadata": {},
   "source": [
    "6.Write a program that counts the number of even and odd numbers in a list using a `for` loop."
   ]
  },
  {
   "cell_type": "code",
   "execution_count": 8,
   "id": "6cce1632-61a2-45f3-b06a-95332334a435",
   "metadata": {},
   "outputs": [
    {
     "name": "stdout",
     "output_type": "stream",
     "text": [
      "list has 7 even numbers and 6 odd numbers.\n"
     ]
    }
   ],
   "source": [
    "l=[1,2,3,4,5,6,7,8,9,2,6,5,10]\n",
    "odd=0\n",
    "even=0\n",
    "for i in range(len(l)):\n",
    "    if l[i]%2==0:\n",
    "        even=even+1\n",
    "    else:\n",
    "        odd=odd+1\n",
    "print(f\"list has {even} even numbers and {odd} odd numbers.\")"
   ]
  },
  {
   "cell_type": "markdown",
   "id": "457b9164-209e-40f5-b15e-c8fc1bf3fb36",
   "metadata": {},
   "source": [
    "7.Develop a program that prints the squares of numbers from 1 to 5 using a `for` loop."
   ]
  },
  {
   "cell_type": "code",
   "execution_count": 9,
   "id": "374eddaa-cd29-4a7a-a567-4ced1796a5c0",
   "metadata": {},
   "outputs": [
    {
     "name": "stdin",
     "output_type": "stream",
     "text": [
      "Enter upto where you want squares:  5\n"
     ]
    },
    {
     "name": "stdout",
     "output_type": "stream",
     "text": [
      "1 4 9 16 25 "
     ]
    }
   ],
   "source": [
    "num=int(input(\"Enter upto where you want squares: \"))\n",
    "for i in range(1,num+1):\n",
    "    print(i**2, end=\" \")"
   ]
  },
  {
   "cell_type": "markdown",
   "id": "2231ba07-8627-4414-b4b4-32ea4908bc29",
   "metadata": {},
   "source": [
    "8.Create a program to find the length of a string without using the `len()` function."
   ]
  },
  {
   "cell_type": "code",
   "execution_count": 10,
   "id": "086fd532-4cf2-435b-a1f6-bd591ec2e68f",
   "metadata": {},
   "outputs": [
    {
     "name": "stdout",
     "output_type": "stream",
     "text": [
      "7\n"
     ]
    }
   ],
   "source": [
    "s=\"pALLAVI\"\n",
    "count=0\n",
    "for i in s:\n",
    "    count=count+1\n",
    "print(count)"
   ]
  },
  {
   "cell_type": "markdown",
   "id": "3f7712f1-9c3d-423b-86fd-45bfb9e7754a",
   "metadata": {},
   "source": [
    "9.Write a program that calculates the average of a list of numbers using a `for` loop."
   ]
  },
  {
   "cell_type": "code",
   "execution_count": 11,
   "id": "6768a6b4-471f-4c4b-8c47-c78b75756d1b",
   "metadata": {},
   "outputs": [
    {
     "name": "stdout",
     "output_type": "stream",
     "text": [
      "5.0\n"
     ]
    }
   ],
   "source": [
    "l=[2,2,6,7,4,9]\n",
    "s=sum(i for i in l)\n",
    "print(s/len(l))"
   ]
  },
  {
   "cell_type": "markdown",
   "id": "a6f3d01d-0e6d-48e8-bcd9-ff5c3b998c27",
   "metadata": {},
   "source": [
    "10.Develop a program that prints the first `n` Fibonacci numbers using a `for` loop."
   ]
  },
  {
   "cell_type": "code",
   "execution_count": 12,
   "id": "ded00ae6-069a-4ffe-9030-42a17c52a695",
   "metadata": {},
   "outputs": [
    {
     "name": "stdin",
     "output_type": "stream",
     "text": [
      "Enter how many fibonacci numbers you want:  18\n"
     ]
    },
    {
     "name": "stdout",
     "output_type": "stream",
     "text": [
      "0 1 1 2 3 5 8 13 21 34 55 89 144 233 377 610 987 1597 "
     ]
    }
   ],
   "source": [
    "n=int(input(\"Enter how many fibonacci numbers you want: \"))\n",
    "f=0\n",
    "s=1\n",
    "for i in range(n):\n",
    "    print(f, end=\" \")\n",
    "    temp=f\n",
    "    f=s\n",
    "    s=temp+s"
   ]
  },
  {
   "cell_type": "code",
   "execution_count": null,
   "id": "4e20ed0a-4fc5-4b05-8579-acadd2469553",
   "metadata": {},
   "outputs": [],
   "source": []
  },
  {
   "cell_type": "markdown",
   "id": "78b1fc8b-044d-430e-834c-6cc1b40e9d8d",
   "metadata": {},
   "source": [
    "INTERMEDIATE LEVEL FOR LOOP SOLUTIONS"
   ]
  },
  {
   "cell_type": "markdown",
   "id": "a67ca838-c938-4763-ae5c-85fd98d345f7",
   "metadata": {},
   "source": [
    "11.Write a program to check if a given list contains any duplicates using a `for` loop."
   ]
  },
  {
   "cell_type": "code",
   "execution_count": 13,
   "id": "7d277bff-ce70-4901-add2-3b43e3da9d64",
   "metadata": {},
   "outputs": [
    {
     "name": "stdout",
     "output_type": "stream",
     "text": [
      "Yes list has duplicate values\n"
     ]
    }
   ],
   "source": [
    "l=[2,4,6,8,4]\n",
    "for i in l:\n",
    "    if l.count(i)>1:\n",
    "        print(\"Yes list has duplicate values\")\n",
    "        break\n",
    "    else:\n",
    "        continue"
   ]
  },
  {
   "cell_type": "markdown",
   "id": "ddd8f497-3f72-4450-9362-7e7f88250726",
   "metadata": {},
   "source": [
    "12.Create a program that prints the prime numbers in a given range using a `for` loop."
   ]
  },
  {
   "cell_type": "code",
   "execution_count": 14,
   "id": "ede2f236-5ace-4108-ba66-e99e4d54c2fb",
   "metadata": {},
   "outputs": [
    {
     "name": "stdin",
     "output_type": "stream",
     "text": [
      "Enter upto where we find prime numbers:  100\n"
     ]
    },
    {
     "name": "stdout",
     "output_type": "stream",
     "text": [
      "1 2 3 5 7 11 13 17 19 23 29 31 37 41 43 47 53 59 61 67 71 73 79 83 89 97 "
     ]
    }
   ],
   "source": [
    "n=int(input(\"Enter upto where we find prime numbers: \"))\n",
    "for i in range(1,n):\n",
    "    count=0\n",
    "    for j in range(1,i):\n",
    "        if i%j==0:\n",
    "            count+=1\n",
    "    if count<2:\n",
    "        print(i, end=\" \")"
   ]
  },
  {
   "cell_type": "markdown",
   "id": "f21c856b-ded7-46d2-8650-a79073326137",
   "metadata": {},
   "source": [
    "13.Develop a program that counts the number of vowels in a string using a `for` loop."
   ]
  },
  {
   "cell_type": "code",
   "execution_count": 15,
   "id": "3e2aaf33-887f-4ca2-a515-4a659a4d1959",
   "metadata": {},
   "outputs": [
    {
     "name": "stdout",
     "output_type": "stream",
     "text": [
      "string has  14  vowels.\n"
     ]
    }
   ],
   "source": [
    "s=\"pALLAVI is learning data science in PWSKILLS\"\n",
    "v=\"AEIOUaeiou\"\n",
    "count=0\n",
    "for i in s:\n",
    "    if i in v:\n",
    "        count+=1\n",
    "print(\"string has \",count,\" vowels.\")"
   ]
  },
  {
   "cell_type": "markdown",
   "id": "91c6db85-beb8-422f-9e79-cc292c32028a",
   "metadata": {},
   "source": [
    "14.Write a program to find the maximum element in a 2D list using a nested `for` loop."
   ]
  },
  {
   "cell_type": "code",
   "execution_count": 16,
   "id": "7e20d633-9422-4833-90ea-6fd0ec6db5e9",
   "metadata": {},
   "outputs": [
    {
     "name": "stdout",
     "output_type": "stream",
     "text": [
      "10\n"
     ]
    }
   ],
   "source": [
    "l=[[1,4,6],[8,10,2],[6,1,7]]\n",
    "max=0\n",
    "for i in l:\n",
    "    if len(i)>2:\n",
    "        for j in i:\n",
    "            if max<j:\n",
    "                max=j\n",
    "print(max)"
   ]
  },
  {
   "cell_type": "markdown",
   "id": "08994b44-3f09-4376-bf6c-21df4902158f",
   "metadata": {},
   "source": [
    "15.Create a program that removes all occurrences of a specific element from a list using a `for` loop."
   ]
  },
  {
   "cell_type": "code",
   "execution_count": 17,
   "id": "2d939781-cf03-48de-af73-22bcff1fc43d",
   "metadata": {},
   "outputs": [
    {
     "name": "stdin",
     "output_type": "stream",
     "text": [
      "Enter what element will be remove 9\n"
     ]
    },
    {
     "data": {
      "text/plain": [
       "[3, 6, 5, 3, 10, 3, 6]"
      ]
     },
     "execution_count": 17,
     "metadata": {},
     "output_type": "execute_result"
    }
   ],
   "source": [
    "l=[3,6,9,5,3,10,9,3,6]\n",
    "num=int(input(\"Enter what element will be remove\"))\n",
    "for i in l:\n",
    "    if num==i:\n",
    "        l.remove(i)\n",
    "l"
   ]
  },
  {
   "cell_type": "markdown",
   "id": "62df5370-2995-4495-bce9-ad0709b27582",
   "metadata": {},
   "source": [
    "16.Develop a program that generates a multiplication table for numbers from 1 to 5 using a nested `for` loop."
   ]
  },
  {
   "cell_type": "code",
   "execution_count": 21,
   "id": "629c8333-8985-4439-8023-2a5e1477b9d3",
   "metadata": {},
   "outputs": [
    {
     "name": "stdin",
     "output_type": "stream",
     "text": [
      "Enter how many tables do you want:  5\n"
     ]
    },
    {
     "name": "stdout",
     "output_type": "stream",
     "text": [
      "1 * 1 = 1\n",
      "1 * 2 = 2\n",
      "1 * 3 = 3\n",
      "1 * 4 = 4\n",
      "1 * 5 = 5\n",
      "1 * 6 = 6\n",
      "1 * 7 = 7\n",
      "1 * 8 = 8\n",
      "1 * 9 = 9\n",
      "1 * 10 = 10\n",
      "\n",
      "2 * 1 = 2\n",
      "2 * 2 = 4\n",
      "2 * 3 = 6\n",
      "2 * 4 = 8\n",
      "2 * 5 = 10\n",
      "2 * 6 = 12\n",
      "2 * 7 = 14\n",
      "2 * 8 = 16\n",
      "2 * 9 = 18\n",
      "2 * 10 = 20\n",
      "\n",
      "3 * 1 = 3\n",
      "3 * 2 = 6\n",
      "3 * 3 = 9\n",
      "3 * 4 = 12\n",
      "3 * 5 = 15\n",
      "3 * 6 = 18\n",
      "3 * 7 = 21\n",
      "3 * 8 = 24\n",
      "3 * 9 = 27\n",
      "3 * 10 = 30\n",
      "\n",
      "4 * 1 = 4\n",
      "4 * 2 = 8\n",
      "4 * 3 = 12\n",
      "4 * 4 = 16\n",
      "4 * 5 = 20\n",
      "4 * 6 = 24\n",
      "4 * 7 = 28\n",
      "4 * 8 = 32\n",
      "4 * 9 = 36\n",
      "4 * 10 = 40\n",
      "\n",
      "5 * 1 = 5\n",
      "5 * 2 = 10\n",
      "5 * 3 = 15\n",
      "5 * 4 = 20\n",
      "5 * 5 = 25\n",
      "5 * 6 = 30\n",
      "5 * 7 = 35\n",
      "5 * 8 = 40\n",
      "5 * 9 = 45\n",
      "5 * 10 = 50\n",
      "\n"
     ]
    }
   ],
   "source": [
    "T=int(input(\"Enter how many tables do you want: \"))\n",
    "for i in range(1,T+1):\n",
    "    for j in range(1,11):\n",
    "        print(f\"{i} * {j} =\" , i*j)\n",
    "    print()"
   ]
  },
  {
   "cell_type": "markdown",
   "id": "7c4c45fe-6a74-4d70-b281-2bdc6bb6943c",
   "metadata": {},
   "source": [
    "17.Write a program that converts a list of Fahrenheit temperatures to Celsius using a `for` loop."
   ]
  },
  {
   "cell_type": "code",
   "execution_count": 22,
   "id": "a5b1ef1c-d7cf-4e6f-a0eb-55afadbe2b4a",
   "metadata": {},
   "outputs": [
    {
     "name": "stdout",
     "output_type": "stream",
     "text": [
      "[7.222222222222222, 36.66666666666667, 0.0]\n"
     ]
    }
   ],
   "source": [
    "F=[45,98,32]\n",
    "C=[]\n",
    "for i in F:\n",
    "    C.append((5/9)*(i-32))\n",
    "print(C)"
   ]
  },
  {
   "cell_type": "markdown",
   "id": "84646b88-5b53-47b7-a3ca-0b8664f3a375",
   "metadata": {},
   "source": [
    "18.Create a program to print the common elements from two lists using a `for` loop."
   ]
  },
  {
   "cell_type": "code",
   "execution_count": 23,
   "id": "e6a279d0-678b-4f13-8644-9c39be0281de",
   "metadata": {},
   "outputs": [
    {
     "name": "stdout",
     "output_type": "stream",
     "text": [
      "2 3 4 6 8 "
     ]
    }
   ],
   "source": [
    "l1=[1,2,3,4,5,6,7,8]\n",
    "l2=[2,4,6,8,10,11,3]\n",
    "for i in l1:\n",
    "    if i in l2:\n",
    "        print(i, end=\" \")"
   ]
  },
  {
   "cell_type": "markdown",
   "id": "6f7136ac-1157-408d-a577-a8fd0d182587",
   "metadata": {},
   "source": [
    "19.Develop a program that prints the pattern of right-angled triangles using a `for` loop. Use ‘*’ to draw the pattern"
   ]
  },
  {
   "cell_type": "code",
   "execution_count": 24,
   "id": "19d51711-3731-47b1-8ea3-68f4c654b1a3",
   "metadata": {},
   "outputs": [
    {
     "name": "stdin",
     "output_type": "stream",
     "text": [
      "Enter how many lines do you want:  7\n"
     ]
    },
    {
     "name": "stdout",
     "output_type": "stream",
     "text": [
      "\n",
      "* \n",
      "* * \n",
      "* * * \n",
      "* * * * \n",
      "* * * * * \n",
      "* * * * * * \n",
      "* * * * * * * \n"
     ]
    }
   ],
   "source": [
    "l=int(input(\"Enter how many lines do you want: \"))\n",
    "for i in range(l+1):\n",
    "    for j in range(i):\n",
    "        print(\"*\", end=\" \")\n",
    "    print()"
   ]
  },
  {
   "cell_type": "markdown",
   "id": "f21a6c0a-6305-4cc2-9720-433bdc6ac9fc",
   "metadata": {},
   "source": [
    "20.Write a program to find the greatest common divisor (GCD) of two numbers using a `for` loop."
   ]
  },
  {
   "cell_type": "code",
   "execution_count": 25,
   "id": "ea20f1c6-eb53-4899-84cc-43f3683d368e",
   "metadata": {},
   "outputs": [
    {
     "name": "stdin",
     "output_type": "stream",
     "text": [
      "Enter first number to find GCD 200\n",
      "Enter second number to find GCD 1000\n"
     ]
    },
    {
     "name": "stdout",
     "output_type": "stream",
     "text": [
      "200\n"
     ]
    }
   ],
   "source": [
    "fn=int(input(\"Enter first number to find GCD\"))\n",
    "sn=int(input(\"Enter second number to find GCD\"))\n",
    "max=0\n",
    "for i in range(1,fn+1):\n",
    "    if fn%i==0 and sn%i==0:\n",
    "        max=i\n",
    "print(max)"
   ]
  },
  {
   "cell_type": "markdown",
   "id": "0f29394d-be91-4acc-9550-1ed59704f434",
   "metadata": {},
   "source": [
    "ADVANCED LEVEL LIST COMPREHENSION SOLUTIONS"
   ]
  },
  {
   "cell_type": "markdown",
   "id": "ce06c452-982a-4166-9537-8eab8dcc9d7e",
   "metadata": {},
   "source": [
    "21.Create a program that calculates the sum of the digits of numbers in a list using a list comprehension."
   ]
  },
  {
   "cell_type": "code",
   "execution_count": 26,
   "id": "639bd78d-0148-463e-a55b-1513390aef38",
   "metadata": {},
   "outputs": [
    {
     "name": "stdout",
     "output_type": "stream",
     "text": [
      "33\n"
     ]
    }
   ],
   "source": [
    "l=[2,4,6,8,3,10]\n",
    "sum=0\n",
    "_=[sum:=sum+i for i in l]\n",
    "print(sum)"
   ]
  },
  {
   "cell_type": "markdown",
   "id": "ec1058ef-059e-42c9-a9e6-1a31fad26ac9",
   "metadata": {},
   "source": [
    "22.Write a program to find the prime factors of a given number using a `for` loop and list comprehension."
   ]
  },
  {
   "cell_type": "code",
   "execution_count": 27,
   "id": "f78a775f-0d95-4761-a4d5-149aae5d223e",
   "metadata": {},
   "outputs": [
    {
     "name": "stdin",
     "output_type": "stream",
     "text": [
      "Enter a number:  50\n"
     ]
    },
    {
     "name": "stdout",
     "output_type": "stream",
     "text": [
      "2 5 5 "
     ]
    }
   ],
   "source": [
    "num=int(input(\"Enter a number: \"))\n",
    "a=2\n",
    "while num!=1:\n",
    "    if num%a==0:\n",
    "        num=num/a\n",
    "        print(a, end=\" \")\n",
    "    else:\n",
    "        a=a+1"
   ]
  },
  {
   "cell_type": "markdown",
   "id": "f05f3274-aab6-4332-829f-a6fde1736396",
   "metadata": {},
   "source": [
    "23.Develop a program that extracts unique elements from a list and stores them in a new list using a list comprehension."
   ]
  },
  {
   "cell_type": "code",
   "execution_count": 28,
   "id": "ecffc67b-aaa8-49f2-b118-4d99d23f2ee0",
   "metadata": {},
   "outputs": [
    {
     "name": "stdout",
     "output_type": "stream",
     "text": [
      "[1, 3, 5, 7, 8, 10]\n"
     ]
    }
   ],
   "source": [
    "l=[1,2,3,4,5,6,7,8,2,4,6,10]\n",
    "l1=[i for i in l if l.count(i)<2]\n",
    "print(l1)"
   ]
  },
  {
   "cell_type": "markdown",
   "id": "7019648c-81eb-4cf1-884f-5681b4b05ceb",
   "metadata": {},
   "source": [
    "24.Create a program that generates a list of all palindromic numbers up to a specified limit using a list comprehension."
   ]
  },
  {
   "cell_type": "code",
   "execution_count": 29,
   "id": "b20ddace-b94a-4688-8e48-a6aa1716d5ca",
   "metadata": {},
   "outputs": [
    {
     "name": "stdin",
     "output_type": "stream",
     "text": [
      "Enter uptp where you check palindrome numbers:  500\n"
     ]
    },
    {
     "name": "stdout",
     "output_type": "stream",
     "text": [
      "[11, 22, 33, 44, 55, 66, 77, 88, 99, 101, 111, 121, 131, 141, 151, 161, 171, 181, 191, 202, 212, 222, 232, 242, 252, 262, 272, 282, 292, 303, 313, 323, 333, 343, 353, 363, 373, 383, 393, 404, 414, 424, 434, 444, 454, 464, 474, 484, 494]\n"
     ]
    }
   ],
   "source": [
    "n=int(input(\"Enter uptp where you check palindrome numbers: \"))\n",
    "l=[]\n",
    "for i in range(11,n+1):\n",
    "    temp=i\n",
    "    rev=0\n",
    "    while i>0:\n",
    "        d=i%10\n",
    "        rev=(rev*10)+d\n",
    "        i=i//10\n",
    "    if temp==rev:\n",
    "            l.append(temp)\n",
    "print(l)"
   ]
  },
  {
   "cell_type": "markdown",
   "id": "ff904b86-28f8-4477-91a7-a549cae22428",
   "metadata": {},
   "source": [
    "25.Write a program to flatten a nested list using list comprehension."
   ]
  },
  {
   "cell_type": "code",
   "execution_count": 30,
   "id": "e1b2c41b-01aa-461f-a6b4-a45799a39453",
   "metadata": {},
   "outputs": [
    {
     "name": "stdout",
     "output_type": "stream",
     "text": [
      "[2, 4, 6, 8, 9]\n"
     ]
    }
   ],
   "source": [
    "l=[[2,4,6],[8,9]]\n",
    "l2=[ele for i in l for ele in i]\n",
    "print(l2)"
   ]
  },
  {
   "cell_type": "markdown",
   "id": "6f9dcf8e-aafa-453c-8164-c2855d41cbfa",
   "metadata": {},
   "source": [
    "26.Develop a program that computes the sum of even and odd numbers in a list separately using list comprehension."
   ]
  },
  {
   "cell_type": "code",
   "execution_count": 31,
   "id": "b98c48ae-79b7-44ce-a2a5-9540bf456a47",
   "metadata": {},
   "outputs": [
    {
     "name": "stdout",
     "output_type": "stream",
     "text": [
      "Sum of even numbers:  30\n",
      "Sum of odd numbers:  25\n"
     ]
    }
   ],
   "source": [
    "l=[10,1,9,2,8,3,7,4,6,5]\n",
    "s_e=0\n",
    "s_o=0\n",
    "a=[s_e:=s_e+i for i in l if i%2==0]\n",
    "b=[s_o:=s_o+i for i in l if i%2!=0]\n",
    "print(\"Sum of even numbers: \", s_e)\n",
    "print(\"Sum of odd numbers: \", s_o)"
   ]
  },
  {
   "cell_type": "markdown",
   "id": "fba3bbc1-0a9b-4397-b0cd-c9d777da1e0a",
   "metadata": {},
   "source": [
    "27.Create a program that generates a list of squares of odd numbers between 1 and 10 using list comprehension."
   ]
  },
  {
   "cell_type": "code",
   "execution_count": 32,
   "id": "f03b05b4-e03f-403c-86ea-2cc5fe762fd0",
   "metadata": {},
   "outputs": [
    {
     "name": "stdin",
     "output_type": "stream",
     "text": [
      "Enter end numer:  10\n"
     ]
    },
    {
     "name": "stdout",
     "output_type": "stream",
     "text": [
      "[1, 9, 25, 49, 81]\n"
     ]
    }
   ],
   "source": [
    "n=int(input(\"Enter end numer: \"))\n",
    "l=[i**2 for i in range(n) if i%2!=0]\n",
    "print(l)"
   ]
  },
  {
   "cell_type": "markdown",
   "id": "e92f3e3c-05da-435a-8879-3c2209ba5d05",
   "metadata": {},
   "source": [
    "28.Write a program that combines two lists into a dictionary using list comprehension."
   ]
  },
  {
   "cell_type": "code",
   "execution_count": 33,
   "id": "b7a7a835-0769-4cf5-82dd-75cff21e27b5",
   "metadata": {},
   "outputs": [
    {
     "name": "stdout",
     "output_type": "stream",
     "text": [
      "{'Name': 'pallavi', 'age': 26, 'state': 'MH'}\n"
     ]
    }
   ],
   "source": [
    "l1=['Name','age','state']\n",
    "l2=['pallavi',26,'MH']\n",
    "a={l1[i]:l2[i] for i in range(len(l1))}\n",
    "print(a)"
   ]
  },
  {
   "cell_type": "markdown",
   "id": "5d355757-4ef2-49e6-9faa-7d5f6d1d8835",
   "metadata": {},
   "source": [
    "29.Develop a program that extracts the vowels from a string and stores them in a list using list comprehension."
   ]
  },
  {
   "cell_type": "code",
   "execution_count": 34,
   "id": "df36b288-9b88-4c3c-93e0-9f559f3bd42c",
   "metadata": {},
   "outputs": [
    {
     "name": "stdout",
     "output_type": "stream",
     "text": [
      "['o', 'u', 'e', 'I']\n"
     ]
    }
   ],
   "source": [
    "s=\"mycoursePWSKILLS\"\n",
    "v='aeiouAEIOU'\n",
    "l=[i for i in s if i in v]\n",
    "print(l)"
   ]
  },
  {
   "cell_type": "markdown",
   "id": "236fd508-f1a8-467f-bcce-3eebd2617d86",
   "metadata": {},
   "source": [
    "30.Create a program that removes all non-numeric characters from a list of strings using list comprehension."
   ]
  },
  {
   "cell_type": "code",
   "execution_count": 35,
   "id": "8722fc5e-25d7-41f3-93e2-115dca9f84ac",
   "metadata": {},
   "outputs": [
    {
     "name": "stdout",
     "output_type": "stream",
     "text": [
      "['20', '908', '346', '3889483']\n"
     ]
    }
   ],
   "source": [
    "l1=['geet','20','AP','908','346','djikjf','3889483']\n",
    "l=[l1.remove(i) for i in l1 if i.isalpha()]\n",
    "print(l1)"
   ]
  },
  {
   "cell_type": "markdown",
   "id": "0248a229-c932-4d05-b613-2bb10755ab6a",
   "metadata": {},
   "source": [
    "CHALLENGED LEVEL SOLUTIONS"
   ]
  },
  {
   "cell_type": "markdown",
   "id": "a485369b-880c-42d4-8a9f-96166fb6a791",
   "metadata": {},
   "source": [
    "31.Write a program to generate a list of prime numbers using the Sieve of Eratosthenes algorithm and list comprehension."
   ]
  },
  {
   "cell_type": "code",
   "execution_count": 37,
   "id": "488aee3e-a62d-4300-a5a9-b1a15daf94c0",
   "metadata": {},
   "outputs": [
    {
     "name": "stdin",
     "output_type": "stream",
     "text": [
      "Enter end number:  100\n"
     ]
    },
    {
     "name": "stdout",
     "output_type": "stream",
     "text": [
      "[1, 2, 3, 5, 7, 11, 13, 17, 19, 23, 29, 31, 37, 41, 43, 47, 53, 59, 61, 67, 71, 73, 79, 83, 89, 97]\n"
     ]
    }
   ],
   "source": [
    "n=int(input(\"Enter end number: \"))\n",
    "l1=[i for i in range(n+1)]\n",
    "p=2\n",
    "while p*p<=n:\n",
    "    if p!=0:\n",
    "        for i in range(p*2,n+1,p):\n",
    "            l1[i]=0 \n",
    "    p+=1\n",
    "l2=[i for i in l1 if i != 0]\n",
    "print(l2)"
   ]
  },
  {
   "cell_type": "markdown",
   "id": "37cff301-4345-48ef-86e5-3e7ce9e0020b",
   "metadata": {},
   "source": [
    "32.Create a program that generates a list of all Pythagorean triplets up to a specified limit using list comprehension."
   ]
  },
  {
   "cell_type": "code",
   "execution_count": 38,
   "id": "63604e27-4939-4a45-86b6-6ee5ce256164",
   "metadata": {},
   "outputs": [
    {
     "name": "stdin",
     "output_type": "stream",
     "text": [
      "Enter upper limit: 20\n"
     ]
    },
    {
     "name": "stdout",
     "output_type": "stream",
     "text": [
      "[(3, 4, 5), (8, 6, 10), (5, 12, 13), (15, 8, 17), (12, 16, 20)]\n"
     ]
    }
   ],
   "source": [
    "x=int(input(\"Enter upper limit:\"))\n",
    "y=0\n",
    "z=2\n",
    "l=[]\n",
    "while(y<x):\n",
    "    for n in range(1,z+1):\n",
    "        a=z*z-n*n\n",
    "        b=2*z*n\n",
    "        y=z*z+n*n\n",
    "        if(y>x):\n",
    "            break\n",
    "        if(a==0 or b==0 or y==0):\n",
    "            break\n",
    "        l.append((a,b,y))\n",
    "    z=z+1\n",
    "print(l)"
   ]
  },
  {
   "cell_type": "markdown",
   "id": "6c1d3903-4833-446c-b355-38959ecd0fd1",
   "metadata": {},
   "source": [
    "33.Develop a program that generates a list of all possible combinations of two lists using list comprehension."
   ]
  },
  {
   "cell_type": "code",
   "execution_count": 39,
   "id": "a0bab0cc-3973-4e4a-8a3e-1e79209ef9da",
   "metadata": {},
   "outputs": [
    {
     "name": "stdout",
     "output_type": "stream",
     "text": [
      "[('b', 1), ('b', 4), ('b', 9), ('c', 1), ('c', 4), ('c', 9), ('d', 1), ('d', 4), ('d', 9)]\n"
     ]
    }
   ],
   "source": [
    "l1 = [\"b\", \"c\", \"d\"]\n",
    "l2 = [1, 4, 9]\n",
    "unique_combinations = []\n",
    "for i in range(len(l1)):\n",
    "\tfor j in range(len(l2)):\n",
    "\t\tunique_combinations.append((l1[i], l2[j]))\n",
    "print(unique_combinations)"
   ]
  },
  {
   "cell_type": "markdown",
   "id": "9bdf853e-78fe-4303-a388-ca2209cd6328",
   "metadata": {},
   "source": [
    "34.Write a program that calculates the mean, median, and mode of a list of numbers using list comprehension."
   ]
  },
  {
   "cell_type": "code",
   "execution_count": 40,
   "id": "61265586-0e2a-44ed-8a89-bd31ca53ee70",
   "metadata": {},
   "outputs": [
    {
     "name": "stdout",
     "output_type": "stream",
     "text": [
      "Mean is:  5.416666666666667\n",
      "Median is:  5\n",
      "Mode is:  4\n"
     ]
    }
   ],
   "source": [
    "L=[1,2,3,4,5,6,7,8,4,10,11,4]\n",
    "s=0\n",
    "a=[s:=s+i for i in L]\n",
    "print(\"Mean is: \",s/len(L))\n",
    "L.sort()\n",
    "print(\"Median is: \",L[len(L)//2])\n",
    "count=1\n",
    "mode=0\n",
    "m=[mode:=i for i in L if L.count(i)>count]\n",
    "print(\"Mode is: \",mode)"
   ]
  },
  {
   "cell_type": "markdown",
   "id": "43189440-898f-405e-87d3-8ab06c5407c8",
   "metadata": {},
   "source": [
    "35.Create a program that generates Pascal's triangle up to a specified number of rows using list comprehension."
   ]
  },
  {
   "cell_type": "code",
   "execution_count": 41,
   "id": "9f64135b-84c4-41d5-907d-9f7ddb024d54",
   "metadata": {},
   "outputs": [
    {
     "name": "stdin",
     "output_type": "stream",
     "text": [
      "Enter row:  5\n"
     ]
    },
    {
     "name": "stdout",
     "output_type": "stream",
     "text": [
      "    1 \n",
      "   1 1 \n",
      "  1 2 1 \n",
      " 1 3 3 1 \n",
      "1 4 6 4 1 \n"
     ]
    }
   ],
   "source": [
    "r=int(input(\"Enter row: \"))\n",
    "l=[]\n",
    "for i in range(r):\n",
    "    dl=[]\n",
    "    for j in range(i+1):\n",
    "        if j==0 or j==i:\n",
    "            dl.append(1)\n",
    "        else:\n",
    "            dl.append(l[i-1][j-1]+l[i-1][j])\n",
    "    l.append(dl)\n",
    "for i in range(r):\n",
    "    for j in range(r-i-1):\n",
    "        print(\" \", end=\"\")\n",
    "    for j in range(i+1):\n",
    "        print(l[i][j],end=\" \")\n",
    "    print()"
   ]
  },
  {
   "cell_type": "markdown",
   "id": "c6c259ce-ad48-48e4-b5ab-f5b215a0194e",
   "metadata": {},
   "source": [
    "36.Develop a program that calculates the sum of the digits of a factorial of numbers from 1 to 5 using listcomprehension."
   ]
  },
  {
   "cell_type": "code",
   "execution_count": 1,
   "id": "e1173ea5-09b9-4a92-afa6-e7dddaaf2786",
   "metadata": {},
   "outputs": [
    {
     "name": "stdout",
     "output_type": "stream",
     "text": [
      "34863\n"
     ]
    }
   ],
   "source": [
    "s= {1, 2, 3, 4, 5}\n",
    "l1=[]\n",
    "fact = 1\n",
    "for i in s:\n",
    "    for num in range(1,i+1):\n",
    "        fact = fact * num\n",
    "    l1.append(fact)\n",
    "s=sum(i for i in l1)\n",
    "print(s)"
   ]
  },
  {
   "cell_type": "markdown",
   "id": "13978cae-32b4-45cc-8d78-a14f1d840b49",
   "metadata": {},
   "source": [
    "37.Write a program that finds the longest word in a sentence using list comprehension."
   ]
  },
  {
   "cell_type": "code",
   "execution_count": 3,
   "id": "cf82049e-eede-4f35-aeef-8b2aa487fa56",
   "metadata": {},
   "outputs": [
    {
     "name": "stdout",
     "output_type": "stream",
     "text": [
      "pallavi\n"
     ]
    }
   ],
   "source": [
    "s=\"My name is pallavi\"\n",
    "l=s.split(\" \")\n",
    "l1=\"\"\n",
    "_=[l1:=i for i in l if len(i)>len(l1)]\n",
    "print(l1)"
   ]
  },
  {
   "cell_type": "markdown",
   "id": "a4e78ec9-64d8-437a-8697-cbaf86dd681b",
   "metadata": {},
   "source": [
    "38.Create a program that filters a list of strings to include only those with more than three vowels using list comprehension."
   ]
  },
  {
   "cell_type": "code",
   "execution_count": 4,
   "id": "a306c055-801c-440f-821b-823c79f19285",
   "metadata": {},
   "outputs": [
    {
     "name": "stdout",
     "output_type": "stream",
     "text": [
      "['Pallavi', 'oopsin', 'iamo']\n"
     ]
    }
   ],
   "source": [
    "l=['Pallavi','oopsin','iamo','learn']\n",
    "v=\"aeiouAEIOU\"\n",
    "for i in l:\n",
    "    count=0\n",
    "    for char in i:\n",
    "        if char in v:\n",
    "            count+=1\n",
    "    if count<3:\n",
    "        l.remove(i)\n",
    "print(l)"
   ]
  },
  {
   "cell_type": "markdown",
   "id": "3384dda4-b911-42ee-bd3c-3d8e329d8347",
   "metadata": {},
   "source": [
    "39.Develop a program that calculates the sum of the digits of numbers from 1 to 1000 using list comprehension."
   ]
  },
  {
   "cell_type": "code",
   "execution_count": 5,
   "id": "e5d93472-cf4e-48f0-bbb3-bba924bbeda6",
   "metadata": {},
   "outputs": [
    {
     "name": "stdout",
     "output_type": "stream",
     "text": [
      "500500\n"
     ]
    }
   ],
   "source": [
    "s=sum(i for i in range(1,1001))\n",
    "print(s)"
   ]
  },
  {
   "cell_type": "markdown",
   "id": "594c1bd6-2449-420a-ad91-aef58d402fcf",
   "metadata": {},
   "source": [
    "40.Write a program that generates a list of prime palindromic numbers using list comprehension."
   ]
  },
  {
   "cell_type": "code",
   "execution_count": 6,
   "id": "6da5fdfe-2636-49f3-88a0-10773349ae68",
   "metadata": {},
   "outputs": [
    {
     "name": "stdin",
     "output_type": "stream",
     "text": [
      "Enter uptp where you check palindrome numbers:  50\n"
     ]
    },
    {
     "name": "stdout",
     "output_type": "stream",
     "text": [
      "[11, 22, 33, 44]\n"
     ]
    }
   ],
   "source": [
    "n=int(input(\"Enter uptp where you check palindrome numbers: \"))\n",
    "l=[]\n",
    "for i in range(11,n+1):\n",
    "    temp=i\n",
    "    rev=0\n",
    "    while i>0:\n",
    "        d=i%10\n",
    "        rev=(rev*10)+d\n",
    "        i=i//10\n",
    "    if temp==rev:\n",
    "            l.append(temp)\n",
    "print(l)"
   ]
  },
  {
   "cell_type": "code",
   "execution_count": null,
   "id": "d84ab827-c13e-4234-8f09-1147887759ca",
   "metadata": {},
   "outputs": [],
   "source": []
  }
 ],
 "metadata": {
  "kernelspec": {
   "display_name": "Python 3 (ipykernel)",
   "language": "python",
   "name": "python3"
  },
  "language_info": {
   "codemirror_mode": {
    "name": "ipython",
    "version": 3
   },
   "file_extension": ".py",
   "mimetype": "text/x-python",
   "name": "python",
   "nbconvert_exporter": "python",
   "pygments_lexer": "ipython3",
   "version": "3.10.8"
  }
 },
 "nbformat": 4,
 "nbformat_minor": 5
}
