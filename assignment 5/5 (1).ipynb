{
 "cells": [
  {
   "cell_type": "markdown",
   "id": "4d717805-b03f-46d8-a1b0-bfc1c70c2975",
   "metadata": {},
   "source": [
    "FOR LOOP SOLUTIONS"
   ]
  },
  {
   "cell_type": "markdown",
   "id": "2e8ff223-160b-4729-99bc-13c9e091e2b1",
   "metadata": {},
   "source": [
    "1.Write a Python program to print numbers from 1 to 10 using a for loop"
   ]
  },
  {
   "cell_type": "code",
   "execution_count": 1,
   "id": "665c9d25-b082-4965-8a75-a6740093319d",
   "metadata": {},
   "outputs": [
    {
     "name": "stdin",
     "output_type": "stream",
     "text": [
      "Enter end number:  10\n"
     ]
    },
    {
     "name": "stdout",
     "output_type": "stream",
     "text": [
      "1 2 3 4 5 6 7 8 9 10 "
     ]
    }
   ],
   "source": [
    "n=int(input(\"Enter end number: \"))\n",
    "for i in range(1,n+1):\n",
    "    print(i,end=\" \")"
   ]
  },
  {
   "cell_type": "markdown",
   "id": "529ad7c1-5d69-4e9a-8523-e400bad69c1c",
   "metadata": {},
   "source": [
    "2.Explain the difference between a for loop and a while loop in Python."
   ]
  },
  {
   "cell_type": "code",
   "execution_count": 2,
   "id": "a6eed740-9f71-40da-8bb3-92d91d27a024",
   "metadata": {},
   "outputs": [
    {
     "name": "stdout",
     "output_type": "stream",
     "text": [
      "For loop is used to iterate a particular sequence of items.\n",
      "While loop is used to execute a block of code while the condition is true.\n"
     ]
    }
   ],
   "source": [
    "print(\"For loop is used to iterate a particular sequence of items.\\nWhile loop is used to execute a block of code while the condition is true.\")"
   ]
  },
  {
   "cell_type": "markdown",
   "id": "36816623-face-432b-af7c-d30f311eee24",
   "metadata": {},
   "source": [
    "3.Write a Python program to calculate the sum of all numbers from 1 to 100 using a for loop."
   ]
  },
  {
   "cell_type": "code",
   "execution_count": 3,
   "id": "26372801-a660-4e66-b101-942dd9409b64",
   "metadata": {},
   "outputs": [
    {
     "name": "stdin",
     "output_type": "stream",
     "text": [
      "Enter last number upto where you want sum of numbers:  100\n"
     ]
    },
    {
     "name": "stdout",
     "output_type": "stream",
     "text": [
      "5050\n"
     ]
    }
   ],
   "source": [
    "\n",
    "n=int(input(\"Enter last number upto where you want sum of numbers: \"))\n",
    "sum=0\n",
    "for i in range(1,n+1):\n",
    "    sum+=i\n",
    "print(sum)"
   ]
  },
  {
   "cell_type": "markdown",
   "id": "878338e0-832a-4e2c-981f-108ec4ec4327",
   "metadata": {},
   "source": [
    "4.How do you iterate through a list using a for loop in Python?"
   ]
  },
  {
   "cell_type": "code",
   "execution_count": 4,
   "id": "4b9427c2-e889-4ae8-a2c9-25142b26a1fe",
   "metadata": {},
   "outputs": [
    {
     "name": "stdout",
     "output_type": "stream",
     "text": [
      "I created one list named as l.\n",
      "Now by using 'for i in l' I iterate through the list.\n",
      "Here i am retreiving each and every item one by one until last item of the list.\n",
      "1 3 5 7 9 2 4 6 8 10 "
     ]
    }
   ],
   "source": [
    "l=[1,3,5,7,9,2,4,6,8,10]\n",
    "print(\"I created one list named as l.\\nNow by using 'for i in l' I iterate through the list.\\nHere i am retreiving each and every item one by one until last item of the list.\")\n",
    "for i in l:\n",
    "    print(i,end=\" \")"
   ]
  },
  {
   "cell_type": "markdown",
   "id": "68e18106-bf9a-4b92-82a4-66b1a2ac64f4",
   "metadata": {},
   "source": [
    "5.Write a Python program to find the product of all elements in a list using a for loop."
   ]
  },
  {
   "cell_type": "code",
   "execution_count": 5,
   "id": "d1da0b42-b3d9-412c-bf47-314780f3daaa",
   "metadata": {},
   "outputs": [
    {
     "name": "stdout",
     "output_type": "stream",
     "text": [
      "33600\n"
     ]
    }
   ],
   "source": [
    "l=[2,5,8,10,7,6]\n",
    "product=1\n",
    "for i in l:\n",
    "    product*=i\n",
    "print(product)"
   ]
  },
  {
   "cell_type": "markdown",
   "id": "e48ad653-f701-4d4f-bcc5-59014fd705c4",
   "metadata": {},
   "source": [
    "6.Create a Python program that prints all even numbers from 1 to 20 using a for loop."
   ]
  },
  {
   "cell_type": "code",
   "execution_count": 6,
   "id": "c2d55238-ae0c-4e2c-be75-9ebd7e90bfc9",
   "metadata": {},
   "outputs": [
    {
     "name": "stdin",
     "output_type": "stream",
     "text": [
      "Enter last number upto where we have to print even numbers:  20\n"
     ]
    },
    {
     "name": "stdout",
     "output_type": "stream",
     "text": [
      "2 4 6 8 10 12 14 16 18 20 "
     ]
    }
   ],
   "source": [
    "n=int(input(\"Enter last number upto where we have to print even numbers: \"))\n",
    "for i in range(1,n+1):\n",
    "    if i%2==0:\n",
    "        print(i,end=\" \")"
   ]
  },
  {
   "cell_type": "markdown",
   "id": "f2fedd9c-e7fb-492c-98cf-eaed8415e7e3",
   "metadata": {},
   "source": [
    "7.Write a Python program that calculates the factorial of a number using a for loop."
   ]
  },
  {
   "cell_type": "code",
   "execution_count": 7,
   "id": "df1550d1-819d-4dd7-a24d-fb82670898bb",
   "metadata": {},
   "outputs": [
    {
     "name": "stdin",
     "output_type": "stream",
     "text": [
      "Enter number to find factorial:  5\n"
     ]
    },
    {
     "name": "stdout",
     "output_type": "stream",
     "text": [
      "120\n"
     ]
    }
   ],
   "source": [
    "n=int(input(\"Enter number to find factorial: \"))\n",
    "fact=1\n",
    "for i in range(1,n+1):\n",
    "    fact*=i\n",
    "print(fact)"
   ]
  },
  {
   "cell_type": "markdown",
   "id": "26d88e7f-1b9e-43f7-a671-5091bad2c243",
   "metadata": {},
   "source": [
    "8.How can you iterate through the characters of a string using a for loop in Python?"
   ]
  },
  {
   "cell_type": "code",
   "execution_count": 8,
   "id": "1dd77be1-8f3d-41b0-b6f3-7ef2ed165583",
   "metadata": {},
   "outputs": [
    {
     "name": "stdout",
     "output_type": "stream",
     "text": [
      "Pallavi is learning from PWskills"
     ]
    }
   ],
   "source": [
    "s=\"Pallavi is learning from PWskills\"\n",
    "for i in s:\n",
    "    print(i,end=\"\")"
   ]
  },
  {
   "cell_type": "markdown",
   "id": "9bc20be1-c7b9-4539-9399-90e1b5519d6a",
   "metadata": {},
   "source": [
    "9.Write a Python program to find the largest number in a list using a for loop."
   ]
  },
  {
   "cell_type": "code",
   "execution_count": 9,
   "id": "d6140374-de33-454e-951e-2fc1281b7154",
   "metadata": {},
   "outputs": [
    {
     "name": "stdout",
     "output_type": "stream",
     "text": [
      "233\n"
     ]
    }
   ],
   "source": [
    "l=[23,45,67,233,1,69,70]\n",
    "max=0\n",
    "for i in l:\n",
    "    if max<i:\n",
    "        max=i\n",
    "print(max)"
   ]
  },
  {
   "cell_type": "markdown",
   "id": "c730400b-5de9-413a-b5cf-6f98973b9463",
   "metadata": {},
   "source": [
    "10.Create a Python program that prints the Fibonacci sequence up to a specified limit using a for loop."
   ]
  },
  {
   "cell_type": "code",
   "execution_count": 10,
   "id": "b1c68267-5ef0-40bb-9734-de39a21673fa",
   "metadata": {},
   "outputs": [
    {
     "name": "stdin",
     "output_type": "stream",
     "text": [
      "Enter how many numbers you want in fibonacci series:  20\n"
     ]
    },
    {
     "name": "stdout",
     "output_type": "stream",
     "text": [
      "0 1 1 2 3 5 8 13 21 34 55 89 144 233 377 610 987 1597 2584 4181 "
     ]
    }
   ],
   "source": [
    "n=int(input(\"Enter how many numbers you want in fibonacci series: \"))\n",
    "f=0\n",
    "s=1\n",
    "for i in range(n):\n",
    "    print(f,end=\" \")\n",
    "    t=f\n",
    "    f=s\n",
    "    s=t+s"
   ]
  },
  {
   "cell_type": "markdown",
   "id": "76221e10-89b6-407f-852c-926a75a5dd0c",
   "metadata": {},
   "source": [
    "11.Write a Python program to count the number of vowels in a given string using a for loop."
   ]
  },
  {
   "cell_type": "code",
   "execution_count": 11,
   "id": "aa780ac3-5da7-4a85-ba4d-28bc6bdaf59f",
   "metadata": {},
   "outputs": [
    {
     "name": "stdout",
     "output_type": "stream",
     "text": [
      "string has 14 vowels.\n"
     ]
    }
   ],
   "source": [
    "s=\"Pallavi is learning data science from PWskills\"\n",
    "v=\"AEIOUaeiou\"\n",
    "c=0\n",
    "for i in s:\n",
    "    if i in v:\n",
    "        c+=1\n",
    "print(\"string has\",c,\"vowels.\")"
   ]
  },
  {
   "cell_type": "markdown",
   "id": "d782e265-ecfd-4cba-b9c5-0da5a90eb0a9",
   "metadata": {},
   "source": [
    "12.Create a Python program that generates a multiplication table for a given number using a for loop."
   ]
  },
  {
   "cell_type": "code",
   "execution_count": 12,
   "id": "92cb5b3a-1d6b-4f3b-a516-44f16469b807",
   "metadata": {},
   "outputs": [
    {
     "name": "stdin",
     "output_type": "stream",
     "text": [
      "Enter number to create multiplication table:  5\n"
     ]
    },
    {
     "name": "stdout",
     "output_type": "stream",
     "text": [
      "5 * 1 = 5\n",
      "5 * 2 = 10\n",
      "5 * 3 = 15\n",
      "5 * 4 = 20\n",
      "5 * 5 = 25\n",
      "5 * 6 = 30\n",
      "5 * 7 = 35\n",
      "5 * 8 = 40\n",
      "5 * 9 = 45\n",
      "5 * 10 = 50\n"
     ]
    }
   ],
   "source": [
    "n=int(input(\"Enter number to create multiplication table: \"))\n",
    "for i in range(1,11):\n",
    "    print(n,\"*\",i,\"=\",n*i)"
   ]
  },
  {
   "cell_type": "markdown",
   "id": "0e565351-25f1-4e6d-89de-50c6c5848676",
   "metadata": {},
   "source": [
    "13.Write a Python program to reverse a list using a for loop."
   ]
  },
  {
   "cell_type": "code",
   "execution_count": 14,
   "id": "e89054b9-91a1-4742-bc2a-d1333467cd25",
   "metadata": {},
   "outputs": [
    {
     "name": "stdout",
     "output_type": "stream",
     "text": [
      "[78.5, 'data', 'pallavi', 'PW', 4, 8, 5, 2]\n"
     ]
    }
   ],
   "source": [
    "l=[2,5,8,4,'PW','pallavi','data',78.5]\n",
    "l1=[]\n",
    "for i in range((len(l)-1),-1,-1):\n",
    "    l1.append(l[i])\n",
    "print(l1)"
   ]
  },
  {
   "cell_type": "markdown",
   "id": "dc2a373f-7ab8-45f7-beeb-67f16dfc568e",
   "metadata": {},
   "source": [
    "14.Write a Python program to find the common elements between two lists using a for loop."
   ]
  },
  {
   "cell_type": "code",
   "execution_count": 15,
   "id": "b353cce6-fe00-49d7-b0a0-64f6782d1aad",
   "metadata": {},
   "outputs": [
    {
     "name": "stdout",
     "output_type": "stream",
     "text": [
      "22, 2, 7, "
     ]
    }
   ],
   "source": [
    "l=[2,5,8,7,9,14,22]\n",
    "l1=[4,10,22,2,34,7,92]\n",
    "for i in l1:\n",
    "    if i in l:\n",
    "        print(i,end=\", \")"
   ]
  },
  {
   "cell_type": "markdown",
   "id": "46ae62b3-382e-4bb1-bd96-deb0d59964e3",
   "metadata": {},
   "source": [
    "15.Explain how to use a for loop to iterate through the keys and values of a dictionary in Python."
   ]
  },
  {
   "cell_type": "code",
   "execution_count": 16,
   "id": "c41af13f-f407-4822-97e8-afae0a7494e1",
   "metadata": {},
   "outputs": [
    {
     "name": "stdout",
     "output_type": "stream",
     "text": [
      "We can iterate by keys. \n",
      "Pallavi, 19, PWskills, Datascience, \n",
      "\n",
      "We can iterate keys by items. \n",
      "name, Roll_no, Platform, course, "
     ]
    }
   ],
   "source": [
    "d={'name':'Pallavi','Roll_no':19,'Platform':'PWskills','course':'Datascience'}\n",
    "print(\"We can iterate by keys. \")\n",
    "for i in d:\n",
    "    print(d[i],end=\", \")\n",
    "print()\n",
    "print(\"\\nWe can iterate keys by items. \")\n",
    "for i in d.items():\n",
    "    print(i[0],end=\", \")"
   ]
  },
  {
   "cell_type": "markdown",
   "id": "38bb6741-653f-4c85-ba09-52b324997866",
   "metadata": {},
   "source": [
    "16.Write a Python program to find the GCD (Greatest Common Divisor) of two numbers using a for loop."
   ]
  },
  {
   "cell_type": "code",
   "execution_count": 17,
   "id": "7eb4152f-7bf4-4ae0-92c1-8fc3cd6484b1",
   "metadata": {},
   "outputs": [
    {
     "name": "stdin",
     "output_type": "stream",
     "text": [
      "Enter first number to find GCD:  36\n",
      "Enter second number to find GCD:  90\n"
     ]
    },
    {
     "name": "stdout",
     "output_type": "stream",
     "text": [
      "18\n"
     ]
    }
   ],
   "source": [
    "n1=int(input(\"Enter first number to find GCD: \"))\n",
    "n2=int(input(\"Enter second number to find GCD: \"))\n",
    "gcd=1\n",
    "for i in range(1,min(n1,n2)):\n",
    "    if n1%i==0 and n2%i==0:\n",
    "        gcd=i\n",
    "print(gcd)"
   ]
  },
  {
   "cell_type": "markdown",
   "id": "9d764aa2-d131-4774-9a57-faa2dba70c7e",
   "metadata": {},
   "source": [
    "17.Create a Python program that checks if a string is a palindrome using a for loop."
   ]
  },
  {
   "cell_type": "code",
   "execution_count": 20,
   "id": "2bbfee81-6514-4907-9311-ccfebd34a191",
   "metadata": {},
   "outputs": [
    {
     "name": "stdin",
     "output_type": "stream",
     "text": [
      "Enter any string to check palindrome or not:  mememe\n"
     ]
    },
    {
     "name": "stdout",
     "output_type": "stream",
     "text": [
      "string is not a palindrome\n"
     ]
    }
   ],
   "source": [
    "s=input(\"Enter any string to check palindrome or not: \")\n",
    "s1=\"\"\n",
    "for i in range((len(s)-1),-1,-1):\n",
    "    s1+=s[i]\n",
    "if s==s1:\n",
    "    print(\"string is palindrome.\")\n",
    "else:\n",
    "    print(\"string is not a palindrome\")"
   ]
  },
  {
   "cell_type": "markdown",
   "id": "3064d5a8-9b88-4f59-be35-f8fe90e66d8f",
   "metadata": {},
   "source": [
    "18.Write a Python program to remove duplicates from a list using a for loop."
   ]
  },
  {
   "cell_type": "code",
   "execution_count": 21,
   "id": "aa8e3cde-c7f5-4708-ba13-a34b17d30363",
   "metadata": {},
   "outputs": [
    {
     "name": "stdout",
     "output_type": "stream",
     "text": [
      "[2, 5, 8, 4, 'PW', 'Gnan', 'data', 78.5]\n"
     ]
    }
   ],
   "source": [
    "l=[2,5,8,4,'PW','Gnan','data',78.5,2,8,'Gnan']\n",
    "l1=[]\n",
    "for i in l:\n",
    "    if i not in l1:\n",
    "        l1.append(i)\n",
    "print(l1)"
   ]
  },
  {
   "cell_type": "markdown",
   "id": "5afb594c-39dd-4d5f-bf33-43d867faabaa",
   "metadata": {},
   "source": [
    "19.Create a Python program that counts the number of words in a sentence using a for loop."
   ]
  },
  {
   "cell_type": "code",
   "execution_count": 22,
   "id": "b6e9f127-0e01-4656-98bf-4a67159eac6e",
   "metadata": {},
   "outputs": [
    {
     "name": "stdout",
     "output_type": "stream",
     "text": [
      "12\n"
     ]
    }
   ],
   "source": [
    "sen=\"My name is pallavi and I am learning data science from pwskills\"\n",
    "l=sen.split(\" \")\n",
    "print(len(l))"
   ]
  },
  {
   "cell_type": "markdown",
   "id": "738f522b-e93a-4b62-b1b3-4c9ba1c93203",
   "metadata": {},
   "source": [
    "20.Write a Python program to find the sum of all odd numbers from 1 to 50 using a for loop."
   ]
  },
  {
   "cell_type": "code",
   "execution_count": 23,
   "id": "9c42c2f7-6a08-4809-8acd-3c1917b5b0f5",
   "metadata": {},
   "outputs": [
    {
     "name": "stdin",
     "output_type": "stream",
     "text": [
      "Enter last number upto where we have to print odd numbers:  50\n"
     ]
    },
    {
     "name": "stdout",
     "output_type": "stream",
     "text": [
      "625\n"
     ]
    }
   ],
   "source": [
    "n=int(input(\"Enter last number upto where we have to print odd numbers: \"))\n",
    "sum=0\n",
    "for i in range(1,n+1):\n",
    "    if i%2!=0:\n",
    "        sum+=i\n",
    "print(sum)"
   ]
  },
  {
   "cell_type": "markdown",
   "id": "07186547-9c00-4835-86c9-f7bcfe742920",
   "metadata": {},
   "source": [
    "21.Write a Python program that checks if a given year is a leap year using a for loop."
   ]
  },
  {
   "cell_type": "code",
   "execution_count": 24,
   "id": "6c9c8739-c9c5-43b7-8646-2488655a4e08",
   "metadata": {},
   "outputs": [
    {
     "name": "stdin",
     "output_type": "stream",
     "text": [
      "Enter any year to check leap year or not:  2000\n"
     ]
    },
    {
     "name": "stdout",
     "output_type": "stream",
     "text": [
      "2000 is leap year\n"
     ]
    }
   ],
   "source": [
    "year=int(input(\"Enter any year to check leap year or not: \"))\n",
    "if (year%4==0 and year%100!=0 or year%400==0):\n",
    "    print(year,\"is leap year\")"
   ]
  },
  {
   "cell_type": "markdown",
   "id": "82ed3054-9d99-413c-89de-1852aa971769",
   "metadata": {},
   "source": [
    "22.Create a Python program that calculates the square root of a number using a for loop."
   ]
  },
  {
   "cell_type": "code",
   "execution_count": 25,
   "id": "16fcfa45-d425-4360-8d79-a45d52ba151d",
   "metadata": {},
   "outputs": [
    {
     "name": "stdin",
     "output_type": "stream",
     "text": [
      "Enter number to find square root of the number:  25\n"
     ]
    },
    {
     "name": "stdout",
     "output_type": "stream",
     "text": [
      "5\n"
     ]
    }
   ],
   "source": [
    "n=int(input(\"Enter number to find square root of the number: \"))\n",
    "for i in range(2,n):\n",
    "    if n%i==0 and i*i==n:\n",
    "        print(i)"
   ]
  },
  {
   "cell_type": "markdown",
   "id": "20b91fc3-6ff1-40e6-94bf-4521d9e97f73",
   "metadata": {},
   "source": [
    "23.Write a Python program to find the LCM (Least Common Multiple) of two numbers using a for loop."
   ]
  },
  {
   "cell_type": "code",
   "execution_count": 26,
   "id": "18bf10a6-4d84-4945-8f78-e099d70a5ce3",
   "metadata": {},
   "outputs": [
    {
     "name": "stdin",
     "output_type": "stream",
     "text": [
      "Enter first number to find LCM:  125\n",
      "Enter second number to find LCM:  600\n"
     ]
    },
    {
     "name": "stdout",
     "output_type": "stream",
     "text": [
      "3000\n"
     ]
    }
   ],
   "source": [
    "n1=int(input(\"Enter first number to find LCM: \"))\n",
    "n2=int(input(\"Enter second number to find LCM: \"))\n",
    "gcd=1\n",
    "for i in range(1,min(n1,n2)+1):\n",
    "    if n1%i==0 and n2%i==0:\n",
    "        gcd=i\n",
    "print((n1*n2)//gcd)"
   ]
  },
  {
   "cell_type": "markdown",
   "id": "f430957e-adfa-4ab4-be54-5f0f73008b43",
   "metadata": {},
   "source": [
    "IF-ELSE SOLUTIONS"
   ]
  },
  {
   "cell_type": "markdown",
   "id": "31560d15-5818-4b55-b584-cb86f500439c",
   "metadata": {},
   "source": [
    "1.Write a Python program to check if a number is positive, negative, or zero using an if-else statement."
   ]
  },
  {
   "cell_type": "code",
   "execution_count": 27,
   "id": "533d1653-ba5f-45f9-a978-736dd30d56d0",
   "metadata": {},
   "outputs": [
    {
     "name": "stdin",
     "output_type": "stream",
     "text": [
      "Enter any number:  0\n"
     ]
    },
    {
     "name": "stdout",
     "output_type": "stream",
     "text": [
      "Number is zero\n"
     ]
    }
   ],
   "source": [
    "n=int(input(\"Enter any number: \"))\n",
    "if n>0:\n",
    "    print(\"Number is positive\")\n",
    "elif n<0:\n",
    "    print(\"Number is negative\")\n",
    "else:\n",
    "    print(\"Number is zero\")"
   ]
  },
  {
   "cell_type": "markdown",
   "id": "8a4d7874-24a6-4c91-9c77-d0b40498dcad",
   "metadata": {},
   "source": [
    "2.Create a Python program that checks if a given number is even or odd using an if-else statement."
   ]
  },
  {
   "cell_type": "code",
   "execution_count": 28,
   "id": "b8c4d884-d291-444f-8ad6-99a193848559",
   "metadata": {},
   "outputs": [
    {
     "name": "stdin",
     "output_type": "stream",
     "text": [
      "Enter any number:  25\n"
     ]
    },
    {
     "name": "stdout",
     "output_type": "stream",
     "text": [
      "Number is odd.\n"
     ]
    }
   ],
   "source": [
    "n=int(input(\"Enter any number: \"))\n",
    "if n%2==0:\n",
    "    print(\"Number is even.\")\n",
    "else:\n",
    "    print(\"Number is odd.\")"
   ]
  },
  {
   "cell_type": "markdown",
   "id": "ac822ad8-f8a5-4e09-b086-6000917143dd",
   "metadata": {},
   "source": [
    "3.How can you use nested if-else statements in Python, and provide an example?"
   ]
  },
  {
   "cell_type": "code",
   "execution_count": 29,
   "id": "30a56aa7-f47a-4203-9993-23beabc6b532",
   "metadata": {},
   "outputs": [
    {
     "name": "stdout",
     "output_type": "stream",
     "text": [
      "If we have to check number is even or odd only \n",
      "when the number is positive then we have to use nested if-else statements\n",
      "Here the python program below\n",
      "\n"
     ]
    },
    {
     "name": "stdin",
     "output_type": "stream",
     "text": [
      "Enter any number:  23\n"
     ]
    },
    {
     "name": "stdout",
     "output_type": "stream",
     "text": [
      "Number is odd.\n"
     ]
    }
   ],
   "source": [
    "print(\"If we have to check number is even or odd only \\nwhen the number is positive then we have to use nested if-else statements\")\n",
    "print(\"Here the python program below\\n\")\n",
    "n=int(input(\"Enter any number: \"))\n",
    "if n>0:\n",
    "    if n%2==0:\n",
    "        print(\"Number is even.\")\n",
    "    else:\n",
    "        print(\"Number is odd.\")\n",
    "else:\n",
    "    print(\"Enter positive number\")"
   ]
  },
  {
   "cell_type": "markdown",
   "id": "9ebdb9fc-ecee-42bc-9004-0db80aa388ed",
   "metadata": {},
   "source": [
    "4.Write a Python program to determine the largest of three numbers using if-else."
   ]
  },
  {
   "cell_type": "code",
   "execution_count": 30,
   "id": "9c6a837c-4fcb-4d37-953c-507fcc264494",
   "metadata": {},
   "outputs": [
    {
     "name": "stdin",
     "output_type": "stream",
     "text": [
      "Enter first number:  10\n",
      "Enter second number:  25\n",
      "Enter third number:  39\n"
     ]
    },
    {
     "name": "stdout",
     "output_type": "stream",
     "text": [
      "39 is largest number\n"
     ]
    }
   ],
   "source": [
    "\n",
    "n1=int(input(\"Enter first number: \"))\n",
    "n2=int(input(\"Enter second number: \"))\n",
    "n3=int(input(\"Enter third number: \"))\n",
    "if (n1>n2 and n1>n3):\n",
    "    print(n1,\"is largest number\")\n",
    "elif (n2>n1 and n2>n3):\n",
    "    print(n2,\"is largest number\")\n",
    "else:\n",
    "    print(n3,\"is largest number\")"
   ]
  },
  {
   "cell_type": "markdown",
   "id": "4df7a933-7453-4c2e-8f67-cebd1f29dd8d",
   "metadata": {},
   "source": [
    "5.Write a Python program that calculates the absolute value of a number using if-else."
   ]
  },
  {
   "cell_type": "code",
   "execution_count": 31,
   "id": "c756571a-0c29-4608-ad57-79d214409231",
   "metadata": {},
   "outputs": [
    {
     "name": "stdin",
     "output_type": "stream",
     "text": [
      "Enter any number:  123\n"
     ]
    },
    {
     "name": "stdout",
     "output_type": "stream",
     "text": [
      "123\n"
     ]
    }
   ],
   "source": [
    "\n",
    "n=int(input(\"Enter any number: \"))\n",
    "if n<=0:\n",
    "    print(abs(n))\n",
    "else:\n",
    "    print(n)"
   ]
  },
  {
   "cell_type": "markdown",
   "id": "79f4dfd4-fd2f-4e48-aac0-da1fe4fd77ae",
   "metadata": {},
   "source": [
    "6.Create a Python program that checks if a given character is a vowel or consonant using if-else."
   ]
  },
  {
   "cell_type": "code",
   "execution_count": 32,
   "id": "b91d1f39-326b-4cff-afba-974c4312d239",
   "metadata": {},
   "outputs": [
    {
     "name": "stdin",
     "output_type": "stream",
     "text": [
      "Enter any letter from alphabets:  pallai\n"
     ]
    },
    {
     "name": "stdout",
     "output_type": "stream",
     "text": [
      "The entered character is consonant\n"
     ]
    }
   ],
   "source": [
    "c=input(\"Enter any letter from alphabets: \")\n",
    "v='AEIOUaeiou'\n",
    "if c in v:\n",
    "    print(\"The entered character is vowel.\")\n",
    "else:\n",
    "    print(\"The entered character is consonant\")"
   ]
  },
  {
   "cell_type": "markdown",
   "id": "291a6fcc-257c-44f2-afed-e07d66fbe9ee",
   "metadata": {},
   "source": [
    "7.Write a Python program to determine if a user is eligible to vote based on their age using if-else."
   ]
  },
  {
   "cell_type": "code",
   "execution_count": 33,
   "id": "9146488a-9789-4b2e-8b5e-ddec2d56a8a6",
   "metadata": {},
   "outputs": [
    {
     "name": "stdin",
     "output_type": "stream",
     "text": [
      "Enter your age:  35\n"
     ]
    },
    {
     "name": "stdout",
     "output_type": "stream",
     "text": [
      "You are eligible to vote\n"
     ]
    }
   ],
   "source": [
    "age=int(input(\"Enter your age: \"))\n",
    "if age>=18:\n",
    "    print(\"You are eligible to vote\")\n",
    "else:\n",
    "    print(\"You are not eligible to vote\")"
   ]
  },
  {
   "cell_type": "markdown",
   "id": "b93002ba-f4ab-49da-bbb2-6e5696eae0c0",
   "metadata": {},
   "source": [
    "8.Create a Python program that calculates the discount amount based on the purchase amount using if-else."
   ]
  },
  {
   "cell_type": "code",
   "execution_count": 34,
   "id": "db80e9c4-b3f8-4d9e-9ad4-e0d5ca5ae6cb",
   "metadata": {},
   "outputs": [
    {
     "name": "stdin",
     "output_type": "stream",
     "text": [
      "Enter cost of the item:  2598\n"
     ]
    },
    {
     "name": "stdout",
     "output_type": "stream",
     "text": [
      "You got 259.8 discount on your product.\n"
     ]
    }
   ],
   "source": [
    "n=int(input(\"Enter cost of the item: \"))\n",
    "if 800<n<999:\n",
    "    print(\"You got\",(n*5)/100,\"discount on your product.\")\n",
    "elif 999<n<5001:\n",
    "    print(\"You got\",(n*10)/100,\"discount on your product.\")\n",
    "elif n>5000:\n",
    "    print(\"You got\",(n*15)/100,\"discount on your product.\")\n",
    "else:\n",
    "    print(\"You are not eligible for discount\")"
   ]
  },
  {
   "cell_type": "markdown",
   "id": "cb802548-35a5-47e1-a84a-c86e2eb15d51",
   "metadata": {},
   "source": [
    "9.Write a Python program to check if a number is within a specified range using if-else."
   ]
  },
  {
   "cell_type": "code",
   "execution_count": 35,
   "id": "402eabd7-72f3-45a9-bb72-43a9299a634e",
   "metadata": {},
   "outputs": [
    {
     "name": "stdin",
     "output_type": "stream",
     "text": [
      "Enter starting number of range:  1\n",
      "Enter ending number of range:  10\n",
      "Enter any number:  12\n"
     ]
    },
    {
     "name": "stdout",
     "output_type": "stream",
     "text": [
      "Number is not in range\n"
     ]
    }
   ],
   "source": [
    "r1=int(input(\"Enter starting number of range: \"))\n",
    "r2=int(input(\"Enter ending number of range: \"))\n",
    "n=int(input(\"Enter any number: \"))\n",
    "l=[]\n",
    "for i in range(r1,r2+1):\n",
    "    l.append(i)\n",
    "if n in l:\n",
    "    print(\"Number is in range.\")\n",
    "else:\n",
    "    print(\"Number is not in range\")"
   ]
  },
  {
   "cell_type": "markdown",
   "id": "48a3f0c5-5197-4e45-b7f1-e9426d75b50d",
   "metadata": {},
   "source": [
    "10.Create a Python program that determines the grade of a student based on their score using if-else."
   ]
  },
  {
   "cell_type": "code",
   "execution_count": 36,
   "id": "41a1dbcc-36b4-44f9-93b6-82a62132f34f",
   "metadata": {},
   "outputs": [
    {
     "name": "stdin",
     "output_type": "stream",
     "text": [
      "Enter marks:  55\n"
     ]
    },
    {
     "name": "stdout",
     "output_type": "stream",
     "text": [
      "E Grade\n"
     ]
    }
   ],
   "source": [
    "mark=int(input(\"Enter marks: \"))\n",
    "if mark>90:\n",
    "    print('A Grade')\n",
    "elif 80<mark<91:\n",
    "    print('B Grade')\n",
    "elif 70<mark<81:\n",
    "    print('C Grade')\n",
    "elif 60<mark<71:\n",
    "    print('D Grade')\n",
    "elif 50<mark<61:\n",
    "    print('E Grade')\n",
    "elif 40<mark<51:\n",
    "    print('F Grade')\n",
    "else:\n",
    "    print('Fail')"
   ]
  },
  {
   "cell_type": "markdown",
   "id": "b31fadc7-f149-40a2-8315-37680abcdb29",
   "metadata": {},
   "source": [
    "11.Write a Python program to check if a string is empty or not using if-else."
   ]
  },
  {
   "cell_type": "code",
   "execution_count": 38,
   "id": "b44070a2-0e14-418e-9463-5b66ae52ebad",
   "metadata": {},
   "outputs": [
    {
     "name": "stdin",
     "output_type": "stream",
     "text": [
      "Enter any string:  mxnjnncj\n"
     ]
    },
    {
     "name": "stdout",
     "output_type": "stream",
     "text": [
      "String is not empty\n"
     ]
    }
   ],
   "source": [
    "s=input(\"Enter any string: \")\n",
    "if len(s)>0:\n",
    "    print(\"String is not empty\")\n",
    "else:\n",
    "    print(\"String is empty\")"
   ]
  },
  {
   "cell_type": "markdown",
   "id": "371bb042-f4c0-4bdf-98c4-7d532788b80d",
   "metadata": {},
   "source": [
    "12.Create a Python program that identifies the type of a triangle (e.g., equilateral, isosceles, or scalene) based on input values using if-else."
   ]
  },
  {
   "cell_type": "code",
   "execution_count": 39,
   "id": "635ec74f-6ada-4973-a3bf-d82ac5246e3a",
   "metadata": {},
   "outputs": [
    {
     "name": "stdin",
     "output_type": "stream",
     "text": [
      "Enter length1:  25\n",
      "Enter length2:  36\n",
      "Enter length3:  25\n"
     ]
    },
    {
     "name": "stdout",
     "output_type": "stream",
     "text": [
      "['It is isosceles triangle']\n"
     ]
    }
   ],
   "source": [
    "l1=int(input(\"Enter length1: \"))\n",
    "l2=int(input(\"Enter length2: \"))\n",
    "l3=int(input(\"Enter length3: \"))\n",
    "t=['It is equilateral triangle' if l1==l2==l3 else 'It is isosceles triangle' if l1==l2 or l2==l3 or l3==l1 else 'It is scalene triangle' if l1!=l2!=l3 and l1+l2+l3==180 else 'Enter correct numbers.']\n",
    "print(t)"
   ]
  },
  {
   "cell_type": "markdown",
   "id": "2debe6d1-84f0-4e76-a213-89d851d64269",
   "metadata": {},
   "source": [
    "13.Write a Python program to determine the day of the week based on a user-provided number using if-else."
   ]
  },
  {
   "cell_type": "code",
   "execution_count": 40,
   "id": "3c149231-c850-47ba-bcce-eb36b6845eea",
   "metadata": {},
   "outputs": [
    {
     "name": "stdin",
     "output_type": "stream",
     "text": [
      "Enter number:  7\n"
     ]
    },
    {
     "name": "stdout",
     "output_type": "stream",
     "text": [
      "['Sunday']\n"
     ]
    }
   ],
   "source": [
    "n=int(input(\"Enter number: \"))\n",
    "w=['Monday' if n==1 else 'Tuesday' if n==2 else 'Wednesday' if n==3 else 'Thursday' if n==4 else 'Friday' if n==5 else 'Saturday' if n==6 else 'Sunday']\n",
    "print(w)"
   ]
  },
  {
   "cell_type": "markdown",
   "id": "716e6d22-191b-4807-91e6-6d94ab38ee10",
   "metadata": {},
   "source": [
    "14.Create a Python program that checks if a given year is a leap year using both if-else and a function"
   ]
  },
  {
   "cell_type": "code",
   "execution_count": 41,
   "id": "5d291843-92d2-41a4-99cc-a55445e93170",
   "metadata": {},
   "outputs": [
    {
     "name": "stdin",
     "output_type": "stream",
     "text": [
      "Enter any year:  2023\n"
     ]
    },
    {
     "name": "stdout",
     "output_type": "stream",
     "text": [
      "2023 is not a leap year\n"
     ]
    }
   ],
   "source": [
    "\n",
    "def l_y(n):\n",
    "    if (n%4==0 and n%100!=0 or n%400==0):\n",
    "        print(n,\"is leap year\")\n",
    "    else:\n",
    "        print(n,\"is not a leap year\")\n",
    "year=int(input(\"Enter any year: \"))\n",
    "l_y(year)"
   ]
  },
  {
   "cell_type": "markdown",
   "id": "15af711b-0f96-4e55-9604-bb91031273bd",
   "metadata": {},
   "source": [
    "15.How do you use the \"assert\" statement in Python to add debugging checks within if-else blocks?"
   ]
  },
  {
   "cell_type": "code",
   "execution_count": 42,
   "id": "95266650-c169-4a7c-8f6e-6d879e951200",
   "metadata": {},
   "outputs": [
    {
     "name": "stdout",
     "output_type": "stream",
     "text": [
      "Using assert statement we can proceed or break the program with error!\n",
      "\n"
     ]
    },
    {
     "name": "stdin",
     "output_type": "stream",
     "text": [
      "Enter any number:  258\n"
     ]
    },
    {
     "name": "stdout",
     "output_type": "stream",
     "text": [
      "Number is even.\n"
     ]
    }
   ],
   "source": [
    "print(\"Using assert statement we can proceed or break the program with error!\\n\")\n",
    "n=int(input(\"Enter any number: \"))\n",
    "assert n>0, \"Number is negative.\"\n",
    "if n%2==0:\n",
    "    print(\"Number is even.\")\n",
    "else:\n",
    "    print(\"Number is odd.\")"
   ]
  },
  {
   "cell_type": "markdown",
   "id": "01061721-1591-471b-a608-31d5aa12a80b",
   "metadata": {},
   "source": [
    "16.Create a Python program that determines the eligibility of a person for a senior citizen discount based on age using if-else."
   ]
  },
  {
   "cell_type": "code",
   "execution_count": 43,
   "id": "eae9ee57-7167-41bf-9d10-1baaf2afec49",
   "metadata": {},
   "outputs": [
    {
     "name": "stdin",
     "output_type": "stream",
     "text": [
      "Enter age of the person:  56\n"
     ]
    },
    {
     "name": "stdout",
     "output_type": "stream",
     "text": [
      "You are not eligible for senior citizen discount\n"
     ]
    }
   ],
   "source": [
    "age=int(input(\"Enter age of the person: \"))\n",
    "if age>59:\n",
    "    print(\"You are eligible for senior citizen discount\")\n",
    "else:\n",
    "    print(\"You are not eligible for senior citizen discount\")"
   ]
  },
  {
   "cell_type": "markdown",
   "id": "1c9a6f2b-992f-4193-82e7-e031fce9ad63",
   "metadata": {},
   "source": [
    "17.Write a Python program to categorize a given character as uppercase, lowercase, or neither using if-else."
   ]
  },
  {
   "cell_type": "code",
   "execution_count": 44,
   "id": "4443f9d4-7ae1-47cf-9fea-74ca58fe4e28",
   "metadata": {},
   "outputs": [
    {
     "name": "stdin",
     "output_type": "stream",
     "text": [
      "Enter any character:  bgccvc\n"
     ]
    },
    {
     "name": "stdout",
     "output_type": "stream",
     "text": [
      "Character in lowercase\n"
     ]
    }
   ],
   "source": [
    "c=input(\"Enter any character: \")\n",
    "if c.isupper():\n",
    "    print(\"Character in uppercase\")\n",
    "elif c.islower():\n",
    "    print(\"Character in lowercase\")\n",
    "else:\n",
    "    print(\"Please enter a character\")"
   ]
  },
  {
   "cell_type": "markdown",
   "id": "0dcb9a65-dd6f-47ae-b3ca-a98323625cc9",
   "metadata": {},
   "source": [
    "18.Write a Python program to determine the roots of a quadratic equation using if-else."
   ]
  },
  {
   "cell_type": "code",
   "execution_count": 45,
   "id": "bdc5e98e-5d96-47b1-925d-a0738b159d09",
   "metadata": {},
   "outputs": [
    {
     "name": "stdin",
     "output_type": "stream",
     "text": [
      "Enter first number:  5\n",
      "Enter second number:  3\n",
      "Enter third number:  23\n"
     ]
    },
    {
     "name": "stdout",
     "output_type": "stream",
     "text": [
      "root-1 (-0.2999999999999999+2.12367605815953j)\n",
      "root-2 (-0.30000000000000016-2.12367605815953j)\n"
     ]
    }
   ],
   "source": [
    "a=int(input(\"Enter first number: \"))\n",
    "b=int(input(\"Enter second number: \"))\n",
    "c=int(input(\"Enter third number: \"))\n",
    "if a==b==c==0:\n",
    "    print(\"Enter correct values.\")\n",
    "else:\n",
    "    print(\"root-1\",(-b + (b ** 2 - 4 * a * c) ** 0.5) / (2 * a))\n",
    "    print(\"root-2\",(-b - (b ** 2 - 4 * a * c) ** 0.5) / (2 * a))"
   ]
  },
  {
   "cell_type": "markdown",
   "id": "fcbffd1e-9029-44cd-814a-60c560a3f617",
   "metadata": {},
   "source": [
    "19.Create a Python program that checks if a given year is a century year or not using if-else."
   ]
  },
  {
   "cell_type": "code",
   "execution_count": 46,
   "id": "d885d3d4-5a4e-4afe-a338-8fe5e8505a2b",
   "metadata": {},
   "outputs": [
    {
     "name": "stdin",
     "output_type": "stream",
     "text": [
      "Enter year to check century year or not:  2000\n"
     ]
    },
    {
     "name": "stdout",
     "output_type": "stream",
     "text": [
      "The year is a century year\n"
     ]
    }
   ],
   "source": [
    "year=int(input(\"Enter year to check century year or not: \"))\n",
    "if year%100==0:\n",
    "    print(\"The year is a century year\")\n",
    "else:\n",
    "    print(\"The year is not a century year\")"
   ]
  },
  {
   "cell_type": "markdown",
   "id": "c0cd0920-60d7-4969-9c61-354a3be9b0aa",
   "metadata": {},
   "source": [
    "20.Write a Python program to determine if a given number is a perfect square using if-else."
   ]
  },
  {
   "cell_type": "code",
   "execution_count": 47,
   "id": "c1af9adb-0d5b-4ceb-9a32-3ac5cc5bc34a",
   "metadata": {},
   "outputs": [
    {
     "name": "stdin",
     "output_type": "stream",
     "text": [
      "Enter any number to check perfect square or not:  363\n"
     ]
    },
    {
     "name": "stdout",
     "output_type": "stream",
     "text": [
      "It is not a perfect square number.\n"
     ]
    }
   ],
   "source": [
    "n=int(input(\"Enter any number to check perfect square or not: \"))\n",
    "count=0\n",
    "for i in range(1,n//2):\n",
    "    if i*i==n:\n",
    "        count=+1\n",
    "if count==1:\n",
    "    print(\"It is a perfect square number.\")\n",
    "else:\n",
    "    print(\"It is not a perfect square number.\")"
   ]
  },
  {
   "cell_type": "markdown",
   "id": "751a61fc-fcaa-48d1-ab54-d4a431d9745a",
   "metadata": {},
   "source": [
    "21.Explain the purpose of the \"continue\" and \"break\" statements within if-else loops."
   ]
  },
  {
   "cell_type": "code",
   "execution_count": 48,
   "id": "eecd4520-9b0a-4a42-aa1d-9c69444f51d9",
   "metadata": {},
   "outputs": [
    {
     "name": "stdout",
     "output_type": "stream",
     "text": [
      "Break will terminate the entire block of code once the condition true.\n",
      "Continue will skip the particular iteration and continue from next iteration.\n"
     ]
    }
   ],
   "source": [
    "print(\"Break will terminate the entire block of code once the condition true.\\nContinue will skip the particular iteration and continue from next iteration.\")"
   ]
  },
  {
   "cell_type": "markdown",
   "id": "fe93fdde-c156-4346-8894-93c5467cbb9f",
   "metadata": {},
   "source": [
    "22.Create a Python program that calculates the BMI (Body Mass Index) of a person based on their weight and height using if-else."
   ]
  },
  {
   "cell_type": "code",
   "execution_count": 51,
   "id": "e837e8d1-2971-416f-ba72-65b89dadc1f0",
   "metadata": {},
   "outputs": [
    {
     "name": "stdin",
     "output_type": "stream",
     "text": [
      "Enter height in cm's 120\n",
      "Enter wight in kg's 72\n"
     ]
    },
    {
     "name": "stdout",
     "output_type": "stream",
     "text": [
      "your BMI is 50.0\n"
     ]
    }
   ],
   "source": [
    "H=float(input(\"Enter height in cm's\" ))\n",
    "W=float(input(\"Enter wight in kg's\" ))\n",
    "print(\"your BMI is\",(W/H/H)*10000)"
   ]
  },
  {
   "cell_type": "markdown",
   "id": "d3039653-2736-4998-bbe0-ee6759fe6539",
   "metadata": {},
   "source": [
    "23.How can you use the \"filter()\" function with if-else statements to filter elements from a list?"
   ]
  },
  {
   "cell_type": "code",
   "execution_count": 52,
   "id": "83c80089-ad65-485b-b1ae-fed52143f5d1",
   "metadata": {},
   "outputs": [
    {
     "name": "stdin",
     "output_type": "stream",
     "text": [
      "Enter to filter. 1-even,2-odd 120\n"
     ]
    },
    {
     "name": "stdout",
     "output_type": "stream",
     "text": [
      "[5, 13, 3, 9, 11]\n"
     ]
    }
   ],
   "source": [
    "l=[5,18,22,13,10,56,2,3,4,9,8,11]\n",
    "choice=int(input(\"Enter to filter. 1-even,2-odd\"))\n",
    "if choice==1:\n",
    "    print(list(filter(lambda a: a%2==0,l)))\n",
    "else:\n",
    "    print(list(filter(lambda a: a%2!=0,l)))"
   ]
  },
  {
   "cell_type": "markdown",
   "id": "351b5cb8-97dc-453c-81a1-44b777cf2ea9",
   "metadata": {},
   "source": [
    "24.Write a Python program to determine if a given number is prime or not using if-else."
   ]
  },
  {
   "cell_type": "code",
   "execution_count": 53,
   "id": "826f1dad-7924-4b49-8cc2-7f595d201a6d",
   "metadata": {},
   "outputs": [
    {
     "name": "stdin",
     "output_type": "stream",
     "text": [
      "Enter any number:  558\n"
     ]
    },
    {
     "name": "stdout",
     "output_type": "stream",
     "text": [
      "Number is not prime\n"
     ]
    }
   ],
   "source": [
    "n=int(input(\"Enter any number: \"))\n",
    "count=0\n",
    "for i in range(1,n):\n",
    "    if n%i==0:\n",
    "        count+=1\n",
    "if count<2:\n",
    "    print(\"Number is prime\")\n",
    "else:\n",
    "    print(\"Number is not prime\")"
   ]
  },
  {
   "cell_type": "markdown",
   "id": "ee065a9d-eb7e-49ca-94ac-a0cad41a56a3",
   "metadata": {},
   "source": [
    "MAP SOLUTIONS"
   ]
  },
  {
   "cell_type": "markdown",
   "id": "18e20716-54f8-46ca-be58-bb9aa566f31a",
   "metadata": {},
   "source": [
    "1.Explain the purpose of the `map()` function in Python and provide an example of how it can be used to apply a function to each element of an iterable"
   ]
  },
  {
   "cell_type": "code",
   "execution_count": 54,
   "id": "ca326a62-4db0-4831-a7dc-903ae7a7bc09",
   "metadata": {},
   "outputs": [
    {
     "name": "stdout",
     "output_type": "stream",
     "text": [
      "Map function has two arguments one is function and another one is iterable.\n",
      "The map function iterate each and every element separately and do particular function we create in the map function.\n"
     ]
    },
    {
     "data": {
      "text/plain": [
       "[5, 7, 9, 11, 13]"
      ]
     },
     "execution_count": 54,
     "metadata": {},
     "output_type": "execute_result"
    }
   ],
   "source": [
    "print(\"Map function has two arguments one is function and another one is iterable.\\nThe map function iterate each and every element separately and do particular function we create in the map function.\")\n",
    "l=[2,4,6,8,10]\n",
    "list(map(lambda a:a+3,l))"
   ]
  },
  {
   "cell_type": "markdown",
   "id": "181898bb-04ba-4030-a723-33bcda37d423",
   "metadata": {},
   "source": [
    "2.Write a Python program that uses the `map()` function to square each element of a list of numbers."
   ]
  },
  {
   "cell_type": "code",
   "execution_count": 55,
   "id": "9bf09bc0-3aa7-4ed9-a9c6-88d9a2cb32d7",
   "metadata": {},
   "outputs": [
    {
     "data": {
      "text/plain": [
       "[1, 4, 9, 16, 25, 36, 49, 64, 81, 100]"
      ]
     },
     "execution_count": 55,
     "metadata": {},
     "output_type": "execute_result"
    }
   ],
   "source": [
    "l=[1,2,3,4,5,6,7,8,9,10]\n",
    "def sq(a):\n",
    "    return a**2\n",
    "list(map(sq,l))"
   ]
  },
  {
   "cell_type": "markdown",
   "id": "d516b957-66db-4549-a35b-bd46e4f32635",
   "metadata": {},
   "source": [
    "3.How does the `map()` function differ from a list comprehension in Python, and when would you choose one over the other?"
   ]
  },
  {
   "cell_type": "code",
   "execution_count": 56,
   "id": "a2b13f6d-0ac6-4217-9e38-a49e3e7749f9",
   "metadata": {},
   "outputs": [
    {
     "name": "stdout",
     "output_type": "stream",
     "text": [
      "List comprehension returns a list by default but map returns objects that iterate.\n",
      "To iterate each and every value we have to use for loop in list comprehension what we didn't in map function.\n",
      "If we want to write large expressions list comprehension will use. If the function or expression already defined map will use.\n"
     ]
    }
   ],
   "source": [
    "print(\"List comprehension returns a list by default but map returns objects that iterate.\\nTo iterate each and every value we have to use for loop in list comprehension what we didn't in map function.\\nIf we want to write large expressions list comprehension will use. If the function or expression already defined map will use.\")"
   ]
  },
  {
   "cell_type": "markdown",
   "id": "400bce3f-a429-4bb9-bcb6-331bab2942dd",
   "metadata": {},
   "source": [
    "4.Create a Python program that uses the `map()` function to convert a list of names to uppercase."
   ]
  },
  {
   "cell_type": "code",
   "execution_count": 58,
   "id": "bc9185c2-3ca8-4c5c-939a-e39725420c61",
   "metadata": {},
   "outputs": [
    {
     "data": {
      "text/plain": [
       "['PALLAVI', 'PWSKILLS', 'INDIA', 'DATASCIENCE']"
      ]
     },
     "execution_count": 58,
     "metadata": {},
     "output_type": "execute_result"
    }
   ],
   "source": [
    "l=['Pallavi','PWskills','India','DataScience']\n",
    "list(map(lambda a:a.upper(),l))"
   ]
  },
  {
   "cell_type": "markdown",
   "id": "275ac9dc-7096-408c-8d2b-169adc147099",
   "metadata": {},
   "source": [
    "5.Write a Python program that uses the `map()` function to calculate the length of each word in a list of strings."
   ]
  },
  {
   "cell_type": "code",
   "execution_count": 59,
   "id": "16522e95-8e19-4c4f-b7be-ec90749fe029",
   "metadata": {},
   "outputs": [
    {
     "data": {
      "text/plain": [
       "[7, 8, 5, 11]"
      ]
     },
     "execution_count": 59,
     "metadata": {},
     "output_type": "execute_result"
    }
   ],
   "source": [
    "l=['Pallavi','PWskills','India','DataScience']\n",
    "list(map(lambda a:len(a),l))"
   ]
  },
  {
   "cell_type": "markdown",
   "id": "eb7414ea-c014-48d5-9bff-7b115f98ec03",
   "metadata": {},
   "source": [
    "6.How can you use the `map()` function to apply a custom function to elements of multiple lists simultaneously in Python?"
   ]
  },
  {
   "cell_type": "code",
   "execution_count": 60,
   "id": "360e3c09-d23a-4908-abe2-c84ac1a1e80c",
   "metadata": {},
   "outputs": [
    {
     "name": "stdout",
     "output_type": "stream",
     "text": [
      "[8, 64, 216, 512, 1000]\n",
      "[1, 27, 125, 343, 729]\n"
     ]
    }
   ],
   "source": [
    "l1=[2,4,6,8,10]\n",
    "l2=[1,3,5,7,9]\n",
    "def cube(n):\n",
    "    return n**3\n",
    "print(list(map(cube,l1)))\n",
    "print(list(map(cube,l2)))"
   ]
  },
  {
   "cell_type": "markdown",
   "id": "6c72babd-c23e-4cf5-a7a7-4e80a8403e11",
   "metadata": {},
   "source": [
    "7.Create a Python program that uses `map()` to convert a list of temperatures from Celsius to Fahrenheit."
   ]
  },
  {
   "cell_type": "code",
   "execution_count": 61,
   "id": "894005bc-c958-4825-874c-c54e01f026f4",
   "metadata": {},
   "outputs": [
    {
     "data": {
      "text/plain": [
       "[113.0, 86.0, 77.0, 73.4]"
      ]
     },
     "execution_count": 61,
     "metadata": {},
     "output_type": "execute_result"
    }
   ],
   "source": [
    "\n",
    "l=[45,30,25,23]\n",
    "list(map(lambda a:a*(9/5)+32,l))"
   ]
  },
  {
   "cell_type": "markdown",
   "id": "427b04b8-31c0-4bd9-83b0-5c49c5afe2d9",
   "metadata": {},
   "source": [
    "8.Write a Python program that uses the `map()` function to round each element of a list of floating-point numbers to the nearest integer."
   ]
  },
  {
   "cell_type": "code",
   "execution_count": 62,
   "id": "3eb904e3-c9ee-41d8-aa89-57f97bc599c0",
   "metadata": {},
   "outputs": [
    {
     "data": {
      "text/plain": [
       "[46, 30, 26, 23]"
      ]
     },
     "execution_count": 62,
     "metadata": {},
     "output_type": "execute_result"
    }
   ],
   "source": [
    "l=[45.5,30.3,25.8,23.2]\n",
    "list(map(lambda a:round(a),l))"
   ]
  },
  {
   "cell_type": "markdown",
   "id": "01ee05de-d06a-47bc-b80f-ee118aa1fb53",
   "metadata": {},
   "source": [
    "REDUCE SOLUTIONS"
   ]
  },
  {
   "cell_type": "markdown",
   "id": "12685feb-b409-4f9a-8a11-07b3de984dbf",
   "metadata": {},
   "source": [
    "1.What is the `reduce()` function in Python, and what module should you import to use it? Provide an example of its basic usage."
   ]
  },
  {
   "cell_type": "code",
   "execution_count": 63,
   "id": "06ae714e-b43c-4dd0-a253-535170131d6b",
   "metadata": {},
   "outputs": [
    {
     "name": "stdout",
     "output_type": "stream",
     "text": [
      "Reduce function uses functions which are already defined in python.\n",
      "By using that functions the reduce apply a function cummutatively on each and every element iterably.\n",
      "Here one example.\n",
      "First we have to import reduce from functools.\n",
      "Then i will write reduce function by using lambda function.\n"
     ]
    },
    {
     "data": {
      "text/plain": [
       "22"
      ]
     },
     "execution_count": 63,
     "metadata": {},
     "output_type": "execute_result"
    }
   ],
   "source": [
    "print(\"Reduce function uses functions which are already defined in python.\\nBy using that functions the reduce apply a function cummutatively on each and every element iterably.\")\n",
    "print(\"Here one example.\\nFirst we have to import reduce from functools.\\nThen i will write reduce function by using lambda function.\")\n",
    "from functools import reduce\n",
    "l=[2,1,3,4,2,10]\n",
    "reduce(lambda a,b: a+b,l)"
   ]
  },
  {
   "cell_type": "markdown",
   "id": "63ac3045-dd9b-4c17-98ed-6cfc47365214",
   "metadata": {},
   "source": [
    "2.Write a Python program that uses the `reduce()` function to find the product of all elements in a list."
   ]
  },
  {
   "cell_type": "code",
   "execution_count": 64,
   "id": "60345c83-bb66-4501-b5cc-59f1cfd5ae31",
   "metadata": {},
   "outputs": [
    {
     "data": {
      "text/plain": [
       "480"
      ]
     },
     "execution_count": 64,
     "metadata": {},
     "output_type": "execute_result"
    }
   ],
   "source": [
    "from functools import reduce\n",
    "l=[2,1,3,4,2,10]\n",
    "reduce(lambda a,b: a*b,l)"
   ]
  },
  {
   "cell_type": "markdown",
   "id": "63981905-27d4-4a72-bf6a-eabc28856e15",
   "metadata": {},
   "source": [
    "3.Create a Python program that uses `reduce()` to find the maximum element in a list of numbers."
   ]
  },
  {
   "cell_type": "code",
   "execution_count": 65,
   "id": "ac3192a3-c589-4109-b0a7-d6baa7a1681d",
   "metadata": {},
   "outputs": [
    {
     "data": {
      "text/plain": [
       "10"
      ]
     },
     "execution_count": 65,
     "metadata": {},
     "output_type": "execute_result"
    }
   ],
   "source": [
    "from functools import reduce\n",
    "l=[2,1,3,4,2,10]\n",
    "reduce(lambda a,b:a if a>b else b,l)"
   ]
  },
  {
   "cell_type": "markdown",
   "id": "f4087283-c6b2-410f-bf3e-e2516e65708f",
   "metadata": {},
   "source": [
    "4.How can you use the `reduce()` function to concatenate a list of strings into a single string?"
   ]
  },
  {
   "cell_type": "code",
   "execution_count": 67,
   "id": "81e1fb60-c86c-46d4-bcfe-b9858a41f943",
   "metadata": {},
   "outputs": [
    {
     "data": {
      "text/plain": [
       "'PallaviPWskillsIndiaDataScience'"
      ]
     },
     "execution_count": 67,
     "metadata": {},
     "output_type": "execute_result"
    }
   ],
   "source": [
    "from functools import reduce\n",
    "l=['Pallavi','PWskills','India','DataScience']\n",
    "reduce(lambda a,b: a+b,l)"
   ]
  },
  {
   "cell_type": "markdown",
   "id": "fab67e9f-64b8-4885-9a16-a6427d2afc2b",
   "metadata": {},
   "source": [
    "5.Write a Python program that calculates the factorial of a number using the `reduce()` function."
   ]
  },
  {
   "cell_type": "code",
   "execution_count": 72,
   "id": "73ad0d6a-4000-45ea-810e-de8bb7a35795",
   "metadata": {},
   "outputs": [
    {
     "name": "stdin",
     "output_type": "stream",
     "text": [
      "Enter number to find fatorial:  5\n"
     ]
    },
    {
     "data": {
      "text/plain": [
       "120"
      ]
     },
     "execution_count": 72,
     "metadata": {},
     "output_type": "execute_result"
    }
   ],
   "source": [
    "from functools import reduce\n",
    "n=int(input(\"Enter number to find fatorial: \"))\n",
    "l=[i for i in range(1,n+1)]\n",
    "reduce(lambda a,b: a*b,l)"
   ]
  },
  {
   "cell_type": "markdown",
   "id": "92611bd8-b988-487d-ae98-0d662c5d034f",
   "metadata": {},
   "source": [
    "6.Create a Python program that uses `reduce()` to find the GCD (Greatest Common Divisor) of a list of numbers."
   ]
  },
  {
   "cell_type": "code",
   "execution_count": 73,
   "id": "1d75b5a8-f418-4569-b788-ddcc9c9a569e",
   "metadata": {},
   "outputs": [
    {
     "name": "stdout",
     "output_type": "stream",
     "text": [
      "The GCD of [60, 48, 36, 24, 12] is 12\n"
     ]
    }
   ],
   "source": [
    "from functools import reduce\n",
    "\n",
    "def gcd(a, b):\n",
    "    \"\"\"\n",
    "    Returns the greatest common divisor of two numbers `a` and `b`.\n",
    "    \"\"\"\n",
    "    while b:\n",
    "        a, b = b, a % b\n",
    "    return a\n",
    "\n",
    "def gcd_of_list(numbers):\n",
    "    \"\"\"\n",
    "    Returns the greatest common divisor of a list of numbers.\n",
    "    \"\"\"\n",
    "    return reduce(gcd, numbers)\n",
    "\n",
    "# Test the function\n",
    "numbers = [60, 48, 36, 24, 12]\n",
    "print(f\"The GCD of {numbers} is {gcd_of_list(numbers)}\")"
   ]
  },
  {
   "cell_type": "markdown",
   "id": "fee9fc33-7813-4d4b-a2a6-3cc65784eb88",
   "metadata": {},
   "source": [
    "7.Write a Python program that uses the `reduce()` function to find the sum of the digits of a given number."
   ]
  },
  {
   "cell_type": "code",
   "execution_count": 71,
   "id": "b8e7c1bf-ad21-4830-b31b-c081617ad553",
   "metadata": {},
   "outputs": [
    {
     "name": "stdin",
     "output_type": "stream",
     "text": [
      "Enter any number:  235\n"
     ]
    },
    {
     "data": {
      "text/plain": [
       "10"
      ]
     },
     "execution_count": 71,
     "metadata": {},
     "output_type": "execute_result"
    }
   ],
   "source": [
    "from functools import reduce\n",
    "n=input(\"Enter any number: \")\n",
    "reduce(lambda a,b:int(a)+int(b),n)"
   ]
  },
  {
   "cell_type": "markdown",
   "id": "fc50ab0f-0e50-47e2-b29c-2b3231a8792b",
   "metadata": {},
   "source": [
    "FILTER SOLUTIONS"
   ]
  },
  {
   "cell_type": "markdown",
   "id": "784464db-428c-49f4-bb51-c42f047b8422",
   "metadata": {},
   "source": [
    "1.Explain the purpose of the `filter()` function in Python and provide an example of how it can be used to filter elements from an iterable."
   ]
  },
  {
   "cell_type": "code",
   "execution_count": 74,
   "id": "f1984bb2-2ab9-4f2b-be41-d5bfc8cb8b47",
   "metadata": {},
   "outputs": [
    {
     "name": "stdout",
     "output_type": "stream",
     "text": [
      "Filter function is used to iterate each and every element to do a particular function created by user.\n",
      "Here an example below\n"
     ]
    },
    {
     "data": {
      "text/plain": [
       "[3, 5, 7, 9]"
      ]
     },
     "execution_count": 74,
     "metadata": {},
     "output_type": "execute_result"
    }
   ],
   "source": [
    "print(\"Filter function is used to iterate each and every element to do a particular function created by user.\")\n",
    "print(\"Here an example below\")\n",
    "l=[2,3,5,7,9]\n",
    "list(filter(lambda a: a%2!=0,l))"
   ]
  },
  {
   "cell_type": "markdown",
   "id": "47b976f0-78d5-4b31-bf06-8e92af51c966",
   "metadata": {},
   "source": [
    "2.Write a Python program that uses the `filter()` function to select even numbers from a list of integers."
   ]
  },
  {
   "cell_type": "code",
   "execution_count": 75,
   "id": "c5d718e7-585f-460e-952c-32796b828363",
   "metadata": {},
   "outputs": [
    {
     "data": {
      "text/plain": [
       "[2, 4, 6, 8, 10]"
      ]
     },
     "execution_count": 75,
     "metadata": {},
     "output_type": "execute_result"
    }
   ],
   "source": [
    "l=[1,2,3,4,5,6,7,8,9,10]\n",
    "list(filter(lambda a: a%2==0,l))"
   ]
  },
  {
   "cell_type": "markdown",
   "id": "7f4705e2-6130-4d81-9e61-d457da3b1390",
   "metadata": {},
   "source": [
    "3.Create a Python program that uses the `filter()` function to select names that start with a specific letter from a list of strings."
   ]
  },
  {
   "cell_type": "code",
   "execution_count": 76,
   "id": "e9f5cd59-53c6-460f-bc23-80a6ad3b38c8",
   "metadata": {},
   "outputs": [
    {
     "data": {
      "text/plain": [
       "['Dinesh', 'Digital', 'DataScience']"
      ]
     },
     "execution_count": 76,
     "metadata": {},
     "output_type": "execute_result"
    }
   ],
   "source": [
    "l=['Dinesh','PWskills','Digital','DataScience','Gnanesh']\n",
    "list(filter(lambda a: a[0]=='D',l))"
   ]
  },
  {
   "cell_type": "markdown",
   "id": "517af7c8-b794-4331-a113-ec4276a91fae",
   "metadata": {},
   "source": [
    "4.Write a Python program that uses the `filter()` function to select prime numbers from a list of integers."
   ]
  },
  {
   "cell_type": "code",
   "execution_count": 77,
   "id": "cce1aa0d-da4f-4b22-8133-8accfbbc564c",
   "metadata": {},
   "outputs": [
    {
     "name": "stdout",
     "output_type": "stream",
     "text": [
      "[5, 7, 9, 13]\n"
     ]
    }
   ],
   "source": [
    "l=[4,5,6,7,8,9,13,24]\n",
    "def prime(a):\n",
    "    for i in range(2,int(a**0.5)+1):\n",
    "        if a%i==0:\n",
    "            return False\n",
    "        return True\n",
    "print(list(filter(prime,l)))"
   ]
  },
  {
   "cell_type": "markdown",
   "id": "a4a46c56-cef4-4a1f-9cc5-c51fd89bba54",
   "metadata": {},
   "source": [
    "5.How can you use the `filter()` function to remove None values from a list in Python?"
   ]
  },
  {
   "cell_type": "code",
   "execution_count": 78,
   "id": "7793c3e0-66ff-4f90-9bda-d07a56967cef",
   "metadata": {},
   "outputs": [
    {
     "data": {
      "text/plain": [
       "[2, 4, 6, 8, 10]"
      ]
     },
     "execution_count": 78,
     "metadata": {},
     "output_type": "execute_result"
    }
   ],
   "source": [
    "l=[2,None,4,6,None,8,10]\n",
    "list(filter(lambda a: a is not None,l))"
   ]
  },
  {
   "cell_type": "markdown",
   "id": "a0e6175c-971b-451d-a44e-b6c0d3828ad6",
   "metadata": {},
   "source": [
    "6.Create a Python program that uses `filter()` to select words longer than a certain length from a list of strings."
   ]
  },
  {
   "cell_type": "code",
   "execution_count": 79,
   "id": "ebfb3ad3-ebbb-4830-90ae-3cb35b164435",
   "metadata": {},
   "outputs": [
    {
     "data": {
      "text/plain": [
       "['PWskills', 'DataScience']"
      ]
     },
     "execution_count": 79,
     "metadata": {},
     "output_type": "execute_result"
    }
   ],
   "source": [
    "l=['Dinesh','PWskills','Digital','DataScience','Gnanesh']\n",
    "list(filter(lambda a: len(a)>7,l))"
   ]
  },
  {
   "cell_type": "markdown",
   "id": "a23c3411-5dd6-4efc-a9b0-67c806e9a246",
   "metadata": {},
   "source": [
    "7.Write a Python program that uses the `filter()` function to select elements greater than a specified threshold from a list of values."
   ]
  },
  {
   "cell_type": "code",
   "execution_count": 81,
   "id": "37741168-523f-4355-888c-2dd7f25efc7f",
   "metadata": {},
   "outputs": [
    {
     "data": {
      "text/plain": [
       "[7, 9, 10]"
      ]
     },
     "execution_count": 81,
     "metadata": {},
     "output_type": "execute_result"
    }
   ],
   "source": [
    "l=[3,2,7,9,10]\n",
    "list(filter(lambda a: a>4,l))"
   ]
  },
  {
   "cell_type": "markdown",
   "id": "5251e822-0703-44eb-ac43-30f7900fd144",
   "metadata": {},
   "source": [
    "RECURSION SOLUTIONS"
   ]
  },
  {
   "cell_type": "markdown",
   "id": "66b98868-a992-464c-a59d-b10f09f36086",
   "metadata": {},
   "source": [
    "1.Explain the concept of recursion in Python. How does it differ from iteration?"
   ]
  },
  {
   "cell_type": "code",
   "execution_count": 82,
   "id": "775cf1a0-f232-42e4-ba0d-887763a9f7e9",
   "metadata": {},
   "outputs": [
    {
     "name": "stdout",
     "output_type": "stream",
     "text": [
      "Recursion means the process which a function calls itself until the loop ends.\n",
      "Recursion calls function continuesly by itself but iteration extract elements one by one from list or tuple or any other loop.\n"
     ]
    }
   ],
   "source": [
    "print(\"Recursion means the process which a function calls itself until the loop ends.\")\n",
    "print(\"Recursion calls function continuesly by itself but iteration extract elements one by one from list or tuple or any other loop.\")"
   ]
  },
  {
   "cell_type": "markdown",
   "id": "6a3e2244-99fc-4725-b1ea-7c3dcf82acd6",
   "metadata": {},
   "source": [
    "2.Write a Python program to calculate the factorial of a number using recursion."
   ]
  },
  {
   "cell_type": "code",
   "execution_count": 83,
   "id": "cbc2cd83-c179-42c4-ade6-901323b02358",
   "metadata": {},
   "outputs": [
    {
     "name": "stdin",
     "output_type": "stream",
     "text": [
      "Enter any number to factorial:  5\n"
     ]
    },
    {
     "data": {
      "text/plain": [
       "120"
      ]
     },
     "execution_count": 83,
     "metadata": {},
     "output_type": "execute_result"
    }
   ],
   "source": [
    "def fact(n):\n",
    "    if n<=1:\n",
    "        return n\n",
    "    else:\n",
    "        return n*fact(n-1)\n",
    "num=int(input(\"Enter any number to factorial: \"))\n",
    "fact(num)"
   ]
  },
  {
   "cell_type": "markdown",
   "id": "d9576b37-ee7c-438f-8238-6b390bd4acee",
   "metadata": {},
   "source": [
    "3.Create a recursive Python function to find the nth Fibonacci number."
   ]
  },
  {
   "cell_type": "code",
   "execution_count": 84,
   "id": "1d8fda11-d1ef-490e-a356-6def437abdea",
   "metadata": {},
   "outputs": [
    {
     "name": "stdin",
     "output_type": "stream",
     "text": [
      "Enter number to find fibonacci number:  20\n"
     ]
    },
    {
     "data": {
      "text/plain": [
       "6765"
      ]
     },
     "execution_count": 84,
     "metadata": {},
     "output_type": "execute_result"
    }
   ],
   "source": [
    "def fib(n):\n",
    "    if n<=1:\n",
    "        return n\n",
    "    else:\n",
    "        return fib(n-1)+fib(n-2)\n",
    "num=int(input(\"Enter number to find fibonacci number: \"))\n",
    "fib(num)"
   ]
  },
  {
   "cell_type": "markdown",
   "id": "c64a012b-0e3b-4535-b3ae-8309d3df89a6",
   "metadata": {},
   "source": [
    "4.Write a recursive Python function to calculate the sum of all elements in a list."
   ]
  },
  {
   "cell_type": "code",
   "execution_count": 85,
   "id": "bd1bfe4a-b6f9-4c9f-865e-f555e50fc021",
   "metadata": {},
   "outputs": [
    {
     "name": "stdout",
     "output_type": "stream",
     "text": [
      "38\n"
     ]
    }
   ],
   "source": [
    "l=[2,4,5,6,7,9,5]\n",
    "def sum1(l1):\n",
    "    s=0\n",
    "    for i in l1:\n",
    "        s=s+i\n",
    "    print(s)\n",
    "sum1(l)"
   ]
  },
  {
   "cell_type": "markdown",
   "id": "c768629b-725a-434e-b021-69cbbefdb513",
   "metadata": {},
   "source": [
    "5.How can you prevent a recursive function from running indefinitely, causing a stack overflow error?"
   ]
  },
  {
   "cell_type": "code",
   "execution_count": 86,
   "id": "b812585d-33f0-403a-b2a2-f85e10f296ec",
   "metadata": {},
   "outputs": [
    {
     "name": "stdout",
     "output_type": "stream",
     "text": [
      "The function setrecursionlimit() provided by 'sys' module is used to handle larger inputs and prevents a recursive function from running indefinitely.\n"
     ]
    }
   ],
   "source": [
    "print(\"The function setrecursionlimit() provided by 'sys' module is used to handle larger inputs and prevents a recursive function from running indefinitely.\")"
   ]
  },
  {
   "cell_type": "markdown",
   "id": "d67f5b2c-4c6b-4c5e-adf0-e2de72d2937e",
   "metadata": {},
   "source": [
    "6.Create a recursive Python function to find the greatest common divisor (GCD) of two numbers using the Euclidean algorithm."
   ]
  },
  {
   "cell_type": "code",
   "execution_count": 87,
   "id": "ad416937-d09a-413c-983a-169bb8013ad8",
   "metadata": {},
   "outputs": [
    {
     "name": "stdin",
     "output_type": "stream",
     "text": [
      "Enter first number:  50\n",
      "Enter second number:  35\n"
     ]
    },
    {
     "data": {
      "text/plain": [
       "5"
      ]
     },
     "execution_count": 87,
     "metadata": {},
     "output_type": "execute_result"
    }
   ],
   "source": [
    "def gcd(a,b):\n",
    "    if b==0:\n",
    "        return a\n",
    "    return gcd(b,a%b)\n",
    "n1=int(input(\"Enter first number: \"))\n",
    "n2=int(input(\"Enter second number: \"))\n",
    "gcd(n1,n2)"
   ]
  },
  {
   "cell_type": "markdown",
   "id": "b6af9753-c7d3-43e7-bb40-7633705ce5f5",
   "metadata": {},
   "source": [
    "7.Write a recursive Python function to reverse a string."
   ]
  },
  {
   "cell_type": "code",
   "execution_count": 88,
   "id": "0efdf976-10df-4ef8-b2b6-56869538deef",
   "metadata": {},
   "outputs": [
    {
     "name": "stdin",
     "output_type": "stream",
     "text": [
      "Enter any string:  pallavi\n"
     ]
    },
    {
     "data": {
      "text/plain": [
       "'ivallap'"
      ]
     },
     "execution_count": 88,
     "metadata": {},
     "output_type": "execute_result"
    }
   ],
   "source": [
    "def s(st):\n",
    "    if len(st)<=1:\n",
    "        return st\n",
    "    return st[-1]+s(st[0:-1])\n",
    "string=input(\"Enter any string: \")\n",
    "s(string)"
   ]
  },
  {
   "cell_type": "markdown",
   "id": "f0f7df38-3450-4a4f-8368-c6ffe63d3e70",
   "metadata": {},
   "source": [
    "8.Create a recursive Python function to calculate the power of a number (x^n)."
   ]
  },
  {
   "cell_type": "code",
   "execution_count": 89,
   "id": "e66a1d2e-39fa-4e5e-85c2-858146452be5",
   "metadata": {},
   "outputs": [
    {
     "name": "stdin",
     "output_type": "stream",
     "text": [
      "Enter number to calculate:  20\n",
      "Enter power value:  4\n"
     ]
    },
    {
     "data": {
      "text/plain": [
       "160000"
      ]
     },
     "execution_count": 89,
     "metadata": {},
     "output_type": "execute_result"
    }
   ],
   "source": [
    "def power(x,n):\n",
    "    if n==0:\n",
    "        return 1\n",
    "    elif n>0:\n",
    "        return x*power(x,n-1)\n",
    "    else:\n",
    "        return 1/(x*power(x,-(n)-1))\n",
    "num=int(input(\"Enter number to calculate: \"))\n",
    "p=int(input(\"Enter power value: \"))\n",
    "power(num,p)"
   ]
  },
  {
   "cell_type": "markdown",
   "id": "e9c6d8ce-59f9-4cae-ab00-679798959fe5",
   "metadata": {},
   "source": [
    "9.Write a recursive Python function to find all permutations of a given string."
   ]
  },
  {
   "cell_type": "code",
   "execution_count": 92,
   "id": "98c3e9d4-2e6e-4744-b056-cd4d2fbdff78",
   "metadata": {},
   "outputs": [
    {
     "name": "stdout",
     "output_type": "stream",
     "text": [
      "The permutations of abc are: ['abc', 'acb', 'bac', 'bca', 'cab', 'cba']\n"
     ]
    }
   ],
   "source": [
    "def permute(string, prefix=''):\n",
    "    \"\"\"\n",
    "    Returns a list of all permutations of the given string.\n",
    "    \"\"\"\n",
    "    if len(string) == 0:\n",
    "        return [prefix]\n",
    "    else:\n",
    "        perms = []\n",
    "        for i in range(len(string)):\n",
    "            rem = string[:i] + string[i+1:]\n",
    "            for perm in permute(rem, prefix + string[i]):\n",
    "                perms.append(perm)\n",
    "        return perms\n",
    "\n",
    "# Test the function\n",
    "string = \"abc\"\n",
    "print(f\"The permutations of {string} are: {permute(string)}\")"
   ]
  },
  {
   "cell_type": "markdown",
   "id": "18a5f0d4-1f28-45e1-a979-83358722c3d0",
   "metadata": {},
   "source": [
    "10.Write a recursive Python function to check if a string is a palindrome."
   ]
  },
  {
   "cell_type": "code",
   "execution_count": 90,
   "id": "dc8faa36-26d9-4b59-b953-57183a14edc2",
   "metadata": {},
   "outputs": [
    {
     "name": "stdin",
     "output_type": "stream",
     "text": [
      "Enter any string:  mom\n"
     ]
    },
    {
     "name": "stdout",
     "output_type": "stream",
     "text": [
      "It is palindrome\n"
     ]
    }
   ],
   "source": [
    "def s(st):\n",
    "    if len(st)<=1:\n",
    "        return True\n",
    "    if st[0]!=st[-1]:\n",
    "        return False\n",
    "    return s(st[1:-1])\n",
    "string=input(\"Enter any string: \")\n",
    "if s(string):\n",
    "    print(\"It is palindrome\")\n",
    "else:\n",
    "    print(\"It is not palindrome\")"
   ]
  },
  {
   "cell_type": "markdown",
   "id": "b524e590-bd11-4063-9591-2aea3120cfa1",
   "metadata": {},
   "source": [
    "11.Create a recursive Python function to generate all possible combinations of a list of elements."
   ]
  },
  {
   "cell_type": "code",
   "execution_count": 123,
   "id": "03c3d3cd-8a10-4b5d-a0a6-e8ccc01b951b",
   "metadata": {},
   "outputs": [
    {
     "name": "stdout",
     "output_type": "stream",
     "text": [
      "[1, 2, 3]\n",
      "[1, 3, 2]\n",
      "[2, 1, 3]\n",
      "[2, 3, 1]\n",
      "[3, 1, 2]\n",
      "[3, 2, 1]\n"
     ]
    }
   ],
   "source": [
    "def get_combinations(element_list, combination=None):\n",
    "    # If the combination is None, initialize it as an empty list\n",
    "    if combination is None:\n",
    "        combination = []\n",
    "\n",
    "    # If the combination is the same length as the element list,\n",
    "    # it means we have found a valid combination\n",
    "    if len(combination) == len(element_list):\n",
    "        print(combination)\n",
    "        return\n",
    "\n",
    "    # For each element in the element list,\n",
    "    # add it to the current combination and recursively\n",
    "    # call the function with the updated combination\n",
    "    for i, element in enumerate(element_list):\n",
    "        # Skip the element if it's already in the combination\n",
    "        if element in combination:\n",
    "            continue\n",
    "\n",
    "        # Add the element to the combination and recursively\n",
    "        # call the function with the updated combination\n",
    "        get_combinations(element_list, combination + [element])\n",
    "\n",
    "# Example usage\n",
    "element_list = [1, 2, 3]\n",
    "get_combinations(element_list)"
   ]
  },
  {
   "cell_type": "markdown",
   "id": "14806db6-e00e-48df-8eee-a2e7f643160d",
   "metadata": {},
   "source": [
    "BASIC OF FUNCTIONS SOLUTIONS"
   ]
  },
  {
   "cell_type": "markdown",
   "id": "3a3e2c3a-7122-4907-96c8-98138bef570e",
   "metadata": {},
   "source": [
    "1.What is a function in Python, and why is it used?"
   ]
  },
  {
   "cell_type": "code",
   "execution_count": 96,
   "id": "d7f4f9e5-19c9-476e-ae1c-6ad6a6142bb5",
   "metadata": {},
   "outputs": [
    {
     "name": "stdout",
     "output_type": "stream",
     "text": [
      "Function in python is reusable block of code or tasks.\n",
      "Because of reusability,abstraction and return values functions are used in python.\n"
     ]
    }
   ],
   "source": [
    "print(\"Function in python is reusable block of code or tasks.\")\n",
    "print(\"Because of reusability,abstraction and return values functions are used in python.\")"
   ]
  },
  {
   "cell_type": "markdown",
   "id": "a0fd2c68-2e6e-44cd-b1fc-476b0a064fe1",
   "metadata": {},
   "source": [
    "2.How do you define a function in Python? Provide an example."
   ]
  },
  {
   "cell_type": "code",
   "execution_count": 97,
   "id": "06256e34-a6ef-4716-a145-53c914cece6e",
   "metadata": {},
   "outputs": [
    {
     "name": "stdout",
     "output_type": "stream",
     "text": [
      "The function is veryuseful in python while we return values recursively.\n",
      "Here one example below.\n"
     ]
    },
    {
     "data": {
      "text/plain": [
       "120"
      ]
     },
     "execution_count": 97,
     "metadata": {},
     "output_type": "execute_result"
    }
   ],
   "source": [
    "print(\"The function is veryuseful in python while we return values recursively.\\nHere one example below.\")\n",
    "def fact(n):\n",
    "    if n<=1:\n",
    "        return 1\n",
    "    else:\n",
    "        return n*fact(n-1)\n",
    "fact(5)"
   ]
  },
  {
   "cell_type": "markdown",
   "id": "196bbb8e-04c8-47dd-8217-f2c9a324ff78",
   "metadata": {},
   "source": [
    "3.Explain the difference between a function definition and a function call."
   ]
  },
  {
   "cell_type": "code",
   "execution_count": 98,
   "id": "6c0995de-43b0-41fa-984a-eafc1420f169",
   "metadata": {},
   "outputs": [
    {
     "name": "stdout",
     "output_type": "stream",
     "text": [
      "Function definition do specific behaviour of function which is created by user.\n",
      "Here one example.\n",
      "\n",
      "def add(a,b):\n",
      "    result=a+b\n",
      "    return result\n",
      "\n",
      "Function call is calling the function add which created above with two arguments.\n",
      "\n",
      "add(4,6)\n"
     ]
    }
   ],
   "source": [
    "print(\"Function definition do specific behaviour of function which is created by user.\\nHere one example.\\n\")\n",
    "print('''def add(a,b):\n",
    "    result=a+b\n",
    "    return result''')\n",
    "print(\"\\nFunction call is calling the function add which created above with two arguments.\\n\")\n",
    "print(\"add(4,6)\")"
   ]
  },
  {
   "cell_type": "markdown",
   "id": "491a3c8a-a6ad-4365-8b3d-adfbb8e9cfc7",
   "metadata": {},
   "source": [
    "4.Write a Python program that defines a function to calculate the sum of two numbers and then calls the function."
   ]
  },
  {
   "cell_type": "code",
   "execution_count": 99,
   "id": "e5ff81af-fd99-4d3b-9408-06d2140a0e8b",
   "metadata": {},
   "outputs": [
    {
     "data": {
      "text/plain": [
       "11"
      ]
     },
     "execution_count": 99,
     "metadata": {},
     "output_type": "execute_result"
    }
   ],
   "source": [
    "def add(a,b):\n",
    "    result=a+b\n",
    "    return result\n",
    "add(8,3)"
   ]
  },
  {
   "cell_type": "markdown",
   "id": "3c7eb467-d0ff-4681-9ea4-119bbede9a94",
   "metadata": {},
   "source": [
    "5.What is a function signature, and what information does it typically include?"
   ]
  },
  {
   "cell_type": "code",
   "execution_count": 100,
   "id": "2ed2aae0-c0c6-4f2c-bca5-9d571a2a8edb",
   "metadata": {},
   "outputs": [
    {
     "name": "stdout",
     "output_type": "stream",
     "text": [
      "Function signature is nothing but declaring 'function name','parameters' and 'return type'.\n",
      "Here some examples below.\n",
      "Function name with parameters.\n",
      "sum(a,b):\n",
      "Return type.\n",
      "sum(a:int,b:int)--int:\n"
     ]
    }
   ],
   "source": [
    "print(\"Function signature is nothing but declaring 'function name','parameters' and 'return type'.\\nHere some examples below.\")\n",
    "print(\"Function name with parameters.\\nsum(a,b):\")\n",
    "print(\"Return type.\\nsum(a:int,b:int)--int:\")"
   ]
  },
  {
   "cell_type": "markdown",
   "id": "86996083-bbca-4bf0-b20e-59bae10968ef",
   "metadata": {},
   "source": [
    "6.Create a Python function that takes two arguments and returns their product."
   ]
  },
  {
   "cell_type": "code",
   "execution_count": 101,
   "id": "85c7a7d4-089c-416a-abd7-5f499839d553",
   "metadata": {},
   "outputs": [
    {
     "data": {
      "text/plain": [
       "24"
      ]
     },
     "execution_count": 101,
     "metadata": {},
     "output_type": "execute_result"
    }
   ],
   "source": [
    "def add(a,b):\n",
    "    result=a*b\n",
    "    return result\n",
    "add(8,3)"
   ]
  },
  {
   "cell_type": "markdown",
   "id": "878a90e8-2543-42e1-ab09-2a34874d5dce",
   "metadata": {},
   "source": [
    "FUNCTION PARAMETERS AND ARGUMENTS SOLUTIONS"
   ]
  },
  {
   "cell_type": "markdown",
   "id": "2a8c6b36-6a08-45cf-acfa-9b78b74df06f",
   "metadata": {},
   "source": [
    "1.Explain the concepts of formal parameters and actual arguments in Python functions."
   ]
  },
  {
   "cell_type": "code",
   "execution_count": 102,
   "id": "fbe6f1fe-09d3-4855-afe1-c0830d6ae181",
   "metadata": {},
   "outputs": [
    {
     "name": "stdout",
     "output_type": "stream",
     "text": [
      "Formal parameters are variables placed in functions while creating it and they represent the data when the function calls.\n",
      "Here one example\n",
      "add(a,b)\n",
      "\n",
      "Actual arguments are values which are provided by user while calling function.\n",
      "Here one example\n",
      "add(4,2).\n"
     ]
    }
   ],
   "source": [
    "print(\"Formal parameters are variables placed in functions while creating it and they represent the data when the function calls.\")\n",
    "print(\"Here one example\\nadd(a,b)\")\n",
    "print(\"\\nActual arguments are values which are provided by user while calling function.\\nHere one example\\nadd(4,2).\")"
   ]
  },
  {
   "cell_type": "markdown",
   "id": "092c9748-d028-41ba-b4bd-e2607c309d45",
   "metadata": {},
   "source": [
    "2.Write a Python program that defines a function with default argument values."
   ]
  },
  {
   "cell_type": "code",
   "execution_count": 103,
   "id": "faf90daa-1152-495b-a4d5-01bf6e3eeb42",
   "metadata": {},
   "outputs": [
    {
     "data": {
      "text/plain": [
       "28"
      ]
     },
     "execution_count": 103,
     "metadata": {},
     "output_type": "execute_result"
    }
   ],
   "source": [
    "def mul(a=4,b=7):\n",
    "    return a*b\n",
    "mul()"
   ]
  },
  {
   "cell_type": "markdown",
   "id": "50e88b2e-7655-4d82-adfb-ec270f235c7a",
   "metadata": {},
   "source": [
    "3.How do you use keyword arguments in Python function calls? Provide an example."
   ]
  },
  {
   "cell_type": "code",
   "execution_count": 104,
   "id": "c7b442f3-8435-4f43-8ca9-8bd8d5f0c244",
   "metadata": {},
   "outputs": [
    {
     "name": "stdout",
     "output_type": "stream",
     "text": [
      "In python keyword arguments in function calls along with specific names and values.\n",
      "Here one example.\n",
      "\n",
      "def greetings(name,greet='Hello'):\n",
      "            print(f\"{greet},{name}.\")\n",
      "       greetings('gnanesh')\n",
      "       greetings(name='gopal',greet='Hi')\n"
     ]
    }
   ],
   "source": [
    "print(\"In python keyword arguments in function calls along with specific names and values.\\nHere one example.\\n\")\n",
    "print('''def greetings(name,greet='Hello'):\n",
    "            print(f\"{greet},{name}.\")\n",
    "       greetings('gnanesh')\n",
    "       greetings(name='gopal',greet='Hi')''')"
   ]
  },
  {
   "cell_type": "markdown",
   "id": "b5336024-896b-4a5d-9320-346b33349def",
   "metadata": {},
   "source": [
    "4.Create a Python function that accepts a variable number of arguments and calculates their sum"
   ]
  },
  {
   "cell_type": "code",
   "execution_count": 105,
   "id": "c793ff5c-d295-49da-a06f-35856e59cdfe",
   "metadata": {},
   "outputs": [
    {
     "name": "stdout",
     "output_type": "stream",
     "text": [
      "13\n",
      "8\n"
     ]
    }
   ],
   "source": [
    "def sum(a,b=9):\n",
    "    print(a+b)\n",
    "sum(4)\n",
    "sum(a=5,b=3)"
   ]
  },
  {
   "cell_type": "markdown",
   "id": "f031a0d0-72a8-4c62-9544-b4824797101c",
   "metadata": {},
   "source": [
    "5.What is the purpose of the `*args` and `**kwargs` syntax in function parameter lists?"
   ]
  },
  {
   "cell_type": "code",
   "execution_count": 106,
   "id": "ea179136-d16d-4868-8fd0-1c830072c60b",
   "metadata": {},
   "outputs": [
    {
     "name": "stdout",
     "output_type": "stream",
     "text": [
      "*args function helps us to accept each and every element when it has more than 2 elements inside the function.\n",
      "Here one example.\n",
      "\n",
      "def sum(*args):\n",
      "  t=0\n",
      "  for i in args:\n",
      "     t=+i\n",
      "  return t\n",
      "sum(2,4,56,7)\n"
     ]
    }
   ],
   "source": [
    "print(\"*args function helps us to accept each and every element when it has more than 2 elements inside the function.\")\n",
    "print(\"Here one example.\\n\\ndef sum(*args):\\n  t=0\\n  for i in args:\\n     t=+i\\n  return t\\nsum(2,4,56,7)\")"
   ]
  },
  {
   "cell_type": "markdown",
   "id": "c026e258-3c11-4132-afaf-a3406e8bd3fa",
   "metadata": {},
   "source": [
    "RETURN VALUES AND SCOPING SOLUTIONS"
   ]
  },
  {
   "cell_type": "markdown",
   "id": "a549c003-4548-4b0c-9994-c5dedc6b2d4d",
   "metadata": {},
   "source": [
    "1.Describe the role of the `return` statement in Python functions and provide examples."
   ]
  },
  {
   "cell_type": "code",
   "execution_count": 107,
   "id": "99886082-fe88-4ae0-896e-f682886b7da0",
   "metadata": {},
   "outputs": [
    {
     "name": "stdout",
     "output_type": "stream",
     "text": [
      "The ruturn will return the result to the function in recursive manner.\n",
      "Here one example.\n",
      "\n",
      "def fact(n):\n",
      "    return n*fact(n-1)\n",
      "fact(5)\n"
     ]
    }
   ],
   "source": [
    "print(\"The ruturn will return the result to the function in recursive manner.\")\n",
    "print(\"Here one example.\\n\")\n",
    "print('''def fact(n):\n",
    "    return n*fact(n-1)\n",
    "fact(5)''')"
   ]
  },
  {
   "cell_type": "markdown",
   "id": "aa4f5cb7-978f-487a-92ed-629c9d8e6b99",
   "metadata": {},
   "source": [
    "2.Explain the concept of variable scope in Python, including local and global variables."
   ]
  },
  {
   "cell_type": "code",
   "execution_count": 108,
   "id": "c074c010-31cd-4bad-b0df-4d0de32dd1b8",
   "metadata": {},
   "outputs": [
    {
     "name": "stdout",
     "output_type": "stream",
     "text": [
      "Variable scope refers that where the variable is accessible.\n",
      "Local variable accessible at particular block of code.\n",
      "Global variable accessible at any part of code.\n"
     ]
    }
   ],
   "source": [
    "print(\"Variable scope refers that where the variable is accessible.\")\n",
    "print(\"Local variable accessible at particular block of code.\")\n",
    "print(\"Global variable accessible at any part of code.\")"
   ]
  },
  {
   "cell_type": "markdown",
   "id": "5415b222-eaf0-42b9-972e-899ed1db75e9",
   "metadata": {},
   "source": [
    "3.Write a Python program that demonstrates the use of global variables within functions."
   ]
  },
  {
   "cell_type": "code",
   "execution_count": 109,
   "id": "f2dc1f73-e92b-437e-8e38-0797914e094a",
   "metadata": {},
   "outputs": [
    {
     "name": "stdout",
     "output_type": "stream",
     "text": [
      "Global_variable= 10\n",
      "Global_variable= 30\n"
     ]
    }
   ],
   "source": [
    "g_v=10\n",
    "def m_g_v():\n",
    "    global g_v\n",
    "    g_v+=20\n",
    "def r_g_v():\n",
    "    print(\"Global_variable=\",g_v)\n",
    "r_g_v()\n",
    "m_g_v()\n",
    "r_g_v()"
   ]
  },
  {
   "cell_type": "markdown",
   "id": "8ff9161a-37dd-4c8d-b7a0-5be12345b7e0",
   "metadata": {},
   "source": [
    "4.Create a Python function that calculates the factorial of a number and returns it."
   ]
  },
  {
   "cell_type": "code",
   "execution_count": 110,
   "id": "ecabbb42-6181-493f-b052-803325526b1e",
   "metadata": {},
   "outputs": [
    {
     "data": {
      "text/plain": [
       "362880"
      ]
     },
     "execution_count": 110,
     "metadata": {},
     "output_type": "execute_result"
    }
   ],
   "source": [
    "def fact(n):\n",
    "    if n<=1:\n",
    "        return 1\n",
    "    else:\n",
    "        return n*fact(n-1)\n",
    "fact(9)"
   ]
  },
  {
   "cell_type": "markdown",
   "id": "cbcca1c9-114a-48cb-b3e7-25d50549b1a7",
   "metadata": {},
   "source": [
    "5.How can you access variables defined outside a function from within the function?"
   ]
  },
  {
   "cell_type": "code",
   "execution_count": 111,
   "id": "42693b3e-2065-48b0-9155-1a01f1064d68",
   "metadata": {},
   "outputs": [
    {
     "name": "stdout",
     "output_type": "stream",
     "text": [
      "Global_variable= 10\n"
     ]
    }
   ],
   "source": [
    "g_v=10\n",
    "def r_g_v():\n",
    "    print(\"Global_variable=\",g_v)\n",
    "r_g_v()"
   ]
  },
  {
   "cell_type": "markdown",
   "id": "703e09d1-e4f4-40b0-a8fe-c2b64c2f115b",
   "metadata": {},
   "source": [
    "LAMBDA FUNCTIONS AND HIGHER-ORDER FUNCTIONS"
   ]
  },
  {
   "cell_type": "markdown",
   "id": "129b6442-9a73-42c8-9277-7fec5a948c65",
   "metadata": {},
   "source": [
    "1.What are lambda functions in Python, and when are they typically used?"
   ]
  },
  {
   "cell_type": "code",
   "execution_count": 112,
   "id": "5ef3a6c7-1316-4e27-a9ea-f7a19fcf5975",
   "metadata": {},
   "outputs": [
    {
     "name": "stdout",
     "output_type": "stream",
     "text": [
      "Lambda function had one function and arguments and it is used to simple calculations.\n",
      "Here one example\n",
      "\n",
      "l=[2,4,6,7,8,9]\n",
      "list(map(lambda a:a**2,l))\n"
     ]
    }
   ],
   "source": [
    "print(\"Lambda function had one function and arguments and it is used to simple calculations.\")\n",
    "print(\"Here one example\\n\\nl=[2,4,6,7,8,9]\\nlist(map(lambda a:a**2,l))\")"
   ]
  },
  {
   "cell_type": "markdown",
   "id": "fb26d3d4-6ad7-406e-a817-c3272cbc14f0",
   "metadata": {},
   "source": [
    "2.Write a Python program that uses lambda functions to sort a list of tuples based on the second element"
   ]
  },
  {
   "cell_type": "code",
   "execution_count": 113,
   "id": "e6ab1e43-07d1-4077-862f-ca9eb1618b19",
   "metadata": {},
   "outputs": [
    {
     "name": "stdout",
     "output_type": "stream",
     "text": [
      "[(45, 1, 6), (1, 2, 3), (5, 3, 9), (3, 4, 5)]\n"
     ]
    }
   ],
   "source": [
    "l=[(1,2,3),(3,4,5),(45,1,6),(5,3,9)]\n",
    "s_l=sorted(l,key=lambda a:a[1])\n",
    "print(s_l)"
   ]
  },
  {
   "cell_type": "markdown",
   "id": "ffe37cba-5bec-47dd-8088-c397cd0f1891",
   "metadata": {},
   "source": [
    "3.Explain the concept of higher-order functions in Python, and provide an example."
   ]
  },
  {
   "cell_type": "code",
   "execution_count": 114,
   "id": "6f8bd7b4-5b69-4891-83cc-41911fbc35ea",
   "metadata": {},
   "outputs": [
    {
     "name": "stdout",
     "output_type": "stream",
     "text": [
      "higher-order function is a function that can take one or more functions as arguments and/or can return a function as its result\n",
      "8\n",
      "6\n"
     ]
    }
   ],
   "source": [
    "print(\"higher-order function is a function that can take one or more functions as arguments and/or can return a function as its result\")\n",
    "def apply_operation(operation, x, y):\n",
    "    result = operation(x, y)\n",
    "    return result\n",
    "\n",
    "def add(x, y):\n",
    "    return x + y\n",
    "\n",
    "def subtract(x, y):\n",
    "    return x - y\n",
    "\n",
    "result1 = apply_operation(add, 5, 3)\n",
    "print(result1)  \n",
    "\n",
    "result2 = apply_operation(subtract, 10, 4)\n",
    "print(result2)"
   ]
  },
  {
   "cell_type": "markdown",
   "id": "c200aae0-3a0d-42bc-91eb-9605006476de",
   "metadata": {},
   "source": [
    "4.Create a Python function that takes a list of numbers and a function as arguments, applying the function to each element in the list."
   ]
  },
  {
   "cell_type": "code",
   "execution_count": 115,
   "id": "89ba8b0f-30a8-4794-84d3-1f9776a3f111",
   "metadata": {},
   "outputs": [
    {
     "name": "stdout",
     "output_type": "stream",
     "text": [
      "[1, 4, 9, 16, 25]\n"
     ]
    }
   ],
   "source": [
    "def a_f(numbers, func):\n",
    "    result = []\n",
    "    for number in numbers:\n",
    "        result.append(func(number))\n",
    "    return result\n",
    "\n",
    "def square(x):\n",
    "    return x ** 2\n",
    "\n",
    "numbers = [1, 2, 3, 4, 5]\n",
    "\n",
    "result = a_f(numbers, square)\n",
    "print(result)"
   ]
  },
  {
   "cell_type": "markdown",
   "id": "9cf7d38b-79a3-40b6-874d-cbb7448d3e08",
   "metadata": {},
   "source": [
    "BUILT-IN FUNCTIONS SOLUTIONS"
   ]
  },
  {
   "cell_type": "markdown",
   "id": "373d7a5e-1e43-4d7a-91bf-d883a0a75452",
   "metadata": {},
   "source": [
    "1.Describe the role of built-in functions like `len()`, `max()`, and `min()` in Python."
   ]
  },
  {
   "cell_type": "code",
   "execution_count": 116,
   "id": "60993944-44f0-4080-959e-068e62574cd5",
   "metadata": {},
   "outputs": [
    {
     "name": "stdout",
     "output_type": "stream",
     "text": [
      "'len()' returns the length of the data type except int,float,bool,complex and some other.\n",
      "'min()' returns the smallest value from the dataset.\n",
      "'max()' returns the largest value from the dataset.\n"
     ]
    }
   ],
   "source": [
    "print(\"'len()' returns the length of the data type except int,float,bool,complex and some other.\")\n",
    "print(\"'min()' returns the smallest value from the dataset.\")\n",
    "print(\"'max()' returns the largest value from the dataset.\")"
   ]
  },
  {
   "cell_type": "markdown",
   "id": "dae3e14c-1912-42a8-9062-da093a6e3242",
   "metadata": {},
   "source": [
    "2.Write a Python program that uses the `map()` function to apply a function to each element of a list."
   ]
  },
  {
   "cell_type": "code",
   "execution_count": 117,
   "id": "46811da8-6c29-4a1d-9818-5805e1aaa10b",
   "metadata": {},
   "outputs": [
    {
     "data": {
      "text/plain": [
       "[1, 4, 9, 16, 25, 36, 49, 64]"
      ]
     },
     "execution_count": 117,
     "metadata": {},
     "output_type": "execute_result"
    }
   ],
   "source": [
    "l=[1,2,3,4,5,6,7,8]\n",
    "def sq(a):\n",
    "    return a**2\n",
    "list(map(sq,l))"
   ]
  },
  {
   "cell_type": "markdown",
   "id": "a9fc5f11-d68a-44bc-8709-ded23d1d3337",
   "metadata": {},
   "source": [
    "3.How does the `filter()` function work in Python, and when would you use it?"
   ]
  },
  {
   "cell_type": "code",
   "execution_count": 118,
   "id": "ff309f67-f322-4fe3-9043-5cdcf8fb2e29",
   "metadata": {},
   "outputs": [
    {
     "name": "stdout",
     "output_type": "stream",
     "text": [
      "[2, 4, 6, 8]\n",
      "To filter elements from the dataset represents specific given condition.\n"
     ]
    }
   ],
   "source": [
    "l=[1,2,3,4,5,6,7,8]\n",
    "print(list(filter(lambda a:a%2==0,l)))\n",
    "print('To filter elements from the dataset represents specific given condition.')"
   ]
  },
  {
   "cell_type": "markdown",
   "id": "ade4da77-dcc4-45d1-834b-4ca5ef3e89c0",
   "metadata": {},
   "source": [
    "4.Create a Python program that uses the `reduce()` function to find the product of all elements in a list."
   ]
  },
  {
   "cell_type": "code",
   "execution_count": 119,
   "id": "cd4b3994-8024-4193-82fd-957e5d0c1fce",
   "metadata": {},
   "outputs": [
    {
     "data": {
      "text/plain": [
       "240"
      ]
     },
     "execution_count": 119,
     "metadata": {},
     "output_type": "execute_result"
    }
   ],
   "source": [
    "from functools import reduce\n",
    "l=[2,4,1,3,2,5]\n",
    "reduce(lambda a,b:a*b,l)"
   ]
  },
  {
   "cell_type": "markdown",
   "id": "71737774-2d11-4f67-8b14-33f2ca03be0d",
   "metadata": {},
   "source": [
    "FUNCTION DOCUMENTATION AND BEST PRACTICES"
   ]
  },
  {
   "cell_type": "markdown",
   "id": "f3ede73a-654f-493f-b61b-1f3b0b5c0b98",
   "metadata": {},
   "source": [
    "1.Explain the purpose of docstrings in Python functions and how to write them."
   ]
  },
  {
   "cell_type": "code",
   "execution_count": 120,
   "id": "951347ab-29e3-4a12-9506-ea536b992715",
   "metadata": {},
   "outputs": [
    {
     "name": "stdout",
     "output_type": "stream",
     "text": [
      "'docstrings' provide a convenient way of associating documentation with Python modules, functions, classes, and methods.\n",
      "format of docstring is '__doc__'\n"
     ]
    }
   ],
   "source": [
    "print(\"'docstrings' provide a convenient way of associating documentation with Python modules, functions, classes, and methods.\")\n",
    "print(\"format of docstring is '__doc__'\")"
   ]
  },
  {
   "cell_type": "markdown",
   "id": "deffcd80-a545-48a0-93c5-a35aecbcde60",
   "metadata": {},
   "source": [
    "2.Describe some best practices for naming functions and variables in Python, including naming conventions and guidelines."
   ]
  },
  {
   "cell_type": "code",
   "execution_count": 121,
   "id": "168b940a-9185-4244-b9b3-eb3ae31261b3",
   "metadata": {},
   "outputs": [
    {
     "name": "stdout",
     "output_type": "stream",
     "text": [
      "Use descriptive and meaningful names.\n",
      "Variable names should be descriptive and meaningful.\n",
      "Follow a consistent naming convention.\n",
      "Avoid reserved keywords.\n",
      "Don't use abbreviations\n"
     ]
    }
   ],
   "source": [
    "print('''Use descriptive and meaningful names.\\nVariable names should be descriptive and meaningful.\\nFollow a consistent naming convention.\\nAvoid reserved keywords.\\nDon't use abbreviations''')"
   ]
  },
  {
   "cell_type": "code",
   "execution_count": null,
   "id": "7f4a876e-d514-445a-8d63-a9f087c40200",
   "metadata": {},
   "outputs": [],
   "source": []
  }
 ],
 "metadata": {
  "kernelspec": {
   "display_name": "Python 3 (ipykernel)",
   "language": "python",
   "name": "python3"
  },
  "language_info": {
   "codemirror_mode": {
    "name": "ipython",
    "version": 3
   },
   "file_extension": ".py",
   "mimetype": "text/x-python",
   "name": "python",
   "nbconvert_exporter": "python",
   "pygments_lexer": "ipython3",
   "version": "3.10.8"
  }
 },
 "nbformat": 4,
 "nbformat_minor": 5
}
